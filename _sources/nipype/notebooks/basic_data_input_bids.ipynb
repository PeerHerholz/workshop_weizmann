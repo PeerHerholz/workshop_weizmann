{
 "cells": [
  {
   "cell_type": "markdown",
   "metadata": {},
   "source": [
    "## Data input for BIDS datasets\n",
    "`DataGrabber` and `SelectFiles` are great if you are dealing with generic datasets with arbitrary organization. However, if you have decided to use Brain Imaging Data Structure (BIDS) to organize your data (or got your hands on a BIDS dataset) you can take advantage of a formal structure BIDS imposes. In this short tutorial, you will learn how to do this."
   ]
  },
  {
   "cell_type": "markdown",
   "metadata": {},
   "source": [
    "## `pybids` - a Python API for working with BIDS datasets\n",
    "`pybids` is a lightweight python API for querying BIDS folder structure for specific files and metadata. You can install it from PyPi:\n",
    "```\n",
    "pip install pybids\n",
    "```\n",
    "Please note it should be already installed in the tutorial Docker image."
   ]
  },
  {
   "cell_type": "markdown",
   "metadata": {},
   "source": [
    "## The `layout` object and simple queries\n",
    "To begin working with pybids we need to initialize a layout object. We will need it to do all of our queries"
   ]
  },
  {
   "cell_type": "code",
   "execution_count": 1,
   "metadata": {},
   "outputs": [],
   "source": [
    "from bids.layout import BIDSLayout\n",
    "layout = BIDSLayout(\"/data/ds000114/\")"
   ]
  },
  {
   "cell_type": "code",
   "execution_count": 2,
   "metadata": {},
   "outputs": [
    {
     "name": "stdout",
     "output_type": "stream",
     "text": [
      "/data/ds000114/\r\n",
      "├── dataset_description.json\r\n",
      "├── derivatives\r\n",
      "│   └── fmriprep\r\n",
      "│       ├── mni_icbm152_nlin_asym_09c\r\n",
      "│       │   ├── 1mm_brainmask.nii.gz\r\n",
      "│       │   ├── 1mm_T1.nii.gz\r\n",
      "│       │   ├── 1mm_tpm_csf.nii.gz\r\n",
      "│       │   ├── 1mm_tpm_gm.nii.gz\r\n",
      "│       │   ├── 1mm_tpm_wm.nii.gz\r\n",
      "│       │   ├── 2mm_brainmask.nii.gz\r\n",
      "│       │   ├── 2mm_T1.nii.gz\r\n",
      "│       │   ├── 2mm_tpm_csf.nii.gz\r\n",
      "│       │   ├── 2mm_tpm_gm.nii.gz\r\n",
      "│       │   └── 2mm_tpm_wm.nii.gz\r\n",
      "│       ├── sub-01\r\n",
      "│       │   └── ses-test\r\n",
      "│       ├── sub-02\r\n",
      "│       │   └── ses-test\r\n",
      "│       ├── sub-03\r\n",
      "│       │   └── ses-test\r\n",
      "│       └── sub-07\r\n",
      "│           └── ses-test\r\n",
      "├── sub-01\r\n",
      "│   └── ses-test\r\n",
      "│       ├── anat\r\n",
      "│       │   ├── sub-01_ses-test_T1w_bet.nii.gz\r\n",
      "│       │   └── sub-01_ses-test_T1w.nii.gz\r\n",
      "│       └── func\r\n",
      "│           ├── sub-01_ses-test_task-fingerfootlips_bold.nii.gz\r\n",
      "│           └── sub-01_ses-test_task-fingerfootlips_events.tsv\r\n",
      "├── sub-02\r\n",
      "│   └── ses-test\r\n",
      "│       ├── anat\r\n",
      "│       │   └── sub-02_ses-test_T1w.nii.gz\r\n",
      "│       └── func\r\n",
      "│           ├── sub-02_ses-test_task-fingerfootlips_bold.nii.gz\r\n",
      "│           └── sub-02_ses-test_task-fingerfootlips_events.tsv\r\n",
      "├── sub-03\r\n",
      "│   └── ses-test\r\n",
      "│       ├── anat\r\n",
      "│       │   └── sub-03_ses-test_T1w.nii.gz\r\n",
      "│       └── func\r\n",
      "│           ├── sub-03_ses-test_task-fingerfootlips_bold.nii.gz\r\n",
      "│           └── sub-03_ses-test_task-fingerfootlips_events.tsv\r\n",
      "├── sub-07\r\n",
      "│   └── ses-test\r\n",
      "│       ├── anat\r\n",
      "│       │   └── sub-07_ses-test_T1w.nii.gz\r\n",
      "│       └── func\r\n",
      "│           ├── sub-07_ses-test_task-fingerfootlips_bold.nii.gz\r\n",
      "│           └── sub-07_ses-test_task-fingerfootlips_events.tsv\r\n",
      "├── task-covertverbgeneration_bold.json\r\n",
      "├── task-covertverbgeneration_events.tsv\r\n",
      "├── task-fingerfootlips_bold.json\r\n",
      "├── task-fingerfootlips_events.tsv\r\n",
      "├── task-linebisection_bold.json\r\n",
      "├── task-overtverbgeneration_bold.json\r\n",
      "├── task-overtverbgeneration_events.tsv\r\n",
      "├── task-overtwordrepetition_bold.json\r\n",
      "└── task-overtwordrepetition_events.tsv\r\n",
      "\r\n",
      "27 directories, 33 files\r\n"
     ]
    }
   ],
   "source": [
    "!tree -L 4 /data/ds000114/"
   ]
  },
  {
   "cell_type": "markdown",
   "metadata": {},
   "source": [
    "Let's figure out what are the subject labels in this dataset"
   ]
  },
  {
   "cell_type": "code",
   "execution_count": 3,
   "metadata": {},
   "outputs": [
    {
     "data": {
      "text/plain": [
       "['01', '02', '03', '07']"
      ]
     },
     "execution_count": 3,
     "metadata": {},
     "output_type": "execute_result"
    }
   ],
   "source": [
    "layout.get_subjects()"
   ]
  },
  {
   "cell_type": "markdown",
   "metadata": {},
   "source": [
    "What datatypes are included in this dataset?"
   ]
  },
  {
   "cell_type": "code",
   "execution_count": 4,
   "metadata": {},
   "outputs": [
    {
     "data": {
      "text/plain": [
       "['anat', 'func']"
      ]
     },
     "execution_count": 4,
     "metadata": {},
     "output_type": "execute_result"
    }
   ],
   "source": [
    "layout.get_datatypes()"
   ]
  },
  {
   "cell_type": "markdown",
   "metadata": {},
   "source": [
    "Which different data suffixes are included in this dataset?"
   ]
  },
  {
   "cell_type": "code",
   "execution_count": 5,
   "metadata": {},
   "outputs": [
    {
     "data": {
      "text/plain": [
       "['bold', 'events']"
      ]
     },
     "execution_count": 5,
     "metadata": {},
     "output_type": "execute_result"
    }
   ],
   "source": [
    "layout.get_suffixes(datatype='func')"
   ]
  },
  {
   "cell_type": "markdown",
   "metadata": {},
   "source": [
    "What are the different tasks included in this dataset?"
   ]
  },
  {
   "cell_type": "code",
   "execution_count": 6,
   "metadata": {},
   "outputs": [
    {
     "data": {
      "text/plain": [
       "['covertverbgeneration',\n",
       " 'fingerfootlips',\n",
       " 'linebisection',\n",
       " 'overtverbgeneration',\n",
       " 'overtwordrepetition']"
      ]
     },
     "execution_count": 6,
     "metadata": {},
     "output_type": "execute_result"
    }
   ],
   "source": [
    "layout.get_tasks()"
   ]
  },
  {
   "cell_type": "markdown",
   "metadata": {},
   "source": [
    "We can also ask for all of the data for a particular subject and one datatype."
   ]
  },
  {
   "cell_type": "code",
   "execution_count": 7,
   "metadata": {},
   "outputs": [
    {
     "data": {
      "text/plain": [
       "[<BIDSImageFile filename='/data/ds000114/sub-01/ses-test/anat/sub-01_ses-test_T1w.nii.gz'>]"
      ]
     },
     "execution_count": 7,
     "metadata": {},
     "output_type": "execute_result"
    }
   ],
   "source": [
    "layout.get(subject='01', datatype=\"anat\", session=\"test\")"
   ]
  },
  {
   "cell_type": "markdown",
   "metadata": {},
   "source": [
    "We can also ask for a specific subset of data. Note that we are using extension filter to get just the imaging data (BIDS allows both .nii and .nii.gz so we need to include both)."
   ]
  },
  {
   "cell_type": "code",
   "execution_count": 8,
   "metadata": {},
   "outputs": [
    {
     "data": {
      "text/plain": [
       "[<BIDSImageFile filename='/data/ds000114/sub-01/ses-test/func/sub-01_ses-test_task-fingerfootlips_bold.nii.gz'>]"
      ]
     },
     "execution_count": 8,
     "metadata": {},
     "output_type": "execute_result"
    }
   ],
   "source": [
    "layout.get(subject='01', suffix='bold', extensions=['nii', 'nii.gz'])"
   ]
  },
  {
   "cell_type": "markdown",
   "metadata": {},
   "source": [
    "You probably noticed that this method does not only return the file paths, but objects with relevant query fields. We can easily extract just the file paths."
   ]
  },
  {
   "cell_type": "code",
   "execution_count": 9,
   "metadata": {},
   "outputs": [
    {
     "data": {
      "text/plain": [
       "['/data/ds000114/sub-01/ses-test/func/sub-01_ses-test_task-fingerfootlips_bold.nii.gz']"
      ]
     },
     "execution_count": 9,
     "metadata": {},
     "output_type": "execute_result"
    }
   ],
   "source": [
    "layout.get(subject='01', suffix='bold', extensions=['nii', 'nii.gz'], return_type='file')"
   ]
  },
  {
   "cell_type": "markdown",
   "metadata": {},
   "source": [
    "### Exercise 1:\n",
    "List all files for the \"linebisection\" task for subject 02."
   ]
  },
  {
   "cell_type": "code",
   "execution_count": 10,
   "metadata": {
    "solution2": "shown",
    "solution2_first": true
   },
   "outputs": [],
   "source": [
    "#write your solution here"
   ]
  },
  {
   "cell_type": "code",
   "execution_count": 11,
   "metadata": {
    "solution2": "shown"
   },
   "outputs": [
    {
     "data": {
      "text/plain": [
       "[]"
      ]
     },
     "execution_count": 11,
     "metadata": {},
     "output_type": "execute_result"
    }
   ],
   "source": [
    "from bids.layout import BIDSLayout\n",
    "layout = BIDSLayout(\"/data/ds000114/\")\n",
    "\n",
    "layout.get(subject='02', return_type='file', task=\"linebisection\")"
   ]
  },
  {
   "cell_type": "markdown",
   "metadata": {},
   "source": [
    "## `BIDSDataGrabber`: Including `pybids` in your `nipype` workflow\n",
    "This is great, but what we really want is to include this into our nipype workflows. To do this, we can import `BIDSDataGrabber`, which provides an `Interface` for `BIDSLayout.get`"
   ]
  },
  {
   "cell_type": "code",
   "execution_count": 12,
   "metadata": {},
   "outputs": [],
   "source": [
    "from nipype.interfaces.io import BIDSDataGrabber\n",
    "from nipype.pipeline import Node, MapNode, Workflow\n",
    "from nipype.interfaces.utility import Function\n",
    "\n",
    "bg = Node(BIDSDataGrabber(), name='bids-grabber')\n",
    "bg.inputs.base_dir = '/data/ds000114'"
   ]
  },
  {
   "cell_type": "markdown",
   "metadata": {},
   "source": [
    "You can define static filters, that will apply to all queries, by modifying the appropriate input"
   ]
  },
  {
   "cell_type": "code",
   "execution_count": 13,
   "metadata": {},
   "outputs": [
    {
     "name": "stdout",
     "output_type": "stream",
     "text": [
      "211017-17:06:08,618 nipype.workflow INFO:\n",
      "\t [Node] Setting-up \"bids-grabber\" in \"/tmp/tmphxehejzv/bids-grabber\".\n",
      "211017-17:06:08,628 nipype.workflow INFO:\n",
      "\t [Node] Running \"bids-grabber\" (\"nipype.interfaces.io.BIDSDataGrabber\")\n",
      "211017-17:06:08,798 nipype.workflow INFO:\n",
      "\t [Node] Finished \"bids-grabber\".\n"
     ]
    },
    {
     "data": {
      "text/plain": [
       "\n",
       "T1w = ['/data/ds000114/sub-01/ses-test/anat/sub-01_ses-test_T1w.nii.gz']\n",
       "bold = ['/data/ds000114/sub-01/ses-test/func/sub-01_ses-test_task-fingerfootlips_bold.nii.gz']"
      ]
     },
     "execution_count": 13,
     "metadata": {},
     "output_type": "execute_result"
    }
   ],
   "source": [
    "bg.inputs.subject = '01'\n",
    "res = bg.run()\n",
    "res.outputs"
   ]
  },
  {
   "cell_type": "markdown",
   "metadata": {},
   "source": [
    "Note that by default `BIDSDataGrabber` will fetch `nifti` files matching datatype `func` and `anat`, and output them as two output fields. \n",
    "\n",
    "To define custom fields, simply define the arguments to pass to `BIDSLayout.get` as dictionary, like so:"
   ]
  },
  {
   "cell_type": "code",
   "execution_count": 14,
   "metadata": {},
   "outputs": [
    {
     "name": "stdout",
     "output_type": "stream",
     "text": [
      "211017-17:06:08,808 nipype.workflow INFO:\n",
      "\t [Node] Setting-up \"bids-grabber\" in \"/tmp/tmphxehejzv/bids-grabber\".\n",
      "211017-17:06:08,815 nipype.workflow INFO:\n",
      "\t [Node] Running \"bids-grabber\" (\"nipype.interfaces.io.BIDSDataGrabber\")\n",
      "211017-17:06:08,968 nipype.workflow INFO:\n",
      "\t [Node] Finished \"bids-grabber\".\n"
     ]
    },
    {
     "data": {
      "text/plain": [
       "\n",
       "bolds = ['/data/ds000114/sub-01/ses-test/func/sub-01_ses-test_task-fingerfootlips_bold.nii.gz']"
      ]
     },
     "execution_count": 14,
     "metadata": {},
     "output_type": "execute_result"
    }
   ],
   "source": [
    "bg.inputs.output_query = {'bolds': dict(suffix='bold')}\n",
    "res = bg.run()\n",
    "res.outputs"
   ]
  },
  {
   "cell_type": "markdown",
   "metadata": {},
   "source": [
    "This results in a single output field `bold`, which returns all files with `suffix:bold` for `subject:\"01\"` \n",
    "\n",
    "Now, lets put it in a workflow. We are not going to analyze any data, but for demonstration purposes, we will add a couple of nodes that pretend to analyze their inputs"
   ]
  },
  {
   "cell_type": "code",
   "execution_count": 15,
   "metadata": {},
   "outputs": [],
   "source": [
    "def printMe(paths):\n",
    "    print(\"\\n\\nanalyzing \" + str(paths) + \"\\n\\n\")\n",
    "    \n",
    "analyzeBOLD = Node(Function(function=printMe, input_names=[\"paths\"],\n",
    "                            output_names=[]), name=\"analyzeBOLD\")"
   ]
  },
  {
   "cell_type": "code",
   "execution_count": 16,
   "metadata": {},
   "outputs": [
    {
     "name": "stdout",
     "output_type": "stream",
     "text": [
      "211017-17:06:09,466 nipype.workflow INFO:\n",
      "\t Workflow bids_demo settings: ['check', 'execution', 'logging', 'monitoring']\n",
      "211017-17:06:09,488 nipype.workflow INFO:\n",
      "\t Running serially.\n",
      "211017-17:06:09,490 nipype.workflow INFO:\n",
      "\t [Node] Setting-up \"bids_demo.bids-grabber\" in \"/tmp/tmphxehejzv/bids-grabber\".\n",
      "211017-17:06:09,496 nipype.workflow INFO:\n",
      "\t [Node] Running \"bids-grabber\" (\"nipype.interfaces.io.BIDSDataGrabber\")\n",
      "211017-17:06:09,637 nipype.workflow INFO:\n",
      "\t [Node] Finished \"bids_demo.bids-grabber\".\n",
      "211017-17:06:09,638 nipype.workflow INFO:\n",
      "\t [Node] Setting-up \"bids_demo.analyzeBOLD\" in \"/tmp/tmptpeuydx8/bids_demo/analyzeBOLD\".\n",
      "211017-17:06:09,644 nipype.workflow INFO:\n",
      "\t [Node] Running \"analyzeBOLD\" (\"nipype.interfaces.utility.wrappers.Function\")\n",
      "\n",
      "\n",
      "analyzing ['/data/ds000114/sub-01/ses-test/func/sub-01_ses-test_task-fingerfootlips_bold.nii.gz']\n",
      "\n",
      "\n",
      "211017-17:06:09,650 nipype.workflow INFO:\n",
      "\t [Node] Finished \"bids_demo.analyzeBOLD\".\n"
     ]
    },
    {
     "data": {
      "text/plain": [
       "<networkx.classes.digraph.DiGraph at 0x7efe348cf250>"
      ]
     },
     "execution_count": 16,
     "metadata": {},
     "output_type": "execute_result"
    }
   ],
   "source": [
    "wf = Workflow(name=\"bids_demo\")\n",
    "wf.connect(bg, \"bolds\", analyzeBOLD, \"paths\")\n",
    "wf.run()"
   ]
  },
  {
   "cell_type": "markdown",
   "metadata": {},
   "source": [
    "### Exercise 2:\n",
    "Modify the `BIDSDataGrabber` and the workflow to collect T1ws images for subject `7`."
   ]
  },
  {
   "cell_type": "code",
   "execution_count": 17,
   "metadata": {
    "solution2": "shown",
    "solution2_first": true
   },
   "outputs": [],
   "source": [
    "# write your solution here"
   ]
  },
  {
   "cell_type": "code",
   "execution_count": 18,
   "metadata": {},
   "outputs": [
    {
     "name": "stdout",
     "output_type": "stream",
     "text": [
      "\u001b[0m\u001b[01;32msub-07_ses-test_T1w.nii.gz\u001b[0m*\r\n"
     ]
    }
   ],
   "source": [
    "ls /data/ds000114/sub-07/ses-test/anat/"
   ]
  },
  {
   "cell_type": "code",
   "execution_count": 19,
   "metadata": {
    "solution2": "shown"
   },
   "outputs": [
    {
     "data": {
      "text/plain": [
       "\n",
       "T1w = ['/data/ds000114/sub-07/ses-test/anat/sub-07_ses-test_T1w.nii.gz']"
      ]
     },
     "execution_count": 19,
     "metadata": {},
     "output_type": "execute_result"
    }
   ],
   "source": [
    "from nipype.pipeline import Node, MapNode, Workflow\n",
    "from nipype.interfaces.io import BIDSDataGrabber\n",
    "\n",
    "ex2_BIDSDataGrabber = BIDSDataGrabber()\n",
    "ex2_BIDSDataGrabber.inputs.base_dir = '/data/ds000114'\n",
    "ex2_BIDSDataGrabber.inputs.subject = '07'\n",
    "ex2_BIDSDataGrabber.inputs.output_query = {'T1w': dict(datatype='anat')}\n",
    "\n",
    "ex2_res = ex2_BIDSDataGrabber.run()\n",
    "ex2_res.outputs"
   ]
  },
  {
   "cell_type": "markdown",
   "metadata": {},
   "source": [
    "## Iterating over subject labels\n",
    "In the previous example, we demonstrated how to use `pybids` to \"analyze\" one subject. How can we scale it for all subjects? Easy - using `iterables` (more in [Iteration/Iterables](basic_iteration.ipynb))."
   ]
  },
  {
   "cell_type": "code",
   "execution_count": 20,
   "metadata": {},
   "outputs": [
    {
     "name": "stdout",
     "output_type": "stream",
     "text": [
      "211017-17:06:10,516 nipype.workflow INFO:\n",
      "\t Workflow bids_demo settings: ['check', 'execution', 'logging', 'monitoring']\n",
      "211017-17:06:10,551 nipype.workflow INFO:\n",
      "\t Running serially.\n",
      "211017-17:06:10,553 nipype.workflow INFO:\n",
      "\t [Node] Setting-up \"bids_demo.bids-grabber\" in \"/tmp/tmplzu8x624/bids_demo/_subject_02/bids-grabber\".\n",
      "211017-17:06:10,559 nipype.workflow INFO:\n",
      "\t [Node] Running \"bids-grabber\" (\"nipype.interfaces.io.BIDSDataGrabber\")\n",
      "211017-17:06:10,705 nipype.workflow INFO:\n",
      "\t [Node] Finished \"bids_demo.bids-grabber\".\n",
      "211017-17:06:10,706 nipype.workflow INFO:\n",
      "\t [Node] Setting-up \"bids_demo.analyzeBOLD\" in \"/tmp/tmpgy59onqc/bids_demo/_subject_02/analyzeBOLD\".\n",
      "211017-17:06:10,715 nipype.workflow INFO:\n",
      "\t [Node] Running \"analyzeBOLD\" (\"nipype.interfaces.utility.wrappers.Function\")\n",
      "\n",
      "\n",
      "analyzing ['/data/ds000114/sub-02/ses-test/func/sub-02_ses-test_task-fingerfootlips_bold.nii.gz']\n",
      "\n",
      "\n",
      "211017-17:06:10,731 nipype.workflow INFO:\n",
      "\t [Node] Finished \"bids_demo.analyzeBOLD\".\n",
      "211017-17:06:10,733 nipype.workflow INFO:\n",
      "\t [Node] Setting-up \"bids_demo.bids-grabber\" in \"/tmp/tmpci8w2j1j/bids_demo/_subject_01/bids-grabber\".\n",
      "211017-17:06:10,745 nipype.workflow INFO:\n",
      "\t [Node] Running \"bids-grabber\" (\"nipype.interfaces.io.BIDSDataGrabber\")\n",
      "211017-17:06:10,892 nipype.workflow INFO:\n",
      "\t [Node] Finished \"bids_demo.bids-grabber\".\n",
      "211017-17:06:10,893 nipype.workflow INFO:\n",
      "\t [Node] Setting-up \"bids_demo.analyzeBOLD\" in \"/tmp/tmpjj2y9d__/bids_demo/_subject_01/analyzeBOLD\".\n",
      "211017-17:06:10,900 nipype.workflow INFO:\n",
      "\t [Node] Running \"analyzeBOLD\" (\"nipype.interfaces.utility.wrappers.Function\")\n",
      "\n",
      "\n",
      "analyzing ['/data/ds000114/sub-01/ses-test/func/sub-01_ses-test_task-fingerfootlips_bold.nii.gz']\n",
      "\n",
      "\n",
      "211017-17:06:10,945 nipype.workflow INFO:\n",
      "\t [Node] Finished \"bids_demo.analyzeBOLD\".\n"
     ]
    },
    {
     "data": {
      "text/plain": [
       "<networkx.classes.digraph.DiGraph at 0x7efe30401550>"
      ]
     },
     "execution_count": 20,
     "metadata": {},
     "output_type": "execute_result"
    }
   ],
   "source": [
    "bg_all = Node(BIDSDataGrabber(), name='bids-grabber')\n",
    "bg_all.inputs.base_dir = '/data/ds000114'\n",
    "bg_all.inputs.output_query = {'bolds': dict(suffix='bold')}\n",
    "bg_all.iterables = ('subject', layout.get_subjects()[:2])\n",
    "wf = Workflow(name=\"bids_demo\")\n",
    "wf.connect(bg_all, \"bolds\", analyzeBOLD, \"paths\")\n",
    "wf.run()"
   ]
  },
  {
   "cell_type": "markdown",
   "metadata": {},
   "source": [
    "## Accessing additional metadata\n",
    "Querying different files is nice, but sometimes you want to access more metadata. For example `RepetitionTime`. `pybids` can help with that as well"
   ]
  },
  {
   "cell_type": "code",
   "execution_count": 21,
   "metadata": {},
   "outputs": [
    {
     "data": {
      "text/plain": [
       "{'EchoTime': 0.05,\n",
       " 'FlipAngle': 90,\n",
       " 'RepetitionTime': 2.5,\n",
       " 'SliceTiming': [0.0,\n",
       "  1.2499999999999998,\n",
       "  0.08333333333333333,\n",
       "  1.333333333333333,\n",
       "  0.16666666666666666,\n",
       "  1.4166666666666663,\n",
       "  0.25,\n",
       "  1.4999999999999996,\n",
       "  0.3333333333333333,\n",
       "  1.5833333333333328,\n",
       "  0.41666666666666663,\n",
       "  1.666666666666666,\n",
       "  0.5,\n",
       "  1.7499999999999993,\n",
       "  0.5833333333333333,\n",
       "  1.8333333333333326,\n",
       "  0.6666666666666666,\n",
       "  1.9166666666666659,\n",
       "  0.75,\n",
       "  1.9999999999999991,\n",
       "  0.8333333333333333,\n",
       "  2.083333333333332,\n",
       "  0.9166666666666666,\n",
       "  2.1666666666666656,\n",
       "  1.0,\n",
       "  2.249999999999999,\n",
       "  1.0833333333333333,\n",
       "  2.333333333333332,\n",
       "  1.1666666666666665,\n",
       "  2.416666666666665],\n",
       " 'TaskName': 'finger_foot_lips'}"
      ]
     },
     "execution_count": 21,
     "metadata": {},
     "output_type": "execute_result"
    }
   ],
   "source": [
    "layout.get_metadata('/data/ds000114/sub-01/ses-test/func/sub-01_ses-test_task-fingerfootlips_bold.nii.gz')"
   ]
  },
  {
   "cell_type": "markdown",
   "metadata": {},
   "source": [
    "Can we incorporate this into our pipeline? Yes, we can! To do so, let's use a `Function` node to use `BIDSLayout` in a custom way.\n",
    "(More about MapNode in [MapNode](basic_mapnodes.ipynb))"
   ]
  },
  {
   "cell_type": "code",
   "execution_count": 22,
   "metadata": {},
   "outputs": [],
   "source": [
    "def printMetadata(path, data_dir):\n",
    "    from bids.layout import BIDSLayout\n",
    "    layout = BIDSLayout(data_dir)\n",
    "    print(\"\\n\\nanalyzing \" + path + \"\\nTR: \"+ str(layout.get_metadata(path)[\"RepetitionTime\"]) + \"\\n\\n\")\n",
    "    \n",
    "analyzeBOLD2 = MapNode(Function(function=printMetadata, input_names=[\"path\", \"data_dir\"],\n",
    "                             output_names=[]), name=\"analyzeBOLD2\", iterfield=\"path\")\n",
    "analyzeBOLD2.inputs.data_dir = \"/data/ds000114/\""
   ]
  },
  {
   "cell_type": "code",
   "execution_count": 23,
   "metadata": {
    "scrolled": false
   },
   "outputs": [
    {
     "name": "stdout",
     "output_type": "stream",
     "text": [
      "211017-17:06:10,998 nipype.workflow INFO:\n",
      "\t Workflow bids_demo settings: ['check', 'execution', 'logging', 'monitoring']\n",
      "211017-17:06:11,32 nipype.workflow INFO:\n",
      "\t Running serially.\n",
      "211017-17:06:11,34 nipype.workflow INFO:\n",
      "\t [Node] Setting-up \"bids_demo.bids-grabber\" in \"/tmp/tmphxehejzv/bids-grabber\".\n",
      "211017-17:06:11,40 nipype.workflow INFO:\n",
      "\t [Node] Running \"bids-grabber\" (\"nipype.interfaces.io.BIDSDataGrabber\")\n",
      "211017-17:06:11,207 nipype.workflow INFO:\n",
      "\t [Node] Finished \"bids_demo.bids-grabber\".\n",
      "211017-17:06:11,208 nipype.workflow INFO:\n",
      "\t [Node] Setting-up \"bids_demo.analyzeBOLD2\" in \"/tmp/tmpu4dk_t8u/bids_demo/analyzeBOLD2\".\n",
      "211017-17:06:11,216 nipype.workflow INFO:\n",
      "\t [Node] Setting-up \"_analyzeBOLD20\" in \"/tmp/tmpu4dk_t8u/bids_demo/analyzeBOLD2/mapflow/_analyzeBOLD20\".\n",
      "211017-17:06:11,220 nipype.workflow INFO:\n",
      "\t [Node] Running \"_analyzeBOLD20\" (\"nipype.interfaces.utility.wrappers.Function\")\n",
      "\n",
      "\n",
      "analyzing /data/ds000114/sub-01/ses-test/func/sub-01_ses-test_task-fingerfootlips_bold.nii.gz\n",
      "TR: 2.5\n",
      "\n",
      "\n",
      "211017-17:06:11,360 nipype.workflow INFO:\n",
      "\t [Node] Finished \"_analyzeBOLD20\".\n",
      "211017-17:06:11,364 nipype.workflow INFO:\n",
      "\t [Node] Finished \"bids_demo.analyzeBOLD2\".\n"
     ]
    },
    {
     "data": {
      "text/plain": [
       "<networkx.classes.digraph.DiGraph at 0x7efe3037eb50>"
      ]
     },
     "execution_count": 23,
     "metadata": {},
     "output_type": "execute_result"
    }
   ],
   "source": [
    "wf = Workflow(name=\"bids_demo\")\n",
    "wf.connect(bg, \"bolds\", analyzeBOLD2, \"path\")\n",
    "wf.run()"
   ]
  },
  {
   "cell_type": "markdown",
   "metadata": {},
   "source": [
    "### Exercise 3:\n",
    "Modify the `printMetadata` function to also print `EchoTime` "
   ]
  },
  {
   "cell_type": "code",
   "execution_count": 24,
   "metadata": {
    "solution2": "shown",
    "solution2_first": true
   },
   "outputs": [],
   "source": [
    "# write your solution here"
   ]
  },
  {
   "cell_type": "code",
   "execution_count": 25,
   "metadata": {
    "solution2": "shown"
   },
   "outputs": [],
   "source": [
    "from nipype.pipeline import Node, MapNode, Workflow\n",
    "from nipype.interfaces.io import BIDSDataGrabber\n",
    "\n",
    "ex3_BIDSDataGrabber = Node(BIDSDataGrabber(), name='bids-grabber')\n",
    "ex3_BIDSDataGrabber.inputs.base_dir = '/data/ds000114'\n",
    "ex3_BIDSDataGrabber.inputs.subject = '01'\n",
    "ex3_BIDSDataGrabber.inputs.output_query = {'bolds': dict(suffix='bold')}"
   ]
  },
  {
   "cell_type": "code",
   "execution_count": 26,
   "metadata": {
    "solution2": "shown"
   },
   "outputs": [
    {
     "name": "stdout",
     "output_type": "stream",
     "text": [
      "211017-17:06:11,407 nipype.workflow INFO:\n",
      "\t Workflow ex3 settings: ['check', 'execution', 'logging', 'monitoring']\n",
      "211017-17:06:11,435 nipype.workflow INFO:\n",
      "\t Running serially.\n",
      "211017-17:06:11,436 nipype.workflow INFO:\n",
      "\t [Node] Setting-up \"ex3.bids-grabber\" in \"/tmp/tmpt33niaf5/ex3/bids-grabber\".\n",
      "211017-17:06:11,443 nipype.workflow INFO:\n",
      "\t [Node] Running \"bids-grabber\" (\"nipype.interfaces.io.BIDSDataGrabber\")\n",
      "211017-17:06:11,594 nipype.workflow INFO:\n",
      "\t [Node] Finished \"ex3.bids-grabber\".\n",
      "211017-17:06:11,596 nipype.workflow INFO:\n",
      "\t [Node] Setting-up \"ex3.ex3\" in \"/tmp/tmpyzlhckrd/ex3/ex3\".\n",
      "211017-17:06:11,604 nipype.workflow INFO:\n",
      "\t [Node] Setting-up \"_ex30\" in \"/tmp/tmpyzlhckrd/ex3/ex3/mapflow/_ex30\".\n",
      "211017-17:06:11,609 nipype.workflow INFO:\n",
      "\t [Node] Running \"_ex30\" (\"nipype.interfaces.utility.wrappers.Function\")\n",
      "\n",
      "\n",
      "analyzing /data/ds000114/sub-01/ses-test/func/sub-01_ses-test_task-fingerfootlips_bold.nii.gz\n",
      "TR: 2.5\n",
      "ET: 0.05\n",
      "\n",
      "\n",
      "211017-17:06:11,774 nipype.workflow INFO:\n",
      "\t [Node] Finished \"_ex30\".\n",
      "211017-17:06:11,777 nipype.workflow INFO:\n",
      "\t [Node] Finished \"ex3.ex3\".\n"
     ]
    },
    {
     "data": {
      "text/plain": [
       "<networkx.classes.digraph.DiGraph at 0x7efe302a5290>"
      ]
     },
     "execution_count": 26,
     "metadata": {},
     "output_type": "execute_result"
    }
   ],
   "source": [
    "# and now modify analyzeBOLD2\n",
    "def printMetadata_et(path, data_dir):\n",
    "    from bids.layout import BIDSLayout\n",
    "    layout = BIDSLayout(data_dir)\n",
    "    print(\"\\n\\nanalyzing \" + path + \"\\nTR: \"+ \n",
    "          str(layout.get_metadata(path)[\"RepetitionTime\"]) +\n",
    "          \"\\nET: \"+ str(layout.get_metadata(path)[\"EchoTime\"])+ \"\\n\\n\")\n",
    "    \n",
    "ex3_analyzeBOLD2 = MapNode(Function(function=printMetadata_et, \n",
    "                                    input_names=[\"path\", \"data_dir\"],\n",
    "                                    output_names=[]), \n",
    "                           name=\"ex3\", iterfield=\"path\")\n",
    "ex3_analyzeBOLD2.inputs.data_dir = \"/data/ds000114/\"\n",
    "\n",
    "# and create a new workflow\n",
    "ex3_wf = Workflow(name=\"ex3\")\n",
    "ex3_wf.connect(ex3_BIDSDataGrabber, \"bolds\", ex3_analyzeBOLD2, \"path\")\n",
    "ex3_wf.run()"
   ]
  }
 ],
 "metadata": {
  "kernelspec": {
   "display_name": "Python 3",
   "language": "python",
   "name": "python3"
  },
  "language_info": {
   "codemirror_mode": {
    "name": "ipython",
    "version": 3
   },
   "file_extension": ".py",
   "mimetype": "text/x-python",
   "name": "python",
   "nbconvert_exporter": "python",
   "pygments_lexer": "ipython3",
   "version": "3.7.8"
  }
 },
 "nbformat": 4,
 "nbformat_minor": 2
}
