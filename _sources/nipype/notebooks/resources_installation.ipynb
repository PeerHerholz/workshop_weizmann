{
 "cells": [
  {
   "cell_type": "markdown",
   "metadata": {},
   "source": [
    "# Download and install\n",
    "\n",
    "This page covers the necessary steps to install Nipype.\n",
    "\n",
    "# 1. Install Nipype\n",
    "\n",
    "Getting Nipype to run on your system is rather straightforward. And there are multiple ways to do the installation:"
   ]
  },
  {
   "cell_type": "markdown",
   "metadata": {},
   "source": [
    "## Using docker\n",
    "\n",
    "- You can follow the [Nipype tutorial](https://miykael.github.io/nipype_tutorial)\n",
    "\n",
    "\n",
    "- You can pull the `nipype/nipype` image from Docker hub:\n",
    "\n",
    "        docker pull nipype/nipype\n",
    "\n",
    "- You may also build custom docker containers with specific versions of software using [Neurodocker](https://github.com/kaczmarj/neurodocker) (see the [Neurodocker Tutorial](neurodocker.ipynb))."
   ]
  },
  {
   "cell_type": "markdown",
   "metadata": {},
   "source": [
    "## Using conda\n",
    "\n",
    "If you have [conda](http://conda.pydata.org/docs/index.html), [miniconda](https://conda.io/miniconda.html) or [anaconda](https://www.continuum.io/why-anaconda) on your system, than installing Nipype can be done with just the following command:\n",
    "\n",
    "    conda install --channel conda-forge nipype\n",
    "\n",
    "It is possible to list all of the versions of nipype available on your platform with:\n",
    "\n",
    "    conda search nipype --channel conda-forge\n",
    "\n",
    "For more information, please see https://github.com/conda-forge/nipype-feedstock."
   ]
  },
  {
   "cell_type": "markdown",
   "metadata": {},
   "source": [
    "## Using Pypi\n",
    "\n",
    "The installation process is similar to other Python packages.\n",
    "\n",
    "If you already have a Python environment set up, you can do:\n",
    "\n",
    "    pip install nipype\n",
    "\n",
    "If you want to install all the optional features of ``nipype``, use the following command:\n",
    "\n",
    "    pip install nipype[all]\n",
    "\n",
    "While `all` installs everything, one can also install select components as listed below:\n",
    "\n",
    "```python\n",
    "'doc': ['Sphinx>=1.4', 'matplotlib', 'pydotplus', 'pydot>=1.2.3'],\n",
    "'tests': ['pytest-cov', 'codecov'],\n",
    "'nipy': ['nitime', 'nilearn', 'dipy', 'nipy', 'matplotlib'],\n",
    "'profiler': ['psutil'],\n",
    "'duecredit': ['duecredit'],\n",
    "'xvfbwrapper': ['xvfbwrapper'],\n",
    "```"
   ]
  },
  {
   "cell_type": "markdown",
   "metadata": {},
   "source": [
    "## Debian and Ubuntu\n",
    "\n",
    "Add the [NeuroDebian](http://neuro.debian.org) repository and install the ``python-nipype`` package using ``apt-get`` or your favorite package manager:\n",
    "\n",
    "    apt-get install python-nipype"
   ]
  },
  {
   "cell_type": "markdown",
   "metadata": {},
   "source": [
    "## Using Github\n",
    "\n",
    "To make sure that you really have the newest version of Nipype on your system, you can run the `pip` command with a flag that points to the github repo:\n",
    "\n",
    "    pip install git+https://github.com/nipy/nipype#egg=nipype"
   ]
  },
  {
   "cell_type": "markdown",
   "metadata": {},
   "source": [
    "## Mac OS X\n",
    "\n",
    "The easiest way to get nipype running on Mac OS X is to install [Miniconda](https://conda.io/miniconda.html) and follow the instructions above. If you have a non-conda environment you can install nipype by typing:\n",
    "\n",
    "    pip install nipype\n",
    "\n",
    "Note that the above procedure may require the availability of gcc on your system path to compile the traits package."
   ]
  },
  {
   "cell_type": "markdown",
   "metadata": {},
   "source": [
    "## From source\n",
    "\n",
    "- The most recent release is found here: https://github.com/nipy/nipype/releases/latest\n",
    "\n",
    "\n",
    "- The development version: [[zip](http://github.com/nipy/nipype/zipball/master), [tar.gz](http://github.com/nipy/nipype/tarball/master)]\n",
    "\n",
    "\n",
    "- For previous versions: [prior downloads](http://github.com/nipy/nipype/tags)\n",
    "\n",
    "\n",
    "- If you downloaded the source distribution named something\n",
    "like ``nipype-x.y.tar.gz``, then unpack the tarball, change into the\n",
    "``nipype-x.y`` directory and install nipype using:\n",
    "\n",
    "        pip install .\n",
    "\n",
    "**Note:** Depending on permissions you may need to use ``sudo``."
   ]
  },
  {
   "cell_type": "markdown",
   "metadata": {},
   "source": [
    "## Installation for developers\n",
    "\n",
    "Developers should start [here](http://nipype.readthedocs.io/en/latest/devel/testing_nipype.html).\n",
    "\n",
    "Developers can also use this docker container:\n",
    "\n",
    "    docker pull nipype/nipype:master"
   ]
  },
  {
   "cell_type": "markdown",
   "metadata": {},
   "source": [
    "# 2. Interface Dependencies\n",
    "\n",
    "Nipype provides wrappers around many neuroimaging tools and contains some algorithms. These tools will need to be installed for Nipype to run. You can create containers with different versions of these tools installed using [Neurodocker](https://github.com/kaczmarj/neurodocker) (see the [Neurodocker Tutorial](neurodocker.ipynb))."
   ]
  },
  {
   "cell_type": "markdown",
   "metadata": {},
   "source": [
    "# 3. Testing the install\n",
    "\n",
    "The best way to test the install is checking nipype's version and then running the tests:\n",
    "\n",
    "```python\n",
    "python -c \"import nipype; print(nipype.__version__)\"\n",
    "python -c \"import nipype; nipype.test(doctests=False)\"\n",
    "```\n",
    "\n",
    "The test will create a lot of output, but if all goes well you will see at the end something like this:\n",
    "\n",
    "    ----------------------------------------------------------------------\n",
    "     2091 passed, 68 skipped, 7 xfailed, 1 warnings in 236.94 seconds\n",
    "\n",
    "The number of tests and time will vary depending on which interfaces you have installed on your system.\n",
    "\n",
    "Don’t worry if some modules are being skipped or marked as xfailed. As long as no main modules cause any problems, you’re fine. The number of tests and time will vary depending on which interfaces you have installed on your system. But if you receive an OK, errors=0 and failures=0 then everything is ready."
   ]
  }
 ],
 "metadata": {
  "kernelspec": {
   "display_name": "Python [default]",
   "language": "python",
   "name": "python3"
  },
  "language_info": {
   "codemirror_mode": {
    "name": "ipython",
    "version": 3
   },
   "file_extension": ".py",
   "mimetype": "text/x-python",
   "name": "python",
   "nbconvert_exporter": "python",
   "pygments_lexer": "ipython3",
   "version": "3.6.5"
  }
 },
 "nbformat": 4,
 "nbformat_minor": 2
}
