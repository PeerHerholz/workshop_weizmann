{
 "cells": [
  {
   "cell_type": "markdown",
   "metadata": {},
   "source": [
    "# Using MIPAV, JIST, and CBS Tools\n",
    "\n",
    "If you are trying to use MIPAV, JIST or CBS Tools interfaces you need to configure CLASSPATH environmental variable correctly. It needs to include extensions shipped with MIPAV, MIPAV itself and MIPAV plugins.\n",
    "\n",
    "For example, in order to use the standalone MCR version of spm, you need to ensure that the following commands are executed at the beginning of your script:"
   ]
  },
  {
   "cell_type": "markdown",
   "metadata": {},
   "source": [
    "```\n",
    "# location of additional JAVA libraries to use\n",
    "JAVALIB=/Applications/mipav/jre/Contents/Home/lib/ext/\n",
    "\n",
    "# location of the MIPAV installation to use\n",
    "MIPAV=/Applications/mipav\n",
    "# location of the plugin installation to use\n",
    "# please replace 'ThisUser' by your user name\n",
    "PLUGINS=/Users/ThisUser/mipav/plugins\n",
    "\n",
    "export CLASSPATH=$JAVALIB/*:$MIPAV:$MIPAV/lib/*:$PLUGINS\n",
    "```"
   ]
  }
 ],
 "metadata": {
  "kernelspec": {
   "display_name": "Python [default]",
   "language": "python",
   "name": "python3"
  },
  "language_info": {
   "codemirror_mode": {
    "name": "ipython",
    "version": 3
   },
   "file_extension": ".py",
   "mimetype": "text/x-python",
   "name": "python",
   "nbconvert_exporter": "python",
   "pygments_lexer": "ipython3",
   "version": "3.6.5"
  }
 },
 "nbformat": 4,
 "nbformat_minor": 2
}
