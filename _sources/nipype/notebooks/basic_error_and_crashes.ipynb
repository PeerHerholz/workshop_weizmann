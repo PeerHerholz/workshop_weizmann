{
 "cells": [
  {
   "cell_type": "markdown",
   "metadata": {},
   "source": [
    "# Errors and Crashes\n",
    "\n",
    "Probably the most important chapter in this section is about how to handle error and crashes. Because at the beginning you will run into a few.\n",
    "\n",
    "For example:\n",
    "\n",
    "1. You specified filenames or paths that **don't exist**.\n",
    "2. You try to give an interface a ``string`` as input, where a ``float`` value is expected or you try to specify a parameter that doesn't exist. Be sure to use the right **``input type``** and input name.\n",
    "3. You wanted to give a list of inputs ``[func1.nii, func2.nii, func3.nii]`` to a node that only expects one input file. **``MapNode``** is your solution.\n",
    "4. You wanted to run SPM's motion correction on compressed NIfTI files, i.e. ``*.nii.gz``? **SPM** cannot handle that. Nipype's **``Gunzip``** interface can help.\n",
    "5. You haven't set up all necessary **environment variables**. Nipype, for example, doesn't find your MATLAB or SPM version.\n",
    "6. You **forget** to specify a **mandatory input** field.\n",
    "7. You try to **connect** a node to an input field that another node is **already connected** to.\n",
    "\n",
    "**Important** note about ``crashfiles``. ``Crashfiles`` are only created when you run a workflow, not during building a workflow. If you have a typo in a folder path, because they didn't happen during runtime, but still during workflow building."
   ]
  },
  {
   "cell_type": "markdown",
   "metadata": {},
   "source": [
    "## Example Crash 1: File doesn't exist\n",
    "\n",
    "When creating a new workflow, very often the initial errors are ``OSError``, meaning Nipype cannot find the right files. For example, let's try to run a workflow on ``sub-11``, that in our dataset doesn't exist."
   ]
  },
  {
   "cell_type": "markdown",
   "metadata": {},
   "source": [
    "### Creating the crash"
   ]
  },
  {
   "cell_type": "code",
   "execution_count": null,
   "metadata": {},
   "outputs": [],
   "source": [
    "from nipype import SelectFiles, Node, Workflow\n",
    "from os.path import abspath as opap\n",
    "from nipype.interfaces.fsl import MCFLIRT, IsotropicSmooth\n",
    "\n",
    "# Create SelectFiles node\n",
    "templates={'func': '{subject_id}/ses-test/func/{subject_id}_ses-test_task-fingerfootlips_bold.nii.gz'}\n",
    "sf = Node(SelectFiles(templates),\n",
    "          name='selectfiles')\n",
    "sf.inputs.base_directory = opap('/data/ds000114')\n",
    "sf.inputs.subject_id = 'sub-11'\n",
    "\n",
    "# Create Motion Correction Node\n",
    "mcflirt = Node(MCFLIRT(mean_vol=True,\n",
    "                       save_plots=True),\n",
    "               name='mcflirt')\n",
    "\n",
    "# Create Smoothing node\n",
    "smooth = Node(IsotropicSmooth(fwhm=4),\n",
    "              name='smooth')\n",
    "\n",
    "# Create a preprocessing workflow\n",
    "wf = Workflow(name=\"preprocWF\")\n",
    "wf.base_dir = 'working_dir'\n",
    "\n",
    "# Connect the three nodes to each other\n",
    "wf.connect([(sf, mcflirt, [(\"func\", \"in_file\")]),\n",
    "            (mcflirt, smooth, [(\"out_file\", \"in_file\")])])\n",
    "\n",
    "# Let's run the workflow\n",
    "try:\n",
    "    wf.run()\n",
    "except(RuntimeError) as err:\n",
    "    print(\"RuntimeError:\", err)\n",
    "else:\n",
    "    raise"
   ]
  },
  {
   "cell_type": "markdown",
   "metadata": {},
   "source": [
    "### Investigating the crash\n",
    "\n",
    "Hidden, in the log file you can find the relevant information:\n",
    "\n",
    "    OSError: No files were found matching func template: /data/ds000114/sub-11/ses-test/func/sub-11_ses-test_task-fingerfootlips_bold.nii.gz\n",
    "    Interface SelectFiles failed to run. \n",
    "\n",
    "    170904-05:48:13,727 workflow INFO:\n",
    "         ***********************************\n",
    "    170904-05:48:13,728 workflow ERROR:\n",
    "         could not run node: preprocWF.selectfiles\n",
    "    170904-05:48:13,730 workflow INFO:\n",
    "         crashfile: /repos/nipype_tutorial/notebooks/crash-20170904-054813-neuro-selectfiles-15f5400a-452e-4e0c-ae99-fc0d4b9a44f3.pklz\n",
    "    170904-05:48:13,731 workflow INFO:\n",
    "         ***********************************\n",
    "    \n",
    "This part tells you that it's an **``OSError``** and that it looked for the file **``/data/ds000114/sub-11/ses-test/func/sub-11_ses-test_task-fingerfootlips_bold.nii.gz``**.\n",
    "\n",
    "After the line ``***********************************``, you can additional see, that it's the node **``preprocWF.selectfiles``** that crasehd and that you can find a **``crashfile``** to this crash under **``/opt/tutorial/notebooks``**."
   ]
  },
  {
   "cell_type": "markdown",
   "metadata": {},
   "source": [
    "### Reading the ``crashfile``\n",
    "\n",
    "To get the full picture of the error, we can read the content of the ``crashfile`` (that has `pklz` format by default) with the ``bash`` command ``nipypecli crash``. We will get the same information as above, but additionally, we can also see directly the input values of the Node that crashed."
   ]
  },
  {
   "cell_type": "code",
   "execution_count": null,
   "metadata": {},
   "outputs": [],
   "source": [
    "!nipypecli crash $(pwd)/crash-*selectfiles-*.pklz"
   ]
  },
  {
   "cell_type": "markdown",
   "metadata": {},
   "source": [
    "`nipypecli` allows you to rerun the crashed node using an additional option `-r`."
   ]
  },
  {
   "cell_type": "code",
   "execution_count": null,
   "metadata": {},
   "outputs": [],
   "source": [
    "!nipypecli crash -r $(pwd)/crash-*selectfiles-*.pklz"
   ]
  },
  {
   "cell_type": "markdown",
   "metadata": {},
   "source": [
    "When running in the terminal you can also try options that **enable the Python or Ipython debugger when re-executing: `-d` or `-i`**.\n",
    "\n",
    "**If you don't want to have an option to rerun the crashed workflow, you can change the format of crashfile to a text format.** You can either change this in a configuration file (you can read more [here](basic_execution_configuration.ipynb)), or you can directly change the `wf.config` dictionary before running the workflow."
   ]
  },
  {
   "cell_type": "code",
   "execution_count": null,
   "metadata": {},
   "outputs": [],
   "source": [
    "wf.config['execution']['crashfile_format'] = 'txt'\n",
    "try:\n",
    "    wf.run()\n",
    "except(RuntimeError) as err:\n",
    "    print(\"RuntimeError:\", err)\n",
    "else:\n",
    "    raise"
   ]
  },
  {
   "cell_type": "markdown",
   "metadata": {},
   "source": [
    "Now you should have a new text file with your crash report. "
   ]
  },
  {
   "cell_type": "code",
   "execution_count": null,
   "metadata": {},
   "outputs": [],
   "source": [
    "!cat $(pwd)/crash-*selectfiles-*.txt"
   ]
  },
  {
   "cell_type": "markdown",
   "metadata": {},
   "source": [
    "## Example Crash 2: Wrong Input Type or Typo in the parameter\n",
    "\n",
    "Very simple, if an interface expects a ``float`` as input, but you give it a ``string``, it will crash:"
   ]
  },
  {
   "cell_type": "code",
   "execution_count": null,
   "metadata": {},
   "outputs": [],
   "source": [
    "from nipype.interfaces.fsl import IsotropicSmooth\n",
    "try:\n",
    "    smooth = IsotropicSmooth(fwhm='4')\n",
    "except(Exception) as err:\n",
    "    if \"TraitError\" in str(err.__class__):\n",
    "        print(\"TraitError:\", err)\n",
    "    else:\n",
    "        raise\n",
    "else:\n",
    "    raise"
   ]
  },
  {
   "cell_type": "markdown",
   "metadata": {},
   "source": [
    "This will give you the error: **``TraitError``**``: The 'fwhm' trait of an IsotropicSmoothInput instance must be a float, but a value of '4' <type 'str'> was specified.``\n",
    "\n",
    "To make sure that you are using the right input types, just check the ``help`` section of a given interface. There you can see **``fwhm: (a float)``**."
   ]
  },
  {
   "cell_type": "code",
   "execution_count": null,
   "metadata": {},
   "outputs": [],
   "source": [
    "IsotropicSmooth.help()"
   ]
  },
  {
   "cell_type": "markdown",
   "metadata": {},
   "source": [
    "In a similar way, you will also get an error message if the input type is correct but you have a type in the name:\n",
    "\n",
    "    TraitError: The 'output_type' trait of an IsotropicSmoothInput instance must be u'NIFTI_PAIR' or u'NIFTI_PAIR_GZ' or u'NIFTI_GZ' or u'NIFTI', but a value of 'NIFTIiii' <type 'str'> was specified."
   ]
  },
  {
   "cell_type": "code",
   "execution_count": null,
   "metadata": {},
   "outputs": [],
   "source": [
    "from nipype.interfaces.fsl import IsotropicSmooth\n",
    "try:\n",
    "    smooth = IsotropicSmooth(output_type='NIFTIiii')\n",
    "except(Exception) as err:\n",
    "    if \"TraitError\" in str(err.__class__):\n",
    "        print(\"TraitError:\", err)\n",
    "    else:\n",
    "        raise\n",
    "else:\n",
    "    raise"
   ]
  },
  {
   "cell_type": "markdown",
   "metadata": {},
   "source": [
    "## Example Crash 3: Giving an array as input where a single file is expected\n",
    "\n",
    "As you can see in the [MapNode](basic_mapnodes.ipynb) example, if you try to feed an array as an input into a field that only expects a single file, you will get a **``TraitError``**."
   ]
  },
  {
   "cell_type": "code",
   "execution_count": null,
   "metadata": {},
   "outputs": [],
   "source": [
    "from nipype.algorithms.misc import Gunzip\n",
    "from nipype import Node\n",
    "\n",
    "files = ['/data/ds000114/sub-01/ses-test/func/sub-01_ses-test_task-fingerfootlips_bold.nii.gz',\n",
    "         '/data/ds000114/sub-01/ses-test/func/sub-01_ses-test_task-fingerfootlips_bold.nii.gz']\n",
    "\n",
    "gunzip = Node(Gunzip(), name='gunzip',)\n",
    "\n",
    "try:\n",
    "    gunzip.inputs.in_file = files\n",
    "except(Exception) as err:\n",
    "    if \"TraitError\" in str(err.__class__):\n",
    "        print(\"TraitError:\", err)\n",
    "    else:\n",
    "        raise\n",
    "else:\n",
    "    raise"
   ]
  },
  {
   "cell_type": "markdown",
   "metadata": {},
   "source": [
    "This can be solved by using a ``MapNode``:"
   ]
  },
  {
   "cell_type": "code",
   "execution_count": null,
   "metadata": {},
   "outputs": [],
   "source": [
    "from nipype import MapNode\n",
    "gunzip = MapNode(Gunzip(), name='gunzip', iterfield=['in_file'])\n",
    "gunzip.inputs.in_file = files"
   ]
  },
  {
   "cell_type": "markdown",
   "metadata": {},
   "source": [
    "Now, make sure that you specify files that actually exist, otherwise you will have a ``TraitError`` again:"
   ]
  },
  {
   "cell_type": "code",
   "execution_count": null,
   "metadata": {},
   "outputs": [],
   "source": [
    "files = ['/data/ds000114/sub-01/func/sub-01_task-fingerfootlips_bold.nii.gz',\n",
    "         '/data/ds000114/sub-03/func/sub-03_task-fingerfootlips_bold.nii.gz']\n",
    "\n",
    "try:\n",
    "    gunzip.inputs.in_file = files\n",
    "except(Exception) as err:\n",
    "    if \"TraitError\" in str(err.__class__):\n",
    "        print(\"TraitError:\", err)\n",
    "    else:\n",
    "        raise\n",
    "else:\n",
    "    raise"
   ]
  },
  {
   "cell_type": "markdown",
   "metadata": {},
   "source": [
    "**By the way, not that those crashes don't create a ``crashfile``, because they didn't happen during runtime, but still during workflow building.**"
   ]
  },
  {
   "cell_type": "markdown",
   "metadata": {},
   "source": [
    "## Example Crash 4: SPM doesn't like ``*.nii.gz`` files\n",
    "\n",
    "SPM12 cannot handle compressed NIfTI files (``*nii.gz``). If you try to run the node nonetheless, it can give you different kind of problems:\n",
    "\n",
    "### SPM Problem 1 with ``*.nii.gz`` files\n",
    "\n",
    "SPM12 has a problem with handling ``*.nii.gz`` files. For it a compressed functional image has no temporal dimension and therefore seems to be just a 3D file. So if we try to run the ``Realign`` interface on a compressed file, we will get a **``TraitError``** error."
   ]
  },
  {
   "cell_type": "code",
   "execution_count": null,
   "metadata": {},
   "outputs": [],
   "source": [
    "from nipype.interfaces.spm import Smooth\n",
    "\n",
    "try:\n",
    "    smooth = Smooth(in_files='/data/ds000114/sub-01/ses-test/anat/sub-01_ses-test_T1w.nii.gz')\n",
    "except(Exception) as err:\n",
    "    if \"TraitError\" in str(err.__class__):\n",
    "        print(\"TraitError:\", err)\n",
    "    else:\n",
    "        raise\n",
    "else:\n",
    "    raise"
   ]
  },
  {
   "cell_type": "markdown",
   "metadata": {},
   "source": [
    "### SPM problem 2 with ``*.nii.gz`` files\n",
    "\n",
    "Sometimes **``TraitError``** can be more misleading."
   ]
  },
  {
   "cell_type": "code",
   "execution_count": null,
   "metadata": {},
   "outputs": [],
   "source": [
    "from nipype.interfaces.spm import Realign\n",
    "\n",
    "try:\n",
    "    realign = Realign(in_files='/data/ds000114/sub-01/ses-test/func/sub-01_ses-test_task-fingerfootlips_bold.nii.gz')\n",
    "except(Exception) as err:\n",
    "    if \"TraitError\" in str(err.__class__):\n",
    "        print(\"TraitError:\", err)\n",
    "    else:\n",
    "        raise\n",
    "else:\n",
    "    raise"
   ]
  },
  {
   "cell_type": "markdown",
   "metadata": {},
   "source": [
    "**This issue can be solved by unzipping the compressed NIfTI file before giving it as an input to an SPM node.** This can either be done by using the ``Gunzip`` interface from Nipype or even better if the input is coming from a FSL interface, most of them have an input filed `output_type='NIFTI'`, that you can set to NIFIT."
   ]
  },
  {
   "cell_type": "markdown",
   "metadata": {},
   "source": [
    "## Example Crash 5: Nipype cannot find the right software\n",
    "\n",
    "Especially at the beginning, just after installation, you sometimes forgot to specify some environment variables. If you try to use an interface where the environment variables of the software are not specified, e.g. if you try to run:\n",
    "\n",
    "```python\n",
    "from nipype.interfaces.freesurfer import MRIConvert\n",
    "convert = MRIConvert(in_file='/data/ds000114/sub-01/ses-test/anat/sub-01_ses-test_T1w.nii.gz',\n",
    "                     out_type='nii')\n",
    "```\n",
    "\n",
    "you might get an errors, such as:\n",
    "\n",
    "    IOError: command 'mri_convert' could not be found on host mnotter\n",
    "    Interface MRIConvert failed to run."
   ]
  },
  {
   "cell_type": "markdown",
   "metadata": {},
   "source": [
    "Or if you try to use SPM, but forgot to tell Nipype where to find it. If you forgot to tell the system where to find MATLAB (or MCR), then you will get the same kind of error as above. But if you forgot to specify which SPM you want to use, you'll get the following **``RuntimeError``**:\n",
    "\n",
    "    Standard error:\n",
    "    MATLAB code threw an exception:\n",
    "    SPM not in matlab path\n",
    "\n",
    "\n",
    "You can solve this issue by specifying the path to your SPM version:\n",
    "\n",
    "```python\n",
    "from nipype.interfaces.matlab import MatlabCommand\n",
    "MatlabCommand.set_default_paths('/opt/spm12-r7219/spm12_mcr/spm12')\n",
    "```"
   ]
  },
  {
   "cell_type": "markdown",
   "metadata": {},
   "source": [
    "## Example Crash 6: You forget mandatory inputs or use input fields that don't exist\n",
    "\n",
    "One of the simpler errors are the ones connected to input and output fields.\n",
    "\n",
    "### Forgetting mandatory input fields\n",
    "\n",
    "Let's see what happens if you forget a **``[Mandatory]``** input field."
   ]
  },
  {
   "cell_type": "code",
   "execution_count": null,
   "metadata": {},
   "outputs": [],
   "source": [
    "from nipype.interfaces.spm import Realign\n",
    "realign = Realign(register_to_mean=True)\n",
    "\n",
    "try:\n",
    "    realign.run()\n",
    "except(ValueError) as err:\n",
    "    print(\"ValueError:\", err)\n",
    "else:\n",
    "    raise"
   ]
  },
  {
   "cell_type": "markdown",
   "metadata": {},
   "source": [
    "This gives you the error:\n",
    "\n",
    "    ValueError: Realign requires a value for input 'in_files'. For a list of required inputs, see Realign.help()"
   ]
  },
  {
   "cell_type": "markdown",
   "metadata": {},
   "source": [
    "As described by the error text, if we use the ``help()`` function, we can actually see, which inputs are mandatory and which are optional."
   ]
  },
  {
   "cell_type": "code",
   "execution_count": null,
   "metadata": {},
   "outputs": [],
   "source": [
    "realign.help()"
   ]
  },
  {
   "cell_type": "markdown",
   "metadata": {},
   "source": [
    "### Using input fields that don't exist\n",
    "\n",
    "Let's see what happens if we try to specify a parameter that doesn't exist as an input field:\n"
   ]
  },
  {
   "cell_type": "code",
   "execution_count": null,
   "metadata": {},
   "outputs": [],
   "source": [
    "from nipype.interfaces.afni import Despike\n",
    "\n",
    "try:\n",
    "    despike = Despike(in_file='/data/ds000114/sub-01/ses-test/func/sub-01_ses-test_task-fingerfootlips_bold.nii.gz',\n",
    "                      output_type='NIFTI')\n",
    "except(Exception) as err:\n",
    "    if \"TraitError\" in str(err.__class__):\n",
    "        print(\"TraitError:\", err)\n",
    "    else:\n",
    "        raise\n",
    "else:\n",
    "    raise"
   ]
  },
  {
   "cell_type": "markdown",
   "metadata": {},
   "source": [
    "This results in the **``TraitError``**:\n",
    "\n",
    "    TraitError: Cannot set the undefined 'output_type' attribute of a 'DespikeInputSpec' object.\n",
    "\n",
    "So what went wrong? If you use the ``help()`` function, you will see that the correct input filed is called **``outputtype``** and not **``output_type``**."
   ]
  },
  {
   "cell_type": "markdown",
   "metadata": {},
   "source": [
    "## Example Crash 7: Trying to connect a node to an input field that is already occupied\n",
    "\n",
    "Sometimes when you build a new workflow, you might forget that an output field was already connected and you try to connect a new node to the already occupied field.\n",
    "\n",
    "First, let's create a simple workflow:"
   ]
  },
  {
   "cell_type": "code",
   "execution_count": null,
   "metadata": {},
   "outputs": [],
   "source": [
    "from nipype import SelectFiles, Node, Workflow\n",
    "from os.path import abspath as opap\n",
    "from nipype.interfaces.fsl import MCFLIRT, IsotropicSmooth\n",
    "\n",
    "# Create SelectFiles node\n",
    "templates={'func': '{subject_id}/func/{subject_id}_task-fingerfootlips_bold.nii.gz'}\n",
    "sf = Node(SelectFiles(templates),\n",
    "          name='selectfiles')\n",
    "sf.inputs.base_directory = opap('/data/ds000114')\n",
    "sf.inputs.subject_id = 'sub-01'\n",
    "\n",
    "# Create Motion Correction Node\n",
    "mcflirt = Node(MCFLIRT(mean_vol=True,\n",
    "                       save_plots=True),\n",
    "               name='mcflirt')\n",
    "\n",
    "# Create Smoothing node\n",
    "smooth = Node(IsotropicSmooth(fwhm=4),\n",
    "              name='smooth')\n",
    "\n",
    "# Create a preprocessing workflow\n",
    "wf = Workflow(name=\"preprocWF\")\n",
    "wf.base_dir = 'working_dir'\n",
    "\n",
    "# Connect the three nodes to each other\n",
    "wf.connect([(sf, mcflirt, [(\"func\", \"in_file\")]),\n",
    "            (mcflirt, smooth, [(\"out_file\", \"in_file\")])])"
   ]
  },
  {
   "cell_type": "markdown",
   "metadata": {},
   "source": [
    "Now, let's create a new node and connect it to the already occupied input field ``in_file`` of the ``smooth`` node:"
   ]
  },
  {
   "cell_type": "code",
   "execution_count": null,
   "metadata": {},
   "outputs": [],
   "source": [
    "# Create a new node\n",
    "mcflirt_NEW = Node(MCFLIRT(mean_vol=True),\n",
    "                   name='mcflirt_NEW')\n",
    "\n",
    "# Connect it to an already connected input field\n",
    "try:\n",
    "    wf.connect([(mcflirt_NEW, smooth, [(\"out_file\", \"in_file\")])])\n",
    "except(Exception) as err:\n",
    "    print(\"Exception:\", err)\n",
    "else:\n",
    "    raise"
   ]
  },
  {
   "cell_type": "markdown",
   "metadata": {},
   "source": [
    "This will lead to the error:\n",
    "\n",
    "```python\n",
    "Exception: \n",
    "Trying to connect preprocWF.mcflirt_NEW:out_file to preprocWF.smooth:in_file but input 'in_file' of node 'preprocWF.smooth' is already connected.\n",
    "```"
   ]
  }
 ],
 "metadata": {
  "anaconda-cloud": {},
  "kernelspec": {
   "display_name": "Python 3",
   "language": "python",
   "name": "python3"
  },
  "language_info": {
   "codemirror_mode": {
    "name": "ipython",
    "version": 3
   },
   "file_extension": ".py",
   "mimetype": "text/x-python",
   "name": "python",
   "nbconvert_exporter": "python",
   "pygments_lexer": "ipython3",
   "version": "3.7.8"
  }
 },
 "nbformat": 4,
 "nbformat_minor": 2
}
