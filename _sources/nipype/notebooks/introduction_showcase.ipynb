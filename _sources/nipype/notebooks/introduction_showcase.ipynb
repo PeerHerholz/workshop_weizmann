{
 "cells": [
  {
   "cell_type": "markdown",
   "metadata": {},
   "source": [
    "# Nipype Showcase\n",
    "\n",
    "What's all the hype about Nipype? Is it really that good? Short answer: Yes!\n",
    "\n",
    "Long answer: ... well, let's consider a very simple fMRI preprocessing workflow that just performs:\n",
    "1. slice time correction\n",
    "2. motion correction\n",
    "3. smoothing"
   ]
  },
  {
   "cell_type": "markdown",
   "metadata": {},
   "source": [
    "# Preparing the preprocessing workflow"
   ]
  },
  {
   "cell_type": "markdown",
   "metadata": {},
   "source": [
    "First, we need to import the main Nipype tools: `Node` and `Workflow`"
   ]
  },
  {
   "cell_type": "code",
   "execution_count": 1,
   "metadata": {},
   "outputs": [],
   "source": [
    "from nipype import Node, Workflow"
   ]
  },
  {
   "cell_type": "markdown",
   "metadata": {},
   "source": [
    "Now, we can import the interfaces that we want to use for the preprocessing."
   ]
  },
  {
   "cell_type": "code",
   "execution_count": 2,
   "metadata": {},
   "outputs": [],
   "source": [
    "from nipype.interfaces.fsl import SliceTimer, MCFLIRT, Smooth"
   ]
  },
  {
   "cell_type": "markdown",
   "metadata": {},
   "source": [
    "Next, we will put the three interfaces into a node and define the specific input parameters."
   ]
  },
  {
   "cell_type": "code",
   "execution_count": 3,
   "metadata": {},
   "outputs": [],
   "source": [
    "# Initiate a node to correct for slice wise acquisition\n",
    "slicetimer = Node(SliceTimer(index_dir=False,\n",
    "                             interleaved=True,\n",
    "                             time_repetition=2.5),\n",
    "                  name=\"slicetimer\")"
   ]
  },
  {
   "cell_type": "code",
   "execution_count": 4,
   "metadata": {},
   "outputs": [],
   "source": [
    "# Initiate a node to correct for motion\n",
    "mcflirt = Node(MCFLIRT(mean_vol=True,\n",
    "                       save_plots=True),\n",
    "               name=\"mcflirt\")"
   ]
  },
  {
   "cell_type": "code",
   "execution_count": 5,
   "metadata": {},
   "outputs": [],
   "source": [
    "# Initiate a node to smooth functional images\n",
    "smooth = Node(Smooth(fwhm=4), name=\"smooth\")"
   ]
  },
  {
   "cell_type": "markdown",
   "metadata": {},
   "source": [
    "After creating the nodes, we can now create the preprocessing workflow."
   ]
  },
  {
   "cell_type": "code",
   "execution_count": 6,
   "metadata": {},
   "outputs": [],
   "source": [
    "preproc01 = Workflow(name='preproc01', base_dir='.')"
   ]
  },
  {
   "cell_type": "markdown",
   "metadata": {},
   "source": [
    "Now, we can put all the nodes into this preprocessing workflow. We specify the data flow / execution flow of the workflow by connecting the corresponding nodes to each other."
   ]
  },
  {
   "cell_type": "code",
   "execution_count": 7,
   "metadata": {},
   "outputs": [],
   "source": [
    "preproc01.connect([(slicetimer, mcflirt, [('slice_time_corrected_file', 'in_file')]),\n",
    "                   (mcflirt, smooth, [('out_file', 'in_file')])])"
   ]
  },
  {
   "cell_type": "markdown",
   "metadata": {},
   "source": [
    "To better understand what we did we can write out the workflow graph and visualize it directly in this notebook."
   ]
  },
  {
   "cell_type": "code",
   "execution_count": 8,
   "metadata": {},
   "outputs": [
    {
     "name": "stdout",
     "output_type": "stream",
     "text": [
      "211017-18:13:04,666 nipype.workflow INFO:\n",
      "\t Generated workflow graph: /home/neuro/workshop_weizmann/workshop/nipype/notebooks/preproc01/graph.png (graph2use=orig, simple_form=True).\n"
     ]
    },
    {
     "data": {
      "text/plain": [
       "'/home/neuro/workshop_weizmann/workshop/nipype/notebooks/preproc01/graph.png'"
      ]
     },
     "execution_count": 8,
     "metadata": {},
     "output_type": "execute_result"
    }
   ],
   "source": [
    "preproc01.write_graph(graph2use='orig')"
   ]
  },
  {
   "cell_type": "code",
   "execution_count": 9,
   "metadata": {},
   "outputs": [
    {
     "data": {
      "image/png": "[encoded data removed]",
      "text/plain": [
       "<IPython.core.display.Image object>"
      ]
     },
     "execution_count": 9,
     "metadata": {},
     "output_type": "execute_result"
    }
   ],
   "source": [
    "# Visualize graph\n",
    "from IPython.display import Image\n",
    "Image(filename=\"preproc01/graph_detailed.png\")"
   ]
  },
  {
   "cell_type": "markdown",
   "metadata": {},
   "source": [
    "# Run the workflow on one functional image\n",
    "\n",
    "Now, that we've created a workflow, let's run it on a functional image.\n",
    "\n",
    "For this, we first need to specify the input file of the very first node, i.e. the `slicetimer` node."
   ]
  },
  {
   "cell_type": "code",
   "execution_count": 10,
   "metadata": {},
   "outputs": [],
   "source": [
    "slicetimer.inputs.in_file = '/data/ds000114/sub-01/ses-test/func/sub-01_ses-test_task-fingerfootlips_bold.nii.gz'"
   ]
  },
  {
   "cell_type": "markdown",
   "metadata": {},
   "source": [
    "To show off Nipype's parallelization power, let's run the workflow in parallel, on 5 processors and let's show the execution time:"
   ]
  },
  {
   "cell_type": "code",
   "execution_count": 11,
   "metadata": {},
   "outputs": [
    {
     "name": "stdout",
     "output_type": "stream",
     "text": [
      "211017-18:13:04,745 nipype.workflow INFO:\n",
      "\t Workflow preproc01 settings: ['check', 'execution', 'logging', 'monitoring']\n",
      "211017-18:13:04,775 nipype.workflow INFO:\n",
      "\t Running in parallel.\n",
      "211017-18:13:04,779 nipype.workflow INFO:\n",
      "\t [MultiProc] Running 0 tasks, and 1 jobs ready. Free memory (GB): 1.75/1.75, Free processors: 5/5.\n",
      "211017-18:13:04,860 nipype.workflow INFO:\n",
      "\t [Node] Setting-up \"preproc01.slicetimer\" in \"/home/neuro/workshop_weizmann/workshop/nipype/notebooks/preproc01/slicetimer\".\n",
      "211017-18:13:04,894 nipype.workflow INFO:\n",
      "\t [Node] Running \"slicetimer\" (\"nipype.interfaces.fsl.preprocess.SliceTimer\"), a CommandLine Interface with command:\n",
      "slicetimer --in=/data/ds000114/sub-01/ses-test/func/sub-01_ses-test_task-fingerfootlips_bold.nii.gz --odd --out=/home/neuro/workshop_weizmann/workshop/nipype/notebooks/preproc01/slicetimer/sub-01_ses-test_task-fingerfootlips_bold_st.nii.gz --repeat=2.500000\n",
      "211017-18:13:06,783 nipype.workflow INFO:\n",
      "\t [MultiProc] Running 1 tasks, and 0 jobs ready. Free memory (GB): 1.55/1.75, Free processors: 4/5.\n",
      "                     Currently running:\n",
      "                       * preproc01.slicetimer\n",
      "211017-18:13:18,103 nipype.workflow INFO:\n",
      "\t [Node] Finished \"preproc01.slicetimer\".\n",
      "211017-18:13:18,792 nipype.workflow INFO:\n",
      "\t [Job 0] Completed (preproc01.slicetimer).\n",
      "211017-18:13:18,796 nipype.workflow INFO:\n",
      "\t [MultiProc] Running 0 tasks, and 1 jobs ready. Free memory (GB): 1.75/1.75, Free processors: 5/5.\n",
      "211017-18:13:18,836 nipype.workflow INFO:\n",
      "\t [Node] Setting-up \"preproc01.mcflirt\" in \"/home/neuro/workshop_weizmann/workshop/nipype/notebooks/preproc01/mcflirt\".\n",
      "211017-18:13:18,890 nipype.workflow INFO:\n",
      "\t [Node] Running \"mcflirt\" (\"nipype.interfaces.fsl.preprocess.MCFLIRT\"), a CommandLine Interface with command:\n",
      "mcflirt -in /home/neuro/workshop_weizmann/workshop/nipype/notebooks/preproc01/slicetimer/sub-01_ses-test_task-fingerfootlips_bold_st.nii.gz -meanvol -out /home/neuro/workshop_weizmann/workshop/nipype/notebooks/preproc01/mcflirt/sub-01_ses-test_task-fingerfootlips_bold_st_mcf.nii.gz -plots\n",
      "211017-18:13:20,796 nipype.workflow INFO:\n",
      "\t [MultiProc] Running 1 tasks, and 0 jobs ready. Free memory (GB): 1.55/1.75, Free processors: 4/5.\n",
      "                     Currently running:\n",
      "                       * preproc01.mcflirt\n",
      "211017-18:14:37,994 nipype.workflow INFO:\n",
      "\t [Node] Finished \"preproc01.mcflirt\".\n",
      "211017-18:14:39,30 nipype.workflow INFO:\n",
      "\t [Job 1] Completed (preproc01.mcflirt).\n",
      "211017-18:14:39,34 nipype.workflow INFO:\n",
      "\t [MultiProc] Running 0 tasks, and 1 jobs ready. Free memory (GB): 1.75/1.75, Free processors: 5/5.\n",
      "211017-18:14:39,76 nipype.workflow INFO:\n",
      "\t [Node] Setting-up \"preproc01.smooth\" in \"/home/neuro/workshop_weizmann/workshop/nipype/notebooks/preproc01/smooth\".\n",
      "211017-18:14:39,131 nipype.workflow INFO:\n",
      "\t [Node] Running \"smooth\" (\"nipype.interfaces.fsl.utils.Smooth\"), a CommandLine Interface with command:\n",
      "fslmaths /home/neuro/workshop_weizmann/workshop/nipype/notebooks/preproc01/mcflirt/sub-01_ses-test_task-fingerfootlips_bold_st_mcf.nii.gz -kernel gauss 1.699 -fmean sub-01_ses-test_task-fingerfootlips_bold_st_mcf_smooth.nii.gz\n",
      "211017-18:14:41,63 nipype.workflow INFO:\n",
      "\t [MultiProc] Running 1 tasks, and 0 jobs ready. Free memory (GB): 1.55/1.75, Free processors: 4/5.\n",
      "                     Currently running:\n",
      "                       * preproc01.smooth\n",
      "211017-18:14:52,247 nipype.workflow INFO:\n",
      "\t [Node] Finished \"preproc01.smooth\".\n",
      "211017-18:14:53,56 nipype.workflow INFO:\n",
      "\t [Job 2] Completed (preproc01.smooth).\n",
      "211017-18:14:53,59 nipype.workflow INFO:\n",
      "\t [MultiProc] Running 0 tasks, and 0 jobs ready. Free memory (GB): 1.75/1.75, Free processors: 5/5.\n",
      "CPU times: user 2.06 s, sys: 139 ms, total: 2.19 s\n",
      "Wall time: 1min 50s\n"
     ]
    },
    {
     "data": {
      "text/plain": [
       "<networkx.classes.digraph.DiGraph at 0x7f09b197d510>"
      ]
     },
     "execution_count": 11,
     "metadata": {},
     "output_type": "execute_result"
    }
   ],
   "source": [
    "%time preproc01.run('MultiProc', plugin_args={'n_procs': 5})"
   ]
  },
  {
   "cell_type": "markdown",
   "metadata": {},
   "source": [
    "## Conclusion\n",
    "\n",
    "Nice, the whole execution took ~2min. But wait... The parallelization didn't really help.\n",
    "\n",
    "That's true, but because there was no possibility to run the workflow in parallel. Each node depends on the output of the previous node."
   ]
  },
  {
   "cell_type": "markdown",
   "metadata": {},
   "source": [
    "# Results of `preproc01`\n",
    "\n",
    "So, what did we get? Let's look at the output folder `preproc01`:"
   ]
  },
  {
   "cell_type": "code",
   "execution_count": 12,
   "metadata": {},
   "outputs": [
    {
     "name": "stdout",
     "output_type": "stream",
     "text": [
      "preproc01\r\n",
      "├── graph_detailed.png\r\n",
      "├── graph.png\r\n",
      "├── mcflirt\r\n",
      "│   ├── command.txt\r\n",
      "│   └── sub-01_ses-test_task-fingerfootlips_bold_st_mcf.nii.gz\r\n",
      "├── slicetimer\r\n",
      "│   ├── command.txt\r\n",
      "│   └── sub-01_ses-test_task-fingerfootlips_bold_st.nii.gz\r\n",
      "└── smooth\r\n",
      "    ├── command.txt\r\n",
      "    └── sub-01_ses-test_task-fingerfootlips_bold_st_mcf_smooth.nii.gz\r\n",
      "\r\n",
      "3 directories, 8 files\r\n"
     ]
    }
   ],
   "source": [
    "!tree preproc01 -I '*js|*json|*pklz|_report|*.dot|*html'"
   ]
  },
  {
   "cell_type": "markdown",
   "metadata": {},
   "source": [
    "# Rerunning of a workflow"
   ]
  },
  {
   "cell_type": "markdown",
   "metadata": {},
   "source": [
    "Now, for fun. Let's run the workflow again, but let's change the `fwhm` value of the Gaussian smoothing kernel to `2`."
   ]
  },
  {
   "cell_type": "code",
   "execution_count": 13,
   "metadata": {},
   "outputs": [],
   "source": [
    "smooth.inputs.fwhm = 2"
   ]
  },
  {
   "cell_type": "markdown",
   "metadata": {},
   "source": [
    "And let's run the workflow again."
   ]
  },
  {
   "cell_type": "code",
   "execution_count": 14,
   "metadata": {},
   "outputs": [
    {
     "name": "stdout",
     "output_type": "stream",
     "text": [
      "211017-18:14:55,793 nipype.workflow INFO:\n",
      "\t Workflow preproc01 settings: ['check', 'execution', 'logging', 'monitoring']\n",
      "211017-18:14:55,844 nipype.workflow INFO:\n",
      "\t Running in parallel.\n",
      "211017-18:14:55,848 nipype.workflow INFO:\n",
      "\t [MultiProc] Running 0 tasks, and 1 jobs ready. Free memory (GB): 1.75/1.75, Free processors: 5/5.\n",
      "211017-18:14:55,908 nipype.workflow INFO:\n",
      "\t [Job 0] Cached (preproc01.slicetimer).\n",
      "211017-18:14:57,927 nipype.workflow INFO:\n",
      "\t [Job 1] Cached (preproc01.mcflirt).\n",
      "211017-18:14:59,933 nipype.workflow INFO:\n",
      "\t [Node] Outdated cache found for \"preproc01.smooth\".\n",
      "211017-18:14:59,978 nipype.workflow INFO:\n",
      "\t [Node] Setting-up \"preproc01.smooth\" in \"/home/neuro/workshop_weizmann/workshop/nipype/notebooks/preproc01/smooth\".\n",
      "211017-18:14:59,989 nipype.workflow INFO:\n",
      "\t [Node] Outdated cache found for \"preproc01.smooth\".\n",
      "211017-18:15:00,64 nipype.workflow INFO:\n",
      "\t [Node] Running \"smooth\" (\"nipype.interfaces.fsl.utils.Smooth\"), a CommandLine Interface with command:\n",
      "fslmaths /home/neuro/workshop_weizmann/workshop/nipype/notebooks/preproc01/mcflirt/sub-01_ses-test_task-fingerfootlips_bold_st_mcf.nii.gz -kernel gauss 0.849 -fmean sub-01_ses-test_task-fingerfootlips_bold_st_mcf_smooth.nii.gz\n",
      "211017-18:15:01,829 nipype.workflow INFO:\n",
      "\t [MultiProc] Running 1 tasks, and 0 jobs ready. Free memory (GB): 1.55/1.75, Free processors: 4/5.\n",
      "                     Currently running:\n",
      "                       * preproc01.smooth\n",
      "211017-18:15:10,599 nipype.workflow INFO:\n",
      "\t [Node] Finished \"preproc01.smooth\".\n",
      "211017-18:15:11,835 nipype.workflow INFO:\n",
      "\t [Job 2] Completed (preproc01.smooth).\n",
      "211017-18:15:11,837 nipype.workflow INFO:\n",
      "\t [MultiProc] Running 0 tasks, and 0 jobs ready. Free memory (GB): 1.75/1.75, Free processors: 5/5.\n",
      "CPU times: user 410 ms, sys: 88.2 ms, total: 498 ms\n",
      "Wall time: 18.1 s\n"
     ]
    },
    {
     "data": {
      "text/plain": [
       "<networkx.classes.digraph.DiGraph at 0x7f09b1928c90>"
      ]
     },
     "execution_count": 14,
     "metadata": {},
     "output_type": "execute_result"
    }
   ],
   "source": [
    "%time preproc01.run('MultiProc', plugin_args={'n_procs': 5})"
   ]
  },
  {
   "cell_type": "markdown",
   "metadata": {},
   "source": [
    "## Conclusion\n",
    "\n",
    "Interesting, now it only took ~15s to execute the whole workflow again. **What happened?**\n",
    "\n",
    "As you can see from the log above, Nipype didn't execute the two nodes `slicetimer` and `mclfirt` again. This, because their input values didn't change from the last execution. The `preproc01` workflow therefore only had to rerun the node `smooth`."
   ]
  },
  {
   "cell_type": "markdown",
   "metadata": {},
   "source": [
    "# Running a workflow in parallel"
   ]
  },
  {
   "cell_type": "markdown",
   "metadata": {},
   "source": [
    "Ok, ok... Rerunning a workflow again is faster. That's nice and all, but I want more. **You spoke of parallel execution!**\n",
    "\n",
    "We saw that the `preproc01` workflow takes about ~2min to execute completely. So, if we would run the workflow on five functional images, it should take about ~10min total. This, of course, assuming the execution will be done sequentially. Now, let's see how long it takes if we run it in parallel."
   ]
  },
  {
   "cell_type": "code",
   "execution_count": 15,
   "metadata": {},
   "outputs": [],
   "source": [
    "# First, let's copy/clone 'preproc01'\n",
    "preproc02 = preproc01.clone('preproc02')\n",
    "preproc03 = preproc01.clone('preproc03')\n",
    "preproc04 = preproc01.clone('preproc04')\n",
    "preproc05 = preproc01.clone('preproc05')"
   ]
  },
  {
   "cell_type": "markdown",
   "metadata": {},
   "source": [
    "We now have five different preprocessing workflows. If we want to run them in parallel, we can put them all in another workflow."
   ]
  },
  {
   "cell_type": "code",
   "execution_count": 16,
   "metadata": {},
   "outputs": [],
   "source": [
    "metaflow = Workflow(name='metaflow', base_dir='.')"
   ]
  },
  {
   "cell_type": "code",
   "execution_count": 17,
   "metadata": {},
   "outputs": [],
   "source": [
    "# Now we can add the five preproc workflows to the bigger metaflow\n",
    "metaflow.add_nodes([preproc01, preproc02, preproc03,\n",
    "                    preproc04, preproc05])"
   ]
  },
  {
   "cell_type": "markdown",
   "metadata": {},
   "source": [
    "**Note:** We now have a workflow (`metaflow`), that contains five other workflows (`preproc0?`), each of them containing three nodes.\n",
    "\n",
    "To better understand this, let's visualize this `metaflow`."
   ]
  },
  {
   "cell_type": "code",
   "execution_count": 18,
   "metadata": {},
   "outputs": [
    {
     "name": "stdout",
     "output_type": "stream",
     "text": [
      "211017-18:15:14,299 nipype.workflow INFO:\n",
      "\t Generated workflow graph: /home/neuro/workshop_weizmann/workshop/nipype/notebooks/metaflow/graph.png (graph2use=flat, simple_form=True).\n"
     ]
    },
    {
     "data": {
      "text/plain": [
       "'/home/neuro/workshop_weizmann/workshop/nipype/notebooks/metaflow/graph.png'"
      ]
     },
     "execution_count": 18,
     "metadata": {},
     "output_type": "execute_result"
    }
   ],
   "source": [
    "# As before, let's write the graph of the workflow\n",
    "metaflow.write_graph(graph2use='flat')"
   ]
  },
  {
   "cell_type": "code",
   "execution_count": 19,
   "metadata": {},
   "outputs": [
    {
     "data": {
      "image/png": "[encoded data removed]",
      "text/plain": [
       "<IPython.core.display.Image object>"
      ]
     },
     "execution_count": 19,
     "metadata": {},
     "output_type": "execute_result"
    }
   ],
   "source": [
    "# And visualize the graph\n",
    "from IPython.display import Image\n",
    "Image(filename=\"metaflow/graph_detailed.png\")"
   ]
  },
  {
   "cell_type": "markdown",
   "metadata": {},
   "source": [
    "Ah... so now we can see that the `metaflow` has potential for parallelization. So let's put it to test"
   ]
  },
  {
   "cell_type": "code",
   "execution_count": 20,
   "metadata": {
    "scrolled": false
   },
   "outputs": [
    {
     "name": "stdout",
     "output_type": "stream",
     "text": [
      "211017-18:15:14,337 nipype.workflow INFO:\n",
      "\t Workflow metaflow settings: ['check', 'execution', 'logging', 'monitoring']\n",
      "211017-18:15:14,368 nipype.workflow INFO:\n",
      "\t Running in parallel.\n",
      "211017-18:15:14,372 nipype.workflow INFO:\n",
      "\t [MultiProc] Running 0 tasks, and 5 jobs ready. Free memory (GB): 1.75/1.75, Free processors: 5/5.\n",
      "211017-18:15:14,443 nipype.workflow INFO:\n",
      "\t [Node] Setting-up \"metaflow.preproc02.slicetimer\" in \"/home/neuro/workshop_weizmann/workshop/nipype/notebooks/metaflow/preproc02/slicetimer\".\n",
      "211017-18:15:14,440 nipype.workflow INFO:\n",
      "\t [Node] Setting-up \"metaflow.preproc01.slicetimer\" in \"/home/neuro/workshop_weizmann/workshop/nipype/notebooks/metaflow/preproc01/slicetimer\".\n",
      "211017-18:15:14,444 nipype.workflow INFO:\n",
      "\t [Node] Setting-up \"metaflow.preproc03.slicetimer\" in \"/home/neuro/workshop_weizmann/workshop/nipype/notebooks/metaflow/preproc03/slicetimer\".\n",
      "211017-18:15:14,451 nipype.workflow INFO:\n",
      "\t [Node] Setting-up \"metaflow.preproc05.slicetimer\" in \"/home/neuro/workshop_weizmann/workshop/nipype/notebooks/metaflow/preproc05/slicetimer\".\n",
      "211017-18:15:14,445 nipype.workflow INFO:\n",
      "\t [Node] Setting-up \"metaflow.preproc04.slicetimer\" in \"/home/neuro/workshop_weizmann/workshop/nipype/notebooks/metaflow/preproc04/slicetimer\".\n",
      "211017-18:15:14,478 nipype.workflow INFO:\n",
      "\t [Node] Running \"slicetimer\" (\"nipype.interfaces.fsl.preprocess.SliceTimer\"), a CommandLine Interface with command:\n",
      "slicetimer --in=/data/ds000114/sub-01/ses-test/func/sub-01_ses-test_task-fingerfootlips_bold.nii.gz --odd --out=/home/neuro/workshop_weizmann/workshop/nipype/notebooks/metaflow/preproc02/slicetimer/sub-01_ses-test_task-fingerfootlips_bold_st.nii.gz --repeat=2.500000\n",
      "211017-18:15:14,480 nipype.workflow INFO:\n",
      "\t [Node] Running \"slicetimer\" (\"nipype.interfaces.fsl.preprocess.SliceTimer\"), a CommandLine Interface with command:\n",
      "slicetimer --in=/data/ds000114/sub-01/ses-test/func/sub-01_ses-test_task-fingerfootlips_bold.nii.gz --odd --out=/home/neuro/workshop_weizmann/workshop/nipype/notebooks/metaflow/preproc01/slicetimer/sub-01_ses-test_task-fingerfootlips_bold_st.nii.gz --repeat=2.500000\n",
      "211017-18:15:14,491 nipype.workflow INFO:\n",
      "\t [Node] Running \"slicetimer\" (\"nipype.interfaces.fsl.preprocess.SliceTimer\"), a CommandLine Interface with command:\n",
      "slicetimer --in=/data/ds000114/sub-01/ses-test/func/sub-01_ses-test_task-fingerfootlips_bold.nii.gz --odd --out=/home/neuro/workshop_weizmann/workshop/nipype/notebooks/metaflow/preproc05/slicetimer/sub-01_ses-test_task-fingerfootlips_bold_st.nii.gz --repeat=2.500000\n",
      "211017-18:15:14,502 nipype.workflow INFO:\n",
      "\t [Node] Running \"slicetimer\" (\"nipype.interfaces.fsl.preprocess.SliceTimer\"), a CommandLine Interface with command:\n",
      "slicetimer --in=/data/ds000114/sub-01/ses-test/func/sub-01_ses-test_task-fingerfootlips_bold.nii.gz --odd --out=/home/neuro/workshop_weizmann/workshop/nipype/notebooks/metaflow/preproc04/slicetimer/sub-01_ses-test_task-fingerfootlips_bold_st.nii.gz --repeat=2.500000\n",
      "211017-18:15:14,523 nipype.workflow INFO:\n",
      "\t [Node] Running \"slicetimer\" (\"nipype.interfaces.fsl.preprocess.SliceTimer\"), a CommandLine Interface with command:\n",
      "slicetimer --in=/data/ds000114/sub-01/ses-test/func/sub-01_ses-test_task-fingerfootlips_bold.nii.gz --odd --out=/home/neuro/workshop_weizmann/workshop/nipype/notebooks/metaflow/preproc03/slicetimer/sub-01_ses-test_task-fingerfootlips_bold_st.nii.gz --repeat=2.500000\n",
      "211017-18:15:16,394 nipype.workflow INFO:\n",
      "\t [MultiProc] Running 5 tasks, and 0 jobs ready. Free memory (GB): 0.75/1.75, Free processors: 0/5.\n",
      "                     Currently running:\n",
      "                       * metaflow.preproc05.slicetimer\n",
      "                       * metaflow.preproc04.slicetimer\n",
      "                       * metaflow.preproc03.slicetimer\n",
      "                       * metaflow.preproc02.slicetimer\n",
      "                       * metaflow.preproc01.slicetimer\n",
      "211017-18:15:40,622 nipype.workflow INFO:\n",
      "\t [Node] Finished \"metaflow.preproc05.slicetimer\".\n",
      "211017-18:15:40,783 nipype.workflow INFO:\n",
      "\t [Node] Finished \"metaflow.preproc02.slicetimer\".\n",
      "211017-18:15:41,4 nipype.workflow INFO:\n",
      "\t [Node] Finished \"metaflow.preproc03.slicetimer\".\n",
      "211017-18:15:41,69 nipype.workflow INFO:\n",
      "\t [Node] Finished \"metaflow.preproc04.slicetimer\".\n",
      "211017-18:15:41,86 nipype.workflow INFO:\n",
      "\t [Node] Finished \"metaflow.preproc01.slicetimer\".\n",
      "211017-18:15:42,372 nipype.workflow INFO:\n",
      "\t [Job 0] Completed (metaflow.preproc01.slicetimer).\n",
      "211017-18:15:42,376 nipype.workflow INFO:\n",
      "\t [Job 3] Completed (metaflow.preproc02.slicetimer).\n",
      "211017-18:15:42,379 nipype.workflow INFO:\n",
      "\t [Job 6] Completed (metaflow.preproc03.slicetimer).\n",
      "211017-18:15:42,380 nipype.workflow INFO:\n",
      "\t [Job 9] Completed (metaflow.preproc04.slicetimer).\n",
      "211017-18:15:42,384 nipype.workflow INFO:\n",
      "\t [Job 12] Completed (metaflow.preproc05.slicetimer).\n",
      "211017-18:15:42,388 nipype.workflow INFO:\n",
      "\t [MultiProc] Running 0 tasks, and 5 jobs ready. Free memory (GB): 1.75/1.75, Free processors: 5/5.\n",
      "211017-18:15:42,437 nipype.workflow INFO:\n",
      "\t [Node] Setting-up \"metaflow.preproc01.mcflirt\" in \"/home/neuro/workshop_weizmann/workshop/nipype/notebooks/metaflow/preproc01/mcflirt\".\n",
      "211017-18:15:42,438 nipype.workflow INFO:\n",
      "\t [Node] Setting-up \"metaflow.preproc02.mcflirt\" in \"/home/neuro/workshop_weizmann/workshop/nipype/notebooks/metaflow/preproc02/mcflirt\".\n",
      "211017-18:15:42,440 nipype.workflow INFO:\n",
      "\t [Node] Setting-up \"metaflow.preproc03.mcflirt\" in \"/home/neuro/workshop_weizmann/workshop/nipype/notebooks/metaflow/preproc03/mcflirt\".\n",
      "211017-18:15:42,442 nipype.workflow INFO:\n",
      "\t [Node] Setting-up \"metaflow.preproc04.mcflirt\" in \"/home/neuro/workshop_weizmann/workshop/nipype/notebooks/metaflow/preproc04/mcflirt\".\n",
      "211017-18:15:42,452 nipype.workflow INFO:\n",
      "\t [Node] Setting-up \"metaflow.preproc05.mcflirt\" in \"/home/neuro/workshop_weizmann/workshop/nipype/notebooks/metaflow/preproc05/mcflirt\".\n",
      "211017-18:15:42,515 nipype.workflow INFO:\n",
      "\t [Node] Running \"mcflirt\" (\"nipype.interfaces.fsl.preprocess.MCFLIRT\"), a CommandLine Interface with command:\n",
      "mcflirt -in /home/neuro/workshop_weizmann/workshop/nipype/notebooks/metaflow/preproc01/slicetimer/sub-01_ses-test_task-fingerfootlips_bold_st.nii.gz -meanvol -out /home/neuro/workshop_weizmann/workshop/nipype/notebooks/metaflow/preproc01/mcflirt/sub-01_ses-test_task-fingerfootlips_bold_st_mcf.nii.gz -plots\n",
      "211017-18:15:42,529 nipype.workflow INFO:\n",
      "\t [Node] Running \"mcflirt\" (\"nipype.interfaces.fsl.preprocess.MCFLIRT\"), a CommandLine Interface with command:\n",
      "mcflirt -in /home/neuro/workshop_weizmann/workshop/nipype/notebooks/metaflow/preproc03/slicetimer/sub-01_ses-test_task-fingerfootlips_bold_st.nii.gz -meanvol -out /home/neuro/workshop_weizmann/workshop/nipype/notebooks/metaflow/preproc03/mcflirt/sub-01_ses-test_task-fingerfootlips_bold_st_mcf.nii.gz -plots\n",
      "211017-18:15:42,530 nipype.workflow INFO:\n",
      "\t [Node] Running \"mcflirt\" (\"nipype.interfaces.fsl.preprocess.MCFLIRT\"), a CommandLine Interface with command:\n",
      "mcflirt -in /home/neuro/workshop_weizmann/workshop/nipype/notebooks/metaflow/preproc04/slicetimer/sub-01_ses-test_task-fingerfootlips_bold_st.nii.gz -meanvol -out /home/neuro/workshop_weizmann/workshop/nipype/notebooks/metaflow/preproc04/mcflirt/sub-01_ses-test_task-fingerfootlips_bold_st_mcf.nii.gz -plots\n",
      "211017-18:15:42,531 nipype.workflow INFO:\n",
      "\t [Node] Running \"mcflirt\" (\"nipype.interfaces.fsl.preprocess.MCFLIRT\"), a CommandLine Interface with command:\n",
      "mcflirt -in /home/neuro/workshop_weizmann/workshop/nipype/notebooks/metaflow/preproc02/slicetimer/sub-01_ses-test_task-fingerfootlips_bold_st.nii.gz -meanvol -out /home/neuro/workshop_weizmann/workshop/nipype/notebooks/metaflow/preproc02/mcflirt/sub-01_ses-test_task-fingerfootlips_bold_st_mcf.nii.gz -plots\n",
      "211017-18:15:42,535 nipype.workflow INFO:\n",
      "\t [Node] Running \"mcflirt\" (\"nipype.interfaces.fsl.preprocess.MCFLIRT\"), a CommandLine Interface with command:\n",
      "mcflirt -in /home/neuro/workshop_weizmann/workshop/nipype/notebooks/metaflow/preproc05/slicetimer/sub-01_ses-test_task-fingerfootlips_bold_st.nii.gz -meanvol -out /home/neuro/workshop_weizmann/workshop/nipype/notebooks/metaflow/preproc05/mcflirt/sub-01_ses-test_task-fingerfootlips_bold_st_mcf.nii.gz -plots\n",
      "211017-18:15:44,899 nipype.workflow INFO:\n",
      "\t [MultiProc] Running 5 tasks, and 0 jobs ready. Free memory (GB): 0.75/1.75, Free processors: 0/5.\n",
      "                     Currently running:\n",
      "                       * metaflow.preproc05.mcflirt\n",
      "                       * metaflow.preproc04.mcflirt\n",
      "                       * metaflow.preproc03.mcflirt\n",
      "                       * metaflow.preproc02.mcflirt\n",
      "                       * metaflow.preproc01.mcflirt\n"
     ]
    },
    {
     "name": "stdout",
     "output_type": "stream",
     "text": [
      "211017-18:18:17,924 nipype.workflow INFO:\n",
      "\t [Node] Finished \"metaflow.preproc01.mcflirt\".\n",
      "211017-18:18:18,421 nipype.workflow INFO:\n",
      "\t [Job 1] Completed (metaflow.preproc01.mcflirt).\n",
      "211017-18:18:18,430 nipype.workflow INFO:\n",
      "\t [MultiProc] Running 4 tasks, and 1 jobs ready. Free memory (GB): 0.95/1.75, Free processors: 1/5.\n",
      "                     Currently running:\n",
      "                       * metaflow.preproc05.mcflirt\n",
      "                       * metaflow.preproc04.mcflirt\n",
      "                       * metaflow.preproc03.mcflirt\n",
      "                       * metaflow.preproc02.mcflirt\n",
      "211017-18:18:18,529 nipype.workflow INFO:\n",
      "\t [Node] Setting-up \"metaflow.preproc01.smooth\" in \"/home/neuro/workshop_weizmann/workshop/nipype/notebooks/metaflow/preproc01/smooth\".\n",
      "211017-18:18:18,617 nipype.workflow INFO:\n",
      "\t [Node] Running \"smooth\" (\"nipype.interfaces.fsl.utils.Smooth\"), a CommandLine Interface with command:\n",
      "fslmaths /home/neuro/workshop_weizmann/workshop/nipype/notebooks/metaflow/preproc01/mcflirt/sub-01_ses-test_task-fingerfootlips_bold_st_mcf.nii.gz -kernel gauss 0.849 -fmean sub-01_ses-test_task-fingerfootlips_bold_st_mcf_smooth.nii.gz\n",
      "211017-18:18:20,425 nipype.workflow INFO:\n",
      "\t [MultiProc] Running 5 tasks, and 0 jobs ready. Free memory (GB): 0.75/1.75, Free processors: 0/5.\n",
      "                     Currently running:\n",
      "                       * metaflow.preproc01.smooth\n",
      "                       * metaflow.preproc05.mcflirt\n",
      "                       * metaflow.preproc04.mcflirt\n",
      "                       * metaflow.preproc03.mcflirt\n",
      "                       * metaflow.preproc02.mcflirt\n",
      "211017-18:18:22,605 nipype.workflow INFO:\n",
      "\t [Node] Finished \"metaflow.preproc05.mcflirt\".\n",
      "211017-18:18:22,940 nipype.workflow INFO:\n",
      "\t [Node] Finished \"metaflow.preproc03.mcflirt\".\n",
      "211017-18:18:23,5 nipype.workflow INFO:\n",
      "\t [Node] Finished \"metaflow.preproc02.mcflirt\".\n",
      "211017-18:18:23,686 nipype.workflow INFO:\n",
      "\t [Node] Finished \"metaflow.preproc04.mcflirt\".\n",
      "211017-18:18:24,426 nipype.workflow INFO:\n",
      "\t [Job 4] Completed (metaflow.preproc02.mcflirt).\n",
      "211017-18:18:24,429 nipype.workflow INFO:\n",
      "\t [Job 7] Completed (metaflow.preproc03.mcflirt).\n",
      "211017-18:18:24,431 nipype.workflow INFO:\n",
      "\t [Job 10] Completed (metaflow.preproc04.mcflirt).\n",
      "211017-18:18:24,436 nipype.workflow INFO:\n",
      "\t [Job 13] Completed (metaflow.preproc05.mcflirt).\n",
      "211017-18:18:24,442 nipype.workflow INFO:\n",
      "\t [MultiProc] Running 1 tasks, and 4 jobs ready. Free memory (GB): 1.55/1.75, Free processors: 4/5.\n",
      "                     Currently running:\n",
      "                       * metaflow.preproc01.smooth\n",
      "211017-18:18:24,498 nipype.workflow INFO:\n",
      "\t [Node] Setting-up \"metaflow.preproc02.smooth\" in \"/home/neuro/workshop_weizmann/workshop/nipype/notebooks/metaflow/preproc02/smooth\".\n",
      "211017-18:18:24,500 nipype.workflow INFO:\n",
      "\t [Node] Setting-up \"metaflow.preproc03.smooth\" in \"/home/neuro/workshop_weizmann/workshop/nipype/notebooks/metaflow/preproc03/smooth\".\n",
      "211017-18:18:24,512 nipype.workflow INFO:\n",
      "\t [Node] Setting-up \"metaflow.preproc05.smooth\" in \"/home/neuro/workshop_weizmann/workshop/nipype/notebooks/metaflow/preproc05/smooth\".\n",
      "211017-18:18:24,506 nipype.workflow INFO:\n",
      "\t [Node] Setting-up \"metaflow.preproc04.smooth\" in \"/home/neuro/workshop_weizmann/workshop/nipype/notebooks/metaflow/preproc04/smooth\".\n",
      "211017-18:18:24,605 nipype.workflow INFO:\n",
      "\t [Node] Running \"smooth\" (\"nipype.interfaces.fsl.utils.Smooth\"), a CommandLine Interface with command:\n",
      "fslmaths /home/neuro/workshop_weizmann/workshop/nipype/notebooks/metaflow/preproc03/mcflirt/sub-01_ses-test_task-fingerfootlips_bold_st_mcf.nii.gz -kernel gauss 0.849 -fmean sub-01_ses-test_task-fingerfootlips_bold_st_mcf_smooth.nii.gz\n",
      "211017-18:18:24,623 nipype.workflow INFO:\n",
      "\t [Node] Running \"smooth\" (\"nipype.interfaces.fsl.utils.Smooth\"), a CommandLine Interface with command:\n",
      "fslmaths /home/neuro/workshop_weizmann/workshop/nipype/notebooks/metaflow/preproc02/mcflirt/sub-01_ses-test_task-fingerfootlips_bold_st_mcf.nii.gz -kernel gauss 0.849 -fmean sub-01_ses-test_task-fingerfootlips_bold_st_mcf_smooth.nii.gz\n",
      "211017-18:18:24,669 nipype.workflow INFO:\n",
      "\t [Node] Running \"smooth\" (\"nipype.interfaces.fsl.utils.Smooth\"), a CommandLine Interface with command:\n",
      "fslmaths /home/neuro/workshop_weizmann/workshop/nipype/notebooks/metaflow/preproc05/mcflirt/sub-01_ses-test_task-fingerfootlips_bold_st_mcf.nii.gz -kernel gauss 0.849 -fmean sub-01_ses-test_task-fingerfootlips_bold_st_mcf_smooth.nii.gz\n",
      "211017-18:18:24,731 nipype.workflow INFO:\n",
      "\t [Node] Running \"smooth\" (\"nipype.interfaces.fsl.utils.Smooth\"), a CommandLine Interface with command:\n",
      "fslmaths /home/neuro/workshop_weizmann/workshop/nipype/notebooks/metaflow/preproc04/mcflirt/sub-01_ses-test_task-fingerfootlips_bold_st_mcf.nii.gz -kernel gauss 0.849 -fmean sub-01_ses-test_task-fingerfootlips_bold_st_mcf_smooth.nii.gz\n",
      "211017-18:18:26,434 nipype.workflow INFO:\n",
      "\t [MultiProc] Running 5 tasks, and 0 jobs ready. Free memory (GB): 0.75/1.75, Free processors: 0/5.\n",
      "                     Currently running:\n",
      "                       * metaflow.preproc05.smooth\n",
      "                       * metaflow.preproc04.smooth\n",
      "                       * metaflow.preproc03.smooth\n",
      "                       * metaflow.preproc02.smooth\n",
      "                       * metaflow.preproc01.smooth\n",
      "211017-18:18:38,871 nipype.workflow INFO:\n",
      "\t [Node] Finished \"metaflow.preproc01.smooth\".\n",
      "211017-18:18:40,516 nipype.workflow INFO:\n",
      "\t [Job 2] Completed (metaflow.preproc01.smooth).\n",
      "211017-18:18:40,522 nipype.workflow INFO:\n",
      "\t [MultiProc] Running 4 tasks, and 0 jobs ready. Free memory (GB): 0.95/1.75, Free processors: 1/5.\n",
      "                     Currently running:\n",
      "                       * metaflow.preproc05.smooth\n",
      "                       * metaflow.preproc04.smooth\n",
      "                       * metaflow.preproc03.smooth\n",
      "                       * metaflow.preproc02.smooth\n",
      "211017-18:18:44,929 nipype.workflow INFO:\n",
      "\t [Node] Finished \"metaflow.preproc04.smooth\".\n",
      "211017-18:18:45,98 nipype.workflow INFO:\n",
      "\t [Node] Finished \"metaflow.preproc03.smooth\".\n",
      "211017-18:18:45,350 nipype.workflow INFO:\n",
      "\t [Node] Finished \"metaflow.preproc02.smooth\".\n",
      "211017-18:18:45,405 nipype.workflow INFO:\n",
      "\t [Node] Finished \"metaflow.preproc05.smooth\".\n",
      "211017-18:18:46,522 nipype.workflow INFO:\n",
      "\t [Job 5] Completed (metaflow.preproc02.smooth).\n",
      "211017-18:18:46,525 nipype.workflow INFO:\n",
      "\t [Job 8] Completed (metaflow.preproc03.smooth).\n",
      "211017-18:18:46,527 nipype.workflow INFO:\n",
      "\t [Job 11] Completed (metaflow.preproc04.smooth).\n",
      "211017-18:18:46,531 nipype.workflow INFO:\n",
      "\t [Job 14] Completed (metaflow.preproc05.smooth).\n",
      "211017-18:18:46,536 nipype.workflow INFO:\n",
      "\t [MultiProc] Running 0 tasks, and 0 jobs ready. Free memory (GB): 1.75/1.75, Free processors: 5/5.\n",
      "CPU times: user 792 ms, sys: 611 ms, total: 1.4 s\n",
      "Wall time: 3min 34s\n"
     ]
    },
    {
     "data": {
      "text/plain": [
       "<networkx.classes.digraph.DiGraph at 0x7f09b12c0a90>"
      ]
     },
     "execution_count": 20,
     "metadata": {},
     "output_type": "execute_result"
    }
   ],
   "source": [
    "%time metaflow.run('MultiProc', plugin_args={'n_procs': 5})"
   ]
  },
  {
   "cell_type": "markdown",
   "metadata": {},
   "source": [
    "This time we can see that Nipype uses all available processors.\n",
    "\n",
    "And if all went well, the total execution time should still be around ~2min.\n",
    "\n",
    "That's why Nipype is so amazing. The days of opening multiple SPMs, FSLs, AFNIs etc. are past!"
   ]
  },
  {
   "cell_type": "markdown",
   "metadata": {},
   "source": [
    "# Results of `metaflow`"
   ]
  },
  {
   "cell_type": "code",
   "execution_count": 21,
   "metadata": {},
   "outputs": [
    {
     "name": "stdout",
     "output_type": "stream",
     "text": [
      "metaflow\n",
      "├── graph_detailed.png\n",
      "├── graph.png\n",
      "├── preproc01\n",
      "│   ├── mcflirt\n",
      "│   │   ├── command.txt\n",
      "│   │   └── sub-01_ses-test_task-fingerfootlips_bold_st_mcf.nii.gz\n",
      "│   ├── slicetimer\n",
      "│   │   ├── command.txt\n",
      "│   │   └── sub-01_ses-test_task-fingerfootlips_bold_st.nii.gz\n",
      "│   └── smooth\n",
      "│       ├── command.txt\n",
      "│       └── sub-01_ses-test_task-fingerfootlips_bold_st_mcf_smooth.nii.gz\n",
      "├── preproc02\n",
      "│   ├── mcflirt\n",
      "│   │   ├── command.txt\n",
      "│   │   └── sub-01_ses-test_task-fingerfootlips_bold_st_mcf.nii.gz\n",
      "│   ├── slicetimer\n",
      "│   │   ├── command.txt\n",
      "│   │   └── sub-01_ses-test_task-fingerfootlips_bold_st.nii.gz\n",
      "│   └── smooth\n",
      "│       ├── command.txt\n",
      "│       └── sub-01_ses-test_task-fingerfootlips_bold_st_mcf_smooth.nii.gz\n",
      "├── preproc03\n",
      "│   ├── mcflirt\n",
      "│   │   ├── command.txt\n",
      "│   │   └── sub-01_ses-test_task-fingerfootlips_bold_st_mcf.nii.gz\n",
      "│   ├── slicetimer\n",
      "│   │   ├── command.txt\n",
      "│   │   └── sub-01_ses-test_task-fingerfootlips_bold_st.nii.gz\n",
      "│   └── smooth\n",
      "│       ├── command.txt\n",
      "│       └── sub-01_ses-test_task-fingerfootlips_bold_st_mcf_smooth.nii.gz\n",
      "├── preproc04\n",
      "│   ├── mcflirt\n",
      "│   │   ├── command.txt\n",
      "│   │   └── sub-01_ses-test_task-fingerfootlips_bold_st_mcf.nii.gz\n",
      "│   ├── slicetimer\n",
      "│   │   ├── command.txt\n",
      "│   │   └── sub-01_ses-test_task-fingerfootlips_bold_st.nii.gz\n",
      "│   └── smooth\n",
      "│       ├── command.txt\n",
      "│       └── sub-01_ses-test_task-fingerfootlips_bold_st_mcf_smooth.nii.gz\n",
      "└── preproc05\n",
      "    ├── mcflirt\n",
      "    │   ├── command.txt\n",
      "    │   └── sub-01_ses-test_task-fingerfootlips_bold_st_mcf.nii.gz\n",
      "    ├── slicetimer\n",
      "    │   ├── command.txt\n",
      "    │   └── sub-01_ses-test_task-fingerfootlips_bold_st.nii.gz\n",
      "    └── smooth\n",
      "        ├── command.txt\n",
      "        └── sub-01_ses-test_task-fingerfootlips_bold_st_mcf_smooth.nii.gz\n",
      "\n",
      "20 directories, 32 files\n"
     ]
    }
   ],
   "source": [
    "!tree metaflow -I '*js|*json|*pklz|_report|*.dot|*html'"
   ]
  }
 ],
 "metadata": {
  "kernelspec": {
   "display_name": "Python 3",
   "language": "python",
   "name": "python3"
  },
  "language_info": {
   "codemirror_mode": {
    "name": "ipython",
    "version": 3
   },
   "file_extension": ".py",
   "mimetype": "text/x-python",
   "name": "python",
   "nbconvert_exporter": "python",
   "pygments_lexer": "ipython3",
   "version": "3.7.8"
  }
 },
 "nbformat": 4,
 "nbformat_minor": 2
}
