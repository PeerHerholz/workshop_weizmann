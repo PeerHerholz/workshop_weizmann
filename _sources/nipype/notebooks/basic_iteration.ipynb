{
 "cells": [
  {
   "cell_type": "markdown",
   "metadata": {},
   "source": [
    "# Iterables\n",
    "\n",
    "Some steps in a neuroimaging analysis are repetitive. Running the same preprocessing on multiple subjects or doing statistical inference on multiple files. To prevent the creation of multiple individual scripts, Nipype has as execution plugin for ``Workflow``, called **``iterables``**. \n",
    "\n",
    "<img src=\"../static/images/iterables.png\"  width=\"240\">\n",
    "\n",
    "If you are interested in more advanced procedures, such as synchronizing multiple iterables or using conditional iterables, check out the `synchronize `and `intersource` section in the [`JoinNode`](basic_joinnodes.ipynb) notebook."
   ]
  },
  {
   "cell_type": "markdown",
   "metadata": {},
   "source": [
    "## Realistic example\n",
    "\n",
    "Let's assume we have a workflow with two nodes, node (A) does simple skull stripping, and is followed by a node (B) that does isometric smoothing. Now, let's say, that we are curious about the effect of different smoothing kernels. Therefore, we want to run the smoothing node with FWHM set to 2mm, 8mm, and 16mm."
   ]
  },
  {
   "cell_type": "code",
   "execution_count": null,
   "metadata": {},
   "outputs": [],
   "source": [
    "from nipype import Node, Workflow\n",
    "from nipype.interfaces.fsl import BET, IsotropicSmooth\n",
    "\n",
    "# Initiate a skull stripping Node with BET\n",
    "skullstrip = Node(BET(mask=True,\n",
    "                      in_file='/data/ds000114/sub-01/ses-test/anat/sub-01_ses-test_T1w.nii.gz'),\n",
    "                  name=\"skullstrip\")"
   ]
  },
  {
   "cell_type": "markdown",
   "metadata": {},
   "source": [
    "Create a smoothing Node with IsotropicSmooth"
   ]
  },
  {
   "cell_type": "code",
   "execution_count": null,
   "metadata": {},
   "outputs": [],
   "source": [
    "isosmooth = Node(IsotropicSmooth(), name='iso_smooth')"
   ]
  },
  {
   "cell_type": "markdown",
   "metadata": {},
   "source": [
    "Now, to use ``iterables`` and therefore smooth with different ``fwhm`` is as simple as that:"
   ]
  },
  {
   "cell_type": "code",
   "execution_count": null,
   "metadata": {},
   "outputs": [],
   "source": [
    "isosmooth.iterables = (\"fwhm\", [4, 8, 16])"
   ]
  },
  {
   "cell_type": "markdown",
   "metadata": {},
   "source": [
    "And to wrap it up. We need to create a workflow, connect the nodes and finally, can run the workflow in parallel."
   ]
  },
  {
   "cell_type": "code",
   "execution_count": null,
   "metadata": {},
   "outputs": [],
   "source": [
    "# Create the workflow\n",
    "wf = Workflow(name=\"smoothflow\")\n",
    "wf.base_dir = \"/output\"\n",
    "wf.connect(skullstrip, 'out_file', isosmooth, 'in_file')\n",
    "\n",
    "# Run it in parallel (one core for each smoothing kernel)\n",
    "wf.run('MultiProc', plugin_args={'n_procs': 3})"
   ]
  },
  {
   "cell_type": "markdown",
   "metadata": {},
   "source": [
    "**Note**, that ``iterables`` is set on a specific node (``isosmooth`` in this case), but ``Workflow`` is needed to expend the graph to three subgraphs with three different versions of the ``isosmooth`` node.\n",
    "\n",
    "If we visualize the graph with ``exec``, we can see where the parallelization actually takes place."
   ]
  },
  {
   "cell_type": "code",
   "execution_count": null,
   "metadata": {},
   "outputs": [],
   "source": [
    "# Visualize the detailed graph\n",
    "from IPython.display import Image\n",
    "wf.write_graph(graph2use='exec', format='png', simple_form=True)\n",
    "Image(filename='/output/smoothflow/graph_detailed.png')"
   ]
  },
  {
   "cell_type": "markdown",
   "metadata": {},
   "source": [
    "If you look at the structure in the workflow directory, you can also see, that for each smoothing, a specific folder was created, i.e. ``_fwhm_16``."
   ]
  },
  {
   "cell_type": "code",
   "execution_count": null,
   "metadata": {},
   "outputs": [],
   "source": [
    "!tree /output/smoothflow -I '*txt|*pklz|report*|*.json|*js|*.dot|*.html'"
   ]
  },
  {
   "cell_type": "markdown",
   "metadata": {},
   "source": [
    "Now, let's visualize the results!"
   ]
  },
  {
   "cell_type": "code",
   "execution_count": null,
   "metadata": {},
   "outputs": [],
   "source": [
    "from nilearn import plotting\n",
    "%matplotlib inline"
   ]
  },
  {
   "cell_type": "code",
   "execution_count": null,
   "metadata": {},
   "outputs": [],
   "source": [
    "plotting.plot_anat(\n",
    "    '/data/ds000114/sub-01/ses-test/anat/sub-01_ses-test_T1w.nii.gz', title='original',\n",
    "    display_mode='z', dim=-1, cut_coords=(-50, -35, -20, -5), annotate=False);"
   ]
  },
  {
   "cell_type": "code",
   "execution_count": null,
   "metadata": {},
   "outputs": [],
   "source": [
    "plotting.plot_anat(\n",
    "    '/output/smoothflow/skullstrip/sub-01_ses-test_T1w_brain.nii.gz', title='skullstripped',\n",
    "    display_mode='z', dim=-1, cut_coords=(-50, -35, -20, -5), annotate=False);"
   ]
  },
  {
   "cell_type": "code",
   "execution_count": null,
   "metadata": {},
   "outputs": [],
   "source": [
    "plotting.plot_anat(\n",
    "    '/output/smoothflow/_fwhm_4/iso_smooth/sub-01_ses-test_T1w_brain_smooth.nii.gz', title='FWHM=4',\n",
    "    display_mode='z', dim=-0.5, cut_coords=(-50, -35, -20, -5), annotate=False);"
   ]
  },
  {
   "cell_type": "code",
   "execution_count": null,
   "metadata": {},
   "outputs": [],
   "source": [
    "plotting.plot_anat(\n",
    "    '/output/smoothflow/_fwhm_8/iso_smooth/sub-01_ses-test_T1w_brain_smooth.nii.gz', title='FWHM=8',\n",
    "    display_mode='z', dim=-0.5, cut_coords=(-50, -35, -20, -5), annotate=False);"
   ]
  },
  {
   "cell_type": "code",
   "execution_count": null,
   "metadata": {},
   "outputs": [],
   "source": [
    "plotting.plot_anat(\n",
    "    '/output/smoothflow/_fwhm_16/iso_smooth/sub-01_ses-test_T1w_brain_smooth.nii.gz', title='FWHM=16',\n",
    "    display_mode='z', dim=-0.5, cut_coords=(-50, -35, -20, -5), annotate=False);"
   ]
  },
  {
   "cell_type": "markdown",
   "metadata": {},
   "source": [
    "# ``IdentityInterface`` (special use case of ``iterables``)\n",
    "\n",
    "We often want to start our worflow from creating subgraphs, e.g. for running preprocessing for all subjects. We can easily do it with setting ``iterables`` on the ``IdentityInterface``. The ``IdentityInterface`` interface allows you to create ``Nodes`` that does simple identity mapping, i.e. ``Nodes`` that only work on parameters/strings.\n",
    "\n",
    "\n",
    "For example, you want to start your workflow by collecting anatomical files for 5 subjects."
   ]
  },
  {
   "cell_type": "code",
   "execution_count": null,
   "metadata": {},
   "outputs": [],
   "source": [
    "# First, let's specify the list of subjects\n",
    "subject_list = ['01', '02', '03', '07']"
   ]
  },
  {
   "cell_type": "markdown",
   "metadata": {},
   "source": [
    "Now, we can create the IdentityInterface Node"
   ]
  },
  {
   "cell_type": "code",
   "execution_count": null,
   "metadata": {},
   "outputs": [],
   "source": [
    "from nipype import IdentityInterface\n",
    "infosource = Node(IdentityInterface(fields=['subject_id']),\n",
    "                  name=\"infosource\")\n",
    "infosource.iterables = [('subject_id', subject_list)]"
   ]
  },
  {
   "cell_type": "markdown",
   "metadata": {},
   "source": [
    "That's it. Now, we can connect the output fields of this ``infosource`` node to ``SelectFiles`` and ``DataSink`` nodes."
   ]
  },
  {
   "cell_type": "code",
   "execution_count": null,
   "metadata": {},
   "outputs": [],
   "source": [
    "from os.path import join as opj\n",
    "from nipype.interfaces.io import SelectFiles, DataSink\n",
    "\n",
    "anat_file = opj('sub-{subject_id}', 'ses-test', 'anat', 'sub-{subject_id}_ses-test_T1w.nii.gz')\n",
    "\n",
    "templates = {'anat': anat_file}\n",
    "\n",
    "selectfiles = Node(SelectFiles(templates,\n",
    "                               base_directory='/data/ds000114'),\n",
    "                   name=\"selectfiles\")\n",
    "\n",
    "# Datasink - creates output folder for important outputs\n",
    "datasink = Node(DataSink(base_directory=\"/output\",\n",
    "                         container=\"datasink\"),\n",
    "                name=\"datasink\")\n",
    "\n",
    "wf_sub = Workflow(name=\"choosing_subjects\")\n",
    "wf_sub.connect(infosource, \"subject_id\", selectfiles, \"subject_id\")\n",
    "wf_sub.connect(selectfiles, \"anat\", datasink, \"anat_files\")\n",
    "wf_sub.run()"
   ]
  },
  {
   "cell_type": "markdown",
   "metadata": {},
   "source": [
    "Now we can check that five anatomicl images are in ``anat_files`` directory:"
   ]
  },
  {
   "cell_type": "code",
   "execution_count": null,
   "metadata": {},
   "outputs": [],
   "source": [
    "! ls -lh /output/datasink/anat_files/"
   ]
  },
  {
   "cell_type": "markdown",
   "metadata": {},
   "source": [
    "This was just a simple example of using ``IdentityInterface``, but a complete example of preprocessing workflow you can find in [Preprocessing Example](example_preprocessing.ipynb))."
   ]
  },
  {
   "cell_type": "markdown",
   "metadata": {},
   "source": [
    "## Exercise 1\n",
    "Create a workflow to calculate various powers of ``2`` using  two nodes, one for ``IdentityInterface`` with ``iterables``, and one for ``Function`` interface to calculate the power of ``2``."
   ]
  },
  {
   "cell_type": "code",
   "execution_count": null,
   "metadata": {
    "solution2": "hidden",
    "solution2_first": true
   },
   "outputs": [],
   "source": [
    "# write your solution here"
   ]
  },
  {
   "cell_type": "code",
   "execution_count": null,
   "metadata": {
    "solution2": "hidden"
   },
   "outputs": [],
   "source": [
    "# lets start from the Identity node\n",
    "from nipype import Function, Node, Workflow\n",
    "from nipype.interfaces.utility import IdentityInterface\n",
    "\n",
    "iden = Node(IdentityInterface(fields=['number']), name=\"identity\")\n",
    "iden.iterables = [(\"number\", range(8))]"
   ]
  },
  {
   "cell_type": "code",
   "execution_count": null,
   "metadata": {
    "solution2": "hidden"
   },
   "outputs": [],
   "source": [
    "# the second node should use the Function interface\n",
    "def power_of_two(n):\n",
    "    return 2**n\n",
    "\n",
    "# Create Node\n",
    "power = Node(Function(input_names=[\"n\"],\n",
    "                      output_names=[\"pow\"],\n",
    "                      function=power_of_two),\n",
    "              name='power')"
   ]
  },
  {
   "cell_type": "code",
   "execution_count": null,
   "metadata": {
    "solution2": "hidden"
   },
   "outputs": [],
   "source": [
    "#and now the workflow\n",
    "wf_ex1 = Workflow(name=\"exercise1\")\n",
    "wf_ex1.connect(iden, \"number\", power, \"n\")\n",
    "res_ex1 = wf_ex1.run()\n",
    "\n",
    "# we can print the results\n",
    "for i in range(8):\n",
    "    print(list(res_ex1.nodes())[i].result.outputs)"
   ]
  }
 ],
 "metadata": {
  "anaconda-cloud": {},
  "kernelspec": {
   "display_name": "Python 3",
   "language": "python",
   "name": "python3"
  },
  "language_info": {
   "codemirror_mode": {
    "name": "ipython",
    "version": 3
   },
   "file_extension": ".py",
   "mimetype": "text/x-python",
   "name": "python",
   "nbconvert_exporter": "python",
   "pygments_lexer": "ipython3",
   "version": "3.7.8"
  }
 },
 "nbformat": 4,
 "nbformat_minor": 2
}
