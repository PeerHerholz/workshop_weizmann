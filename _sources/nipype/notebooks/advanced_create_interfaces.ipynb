{
 "cells": [
  {
   "cell_type": "markdown",
   "metadata": {},
   "source": [
    "# Create interfaces\n",
    "\n",
    "This section is meant for the more advanced user. In it we will discuss how you can create your own interface, i.e. wrapping your own code, so that you can use it with Nipype.\n",
    "\n",
    "In this notebook we will show you:\n",
    "\n",
    "1. Example of an already implemented interface\n",
    "2. What are the main parts of a Nipype interface?\n",
    "3. How to wrap a CommandLine interface?\n",
    "4. How to wrap a Python interface?\n",
    "5. How to wrap a MATLAB interface?\n",
    "\n",
    "But before we can start, let's recap again the difference between interfaces and workflows."
   ]
  },
  {
   "cell_type": "markdown",
   "metadata": {},
   "source": [
    "## Interfaces vs. Workflows\n",
    "\n",
    "Interfaces are the building blocks that solve well-defined tasks. We solve more complex tasks by combining interfaces with workflows:\n",
    "\n",
    "<table style=\"width: 100%; font-size: 14px;\">\n",
    "  <thead>\n",
    "    <th style=\"text-align:left\">Interfaces</th>\n",
    "    <th style=\"text-align:left\">Workflows</th>\n",
    "  </thead>\n",
    "  <tbody>\n",
    "    <tr>\n",
    "      <td style=\"text-align:left\">Wrap *unitary* tasks</td>\n",
    "      <td style=\"text-align:left\">Wrap *meta*-tasks\n",
    "        <li style=\"text-align:left\">implemented with nipype interfaces wrapped inside ``Node`` objects</li>\n",
    "        <li style=\"text-align:left\">subworkflows can also be added to a workflow without any wrapping</li>\n",
    "      </td>\n",
    "    </tr>\n",
    "    <tr>\n",
    "      <td style=\"text-align:left\">Keep track of the inputs and outputs, and check their expected types</td>\n",
    "      <td style=\"text-align:left\">Do not have inputs/outputs, but expose them from the interfaces wrapped inside</td>\n",
    "    </tr>\n",
    "    <tr>\n",
    "      <td style=\"text-align:left\">Do not cache results (unless you use [interface caching](advanced_interfaces_caching.ipynb))</td>\n",
    "      <td style=\"text-align:left\">Cache results</td>\n",
    "    </tr>\n",
    "    <tr>\n",
    "      <td style=\"text-align:left\">Run by a nipype plugin</td>\n",
    "      <td style=\"text-align:left\">Run by a nipype plugin</td>\n",
    "    </tr>\n",
    "  </tbody>\n",
    "</table>"
   ]
  },
  {
   "cell_type": "markdown",
   "metadata": {},
   "source": [
    "# Example of an already implemented interface"
   ]
  },
  {
   "cell_type": "markdown",
   "metadata": {},
   "source": [
    "For this notebook, we'll work on the following T1-weighted dataset located in ``/data/ds000114/sub-01/ses-test/anat/sub-01_ses-test_T1w.nii.gz``:"
   ]
  },
  {
   "cell_type": "code",
   "execution_count": null,
   "metadata": {},
   "outputs": [],
   "source": [
    "from nilearn.plotting import plot_anat\n",
    "%matplotlib inline"
   ]
  },
  {
   "cell_type": "code",
   "execution_count": null,
   "metadata": {},
   "outputs": [],
   "source": [
    "plot_anat('/data/ds000114/sub-01/ses-test/anat/sub-01_ses-test_T1w.nii.gz', dim=-1);"
   ]
  },
  {
   "cell_type": "markdown",
   "metadata": {},
   "source": [
    "## Example of interface: FSL's `BET`\n",
    "\n",
    "Nipype offers a series of Python interfaces to various external packages (e.g. FSL, SPM or FreeSurfer) even if they themselves are written in programming languages other than python. Such interfaces know what sort of options their corresponding tool has and how to execute it.\n",
    "\n",
    "To illustrate why interfaces are so useful, let's have a look at the brain extraction algorithm [BET](http://fsl.fmrib.ox.ac.uk/fsl/fslwiki/BET) from FSL. Once in its original framework and once in the Nipype framework."
   ]
  },
  {
   "cell_type": "markdown",
   "metadata": {},
   "source": [
    "The tool can be run directly in a bash shell using the following command line:"
   ]
  },
  {
   "cell_type": "code",
   "execution_count": null,
   "metadata": {},
   "outputs": [],
   "source": [
    "%%bash\n",
    "bet /data/ds000114/sub-01/ses-test/anat/sub-01_ses-test_T1w.nii.gz \\\n",
    "    /data/ds000114/sub-01/ses-test/anat/sub-01_ses-test_T1w_bet.nii.gz"
   ]
  },
  {
   "cell_type": "markdown",
   "metadata": {},
   "source": [
    "... which yields the following:"
   ]
  },
  {
   "cell_type": "code",
   "execution_count": null,
   "metadata": {},
   "outputs": [],
   "source": [
    "plot_anat('/data/ds000114/sub-01/ses-test/anat/sub-01_ses-test_T1w_bet.nii.gz', dim=-1);"
   ]
  },
  {
   "cell_type": "markdown",
   "metadata": {},
   "source": [
    "Using nipype, the equivalent is a bit more verbose:\n",
    "  - line 1: The first line imports the interface\n",
    "  - line 2: Then, the interface is instantiated. We provide here the input file.\n",
    "  - line 3: Finally, we run the interface\n",
    "  - line 4: The output file name can be automatically handled by nipype, and we will use that feature here"
   ]
  },
  {
   "cell_type": "code",
   "execution_count": null,
   "metadata": {},
   "outputs": [],
   "source": [
    "from nipype.interfaces.fsl import BET\n",
    "skullstrip = BET(in_file='/data/ds000114/sub-01/ses-test/anat/sub-01_ses-test_T1w.nii.gz')\n",
    "res = skullstrip.run()\n",
    "print(res.outputs.out_file)"
   ]
  },
  {
   "cell_type": "markdown",
   "metadata": {},
   "source": [
    "Now we can verify that the result is exactly the same as before. Please note that, since we are using a Python environment, we use the result of the execution to point our ``plot_anat`` function to the output image of running BET:"
   ]
  },
  {
   "cell_type": "code",
   "execution_count": null,
   "metadata": {},
   "outputs": [],
   "source": [
    "plot_anat(res.outputs.out_file, dim=-1);"
   ]
  },
  {
   "cell_type": "markdown",
   "metadata": {},
   "source": [
    "# What are the main parts of a Nipype interface?\n",
    "\n",
    "Nipype is designed to ease writing interfaces for new software. Nipype interfaces are designed with three elements that are intuitive:\n",
    "  - A specification of inputs (or the ``InputSpec``)\n",
    "  - A specification of outputs (or the ``OutputSpec``)\n",
    "  - An interface *core* which implements the ``run()`` method we've seen before for BET, and which puts together inputs and outputs."
   ]
  },
  {
   "cell_type": "markdown",
   "metadata": {},
   "source": [
    "# The ``CommandLine`` interface\n",
    "\n",
    "## A quick example\n",
    "\n",
    "The easiest and quickest way to run any command line is the ``CommandLine`` interface, which has a very simple specification of inputs ready to use:"
   ]
  },
  {
   "cell_type": "code",
   "execution_count": null,
   "metadata": {},
   "outputs": [],
   "source": [
    "from nipype.interfaces.base import CommandLine\n",
    "CommandLine.help()"
   ]
  },
  {
   "cell_type": "markdown",
   "metadata": {},
   "source": [
    "As a quick example, let's wrap bash's ``ls`` with Nipype:"
   ]
  },
  {
   "cell_type": "code",
   "execution_count": null,
   "metadata": {},
   "outputs": [],
   "source": [
    "nipype_ls = CommandLine('ls', args='-lh', terminal_output='allatonce')"
   ]
  },
  {
   "cell_type": "markdown",
   "metadata": {},
   "source": [
    "Now, we have a Python object ``nipype_ls`` that is a runnable nipype interface. After execution, Nipype interface returns a result object. We can retrieve the output of our ``ls`` invocation from the ``result.runtime`` property:"
   ]
  },
  {
   "cell_type": "code",
   "execution_count": null,
   "metadata": {},
   "outputs": [],
   "source": [
    "result = nipype_ls.run()\n",
    "print(result.runtime.stdout)"
   ]
  },
  {
   "cell_type": "markdown",
   "metadata": {},
   "source": [
    "## Create your own `CommandLine` interface\n",
    "\n",
    "Let's create a Nipype Interface for a very simple tool called ``antsTransformInfo`` from the [ANTs](http://stnava.github.io/ANTs/) package. This tool is so simple it does not even have a usage description for bash. Using it with a file, gives us the following result: "
   ]
  },
  {
   "cell_type": "code",
   "execution_count": null,
   "metadata": {},
   "outputs": [],
   "source": [
    "%%bash\n",
    "antsTransformInfo /home/neuro/workshop/nipype_tutorial/notebooks/scripts/transform.tfm"
   ]
  },
  {
   "cell_type": "markdown",
   "metadata": {},
   "source": [
    "### So let's plan our implementation:\n",
    "\n",
    "  1. The command line name is ``antsTransformInfo``.\n",
    "  2. It only accepts one text file (containing an ITK transform file) as input, and it is a positional argument.\n",
    "  3. It prints out the properties of the transform in the input file. For the purpose of this notebook, we are only interested in extracting the translation values.\n",
    "  \n",
    "For the first item of this roadmap, we will just need to derive a new Python class from the ``nipype.interfaces.base.CommandLine`` base. To indicate the appropriate command line, we set the member ``_cmd``:"
   ]
  },
  {
   "cell_type": "code",
   "execution_count": null,
   "metadata": {},
   "outputs": [],
   "source": [
    "class TransformInfo(CommandLine):\n",
    "    _cmd = 'antsTransformInfo'"
   ]
  },
  {
   "cell_type": "markdown",
   "metadata": {},
   "source": [
    "This is enough to have a nipype compatible interface for this tool:"
   ]
  },
  {
   "cell_type": "code",
   "execution_count": null,
   "metadata": {},
   "outputs": [],
   "source": [
    "TransformInfo.help()"
   ]
  },
  {
   "cell_type": "markdown",
   "metadata": {},
   "source": [
    "### Specifying the inputs\n",
    "\n",
    "However, the ``args`` argument is too generic and does not deviate much from just running it in bash, or directly using ``subprocess.Popen``. Let's define the inputs specification for the interface, extending the ``nipype.interfaces.base.CommandLineInputSpec`` class.\n",
    "\n",
    "The inputs are implemented using the Enthought traits package. For now, we'll use the ``File`` trait extension of nipype:"
   ]
  },
  {
   "cell_type": "code",
   "execution_count": null,
   "metadata": {},
   "outputs": [],
   "source": [
    "from nipype.interfaces.base import CommandLineInputSpec, File\n",
    "\n",
    "class TransformInfoInputSpec(CommandLineInputSpec):\n",
    "    in_file = File(exists=True, mandatory=True, argstr='%s',\n",
    "                   position=0, desc='the input transform file')"
   ]
  },
  {
   "cell_type": "markdown",
   "metadata": {},
   "source": [
    "Some settings are done for this ``File`` object:\n",
    "- ``exists=True`` indicates Nipype that the file must exist when it is set\n",
    "- ``mandatory=True`` checks that this input was set before running because the program would crash otherwise\n",
    "- ``argstr='%s'`` indicates how this input parameter should be formatted\n",
    "- ``position=0`` indicates  that this is the first positional argument\n",
    "\n",
    "We can now decorate our ``TransformInfo`` core class with its input, by setting the ``input_spec`` member:"
   ]
  },
  {
   "cell_type": "code",
   "execution_count": null,
   "metadata": {},
   "outputs": [],
   "source": [
    "class TransformInfo(CommandLine):\n",
    "    _cmd = 'antsTransformInfo'\n",
    "    input_spec = TransformInfoInputSpec"
   ]
  },
  {
   "cell_type": "markdown",
   "metadata": {},
   "source": [
    "Our interface now has one mandatory input, and inherits some optional inputs from the ``CommandLineInputSpec``:"
   ]
  },
  {
   "cell_type": "code",
   "execution_count": null,
   "metadata": {},
   "outputs": [],
   "source": [
    "TransformInfo.help()"
   ]
  },
  {
   "cell_type": "markdown",
   "metadata": {},
   "source": [
    "One interesting feature of the Nipype interface is that the underlying command line can be checked using the object property ``cmdline``. The command line can only be built when the mandatory inputs are set, so let's instantiate our new Interface for the first time, and check the underlying command line:"
   ]
  },
  {
   "cell_type": "code",
   "execution_count": null,
   "metadata": {},
   "outputs": [],
   "source": [
    "my_info_interface = TransformInfo(in_file='/home/neuro/workshop/nipype_tutorial/notebooks/scripts/transform.tfm')\n",
    "print(my_info_interface.cmdline)"
   ]
  },
  {
   "cell_type": "markdown",
   "metadata": {},
   "source": [
    "Nipype will make sure that the parameters fulfill their prescribed attributes. For instance, ``in_file`` is mandatory. An error is issued if we build the command line or try to run this interface without it:"
   ]
  },
  {
   "cell_type": "code",
   "execution_count": null,
   "metadata": {},
   "outputs": [],
   "source": [
    "try:\n",
    "    TransformInfo().cmdline\n",
    "\n",
    "except(ValueError) as err:\n",
    "    print('It crashed with...')\n",
    "    print(\"ValueError:\", err)\n",
    "else:\n",
    "    raise"
   ]
  },
  {
   "cell_type": "markdown",
   "metadata": {},
   "source": [
    "It will also complain if we try to set a non-existent file:"
   ]
  },
  {
   "cell_type": "code",
   "execution_count": null,
   "metadata": {},
   "outputs": [],
   "source": [
    "try:\n",
    "    my_info_interface.inputs.in_file = 'idontexist.tfm'\n",
    "\n",
    "except(Exception) as err:\n",
    "    print('It crashed with...')\n",
    "    print(\"TraitError:\", err)\n",
    "else:\n",
    "    raise"
   ]
  },
  {
   "cell_type": "markdown",
   "metadata": {},
   "source": [
    "### Specifying the outputs\n",
    "The outputs are defined in a similar way. Let's define a custom output for our interface which is a list of three float element. The output traits are derived from a simpler base class called ``TraitedSpec``. We also import the two data representations we need ``List`` and ``Float``:"
   ]
  },
  {
   "cell_type": "code",
   "execution_count": null,
   "metadata": {},
   "outputs": [],
   "source": [
    "from nipype.interfaces.base import TraitedSpec, traits\n",
    "\n",
    "class TransformInfoOutputSpec(TraitedSpec):\n",
    "    translation = traits.List(traits.Float, desc='the translation component of the input transform')\n",
    "    \n",
    "class TransformInfo(CommandLine):\n",
    "    _cmd = 'antsTransformInfo'\n",
    "    input_spec = TransformInfoInputSpec\n",
    "    output_spec = TransformInfoOutputSpec"
   ]
  },
  {
   "cell_type": "markdown",
   "metadata": {},
   "source": [
    "And now, our new output is in place:"
   ]
  },
  {
   "cell_type": "code",
   "execution_count": null,
   "metadata": {},
   "outputs": [],
   "source": [
    "TransformInfo.help()"
   ]
  },
  {
   "cell_type": "markdown",
   "metadata": {},
   "source": [
    "### We are almost there - final needs\n",
    "If we run the interface, we'll be able to see that this tool only writes some text to the standard output, but we just want to extract the ``Translation`` field and generate a Python object from it."
   ]
  },
  {
   "cell_type": "code",
   "execution_count": null,
   "metadata": {},
   "outputs": [],
   "source": [
    "my_info_interface = TransformInfo(in_file='/home/neuro/workshop/nipype_tutorial/notebooks/scripts/transform.tfm',\n",
    "                                  terminal_output='allatonce')\n",
    "result = my_info_interface.run()"
   ]
  },
  {
   "cell_type": "code",
   "execution_count": null,
   "metadata": {},
   "outputs": [],
   "source": [
    "print(result.runtime.stdout)"
   ]
  },
  {
   "cell_type": "markdown",
   "metadata": {},
   "source": [
    "We need to complete the functionality of the ``run()`` member of our interface to parse the standard output. This is done extending its ``_run_interface()`` member.\n",
    "\n",
    "When we define outputs, generally they need to be explicitly wired in the ``_list_outputs()`` member of the core class. Let's see how we can *complete* those:"
   ]
  },
  {
   "cell_type": "code",
   "execution_count": null,
   "metadata": {},
   "outputs": [],
   "source": [
    "class TransformInfo(CommandLine):\n",
    "    _cmd = 'antsTransformInfo'\n",
    "    input_spec = TransformInfoInputSpec\n",
    "    output_spec = TransformInfoOutputSpec\n",
    "            \n",
    "    def _run_interface(self, runtime):\n",
    "        import re\n",
    "        \n",
    "        # Run the command line as a natural CommandLine interface\n",
    "        runtime = super(TransformInfo, self)._run_interface(runtime)\n",
    "\n",
    "        # Search transform in the standard output\n",
    "        expr_tra = re.compile('Translation:\\s+\\[(?P<translation>[0-9\\.-]+,\\s[0-9\\.-]+,\\s[0-9\\.-]+)\\]')\n",
    "        trans = [float(v) for v in expr_tra.search(runtime.stdout).group('translation').split(', ')]\n",
    "        \n",
    "        # Save it for later use in _list_outputs\n",
    "        setattr(self, '_result', trans)\n",
    "        \n",
    "        # Good to go\n",
    "        return runtime\n",
    "    \n",
    "    def _list_outputs(self):\n",
    "        \n",
    "        # Get the attribute saved during _run_interface\n",
    "        return {'translation': getattr(self, '_result')}"
   ]
  },
  {
   "cell_type": "markdown",
   "metadata": {},
   "source": [
    "Let's run this interface (we set ``terminal_output='allatonce'`` to reduce the length of this manual, default would otherwise be `'stream'`):"
   ]
  },
  {
   "cell_type": "code",
   "execution_count": null,
   "metadata": {},
   "outputs": [],
   "source": [
    "my_info_interface = TransformInfo(in_file='/home/neuro/workshop/nipype_tutorial/notebooks/scripts/transform.tfm',\n",
    "                                  terminal_output='allatonce')\n",
    "result = my_info_interface.run()"
   ]
  },
  {
   "cell_type": "markdown",
   "metadata": {},
   "source": [
    "Now we can retrieve our outcome of interest as an output:"
   ]
  },
  {
   "cell_type": "code",
   "execution_count": null,
   "metadata": {},
   "outputs": [],
   "source": [
    "result.outputs.translation"
   ]
  },
  {
   "cell_type": "markdown",
   "metadata": {},
   "source": [
    "### Summary of a `CommandLine` interface\n",
    "\n",
    "Now putting it all togehter, it looks as follows:"
   ]
  },
  {
   "cell_type": "code",
   "execution_count": null,
   "metadata": {},
   "outputs": [],
   "source": [
    "from nipype.interfaces.base import (CommandLine, CommandLineInputSpec,\n",
    "                                    TraitedSpec, traits, File)\n",
    "\n",
    "class TransformInfoInputSpec(CommandLineInputSpec):\n",
    "    in_file = File(exists=True, mandatory=True, argstr='%s', position=0,\n",
    "                   desc='the input transform file')\n",
    "\n",
    "class TransformInfoOutputSpec(TraitedSpec):\n",
    "    translation = traits.List(traits.Float, desc='the translation component of the input transform')\n",
    "\n",
    "class TransformInfo(CommandLine):\n",
    "    _cmd = 'antsTransformInfo'\n",
    "    input_spec = TransformInfoInputSpec\n",
    "    output_spec = TransformInfoOutputSpec\n",
    "            \n",
    "    def _run_interface(self, runtime):\n",
    "        import re\n",
    "        \n",
    "        # Run the command line as a natural CommandLine interface\n",
    "        runtime = super(TransformInfo, self)._run_interface(runtime)\n",
    "\n",
    "        # Search transform in the standard output\n",
    "        expr_tra = re.compile('Translation:\\s+\\[(?P<translation>[0-9\\.-]+,\\s[0-9\\.-]+,\\s[0-9\\.-]+)\\]')\n",
    "        trans = [float(v) for v in expr_tra.search(runtime.stdout).group('translation').split(', ')]\n",
    "        \n",
    "        # Save it for later use in _list_outputs\n",
    "        setattr(self, '_result', trans)\n",
    "        \n",
    "        # Good to go\n",
    "        return runtime\n",
    "    \n",
    "    def _list_outputs(self):\n",
    "        \n",
    "        # Get the attribute saved during _run_interface\n",
    "        return {'translation': getattr(self, '_result')}"
   ]
  },
  {
   "cell_type": "code",
   "execution_count": null,
   "metadata": {},
   "outputs": [],
   "source": [
    "my_info_interface = TransformInfo(in_file='/home/neuro/workshop/nipype_tutorial/notebooks/scripts/transform.tfm',\n",
    "                                  terminal_output='allatonce')\n",
    "result = my_info_interface.run()\n",
    "result.outputs.translation"
   ]
  },
  {
   "cell_type": "markdown",
   "metadata": {},
   "source": [
    "### Wrapping up - fast use case for simple `CommandLine` wrapper\n",
    "\n",
    "For more standard neuroimaging software, generally we will just have to specify simple flags, i.e. input and output images and some additional parameters. If that is the case, then there is no need to extend the ``run()`` method.\n",
    "\n",
    "Let's look at a quick, partial, implementation of FSL's BET:"
   ]
  },
  {
   "cell_type": "code",
   "execution_count": null,
   "metadata": {},
   "outputs": [],
   "source": [
    "from nipype.interfaces.base import CommandLineInputSpec, File, TraitedSpec\n",
    "\n",
    "class CustomBETInputSpec(CommandLineInputSpec):\n",
    "    in_file = File(exists=True, mandatory=True, argstr='%s', position=0, desc='the input image')\n",
    "    mask = traits.Bool(mandatory=False, argstr='-m', position=2, desc='create binary mask image')\n",
    "\n",
    "    # Do not set exists=True for output files!\n",
    "    out_file = File(mandatory=True, argstr='%s', position=1, desc='the output image')\n",
    "    \n",
    "class CustomBETOutputSpec(TraitedSpec):\n",
    "    out_file = File(desc='the output image')\n",
    "    mask_file = File(desc=\"path/name of binary brain mask (if generated)\")\n",
    "    \n",
    "class CustomBET(CommandLine):\n",
    "    _cmd = 'bet'\n",
    "    input_spec = CustomBETInputSpec\n",
    "    output_spec = CustomBETOutputSpec\n",
    "    \n",
    "    def _list_outputs(self):\n",
    "\n",
    "        # Get the attribute saved during _run_interface\n",
    "        return {'out_file': self.inputs.out_file,\n",
    "                'mask_file': self.inputs.out_file.replace('brain', 'brain_mask')}"
   ]
  },
  {
   "cell_type": "code",
   "execution_count": null,
   "metadata": {},
   "outputs": [],
   "source": [
    "my_custom_bet = CustomBET()\n",
    "my_custom_bet.inputs.in_file = '/data/ds000114/sub-01/ses-test/anat/sub-01_ses-test_T1w.nii.gz'\n",
    "my_custom_bet.inputs.out_file = 'sub-01_T1w_brain.nii.gz'\n",
    "my_custom_bet.inputs.mask = True\n",
    "result = my_custom_bet.run()"
   ]
  },
  {
   "cell_type": "code",
   "execution_count": null,
   "metadata": {},
   "outputs": [],
   "source": [
    "plot_anat(result.outputs.out_file, dim=-1);"
   ]
  },
  {
   "cell_type": "markdown",
   "metadata": {},
   "source": [
    "# Create your own `Python` interface\n",
    "\n",
    "`CommandLine` interface is great, but my tool is already in Python - can I wrap it natively?\n",
    "\n",
    "Sure. Let's solve the following problem: Let's say we have a Python function that takes an input image and a list of three translations (x, y, z) in mm, and then writes a resampled image after the translation has been applied:"
   ]
  },
  {
   "cell_type": "code",
   "execution_count": null,
   "metadata": {},
   "outputs": [],
   "source": [
    "def translate_image(img, translation, out_file):\n",
    "\n",
    "    import nibabel as nb\n",
    "    import numpy as np\n",
    "    from scipy.ndimage.interpolation import affine_transform\n",
    "    \n",
    "    # Load the data\n",
    "    nii = nb.load(img)\n",
    "    data = nii.get_fdata()\n",
    "    \n",
    "    # Create the transformation matrix\n",
    "    matrix = np.eye(3)\n",
    "    trans = (np.array(translation) / nii.header.get_zooms()[:3]) * np.array([1.0, -1.0, -1.0])\n",
    "    \n",
    "    # Apply the transformation matrix\n",
    "    newdata = affine_transform(data, matrix=matrix, offset=trans)\n",
    "    \n",
    "    # Save the new data in a new NIfTI image\n",
    "    nb.Nifti1Image(newdata, nii.affine, nii.header).to_filename(out_file)\n",
    "    \n",
    "    print('Translated file now is here: %s' % out_file)"
   ]
  },
  {
   "cell_type": "markdown",
   "metadata": {},
   "source": [
    "Let's see how this function operates:"
   ]
  },
  {
   "cell_type": "code",
   "execution_count": null,
   "metadata": {},
   "outputs": [],
   "source": [
    "orig_image = '/data/ds000114/sub-01/ses-test/anat/sub-01_ses-test_T1w.nii.gz'\n",
    "translation = [20.0, -20.0, -20.0]\n",
    "translated_image = 'translated.nii.gz'\n",
    "\n",
    "# Let's run the translate_image function on our inputs\n",
    "translate_image(orig_image,\n",
    "                translation,\n",
    "                translated_image)"
   ]
  },
  {
   "cell_type": "markdown",
   "metadata": {},
   "source": [
    "Now that the function was executed, let's plot the original and the translated image."
   ]
  },
  {
   "cell_type": "code",
   "execution_count": null,
   "metadata": {},
   "outputs": [],
   "source": [
    "plot_anat(orig_image, dim=-1);"
   ]
  },
  {
   "cell_type": "code",
   "execution_count": null,
   "metadata": {},
   "outputs": [],
   "source": [
    "plot_anat('translated.nii.gz', dim=-1);"
   ]
  },
  {
   "cell_type": "markdown",
   "metadata": {},
   "source": [
    "Perfect, we see that the translation was applied."
   ]
  },
  {
   "cell_type": "markdown",
   "metadata": {},
   "source": [
    "## Quick approach - ``Function`` interface\n",
    "\n",
    "Don't reinvent the wheel if it's not necessary. If like in this case, we have a well-defined function we want to run with Nipype, it is fairly easy to solve it with the ``Function`` interface:"
   ]
  },
  {
   "cell_type": "code",
   "execution_count": null,
   "metadata": {},
   "outputs": [],
   "source": [
    "from nipype.interfaces.utility import Function\n",
    "\n",
    "my_python_interface = Function(\n",
    "    input_names=['img', 'translation', 'out_file'],\n",
    "    output_names=['out_file'],\n",
    "    function=translate_image\n",
    ")"
   ]
  },
  {
   "cell_type": "markdown",
   "metadata": {},
   "source": [
    "The arguments of ``translate_image`` should ideally be listed in the same order and with the same names as in the signature of the function. The same should be the case for the outputs. Finally, the ``Function`` interface takes a ``function`` input that is pointed to your python code.\n",
    "\n",
    "***Note***: The inputs and outputs do not pass any kind of conformity checking: the function node will take any kind of data type for their inputs and outputs.\n",
    "\n",
    "There are some other limitations to the ``Function`` interface when used inside workflows. Additionally, the function must be totally self-contained, since it will run with no global context. In practice, it means that **all the imported modules and variables must be defined within the context of the function**.\n",
    "\n",
    "For more, check out the [Function Node](basic_function_nodes.ipynb) notebook."
   ]
  },
  {
   "cell_type": "markdown",
   "metadata": {},
   "source": [
    "Back to our `Function` interface. You can run it as any other interface object of Nipype:"
   ]
  },
  {
   "cell_type": "code",
   "execution_count": null,
   "metadata": {},
   "outputs": [],
   "source": [
    "# Set inputs\n",
    "my_python_interface.inputs.img = '/data/ds000114/sub-01/ses-test/anat/sub-01_ses-test_T1w.nii.gz'\n",
    "my_python_interface.inputs.translation = [-35.0, 35.0, 35.0]\n",
    "my_python_interface.inputs.out_file = 'translated_functioninterface.nii.gz'"
   ]
  },
  {
   "cell_type": "code",
   "execution_count": null,
   "metadata": {},
   "outputs": [],
   "source": [
    "# Run the interface\n",
    "result = my_python_interface.run()"
   ]
  },
  {
   "cell_type": "code",
   "execution_count": null,
   "metadata": {},
   "outputs": [],
   "source": [
    "# Plot the result\n",
    "plot_anat('translated_functioninterface.nii.gz', dim=-1);"
   ]
  },
  {
   "cell_type": "markdown",
   "metadata": {},
   "source": [
    "## Complete approach - pure `Python` interface\n",
    "\n",
    "Now, we face the problem of interfacing something different from a command line. Therefore, the ``CommandLine`` base class will not help us here. The specification of the inputs and outputs, though, will work the same way.\n",
    "\n",
    "Let's start from that point on. Our Python function takes in three inputs: (1) the input image, (2) the translation and (3) an output image.\n",
    "\n",
    "The specification of inputs and outputs must be familiar to you at this point. Please note that now, input specification is derived from ``BaseInterfaceInputSpec``, which is a bit thinner than ``CommandLineInputSpec``. The output specification can be derived from ``TraitedSpec`` as before:"
   ]
  },
  {
   "cell_type": "code",
   "execution_count": null,
   "metadata": {},
   "outputs": [],
   "source": [
    "from nipype.interfaces.base import BaseInterfaceInputSpec, File, TraitedSpec\n",
    "\n",
    "class TranslateImageInputSpec(BaseInterfaceInputSpec):\n",
    "    in_file = File(exists=True, mandatory=True, desc='the input image')\n",
    "    out_file = File(mandatory=True, desc='the output image') # Do not set exists=True !!\n",
    "    translation = traits.List([50.0, 0.0, 0.0], traits.Float, usedefault=True,\n",
    "                              desc='the translation component of the input transform')\n",
    "    \n",
    "class TranslateImageOutputSpec(TraitedSpec):\n",
    "    out_file = File(desc='the output image')"
   ]
  },
  {
   "cell_type": "markdown",
   "metadata": {},
   "source": [
    "Similarily to the change of base class for the input specification, the core of our new interface will derive from ``BaseInterface`` instead of ``CommandLineInterface``:"
   ]
  },
  {
   "cell_type": "code",
   "execution_count": null,
   "metadata": {},
   "outputs": [],
   "source": [
    "from nipype.interfaces.base import BaseInterface\n",
    "\n",
    "class TranslateImage(BaseInterface):\n",
    "    input_spec = TranslateImageInputSpec\n",
    "    output_spec = TranslateImageOutputSpec"
   ]
  },
  {
   "cell_type": "markdown",
   "metadata": {},
   "source": [
    "At this point, we have defined a pure python interface but it is unable to do anything because we didn't implement a ``_run_interface()`` method yet."
   ]
  },
  {
   "cell_type": "code",
   "execution_count": null,
   "metadata": {},
   "outputs": [],
   "source": [
    "TranslateImage.help()"
   ]
  },
  {
   "cell_type": "markdown",
   "metadata": {},
   "source": [
    "What happens if we try to run such an interface without specifying the `_run_interface()` function?"
   ]
  },
  {
   "cell_type": "code",
   "execution_count": null,
   "metadata": {},
   "outputs": [],
   "source": [
    "will_fail_at_run = TranslateImage(\n",
    "    in_file='/data/ds000114/sub-01/ses-test/anat/sub-01_ses-test_T1w.nii.gz',\n",
    "    out_file='translated.nii.gz')"
   ]
  },
  {
   "cell_type": "code",
   "execution_count": null,
   "metadata": {},
   "outputs": [],
   "source": [
    "try:\n",
    "    result = will_fail_at_run.run()\n",
    "\n",
    "except(NotImplementedError) as err:\n",
    "    print('It crashed with...')\n",
    "    print(\"NotImplementedError:\", err)\n",
    "else:\n",
    "    raise"
   ]
  },
  {
   "cell_type": "markdown",
   "metadata": {},
   "source": [
    "So, let's implement the missing part. As we would imagine, this needs to be very similar to what we did before with the ``TransformInfo`` interface:"
   ]
  },
  {
   "cell_type": "code",
   "execution_count": null,
   "metadata": {},
   "outputs": [],
   "source": [
    "class TranslateImage(BaseInterface):\n",
    "    input_spec = TranslateImageInputSpec\n",
    "    output_spec = TranslateImageOutputSpec\n",
    "    \n",
    "    def _run_interface(self, runtime):\n",
    "        \n",
    "        # Call our python code here:\n",
    "        translate_image(\n",
    "            self.inputs.in_file,\n",
    "            self.inputs.translation,\n",
    "            self.inputs.out_file\n",
    "        )\n",
    "        \n",
    "        # And we are done\n",
    "        return runtime"
   ]
  },
  {
   "cell_type": "markdown",
   "metadata": {},
   "source": [
    "If we run it know, our interface will get further:"
   ]
  },
  {
   "cell_type": "code",
   "execution_count": null,
   "metadata": {},
   "outputs": [],
   "source": [
    "half_works = TranslateImage(\n",
    "    in_file='/data/ds000114/sub-01/ses-test/anat/sub-01_ses-test_T1w.nii.gz',\n",
    "    out_file='translated_nipype.nii.gz')"
   ]
  },
  {
   "cell_type": "code",
   "execution_count": null,
   "metadata": {},
   "outputs": [],
   "source": [
    "try:\n",
    "    result = half_works.run()\n",
    "\n",
    "except(NotImplementedError) as err:\n",
    "    print('It crashed with...')\n",
    "    print(\"NotImplementedError:\", err)\n",
    "else:\n",
    "    raise"
   ]
  },
  {
   "cell_type": "markdown",
   "metadata": {},
   "source": [
    "... but still, it crashes becasue we haven't specified any ``_list_outputs()`` method. I.e. our python function is called, but the interface crashes when the execution arrives to retrieving the outputs.\n",
    "\n",
    "Let's fix that:"
   ]
  },
  {
   "cell_type": "code",
   "execution_count": null,
   "metadata": {},
   "outputs": [],
   "source": [
    "from nipype.interfaces.base import BaseInterfaceInputSpec, BaseInterface, File, TraitedSpec\n",
    "\n",
    "class TranslateImageInputSpec(BaseInterfaceInputSpec):\n",
    "    in_file = File(exists=True, mandatory=True, desc='the input image')\n",
    "    out_file = File(mandatory=True, desc='the output image') # Do not set exists=True !!\n",
    "    translation = traits.List([50.0, 0.0, 0.0], traits.Float, usedefault=True,\n",
    "                              desc='the translation component of the input transform')\n",
    "    \n",
    "class TranslateImageOutputSpec(TraitedSpec):\n",
    "    out_file = File(desc='the output image')\n",
    "\n",
    "class TranslateImage(BaseInterface):\n",
    "    input_spec = TranslateImageInputSpec\n",
    "    output_spec = TranslateImageOutputSpec\n",
    "    \n",
    "    def _run_interface(self, runtime):\n",
    "\n",
    "        # Call our python code here:\n",
    "        translate_image(\n",
    "            self.inputs.in_file,\n",
    "            self.inputs.translation,\n",
    "            self.inputs.out_file\n",
    "        )\n",
    "        # And we are done\n",
    "        return runtime\n",
    "\n",
    "    def _list_outputs(self):\n",
    "        return {'out_file': self.inputs.out_file}"
   ]
  },
  {
   "cell_type": "markdown",
   "metadata": {},
   "source": [
    "Now, we have everything together. So let's run it and visualize the output file."
   ]
  },
  {
   "cell_type": "code",
   "execution_count": null,
   "metadata": {},
   "outputs": [],
   "source": [
    "this_works = TranslateImage(\n",
    "    in_file='/data/ds000114/sub-01/ses-test/anat/sub-01_ses-test_T1w.nii.gz',\n",
    "    out_file='translated_nipype.nii.gz')\n",
    "\n",
    "result = this_works.run()"
   ]
  },
  {
   "cell_type": "code",
   "execution_count": null,
   "metadata": {},
   "outputs": [],
   "source": [
    "plot_anat(result.outputs.out_file, dim=-1);"
   ]
  },
  {
   "cell_type": "markdown",
   "metadata": {
    "collapsed": true
   },
   "source": [
    "# Create your own `MATLAB` interface\n",
    "\n",
    "Last but not least, let's take a look at how we would create a `MATLAB` interface. For this purpose, let's say we want to run some matlab code that counts the number of voxels in an MRI image with intensity larger than zero. Such a value could give us an estimation of the brain volume (in voxels) of a skull-stripped image.\n",
    "\n",
    "In `MATLAB`, our code looks as follows:\n",
    "\n",
    "  ```\n",
    "  load input_image.mat;\n",
    "  total = sum(data(:) > 0)\n",
    "  ```\n",
    "  \n",
    "The following example uses ``scipy.io.savemat`` to convert the input image to `MATLAB` format. Once the file is loaded we can quickly extract the estimated total volume.\n",
    "\n",
    "***Note:*** For the purpose of this example, we will be using the freely available `MATLAB` alternative `Octave`. But the implementation of a `MATLAB` interface will be identical."
   ]
  },
  {
   "cell_type": "markdown",
   "metadata": {},
   "source": [
    "## Preparation\n",
    "\n",
    "As before, we need to specify an `InputSpec` and an `OutputSpec` class. The input class will expect a `file` as an input and the `script` containing the code that we would like to run, and the output class will give us back the total `volume`.\n",
    "\n",
    "In the context of a `MATLAB` interface, this is implemented as follows:"
   ]
  },
  {
   "cell_type": "code",
   "execution_count": null,
   "metadata": {},
   "outputs": [],
   "source": [
    "from nipype.interfaces.base import (CommandLine, traits, TraitedSpec,\n",
    "                                    BaseInterface, BaseInterfaceInputSpec, File)\n",
    "\n",
    "class BrainVolumeMATLABInputSpec(BaseInterfaceInputSpec):\n",
    "    in_file = File(exists=True, mandatory=True)\n",
    "    script_file = File(exists=True, mandatory=True)\n",
    "    \n",
    "class BrainVolumeMATLABOutputSpec(TraitedSpec):\n",
    "    volume = traits.Int(desc='brain volume')\n",
    "\n",
    "class BrainVolumeMATLAB(BaseInterface):\n",
    "    input_spec = BrainVolumeMATLABInputSpec\n",
    "    output_spec = BrainVolumeMATLABOutputSpec"
   ]
  },
  {
   "cell_type": "markdown",
   "metadata": {},
   "source": [
    "## Step by step implementation"
   ]
  },
  {
   "cell_type": "markdown",
   "metadata": {},
   "source": [
    "Now, we have to specify what should happen, once the interface is run. As we said earlier, we want to:\n",
    "\n",
    "1. load the image data and save it in a mat file\n",
    "2. load the script\n",
    "3. replace the put the relevant information into the script\n",
    "4. run the script\n",
    "5. extract the results\n",
    "\n",
    "This all can be implemented with the following code:"
   ]
  },
  {
   "cell_type": "code",
   "execution_count": null,
   "metadata": {},
   "outputs": [],
   "source": [
    "# Specify the interface inputs\n",
    "in_file = '/data/ds000114/sub-01/ses-test/anat/sub-01_ses-test_T1w.nii.gz'\n",
    "script_file = '/home/neuro/workshop/nipype_tutorial/notebooks/scripts/brainvolume.m'"
   ]
  },
  {
   "cell_type": "code",
   "execution_count": null,
   "metadata": {},
   "outputs": [],
   "source": [
    "!cat scripts/brainvolume.m"
   ]
  },
  {
   "cell_type": "code",
   "execution_count": null,
   "metadata": {},
   "outputs": [],
   "source": [
    "import re\n",
    "import nibabel as nb\n",
    "from scipy.io import savemat\n",
    "\n",
    "# 1. save the image in matlab format as tmp_image.mat\n",
    "tmp_image = 'tmp_image.mat'\n",
    "data = nb.load(in_file).get_fdata()\n",
    "savemat(tmp_image, {b'data': data}, do_compression=False)"
   ]
  },
  {
   "cell_type": "code",
   "execution_count": null,
   "metadata": {},
   "outputs": [],
   "source": [
    "# 2. load script\n",
    "with open(script_file) as script_file:\n",
    "    script_content = script_file.read()"
   ]
  },
  {
   "cell_type": "code",
   "execution_count": null,
   "metadata": {},
   "outputs": [],
   "source": [
    "# 3. replace the input_image.mat file with the actual input of this interface\n",
    "with open('newscript.m', 'w') as script_file:\n",
    "    script_file.write(script_content.replace('input_image.mat', 'tmp_image.mat'))"
   ]
  },
  {
   "cell_type": "code",
   "execution_count": null,
   "metadata": {},
   "outputs": [],
   "source": [
    "# 4. run the matlab script\n",
    "mlab = CommandLine('octave', args='newscript.m', terminal_output='stream')\n",
    "result = mlab.run()"
   ]
  },
  {
   "cell_type": "code",
   "execution_count": null,
   "metadata": {},
   "outputs": [],
   "source": [
    "# 5. extract the volume estimation from the output\n",
    "expr_tra = re.compile('total\\ =\\s+(?P<total>[0-9]+)')\n",
    "volume = int(expr_tra.search(result.runtime.stdout).groupdict()['total'])\n",
    "print(volume)"
   ]
  },
  {
   "cell_type": "markdown",
   "metadata": {},
   "source": [
    "## Putting it all together\n",
    "\n",
    "Now we just need to put this all together in the `_run_interface()` method and add a `_list_outputs()` function:"
   ]
  },
  {
   "cell_type": "code",
   "execution_count": null,
   "metadata": {},
   "outputs": [],
   "source": [
    "from nipype.interfaces.base import (CommandLine, traits, TraitedSpec,\n",
    "                                    BaseInterface, BaseInterfaceInputSpec, File)\n",
    "import re\n",
    "import nibabel as nb\n",
    "from scipy.io import savemat\n",
    "\n",
    "class BrainVolumeMATLABInputSpec(BaseInterfaceInputSpec):\n",
    "    in_file = File(exists=True, mandatory=True)\n",
    "    script_file = File(exists=True, mandatory=True)\n",
    "    \n",
    "class BrainVolumeMATLABOutputSpec(TraitedSpec):\n",
    "    volume = traits.Int(desc='brain volume')\n",
    "\n",
    "class BrainVolumeMATLAB(BaseInterface):\n",
    "    input_spec = BrainVolumeMATLABInputSpec\n",
    "    output_spec = BrainVolumeMATLABOutputSpec\n",
    "\n",
    "    def _run_interface(self, runtime): \n",
    "        # Save the image in matlab format as tmp_image.mat\n",
    "        tmp_image = 'tmp_image.mat'\n",
    "        data = nb.load(self.inputs.in_file).get_fdata()\n",
    "        savemat(tmp_image, {b'data': data}, do_compression=False)\n",
    "        \n",
    "        # Load script\n",
    "        with open(self.inputs.script_file) as script_file:\n",
    "            script_content = script_file.read()\n",
    "        \n",
    "        # Replace the input_image.mat file for the actual input of this interface\n",
    "        with open('newscript.m', 'w') as script_file:\n",
    "            script_file.write(script_content.replace('input_image.mat', 'tmp_image.mat'))\n",
    "\n",
    "        # Run a matlab command\n",
    "        mlab = CommandLine('octave', args='newscript.m', terminal_output='stream')\n",
    "        result = mlab.run()\n",
    "        \n",
    "        expr_tra = re.compile('total\\ =\\s+(?P<total>[0-9]+)')\n",
    "        volume = int(expr_tra.search(result.runtime.stdout).groupdict()['total'])\n",
    "        setattr(self, '_result', volume)\n",
    "        return result.runtime\n",
    "\n",
    "    def _list_outputs(self):\n",
    "        outputs = self._outputs().get()\n",
    "        outputs['volume'] = getattr(self, '_result')\n",
    "        return outputs"
   ]
  },
  {
   "cell_type": "markdown",
   "metadata": {},
   "source": [
    "Let's test it:"
   ]
  },
  {
   "cell_type": "code",
   "execution_count": null,
   "metadata": {},
   "outputs": [],
   "source": [
    "matlab = BrainVolumeMATLAB(in_file='/data/ds000114/sub-01/ses-test/anat/sub-01_ses-test_T1w.nii.gz',\n",
    "                           script_file='/home/neuro/workshop/nipype_tutorial/notebooks/scripts/brainvolume.m')\n",
    "result = matlab.run()"
   ]
  },
  {
   "cell_type": "code",
   "execution_count": null,
   "metadata": {},
   "outputs": [],
   "source": [
    "print(result.outputs)"
   ]
  },
  {
   "cell_type": "markdown",
   "metadata": {},
   "source": [
    "We see in the example above that everything works fine. But now, let's say that we want to save the total brain volume to a file and give the location of this file back as an output. How would you do that?"
   ]
  },
  {
   "cell_type": "markdown",
   "metadata": {
    "collapsed": true
   },
   "source": [
    "## Exercise\n",
    "\n",
    "Modify the `BrainVolumeMATLAB` interface so that it has one more **output** called ``out_file``, that points to a text file where we write the volume in voxels. The name of the ``out_file`` can be hard coded to ``volume.txt``."
   ]
  },
  {
   "cell_type": "code",
   "execution_count": null,
   "metadata": {
    "solution2": "shown",
    "solution2_first": true
   },
   "outputs": [],
   "source": [
    "# Write your solution here"
   ]
  },
  {
   "cell_type": "code",
   "execution_count": null,
   "metadata": {
    "solution2": "shown"
   },
   "outputs": [],
   "source": [
    "from nipype.interfaces.base import (CommandLine, traits, TraitedSpec,\n",
    "                                    BaseInterface, BaseInterfaceInputSpec, File)\n",
    "import os\n",
    "import re\n",
    "import nibabel as nb\n",
    "from scipy.io import savemat\n",
    "\n",
    "class BrainVolumeMATLABInputSpec(BaseInterfaceInputSpec):\n",
    "    in_file = File(exists=True, mandatory=True)\n",
    "    script_file = File(exists=True, mandatory=True)\n",
    "    \n",
    "class BrainVolumeMATLABOutputSpec(TraitedSpec):\n",
    "    volume = traits.Int(desc='brain volume')\n",
    "    out_file = File(desc='output file containing total brain volume')  # This line was added\n",
    "\n",
    "class BrainVolumeMATLAB(BaseInterface):\n",
    "    input_spec = BrainVolumeMATLABInputSpec\n",
    "    output_spec = BrainVolumeMATLABOutputSpec\n",
    "\n",
    "    def _run_interface(self, runtime): \n",
    "        # Save the image in matlab format as tmp_image.mat\n",
    "        tmp_image = 'tmp_image.mat'\n",
    "        data = nb.load(self.inputs.in_file).get_fdata()\n",
    "        savemat(tmp_image, {b'data': data}, do_compression=False)\n",
    "        \n",
    "        # Load script\n",
    "        with open(self.inputs.script_file) as script_file:\n",
    "            script_content = script_file.read()\n",
    "        \n",
    "        # Replace the input_image.mat file for the actual input of this interface\n",
    "        with open('newscript.m', 'w') as script_file:\n",
    "            script_file.write(script_content.replace('input_image.mat', 'tmp_image.mat'))\n",
    "\n",
    "        # Run a matlab command\n",
    "        mlab = CommandLine('octave', args='newscript.m', terminal_output='stream')\n",
    "        result = mlab.run()\n",
    "        \n",
    "        expr_tra = re.compile('total\\ =\\s+(?P<total>[0-9]+)')\n",
    "        volume = int(expr_tra.search(result.runtime.stdout).groupdict()['total'])\n",
    "        setattr(self, '_result', volume)\n",
    "        \n",
    "        # Write total brain volume into a file\n",
    "        out_fname = os.path.abspath('volume.txt')\n",
    "        setattr(self, '_out_file', out_fname)\n",
    "        with open('volume.txt', 'w') as out_file:\n",
    "            out_file.write('%d' %volume)\n",
    "        \n",
    "        return result.runtime\n",
    "\n",
    "    def _list_outputs(self):\n",
    "        outputs = self._outputs().get()\n",
    "        outputs['volume'] = getattr(self, '_result')\n",
    "        outputs['out_file'] = getattr(self, '_out_file')\n",
    "        return outputs"
   ]
  },
  {
   "cell_type": "markdown",
   "metadata": {},
   "source": [
    "Now, let's test if it works."
   ]
  },
  {
   "cell_type": "code",
   "execution_count": null,
   "metadata": {},
   "outputs": [],
   "source": [
    "matlab = BrainVolumeMATLAB(in_file='/data/ds000114/sub-01/ses-test/anat/sub-01_ses-test_T1w.nii.gz',\n",
    "                           script_file='/home/neuro/workshop/nipype_tutorial/notebooks/scripts/brainvolume.m')\n",
    "result = matlab.run()"
   ]
  },
  {
   "cell_type": "markdown",
   "metadata": {},
   "source": [
    "No errors, perfect. Did we get the right file?"
   ]
  },
  {
   "cell_type": "code",
   "execution_count": null,
   "metadata": {},
   "outputs": [],
   "source": [
    "print(result.outputs.out_file)"
   ]
  },
  {
   "cell_type": "markdown",
   "metadata": {},
   "source": [
    "And what about the content of this file?"
   ]
  },
  {
   "cell_type": "code",
   "execution_count": null,
   "metadata": {},
   "outputs": [],
   "source": [
    "!cat volume.txt"
   ]
  }
 ],
 "metadata": {
  "kernelspec": {
   "display_name": "Python 3",
   "language": "python",
   "name": "python3"
  },
  "language_info": {
   "codemirror_mode": {
    "name": "ipython",
    "version": 3
   },
   "file_extension": ".py",
   "mimetype": "text/x-python",
   "name": "python",
   "nbconvert_exporter": "python",
   "pygments_lexer": "ipython3",
   "version": "3.7.8"
  }
 },
 "nbformat": 4,
 "nbformat_minor": 2
}
