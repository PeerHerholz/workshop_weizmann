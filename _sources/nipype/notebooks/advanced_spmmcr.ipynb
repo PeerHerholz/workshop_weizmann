{
 "cells": [
  {
   "cell_type": "markdown",
   "metadata": {},
   "source": [
    "# Using SPM with MATLAB Common Runtime (MCR)\n",
    "\n",
    "In order to use the standalone MCR version of spm, you need to ensure that the following commands are executed at the beginning of your script:"
   ]
  },
  {
   "cell_type": "code",
   "execution_count": null,
   "metadata": {},
   "outputs": [],
   "source": [
    "from nipype.interfaces import spm\n",
    "matlab_cmd = '/opt/spm12-r7219/run_spm12.sh /opt/matlabmcr-2010a/v713/ script'\n",
    "spm.SPMCommand.set_mlab_paths(matlab_cmd=matlab_cmd, use_mcr=True)"
   ]
  },
  {
   "cell_type": "markdown",
   "metadata": {},
   "source": [
    "You can test it by calling:"
   ]
  },
  {
   "cell_type": "code",
   "execution_count": null,
   "metadata": {},
   "outputs": [],
   "source": [
    "spm.SPMCommand().version"
   ]
  },
  {
   "cell_type": "markdown",
   "metadata": {},
   "source": [
    "If you want to enforce the standalone MCR version of spm for nipype globally, you can do so by setting the following environment variables:\n",
    "\n",
    "- *`SPMMCRCMD`*  \n",
    "    Specifies the command to use to run the spm standalone MCR version. You may still override the command as described above.\n",
    "\n",
    "\n",
    "- *`FORCE_SPMMCR`*  \n",
    "    Set this to any value in order to enforce the use of spm standalone MCR version in nipype globally. Technically, this sets the `use_mcr` flag of the spm interface to True.\n",
    "\n",
    "Information about the MCR version of SPM8 can be found at: http://en.wikibooks.org/wiki/SPM/Standalone"
   ]
  }
 ],
 "metadata": {
  "kernelspec": {
   "display_name": "Python 3",
   "language": "python",
   "name": "python3"
  },
  "language_info": {
   "codemirror_mode": {
    "name": "ipython",
    "version": 3
   },
   "file_extension": ".py",
   "mimetype": "text/x-python",
   "name": "python",
   "nbconvert_exporter": "python",
   "pygments_lexer": "ipython3",
   "version": "3.7.8"
  }
 },
 "nbformat": 4,
 "nbformat_minor": 2
}
