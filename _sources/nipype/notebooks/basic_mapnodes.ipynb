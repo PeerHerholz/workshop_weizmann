{
 "cells": [
  {
   "cell_type": "markdown",
   "metadata": {},
   "source": [
    "# MapNode\n",
    "\n",
    "If you want to iterate over a list of inputs, but need to feed all iterated outputs afterward as one input (an array) to the next node, you need to use a **``MapNode``**. A ``MapNode`` is quite similar to a normal ``Node``, but it can take a list of inputs and operate over each input separately, ultimately returning a list of outputs.\n",
    "\n",
    "Imagine that you have a list of items (let's say files) and you want to execute the same node on them (for example some smoothing or masking). Some nodes accept multiple files and do exactly the same thing on them, but some don't (they expect only one file). `MapNode` can solve this problem. Imagine you have the following workflow:\n",
    "\n",
    "<img src=\"../static/images/mapnode.png\"  width=\"325\">\n",
    "\n",
    "Node `A` outputs a list of files, but node `B` accepts only one file. Additionally, `C` expects a list of files. What you would like is to run `B` for every file in the output of `A` and collect the results as a list and feed it to `C`. Something like this:\n",
    "\n",
    "```python\n",
    "from nipype import Node, MapNode, Workflow\n",
    "a = Node(interface=A(), name=\"a\")\n",
    "b = MapNode(interface=B(), name=\"b\", iterfield=['in_file'])\n",
    "c = Node(interface=C(), name=\"c\")\n",
    "\n",
    "my_workflow = Workflow(name=\"my_workflow\")\n",
    "my_workflow.connect([(a,b,[('out_files','in_file')]),\n",
    "                     (b,c,[('out_file','in_files')])\n",
    "                     ])\n",
    "```\n",
    "\n",
    "Let's demonstrate this with a simple function interface:"
   ]
  },
  {
   "cell_type": "code",
   "execution_count": null,
   "metadata": {},
   "outputs": [],
   "source": [
    "from nipype import Function\n",
    "def square_func(x):\n",
    "    return x ** 2\n",
    "square = Function([\"x\"], [\"f_x\"], square_func)"
   ]
  },
  {
   "cell_type": "markdown",
   "metadata": {},
   "source": [
    "We see that this function just takes a numeric input and returns its squared value."
   ]
  },
  {
   "cell_type": "code",
   "execution_count": null,
   "metadata": {},
   "outputs": [],
   "source": [
    "square.run(x=2).outputs.f_x"
   ]
  },
  {
   "cell_type": "markdown",
   "metadata": {},
   "source": [
    "What if we wanted to square a list of numbers? We could set an iterable and just split up the workflow in multiple sub-workflows. But say we were making a simple workflow that squared a list of numbers and then summed them. The sum node would expect a list, but using an iterable would make a bunch of sum nodes, and each would get one number from the list. The solution here is to use a `MapNode`."
   ]
  },
  {
   "cell_type": "markdown",
   "metadata": {},
   "source": [
    "## `iterfield`\n",
    "\n",
    "The `MapNode` constructor has a field called `iterfield`, which tells it what inputs should be expecting a list."
   ]
  },
  {
   "cell_type": "code",
   "execution_count": null,
   "metadata": {},
   "outputs": [],
   "source": [
    "from nipype import MapNode\n",
    "square_node = MapNode(square, name=\"square\", iterfield=[\"x\"])"
   ]
  },
  {
   "cell_type": "code",
   "execution_count": null,
   "metadata": {},
   "outputs": [],
   "source": [
    "square_node.inputs.x = [0, 1, 2, 3]\n",
    "res = square_node.run()"
   ]
  },
  {
   "cell_type": "code",
   "execution_count": null,
   "metadata": {},
   "outputs": [],
   "source": [
    "res.outputs.f_x"
   ]
  },
  {
   "cell_type": "markdown",
   "metadata": {},
   "source": [
    "Because `iterfield` can take a list of names, you can operate over multiple sets of data, as long as they're the same length. The values in each list will be paired; it does not compute a combinatoric product of the lists."
   ]
  },
  {
   "cell_type": "code",
   "execution_count": null,
   "metadata": {},
   "outputs": [],
   "source": [
    "def power_func(x, y):\n",
    "    return x ** y"
   ]
  },
  {
   "cell_type": "code",
   "execution_count": null,
   "metadata": {},
   "outputs": [],
   "source": [
    "power = Function([\"x\", \"y\"], [\"f_xy\"], power_func)\n",
    "power_node = MapNode(power, name=\"power\", iterfield=[\"x\", \"y\"])\n",
    "power_node.inputs.x = [0, 1, 2, 3]\n",
    "power_node.inputs.y = [0, 1, 2, 3]\n",
    "res = power_node.run()"
   ]
  },
  {
   "cell_type": "code",
   "execution_count": null,
   "metadata": {},
   "outputs": [],
   "source": [
    "print(res.outputs.f_xy)"
   ]
  },
  {
   "cell_type": "markdown",
   "metadata": {},
   "source": [
    "But not every input needs to be an iterfield."
   ]
  },
  {
   "cell_type": "code",
   "execution_count": null,
   "metadata": {},
   "outputs": [],
   "source": [
    "power_node = MapNode(power, name=\"power\", iterfield=[\"x\"])\n",
    "power_node.inputs.x = [0, 1, 2, 3]\n",
    "power_node.inputs.y = 3\n",
    "res = power_node.run()"
   ]
  },
  {
   "cell_type": "code",
   "execution_count": null,
   "metadata": {},
   "outputs": [],
   "source": [
    "print(res.outputs.f_xy)"
   ]
  },
  {
   "cell_type": "markdown",
   "metadata": {},
   "source": [
    "As in the case of `iterables`, each underlying `MapNode` execution can happen in **parallel**. Hopefully, you see how these tools allow you to write flexible, reusable workflows that will help you process large amounts of data efficiently and reproducibly."
   ]
  },
  {
   "cell_type": "markdown",
   "metadata": {},
   "source": [
    "In more advanced applications it is useful to be able to iterate over items of nested lists (for example ``[[1,2],[3,4]]``). MapNode allows you to do this with the \"nested=True\" parameter. Outputs will preserve the same nested structure as the inputs."
   ]
  },
  {
   "cell_type": "markdown",
   "metadata": {},
   "source": [
    "# Why is this important?\n",
    "\n",
    "Let's consider we have multiple functional images (A) and each of them should be motioned corrected (B1, B2, B3,..). But afterward, we want to put them all together into a GLM, i.e. the input for the GLM should be an array of [B1, B2, B3, ...]. [Iterables](basic_iteration.ipynb) can't do that. They would split up the pipeline. Therefore, we need **MapNodes**.\n",
    "\n",
    "<img src=\"../static/images/mapnode.png\"  width=\"300\">\n",
    "\n",
    "Let's look at a simple example, where we want to motion correct two functional images. For this we need two nodes:\n",
    " - Gunzip, to unzip the files (plural)\n",
    " - Realign, to do the motion correction"
   ]
  },
  {
   "cell_type": "code",
   "execution_count": null,
   "metadata": {},
   "outputs": [],
   "source": [
    "from nipype.algorithms.misc import Gunzip\n",
    "from nipype.interfaces.spm import Realign\n",
    "from nipype import Node, MapNode, Workflow\n",
    "\n",
    "# Here we specify a list of files (for this tutorial, we just add the same file twice)\n",
    "files = ['/data/ds000114/sub-01/ses-test/func/sub-01_ses-test_task-fingerfootlips_bold.nii.gz',\n",
    "         '/data/ds000114/sub-01/ses-test/func/sub-01_ses-test_task-fingerfootlips_bold.nii.gz']\n",
    "\n",
    "realign = Node(Realign(register_to_mean=True),\n",
    "               name='motion_correction')"
   ]
  },
  {
   "cell_type": "markdown",
   "metadata": {},
   "source": [
    "If we try to specify the input for the **Gunzip** node with a simple **Node**, we get the following error:"
   ]
  },
  {
   "cell_type": "code",
   "execution_count": null,
   "metadata": {},
   "outputs": [],
   "source": [
    "gunzip = Node(Gunzip(), name='gunzip',)\n",
    "try:\n",
    "    gunzip.inputs.in_file = files\n",
    "except(Exception) as err:\n",
    "    if \"TraitError\" in str(err.__class__):\n",
    "        print(\"TraitError:\", err)\n",
    "    else:\n",
    "        raise\n",
    "else:\n",
    "    raise"
   ]
  },
  {
   "cell_type": "markdown",
   "metadata": {},
   "source": [
    "```bash\n",
    "TraitError: The 'in_file' trait of a GunzipInputSpec instance must be an existing file name, but a value of ['/data/ds000114/sub-01/ses-test/func/sub-01_ses-test_task-fingerfootlips_bold.nii.gz', '/data/ds000114/sub-01/ses-test/func/sub-01_ses-test_task-fingerfootlips_bold.nii.gz'] <class 'list'> was specified.\n",
    "```"
   ]
  },
  {
   "cell_type": "markdown",
   "metadata": {},
   "source": [
    "But if we do it with a **MapNode**, it works:"
   ]
  },
  {
   "cell_type": "code",
   "execution_count": null,
   "metadata": {},
   "outputs": [],
   "source": [
    "gunzip = MapNode(Gunzip(), name='gunzip',\n",
    "                 iterfield=['in_file'])\n",
    "gunzip.inputs.in_file = files"
   ]
  },
  {
   "cell_type": "markdown",
   "metadata": {},
   "source": [
    "Now, we just have to create a workflow, connect the nodes and we can run it:"
   ]
  },
  {
   "cell_type": "code",
   "execution_count": null,
   "metadata": {},
   "outputs": [],
   "source": [
    "mcflow = Workflow(name='realign_with_spm')\n",
    "mcflow.connect(gunzip, 'out_file', realign, 'in_files')\n",
    "mcflow.base_dir = '/output'\n",
    "mcflow.run('MultiProc', plugin_args={'n_procs': 4})"
   ]
  },
  {
   "cell_type": "markdown",
   "metadata": {},
   "source": [
    "### Exercise 1\n",
    "\n",
    "Create a workflow to calculate a sum of factorials of numbers from a range between $n_{min}$ and $n_{max}$, i.e.:\n",
    "\n",
    "$$\\sum _{k=n_{min}}^{n_{max}} k! = 0! + 1! +2! + 3! + \\cdots$$ \n",
    "\n",
    "if $n_{min}=0$ and $n_{max}=3$\n",
    "$$\\sum _{k=0}^{3} k! = 0! + 1! +2! + 3!  =  1 + 1 + 2 + 6 = 10$$\n",
    "\n",
    "Use ``Node`` for a function that creates a list of integers and a function that sums everything at the end. Use ``MapNode`` to calculate factorials."
   ]
  },
  {
   "cell_type": "code",
   "execution_count": null,
   "metadata": {
    "solution2": "hidden",
    "solution2_first": true
   },
   "outputs": [],
   "source": [
    "#write your solution here"
   ]
  },
  {
   "cell_type": "code",
   "execution_count": null,
   "metadata": {
    "solution2": "hidden"
   },
   "outputs": [],
   "source": [
    "from nipype import Workflow, Node, MapNode, Function\n",
    "import os\n",
    "\n",
    "def range_fun(n_min, n_max):\n",
    "    return list(range(n_min, n_max+1))\n",
    "\n",
    "def factorial(n):\n",
    "    # print(\"FACTORIAL, {}\".format(n))\n",
    "    import math\n",
    "    return math.factorial(n)\n",
    "\n",
    "def summing(terms):\n",
    "    return sum(terms)\n",
    "\n",
    "wf_ex1 = Workflow('ex1')\n",
    "wf_ex1.base_dir = os.getcwd()\n",
    "\n",
    "range_nd = Node(Function(input_names=['n_min', 'n_max'],\n",
    "                         output_names=['range_list'],\n",
    "                         function=range_fun), \n",
    "                name='range_list')\n",
    "\n",
    "factorial_nd = MapNode(Function(input_names=['n'],\n",
    "                                output_names=['fact_out'],\n",
    "                                function=factorial), \n",
    "                       iterfield=['n'],\n",
    "                       name='factorial')\n",
    "\n",
    "summing_nd = Node(Function(input_names=['terms'],\n",
    "                           output_names=['sum_out'],\n",
    "                           function=summing), \n",
    "                  name='summing')\n",
    "\n",
    "\n",
    "range_nd.inputs.n_min = 0\n",
    "range_nd.inputs.n_max = 3\n",
    "\n",
    "wf_ex1.add_nodes([range_nd])\n",
    "wf_ex1.connect(range_nd, 'range_list', factorial_nd, 'n')\n",
    "wf_ex1.connect(factorial_nd, 'fact_out', summing_nd, \"terms\")\n",
    "\n",
    "\n",
    "eg = wf_ex1.run()"
   ]
  },
  {
   "cell_type": "markdown",
   "metadata": {
    "solution2": "hidden"
   },
   "source": [
    "let's print all nodes:"
   ]
  },
  {
   "cell_type": "code",
   "execution_count": null,
   "metadata": {
    "solution2": "hidden"
   },
   "outputs": [],
   "source": [
    "eg.nodes()"
   ]
  },
  {
   "cell_type": "markdown",
   "metadata": {
    "solution2": "hidden"
   },
   "source": [
    "the final result should be 10:"
   ]
  },
  {
   "cell_type": "code",
   "execution_count": null,
   "metadata": {
    "solution2": "hidden"
   },
   "outputs": [],
   "source": [
    "list(eg.nodes())[2].result.outputs"
   ]
  },
  {
   "cell_type": "markdown",
   "metadata": {
    "solution2": "hidden"
   },
   "source": [
    "we can also check the results of two other nodes:"
   ]
  },
  {
   "cell_type": "code",
   "execution_count": null,
   "metadata": {
    "solution2": "hidden"
   },
   "outputs": [],
   "source": [
    "print(list(eg.nodes())[0].result.outputs)\n",
    "print(list(eg.nodes())[1].result.outputs)"
   ]
  }
 ],
 "metadata": {
  "anaconda-cloud": {},
  "kernelspec": {
   "display_name": "Python 3",
   "language": "python",
   "name": "python3"
  },
  "language_info": {
   "codemirror_mode": {
    "name": "ipython",
    "version": 3
   },
   "file_extension": ".py",
   "mimetype": "text/x-python",
   "name": "python",
   "nbconvert_exporter": "python",
   "pygments_lexer": "ipython3",
   "version": "3.7.8"
  }
 },
 "nbformat": 4,
 "nbformat_minor": 2
}
