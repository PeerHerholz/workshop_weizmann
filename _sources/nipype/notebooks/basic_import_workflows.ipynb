{
 "cells": [
  {
   "cell_type": "markdown",
   "metadata": {},
   "source": [
    "# Reusable workflows\n",
    "\n",
    "Nipype doesn't just allow you to create your own workflows. It also already comes with predefined workflows, developed by the community, for the community. For a full list of all workflows, look under the [Workflows](http://nipype.readthedocs.io/en/latest/documentation.html) section of the main homepage.\n",
    "\n",
    "But to give you a short overview, there are workflows about:\n",
    "\n",
    "**Functional MRI** workflows:\n",
    " - from **``fsl``** about ``resting state``, ``fixed_effects``, ``modelfit``, ``featreg``, ``susan_smooth`` and many more\n",
    " - from **``spm``** about ``DARTEL`` and ``VBM``\n",
    "\n",
    "**Structural MRI** workflows\n",
    " - from **``ants``** about ``ANTSBuildTemplate`` and ``antsRegistrationBuildTemplate``\n",
    " - from **``freesurfer``** about ``bem``, ``recon`` and tessellation\n",
    " \n",
    "**Diffusion** workflows:\n",
    " - from **``camino``** about ``connectivity_mapping``,  ``diffusion`` and  ``group_connectivity``\n",
    " - from **``dipy``** about ``denoise``\n",
    " - from **``fsl``** about ``artifacts``, ``dti``, ``epi``, ``tbss`` and many more\n",
    " - from **``mrtrix``** about ``connectivity_mapping``, ``diffusion`` and ``group_connectivity``"
   ]
  },
  {
   "cell_type": "markdown",
   "metadata": {},
   "source": [
    "# How to load a workflow from the Nipype library\n",
    "\n",
    "Let's consider the example of a functional MRI workflow, that uses FSL's Susan algorithm to smooth some data. To load such a workflow, we only need the following command:"
   ]
  },
  {
   "cell_type": "code",
   "execution_count": null,
   "metadata": {},
   "outputs": [],
   "source": [
    "from niflow.nipype1.workflows.fmri.fsl.preprocess import create_susan_smooth\n",
    "smoothwf = create_susan_smooth()"
   ]
  },
  {
   "cell_type": "markdown",
   "metadata": {},
   "source": [
    "Once a workflow is created, we need to make sure that the mandatory inputs are specified. To see which inputs we have to define, we can use the command:\n",
    "\n",
    "``create_susan_smooth?``\n",
    "\n",
    "Which gives us the output:\n",
    "\n",
    "```\n",
    "Create a SUSAN smoothing workflow\n",
    "\n",
    "Parameters\n",
    "----------\n",
    "Inputs:\n",
    "    inputnode.in_files : functional runs (filename or list of filenames)\n",
    "    inputnode.fwhm : fwhm for smoothing with SUSAN\n",
    "    inputnode.mask_file : mask used for estimating SUSAN thresholds (but not for smoothing)\n",
    "\n",
    "Outputs:\n",
    "    outputnode.smoothed_files : functional runs (filename or list of filenames)\n",
    "```"
   ]
  },
  {
   "cell_type": "markdown",
   "metadata": {},
   "source": [
    "As we can see, we also need a mask file. For the sake of convenience, let's take the mean image of a functional image and threshold it at the 50% percentile:"
   ]
  },
  {
   "cell_type": "code",
   "execution_count": null,
   "metadata": {},
   "outputs": [],
   "source": [
    "!fslmaths /data/ds000114/sub-01/ses-test/func/sub-01_ses-test_task-fingerfootlips_bold.nii.gz \\\n",
    "    -Tmean -thrP 50 /output/sub-01_ses-test_task-fingerfootlips_mask.nii.gz"
   ]
  },
  {
   "cell_type": "markdown",
   "metadata": {},
   "source": [
    "Now, we're ready to finish up our smooth workflow."
   ]
  },
  {
   "cell_type": "code",
   "execution_count": null,
   "metadata": {},
   "outputs": [],
   "source": [
    "smoothwf.inputs.inputnode.in_files = '/data/ds000114/sub-01/ses-test/func/sub-01_ses-test_task-fingerfootlips_bold.nii.gz'\n",
    "smoothwf.inputs.inputnode.mask_file = '/output/sub-01_ses-test_task-fingerfootlips_mask.nii.gz'\n",
    "smoothwf.inputs.inputnode.fwhm = 4\n",
    "smoothwf.base_dir = '/output'"
   ]
  },
  {
   "cell_type": "markdown",
   "metadata": {},
   "source": [
    "Before we run it, let's visualize the graph:"
   ]
  },
  {
   "cell_type": "code",
   "execution_count": null,
   "metadata": {},
   "outputs": [],
   "source": [
    "from nilearn import plotting\n",
    "%matplotlib inline\n",
    "import matplotlib.pyplot as plt\n",
    "from IPython.display import Image\n",
    "smoothwf.write_graph(graph2use='colored', format='png', simple_form=True)\n",
    "Image(filename='/output/susan_smooth/graph.png')"
   ]
  },
  {
   "cell_type": "markdown",
   "metadata": {},
   "source": [
    "And we're ready to go:"
   ]
  },
  {
   "cell_type": "code",
   "execution_count": null,
   "metadata": {},
   "outputs": [],
   "source": [
    "smoothwf.run('MultiProc', plugin_args={'n_procs': 4})"
   ]
  },
  {
   "cell_type": "markdown",
   "metadata": {},
   "source": [
    "Once it's finished, we can look at the results:"
   ]
  },
  {
   "cell_type": "code",
   "execution_count": null,
   "metadata": {},
   "outputs": [],
   "source": [
    "%%bash\n",
    "fslmaths /data/ds000114/sub-01/ses-test/func/sub-01_ses-test_task-fingerfootlips_bold.nii.gz -Tmean fmean.nii.gz\n",
    "fslmaths /output/susan_smooth/smooth/mapflow/_smooth0/sub-01_ses-test_task-fingerfootlips_bold_smooth.nii.gz \\\n",
    "    -Tmean smean.nii.gz"
   ]
  },
  {
   "cell_type": "code",
   "execution_count": null,
   "metadata": {},
   "outputs": [],
   "source": [
    "from nilearn import image, plotting"
   ]
  },
  {
   "cell_type": "code",
   "execution_count": null,
   "metadata": {},
   "outputs": [],
   "source": [
    "plotting.plot_epi(\n",
    "    'fmean.nii.gz', title=\"mean (no smoothing)\", display_mode='z',\n",
    "    cmap='gray', cut_coords=(-45, -30, -15, 0, 15));\n",
    "plotting.plot_epi(\n",
    "    'smean.nii.gz', title=\"mean (susan smoothed)\", display_mode='z',\n",
    "    cmap='gray', cut_coords=(-45, -30, -15, 0, 15));"
   ]
  },
  {
   "cell_type": "markdown",
   "metadata": {},
   "source": [
    "# Inspect inputs and outputs of a loaded or created workflow\n",
    "\n",
    "If you want to see a summary of all possible inputs and outputs of a given workflow, use the `_get_inputs()` and the `_get_outputs()` function."
   ]
  },
  {
   "cell_type": "code",
   "execution_count": null,
   "metadata": {},
   "outputs": [],
   "source": [
    "# Show all possible inputs\n",
    "smoothwf._get_inputs()"
   ]
  },
  {
   "cell_type": "code",
   "execution_count": null,
   "metadata": {},
   "outputs": [],
   "source": [
    "# Show all possible outputs\n",
    "smoothwf._get_outputs()"
   ]
  },
  {
   "cell_type": "markdown",
   "metadata": {},
   "source": [
    "# How to change node parameters from existing workflows\n",
    "\n",
    "What if we want to change certain parameters of a loaded or already existing workflow? Let's first get the names of all the nodes in the workflow:"
   ]
  },
  {
   "cell_type": "code",
   "execution_count": null,
   "metadata": {},
   "outputs": [],
   "source": [
    "print(smoothwf.list_node_names())"
   ]
  },
  {
   "cell_type": "markdown",
   "metadata": {},
   "source": [
    "Ok. Hmm, what if we want to change the 'median' node, from 50% to 99%? For this, we first need to get the node."
   ]
  },
  {
   "cell_type": "code",
   "execution_count": null,
   "metadata": {},
   "outputs": [],
   "source": [
    "median = smoothwf.get_node('median')"
   ]
  },
  {
   "cell_type": "markdown",
   "metadata": {},
   "source": [
    "Now that we have the node, we can change its value as we want:"
   ]
  },
  {
   "cell_type": "code",
   "execution_count": null,
   "metadata": {},
   "outputs": [],
   "source": [
    "median.inputs.op_string = '-k %s -p 99'"
   ]
  },
  {
   "cell_type": "markdown",
   "metadata": {},
   "source": [
    "And we can run the workflow again..."
   ]
  },
  {
   "cell_type": "code",
   "execution_count": null,
   "metadata": {},
   "outputs": [],
   "source": [
    "smoothwf.run('MultiProc', plugin_args={'n_procs': 4})"
   ]
  },
  {
   "cell_type": "markdown",
   "metadata": {},
   "source": [
    "And now the output is:"
   ]
  },
  {
   "cell_type": "code",
   "execution_count": null,
   "metadata": {},
   "outputs": [],
   "source": [
    "!fslmaths /output/susan_smooth/smooth/mapflow/_smooth0/sub-01_ses-test_task-fingerfootlips_bold_smooth.nii.gz \\\n",
    "    -Tmean mmean.nii.gz"
   ]
  },
  {
   "cell_type": "code",
   "execution_count": null,
   "metadata": {},
   "outputs": [],
   "source": [
    "from nilearn import image, plotting"
   ]
  },
  {
   "cell_type": "code",
   "execution_count": null,
   "metadata": {},
   "outputs": [],
   "source": [
    "plotting.plot_epi(\n",
    "    'smean.nii.gz', title=\"mean (susan smooth)\", display_mode='z',\n",
    "    cmap='gray', cut_coords=(-45, -30, -15, 0, 15))\n",
    "plotting.plot_epi(\n",
    "    'mmean.nii.gz', title=\"mean (smoothed, median=99%)\", display_mode='z',\n",
    "    cmap='gray', cut_coords=(-45, -30, -15, 0, 15))"
   ]
  }
 ],
 "metadata": {
  "anaconda-cloud": {},
  "kernelspec": {
   "display_name": "Python 3",
   "language": "python",
   "name": "python3"
  },
  "language_info": {
   "codemirror_mode": {
    "name": "ipython",
    "version": 3
   },
   "file_extension": ".py",
   "mimetype": "text/x-python",
   "name": "python",
   "nbconvert_exporter": "python",
   "pygments_lexer": "ipython3",
   "version": "3.7.8"
  }
 },
 "nbformat": 4,
 "nbformat_minor": 2
}
