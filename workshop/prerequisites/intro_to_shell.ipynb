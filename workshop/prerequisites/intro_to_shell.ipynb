{
 "cells": [
  {
   "cell_type": "markdown",
   "source": [
    "## Introduction to the (unix) command line: bash\n",
    "\n",
    "[Peer Herholz (he/him)](https://peerherholz.github.io/)  \n",
    "Postdoctoral researcher - [NeuroDataScience lab](https://neurodatascience.github.io/) at [MNI](https://www.mcgill.ca/neuro/)/[McGill](https://www.mcgill.ca/), [UNIQUE](https://sites.google.com/view/unique-neuro-ai)  \n",
    "Member - [BIDS](https://bids-specification.readthedocs.io/en/stable/), [ReproNim](https://www.repronim.org/), [Brainhack](https://brainhack.org/), [Neuromod](https://www.cneuromod.ca/), [OHBM SEA-SIG](https://ohbm-environment.org/) \n",
    "\n",
    "<img align=\"left\" src=\"https://raw.githubusercontent.com/G0RELLA/gorella_mwn/master/lecture/static/Twitter%20social%20icons%20-%20circle%20-%20blue.png\" alt=\"logo\" title=\"Twitter\" width=\"32\" height=\"20\" /> <img align=\"left\" src=\"https://raw.githubusercontent.com/G0RELLA/gorella_mwn/master/lecture/static/GitHub-Mark-120px-plus.png\" alt=\"logo\" title=\"Github\" width=\"30\" height=\"20\" />   &nbsp;&nbsp;@peerherholz \n",
    "\n",
    "\n",
    "\n",
    "\n"
   ],
   "metadata": {
    "slideshow": {
     "slide_type": "slide"
    }
   }
  },
  {
   "cell_type": "markdown",
   "source": [
    "## Before we get started 1...\n",
    "<br>\n",
    "\n",
    "- most of what you’ll see within this lecture was prepared by Ross Markello and further adapted by Peer Herholz \n",
    "- based on the Software Carpentries \"[Introduction to the Shell](https://swcarpentry.github.io/shell-novice/)\" under CC-BY 4.0\n",
    "\n"
   ],
   "metadata": {
    "slideshow": {
     "slide_type": "subslide"
    }
   }
  },
  {
   "cell_type": "markdown",
   "source": [
    "## Before we get started 2...\n",
    "    \n",
    "We're going to be working with a dataset from https://swcarpentry.github.io/shell-novice/data/data-shell.zip.\n",
    "\n",
    "Download that file and unzip it on your Desktop!\n",
    "\n",
    "(The link will be poste so you can just click on it.)"
   ],
   "metadata": {
    "slideshow": {
     "slide_type": "subslide"
    }
   }
  },
  {
   "cell_type": "markdown",
   "source": [
    "## Goals\n",
    "\n",
    "* learn basic and efficient usage of the shell for various tasks\n",
    "    * navigating directories\n",
    "    * file handling: copy, paste, create, delete"
   ],
   "metadata": {
    "slideshow": {
     "slide_type": "slide"
    }
   }
  },
  {
   "cell_type": "markdown",
   "source": [
    "## What is the \"shell\"?\n",
    "\n",
    "* The shell is a **command-line interface** (CLI) to your computer\n",
    "    * This is in contrast to the **graphical user interfaces** (GUIs) that you normally use!\n",
    "* The shell is _also_ a scripting language that can be used to automate repetitive tasks"
   ],
   "metadata": {
    "slideshow": {
     "slide_type": "slide"
    }
   }
  },
  {
   "cell_type": "markdown",
   "source": [
    "### But what's this \"bash shell\"?\n",
    "\n",
    "It's one of many available shells!\n",
    "\n",
    "* `sh` - Bourne **SH**ell\n",
    "* `ksh` - **K**orn **SH**ell\n",
    "* `dash` - **D**ebian **A**lmquist **SH**ell\n",
    "* `csh` - **C** **SH**ell\n",
    "* `tcsh` - **T**ENEX **C** **SH**ell\n",
    "* `zsh` - **Z** **SH**ell\n",
    "* `bash` - **B**ourne **A**gain **SH**ell  <-- We'll focus on this one!"
   ],
   "metadata": {
    "slideshow": {
     "slide_type": "subslide"
    }
   }
  },
  {
   "cell_type": "markdown",
   "source": [
    "### WHY so many?\n"
   ],
   "metadata": {
    "slideshow": {
     "slide_type": "slide"
    }
   }
  },
  {
   "cell_type": "markdown",
   "source": [
    "* They all have different strengths / weaknesses\n",
    "* You will see many of them throughout much of neuroimaging software, too!\n",
    "    * `sh` is most frequently used in FSL\n",
    "    * `csh`/`tcsh` is very common in FreeSurfer and AFNI"
   ],
   "metadata": {
    "slideshow": {
     "slide_type": "fragment"
    }
   }
  },
  {
   "cell_type": "markdown",
   "source": [
    "### So we're going to focus on the bash shell?\n",
    "\n",
    "Yes! It's perhaps **the most common** shell, available on almost every OS:\n",
    "\n",
    "* It's the default shell on most Linux systems\n",
    "* It's the default shell in the Windows Subsytem for Linux (WSL)\n",
    "* It's the default shell on Mac <=10.14\n",
    "    * `zsh` is the new default on Mac Catalina (for licensing reasons 🙄)\n",
    "    * But `bash` is still available!!"
   ],
   "metadata": {
    "slideshow": {
     "slide_type": "subslide"
    }
   }
  },
  {
   "cell_type": "markdown",
   "source": [
    "### Alright, but why use the shell at all?\n",
    "\n",
    "Isn't the GUI good enough?\n",
    "\n",
    "* Yes, but the shell is **very powerful**\n",
    "* Sequences of shell commands can be strung together to quickly and reproducibly make powerful pipelines\n",
    "* Also, you need to use the shell to accesss remote machine / high-performance computing environments (like Compute Canada)"
   ],
   "metadata": {
    "slideshow": {
     "slide_type": "subslide"
    }
   }
  },
  {
   "cell_type": "markdown",
   "source": [
    "**NOTE:** We will not be able to cover all (or even most) aspects of the shell today. \n",
    "\n",
    "But, we'll get through some _basics_ that you can build on going forward."
   ],
   "metadata": {
    "slideshow": {
     "slide_type": "fragment"
    }
   }
  },
  {
   "cell_type": "markdown",
   "source": [
    "## The (bash) shell\n",
    "\n",
    "Now, let's open up your terminal!\n",
    "\n",
    "* **Windows**: Open the Ubuntu application\n",
    "* **Mac/Linux**: Open the Terminal"
   ],
   "metadata": {
    "slideshow": {
     "slide_type": "slide"
    }
   }
  },
  {
   "cell_type": "markdown",
   "source": [
    "\n",
    "When the shell is first opened, you are presented with a prompt, indicating that the shell is waiting for input:\n",
    "\n",
    "```\n",
    "$\n",
    "```\n",
    "\n",
    "The shell typically uses `$` as the prompt, but may use a different symbol.\n",
    "\n",
    "**IMPORTANT:** When typing commands, either in this lesson or from other sources, **do not type the prompt**, only the commands that follow it!"
   ],
   "metadata": {
    "slideshow": {
     "slide_type": "fragment"
    }
   }
  },
  {
   "cell_type": "markdown",
   "source": [
    "### Am I using bash?\n",
    "\n",
    "Let's check! You can use the following command to determine what shell you're using:"
   ],
   "metadata": {
    "slideshow": {
     "slide_type": "subslide"
    }
   }
  },
  {
   "cell_type": "code",
   "execution_count": 1,
   "source": [
    "echo $SHELL"
   ],
   "outputs": [
    {
     "output_type": "stream",
     "name": "stdout",
     "text": [
      "/bin/bash\n"
     ]
    }
   ],
   "metadata": {
    "slideshow": {
     "slide_type": "fragment"
    }
   }
  },
  {
   "cell_type": "markdown",
   "source": [
    "If that doesn't say something like `/bin/bash`, then simply type `bash`, press Enter, and try running the command again.\n",
    "\n",
    "- then simply type `bash`, press `Enter`, and try running the command again\n",
    "- there might be other ways depending on your `OS/installation`, **please let us know**\n",
    "\n",
    "**Note**: The `echo` command does exactly what its name implies: it simply echoes whatever we provide it to the screen!\n",
    "\n",
    "(It's like `print` in Python / R or `disp` in MATLAB or `printf` in C or ...)"
   ],
   "metadata": {
    "slideshow": {
     "slide_type": "subslide"
    }
   }
  },
  {
   "cell_type": "markdown",
   "source": [
    "### What's with the `$SHELL`?\n",
    "\n",
    "* Things prefixed with `$` in bash are (mostly) **environmental variables** \n",
    "    * All programming languages have variables!\n",
    "* We can assign variables in bash but when we want to reference them we need to add the `$` prefix\n",
    "* We'll dig into this a bit more later, but by default our shell comes with some preset variables\n",
    "    * `$SHELL` is one of them!"
   ],
   "metadata": {
    "slideshow": {
     "slide_type": "subslide"
    }
   }
  },
  {
   "cell_type": "markdown",
   "source": [
    "Soooo, let's try our ~first~ second command in bash!\n",
    "\n",
    "This command lists the contents of our current directory:"
   ],
   "metadata": {
    "slideshow": {
     "slide_type": "subslide"
    }
   }
  },
  {
   "cell_type": "code",
   "execution_count": 2,
   "source": [
    "ls"
   ],
   "outputs": [
    {
     "output_type": "stream",
     "name": "stdout",
     "text": [
      "CoC.md                        outline.md\n",
      "Introduction.pdf              overview.md\n",
      "\u001b[1m\u001b[34m_build\u001b[39;49m\u001b[0m                        procedure.md\n",
      "_config.yml                   project_data_management.md\n",
      "_toc.yml                      projects.md\n",
      "conf.py                       questionnaires.md\n",
      "data_analyses.md              results_communication.md\n",
      "index.md                      \u001b[1m\u001b[34mstatic\u001b[39;49m\u001b[0m\n",
      "intro_to_git_and_github.ipynb symposium.md\n",
      "intro_to_shell.ipynb\n"
     ]
    }
   ],
   "metadata": {
    "slideshow": {
     "slide_type": "fragment"
    }
   }
  },
  {
   "cell_type": "markdown",
   "source": [
    "What happens if we make a typo? Or if the program we want isn't installed on our computer?\n",
    "\n",
    "Will the computer magically understand what we were trying to do?"
   ],
   "metadata": {
    "slideshow": {
     "slide_type": "subslide"
    }
   }
  },
  {
   "cell_type": "code",
   "execution_count": 3,
   "source": [
    "ks"
   ],
   "outputs": [
    {
     "output_type": "stream",
     "name": "stdout",
     "text": [
      "bash: ks: command not found\n"
     ]
    },
    {
     "output_type": "error",
     "ename": "",
     "evalue": "127",
     "traceback": []
    }
   ],
   "metadata": {
    "slideshow": {
     "slide_type": "fragment"
    }
   }
  },
  {
   "cell_type": "markdown",
   "source": [
    "Nope! But you will get a (moderately) helpful error message 😁"
   ],
   "metadata": {
    "slideshow": {
     "slide_type": "fragment"
    }
   }
  },
  {
   "cell_type": "markdown",
   "source": [
    "### The cons of the CLI\n",
    "\n",
    "* You need to know the names of the commands you want to run!\n",
    "* Sometimes, commands are not immediately obvious\n",
    "    * E.g., why `ls` over `list_contents`?"
   ],
   "metadata": {
    "slideshow": {
     "slide_type": "subslide"
    }
   }
  },
  {
   "cell_type": "markdown",
   "source": [
    "### Key Points\n",
    "\n",
    "* A shell is a program whose primary purpose is to accept commands and run programs\n",
    "* The shell’s main advantages are its high action-to-keystroke ratio, its support for automating repetitive tasks, and its capacity to access remote machines\n",
    "* The shell’s main disadvantages are its primarily textual nature and how cryptic its commands and operation can be"
   ],
   "metadata": {
    "slideshow": {
     "slide_type": "subslide"
    }
   }
  },
  {
   "cell_type": "markdown",
   "source": [
    "## Navigating Files and Directories\n",
    "\n",
    "* The **file system** is the part of our operating system for managing files and directories\n",
    "* There are a lot of commands to create/inspect/rename/delete files + directories\n",
    "    * Indeed these are perhaps the most common commands you'll be using in the shell!"
   ],
   "metadata": {
    "slideshow": {
     "slide_type": "slide"
    }
   }
  },
  {
   "cell_type": "markdown",
   "source": [
    "### So where are we right now?\n",
    "\n",
    "* When we open our terminal we are placed *somewhere* in the file system!\n",
    "    * At any time while using the shell we are in exactly one place\n",
    "* Commands mostly read / write / operate on files wherever we are, so it's important to know that!\n",
    "* We can find our **current working directory** with the following command:"
   ],
   "metadata": {
    "slideshow": {
     "slide_type": "subslide"
    }
   }
  },
  {
   "cell_type": "code",
   "execution_count": 4,
   "source": [
    "pwd"
   ],
   "outputs": [
    {
     "output_type": "stream",
     "name": "stdout",
     "text": [
      "/Users/peerherholz/google_drive/GitHub/gorella_mwn/lecture\n"
     ]
    }
   ],
   "metadata": {
    "slideshow": {
     "slide_type": "fragment"
    }
   }
  },
  {
   "cell_type": "markdown",
   "source": [
    "* Many bash commands are acronyms or abbreviations (to try and help you remember them).\n",
    "    * The above command, `pwd`, is an acronym for \"**p**rint **w**orking **d**irectory\""
   ],
   "metadata": {
    "slideshow": {
     "slide_type": "fragment"
    }
   }
  },
  {
   "cell_type": "markdown",
   "source": [
    "### OS-dependent paths\n",
    "\n",
    "* The printed directory may look different depending on your operating system\n",
    "    * Though if you're all on Linux / Mac / WSL it _should_ look something like the above...\n",
    "* On Windows you may see something like: `C:\\Users\\grogu`\n",
    "    * We'll be assuming the `/Users/grogu` notation for the rest of these examples!"
   ],
   "metadata": {
    "slideshow": {
     "slide_type": "subslide"
    }
   }
  },
  {
   "cell_type": "markdown",
   "source": [
    "### The file system\n",
    "Let's take a look at an example file-system:\n",
    "<img src=\"http://swcarpentry.github.io/shell-novice/fig/filesystem.svg\" width=\"400px\" style=\"margin-bottom: 10px;float: right\">\n",
    "\n",
    "* The top is the **root directory**, which holds the ENTIRE FILE SYSTEM. \n",
    "* Inside are several other directories:\n",
    "    * `bin` contains some built-in programs\n",
    "    * `data` is where we store miscellaneous data files\n",
    "    * `Users` is where personal user directories are\n",
    "    * `tmp` is for temporary storage of files\n",
    "* Our current directory is inside `Users`!\n"
   ],
   "metadata": {
    "slideshow": {
     "slide_type": "subslide"
    }
   }
  },
  {
   "cell_type": "markdown",
   "source": [
    "### The file system\n",
    "Let's take a look at an example file-system:\n",
    "<img src=\"http://swcarpentry.github.io/shell-novice/fig/filesystem.svg\" width=\"400px\" style=\"margin-bottom: 10px;float: right\">\n",
    "\n",
    "\n",
    "#### The `/` character\n",
    "\n",
    "* Refers to the root directory when it appears at the start of a path\n",
    "* Is used as a separator between directories when it appears inside a path"
   ],
   "metadata": {
    "slideshow": {
     "slide_type": "subslide"
    }
   }
  },
  {
   "cell_type": "markdown",
   "source": [
    "### Inside `Users`\n",
    "* The `Users` directory contains different folders for the different users on your computer\n",
    "* If you are the only user on your computer then there is likely only one!\n",
    "    * But shared computers can have multiple\n",
    "* When you open a new terminal it defaults to your home directory (e.g., `/Users/nelle` or `/Users/grogu`)\n",
    "\n",
    "<img src=\"http://swcarpentry.github.io/shell-novice/fig/home-directories.svg\" width=\"400px\" style=\"margin-bottom: 10px;float: right\">\n"
   ],
   "metadata": {
    "slideshow": {
     "slide_type": "subslide"
    }
   }
  },
  {
   "cell_type": "markdown",
   "source": [
    "So let's remind ourselves how to see where we are and figure out what's in our directory:"
   ],
   "metadata": {
    "slideshow": {
     "slide_type": "subslide"
    }
   }
  },
  {
   "cell_type": "code",
   "execution_count": 5,
   "source": [
    "pwd"
   ],
   "outputs": [
    {
     "output_type": "stream",
     "name": "stdout",
     "text": [
      "/Users/peerherholz/google_drive/GitHub/gorella_mwn/lecture\n"
     ]
    }
   ],
   "metadata": {
    "slideshow": {
     "slide_type": "fragment"
    }
   }
  },
  {
   "cell_type": "code",
   "execution_count": 6,
   "source": [
    "ls"
   ],
   "outputs": [
    {
     "output_type": "stream",
     "name": "stdout",
     "text": [
      "CoC.md                        outline.md\n",
      "Introduction.pdf              overview.md\n",
      "\u001b[1m\u001b[34m_build\u001b[39;49m\u001b[0m                        procedure.md\n",
      "_config.yml                   project_data_management.md\n",
      "_toc.yml                      projects.md\n",
      "conf.py                       questionnaires.md\n",
      "data_analyses.md              results_communication.md\n",
      "index.md                      \u001b[1m\u001b[34mstatic\u001b[39;49m\u001b[0m\n",
      "intro_to_git_and_github.ipynb symposium.md\n",
      "intro_to_shell.ipynb\n"
     ]
    }
   ],
   "metadata": {
    "slideshow": {
     "slide_type": "fragment"
    }
   }
  },
  {
   "cell_type": "markdown",
   "source": [
    "(Your results are likely different than this!)"
   ],
   "metadata": {
    "slideshow": {
     "slide_type": "subslide"
    }
   }
  },
  {
   "cell_type": "markdown",
   "source": [
    "`ls`, as we saw before, prints the contents of your **current working directory**. \n",
    "\n",
    "We can make it tell us a bit more information about our directory by providing an **option** to the `ls` command:"
   ],
   "metadata": {
    "slideshow": {
     "slide_type": "subslide"
    }
   }
  },
  {
   "cell_type": "code",
   "execution_count": 7,
   "source": [
    "ls -F"
   ],
   "outputs": [
    {
     "output_type": "stream",
     "name": "stdout",
     "text": [
      "CoC.md                         outline.md\n",
      "Introduction.pdf               overview.md\n",
      "\u001b[1m\u001b[34m_build\u001b[39;49m\u001b[0m/                        procedure.md\n",
      "_config.yml                    project_data_management.md\n",
      "_toc.yml                       projects.md\n",
      "conf.py                        questionnaires.md\n",
      "data_analyses.md               results_communication.md\n",
      "index.md                       \u001b[1m\u001b[34mstatic\u001b[39;49m\u001b[0m/\n",
      "intro_to_git_and_github.ipynb  symposium.md\n",
      "intro_to_shell.ipynb\n"
     ]
    }
   ],
   "metadata": {
    "scrolled": true,
    "slideshow": {
     "slide_type": "fragment"
    }
   }
  },
  {
   "cell_type": "markdown",
   "source": [
    "This `-F` option adds a helpful marker to the end of each of the listed contents:\n",
    "\n",
    "* A `/` indicates it's a directory\n",
    "* A `@` indicates it's a link\n",
    "* A `*` indicates it's an executable\n",
    "\n",
    "(Your contents may also be color coded depending on your default options!)\n",
    "\n",
    "Note: our home directory contains only **sub-directories**."
   ],
   "metadata": {
    "slideshow": {
     "slide_type": "subslide"
    }
   }
  },
  {
   "cell_type": "markdown",
   "source": [
    "### General syntax of a shell command\n",
    "\n",
    "Consider this command as a general example:"
   ],
   "metadata": {
    "slideshow": {
     "slide_type": "subslide"
    }
   }
  },
  {
   "cell_type": "code",
   "execution_count": 8,
   "source": [
    "ls -F /"
   ],
   "outputs": [
    {
     "output_type": "stream",
     "name": "stdout",
     "text": [
      "\u001b[1m\u001b[34mApplications\u001b[39;49m\u001b[0m/ \u001b[1m\u001b[34mVolumes\u001b[39;49m\u001b[0m/      \u001b[1m\u001b[35metc\u001b[39;49m\u001b[0m@          \u001b[1m\u001b[34msbin\u001b[39;49m\u001b[0m/\n",
      "\u001b[1m\u001b[34mLibrary\u001b[39;49m\u001b[0m/      \u001b[1m\u001b[34mbin\u001b[39;49m\u001b[0m/          \u001b[1m\u001b[35mhome\u001b[39;49m\u001b[0m@         \u001b[1m\u001b[35mtmp\u001b[39;49m\u001b[0m@\n",
      "\u001b[1m\u001b[34mSystem\u001b[39;49m\u001b[0m/       \u001b[1m\u001b[34mcores\u001b[39;49m\u001b[0m/        \u001b[1m\u001b[34mopt\u001b[39;49m\u001b[0m/          \u001b[1m\u001b[34musr\u001b[39;49m\u001b[0m/\n",
      "\u001b[1m\u001b[34mUsers\u001b[39;49m\u001b[0m/        \u001b[1m\u001b[34mdev\u001b[39;49m\u001b[0m/          \u001b[1m\u001b[34mprivate\u001b[39;49m\u001b[0m/      \u001b[1m\u001b[35mvar\u001b[39;49m\u001b[0m@\n"
     ]
    }
   ],
   "metadata": {
    "slideshow": {
     "slide_type": "fragment"
    }
   }
  },
  {
   "cell_type": "markdown",
   "source": [
    "We have:\n",
    "\n",
    "1. A **command** (`ls`), \n",
    "2. An **option** (`-F`), also called a **flag** or a **switch**, and\n",
    "3. An **argument** (`/`)"
   ],
   "metadata": {
    "slideshow": {
     "slide_type": "fragment"
    }
   }
  },
  {
   "cell_type": "markdown",
   "source": [
    "#### Options (a.k.a. flags, switches)\n",
    "\n",
    "* Options change the behavior of a command\n",
    "* They generally start with either a `-` or `--`\n",
    "* They are case sensitive!"
   ],
   "metadata": {
    "slideshow": {
     "slide_type": "subslide"
    }
   }
  },
  {
   "cell_type": "markdown",
   "source": [
    "For example, `ls -s` will display the size of the contents of the provided directory:"
   ],
   "metadata": {
    "slideshow": {
     "slide_type": "fragment"
    }
   }
  },
  {
   "cell_type": "code",
   "execution_count": 10,
   "source": [
    "#cd /mnt/c/Users/my_user_name --> for the windows people\n",
    "ls -s Desktop/data-shell/data"
   ],
   "outputs": [
    {
     "output_type": "stream",
     "name": "stdout",
     "text": [
      "total 208\n",
      "  8 amino-acids.txt   0 \u001b[1m\u001b[34melements\u001b[39;49m\u001b[0m         24 planets.txt\n",
      "  0 \u001b[1m\u001b[34manimal-counts\u001b[39;49m\u001b[0m     8 morse.txt         8 salmon.txt\n",
      "  8 animals.txt       0 \u001b[1m\u001b[34mpdb\u001b[39;49m\u001b[0m             152 sunspot.txt\n"
     ]
    }
   ],
   "metadata": {
    "slideshow": {
     "slide_type": "fragment"
    }
   }
  },
  {
   "cell_type": "markdown",
   "source": [
    "Whereas `ls -S` will sort the contents of the provided directory *by size*:"
   ],
   "metadata": {
    "slideshow": {
     "slide_type": "subslide"
    }
   }
  },
  {
   "cell_type": "code",
   "execution_count": 11,
   "source": [
    "ls -S Desktop/data-shell/data"
   ],
   "outputs": [
    {
     "output_type": "stream",
     "name": "stdout",
     "text": [
      "sunspot.txt     \u001b[1m\u001b[34melements\u001b[39;49m\u001b[0m        morse.txt       animals.txt     salmon.txt\n",
      "planets.txt     \u001b[1m\u001b[34mpdb\u001b[39;49m\u001b[0m             amino-acids.txt \u001b[1m\u001b[34manimal-counts\u001b[39;49m\u001b[0m\n"
     ]
    }
   ],
   "metadata": {
    "slideshow": {
     "slide_type": "fragment"
    }
   }
  },
  {
   "cell_type": "markdown",
   "source": [
    "#### Options (cont'd)\n",
    "\n",
    "What happens if I type an invalid option?"
   ],
   "metadata": {
    "slideshow": {
     "slide_type": "subslide"
    }
   }
  },
  {
   "cell_type": "code",
   "execution_count": 12,
   "source": [
    "ls -j"
   ],
   "outputs": [
    {
     "output_type": "stream",
     "name": "stdout",
     "text": [
      "ls: illegal option -- j\n",
      "usage: ls [-@ABCFGHLOPRSTUWabcdefghiklmnopqrstuwx1%] [file ...]\n"
     ]
    },
    {
     "output_type": "error",
     "ename": "",
     "evalue": "1",
     "traceback": []
    }
   ],
   "metadata": {
    "slideshow": {
     "slide_type": "fragment"
    }
   }
  },
  {
   "cell_type": "markdown",
   "source": [
    "Again, we get a (somewhat) helpful error message!"
   ],
   "metadata": {
    "slideshow": {
     "slide_type": "fragment"
    }
   }
  },
  {
   "cell_type": "markdown",
   "source": [
    "#### Arguments (a.k.a parameters)\n",
    "\n",
    "* These tell the command what to operate on!\n",
    "* They are only *sometimes* optional (as with `ls`)\n",
    "    * In these cases, providing them will also change the behavior of the command!"
   ],
   "metadata": {
    "slideshow": {
     "slide_type": "subslide"
    }
   }
  },
  {
   "cell_type": "code",
   "execution_count": 13,
   "source": [
    "ls"
   ],
   "outputs": [
    {
     "output_type": "stream",
     "name": "stdout",
     "text": [
      "\u001b[1m\u001b[34m9f5be43423d459ab66fa70a9d8459d335dd7fc852b052131c7387879ba6a97e6\u001b[39;49m\u001b[0m\n",
      "=\n",
      "=0.11\n",
      "=0.6.0\n",
      "\u001b[1m\u001b[34mApplications\u001b[39;49m\u001b[0m\n",
      "\u001b[1m\u001b[34mDesktop\u001b[39;49m\u001b[0m\n",
      "\u001b[1m\u001b[34mDocuments\u001b[39;49m\u001b[0m\n",
      "\u001b[1m\u001b[34mDownloads\u001b[39;49m\u001b[0m\n",
      "\u001b[1m\u001b[34mDropbox\u001b[39;49m\u001b[0m\n",
      "LICENSE\n",
      "\u001b[1m\u001b[34mLibrary\u001b[39;49m\u001b[0m\n",
      "\u001b[1m\u001b[34mMovies\u001b[39;49m\u001b[0m\n",
      "\u001b[1m\u001b[34mMusic\u001b[39;49m\u001b[0m\n",
      "\u001b[1m\u001b[34mPictures\u001b[39;49m\u001b[0m\n",
      "\u001b[1m\u001b[34mPublic\u001b[39;49m\u001b[0m\n",
      "README.md\n",
      "\u001b[1m\u001b[34mSites\u001b[39;49m\u001b[0m\n",
      "Untitled.ipynb\n",
      "Untitled1.ipynb\n",
      "Untitled2.ipynb\n",
      "Untitled3.ipynb\n",
      "Untitled4.ipynb\n",
      "Vagrantfile\n",
      "\u001b[1m\u001b[34mVirtualBox VMs\u001b[39;49m\u001b[0m\n",
      "\u001b[1m\u001b[34mZotero\u001b[39;49m\u001b[0m\n",
      "\u001b[1m\u001b[34manaconda3\u001b[39;49m\u001b[0m\n",
      "dirname\n",
      "\u001b[1m\u001b[34mgoogle_drive\u001b[39;49m\u001b[0m\n",
      "license.txt\n",
      "master\n",
      "\u001b[1m\u001b[34mmatlab\u001b[39;49m\u001b[0m\n",
      "mriqc.def\n",
      "\u001b[1m\u001b[34mneurodocler\u001b[39;49m\u001b[0m\n",
      "\u001b[1m\u001b[34mneuroquery_data\u001b[39;49m\u001b[0m\n",
      "newfile_tmp.txt\n",
      "\u001b[1m\u001b[34mnilearn_cache\u001b[39;49m\u001b[0m\n",
      "\u001b[1m\u001b[34mnilearn_data\u001b[39;49m\u001b[0m\n",
      "overlay_with_test.ipynb\n",
      "package-lock.json\n",
      "peerh@login.bic.mni.mcgill.ca\n",
      "repronim_container.ipynb\n",
      "results.out\n",
      "\u001b[1m\u001b[34mseaborn-data\u001b[39;49m\u001b[0m\n",
      "sub-06_task-mvs_run-02_events.tsv\n",
      "\u001b[1m\u001b[34mtest\u001b[39;49m\u001b[0m\n",
      "\u001b[1m\u001b[34mthesis\u001b[39;49m\u001b[0m\n",
      "\u001b[1m\u001b[34mvm-singularity\u001b[39;49m\u001b[0m\n",
      "z_30_perm-max.nii.gz\n"
     ]
    }
   ],
   "metadata": {
    "slideshow": {
     "slide_type": "fragment"
    }
   }
  },
  {
   "cell_type": "code",
   "execution_count": 14,
   "source": [
    "ls Desktop/data-shell/data"
   ],
   "outputs": [
    {
     "output_type": "stream",
     "name": "stdout",
     "text": [
      "amino-acids.txt animals.txt     morse.txt       planets.txt     sunspot.txt\n",
      "\u001b[1m\u001b[34manimal-counts\u001b[39;49m\u001b[0m   \u001b[1m\u001b[34melements\u001b[39;49m\u001b[0m        \u001b[1m\u001b[34mpdb\u001b[39;49m\u001b[0m             salmon.txt\n"
     ]
    }
   ],
   "metadata": {
    "slideshow": {
     "slide_type": "subslide"
    }
   }
  },
  {
   "cell_type": "markdown",
   "source": [
    "#### Getting help\n",
    "\n",
    "`ls` has **lots** of options. How can we find out about them?\n",
    "\n",
    "Either `man ls` or `ls --help`!  \n",
    "This will vary depending on: (1) the command and (2) your operating system!  \n",
    "Generally try `man` first:"
   ],
   "metadata": {
    "slideshow": {
     "slide_type": "subslide"
    }
   }
  },
  {
   "cell_type": "code",
   "execution_count": 15,
   "source": [
    "man ls"
   ],
   "outputs": [
    {
     "output_type": "stream",
     "name": "stdout",
     "text": [
      "\n",
      "LS(1)                     BSD General Commands Manual                    LS(1)\n",
      "\n",
      "NAME\n",
      "     ls -- list directory contents\n",
      "\n",
      "SYNOPSIS\n",
      "     ls [-ABCFGHLOPRSTUW@abcdefghiklmnopqrstuwx1%] [file ...]\n",
      "\n",
      "DESCRIPTION\n",
      "     For each operand that names a file of a type other than directory, ls\n",
      "     displays its name as well as any requested, associated information.  For\n",
      "     each operand that names a file of type directory, ls displays the names\n",
      "     of files contained within that directory, as well as any requested, asso-\n",
      "     ciated information.\n",
      "\n",
      "     If no operands are given, the contents of the current directory are dis-\n",
      "     played.  If more than one operand is given, non-directory operands are\n",
      "     displayed first; directory and non-directory operands are sorted sepa-\n",
      "     rately and in lexicographical order.\n",
      "\n",
      "     The following options are available:\n",
      "\n",
      "     -@      Display extended attribute keys and sizes in long (-l) output.\n",
      "\n",
      "     -1      (The numeric digit ``one''.)  Force output to be one entry per\n",
      "             line.  This is the default when output is not to a terminal.\n",
      "\n",
      "     -A      List all entries except for . and ...  Always set for the super-\n",
      "             user.\n",
      "\n",
      "     -a      Include directory entries whose names begin with a dot (.).\n",
      "\n",
      "     -B      Force printing of non-printable characters (as defined by\n",
      "             ctype(3) and current locale settings) in file names as \\xxx,\n",
      "             where xxx is the numeric value of the character in octal.\n",
      "\n",
      "     -b      As -B, but use C escape codes whenever possible.\n",
      "\n",
      "     -C      Force multi-column output; this is the default when output is to\n",
      "             a terminal.\n",
      "\n",
      "     -c      Use time when file status was last changed for sorting (-t) or\n",
      "             long printing (-l).\n",
      "\n",
      "     -d      Directories are listed as plain files (not searched recursively).\n",
      "\n",
      "     -e      Print the Access Control List (ACL) associated with the file, if\n",
      "             present, in long (-l) output.\n",
      "\n",
      "     -F      Display a slash (`/') immediately after each pathname that is a\n",
      "             directory, an asterisk (`*') after each that is executable, an at\n",
      "             sign (`@') after each symbolic link, an equals sign (`=') after\n",
      "             each socket, a percent sign (`%') after each whiteout, and a ver-\n",
      "             tical bar (`|') after each that is a FIFO.\n",
      "\n",
      "     -f      Output is not sorted.  This option turns on the -a option.\n",
      "\n",
      "     -G      Enable colorized output.  This option is equivalent to defining\n",
      "             CLICOLOR in the environment.  (See below.)\n",
      "\n",
      "     -g      This option is only available for compatibility with POSIX; it is\n",
      "             used to display the group name in the long (-l) format output\n",
      "             (the owner name is suppressed).\n",
      "\n",
      "     -H      Symbolic links on the command line are followed.  This option is\n",
      "             assumed if none of the -F, -d, or -l options are specified.\n",
      "\n",
      "     -h      When used with the -l option, use unit suffixes: Byte, Kilobyte,\n",
      "             Megabyte, Gigabyte, Terabyte and Petabyte in order to reduce the\n",
      "             number of digits to three or less using base 2 for sizes.\n",
      "\n",
      "     -i      For each file, print the file's file serial number (inode num-\n",
      "             ber).\n",
      "\n",
      "     -k      If the -s option is specified, print the file size allocation in\n",
      "             kilobytes, not blocks.  This option overrides the environment\n",
      "             variable BLOCKSIZE.\n",
      "\n",
      "     -L      Follow all symbolic links to final target and list the file or\n",
      "             directory the link references rather than the link itself.  This\n",
      "             option cancels the -P option.\n",
      "\n",
      "     -l      (The lowercase letter ``ell''.)  List in long format.  (See\n",
      "             below.)  A total sum for all the file sizes is output on a line\n",
      "             before the long listing.\n",
      "\n",
      "     -m      Stream output format; list files across the page, separated by\n",
      "             commas.\n",
      "\n",
      "     -n      Display user and group IDs numerically, rather than converting to\n",
      "             a user or group name in a long (-l) output.  This option turns on\n",
      "             the -l option.\n",
      "\n",
      "     -O      Include the file flags in a long (-l) output.\n",
      "\n",
      "     -o      List in long format, but omit the group id.\n",
      "\n",
      "     -P      If argument is a symbolic link, list the link itself rather than\n",
      "             the object the link references.  This option cancels the -H and\n",
      "             -L options.\n",
      "\n",
      "     -p      Write a slash (`/') after each filename if that file is a direc-\n",
      "             tory.\n",
      "\n",
      "     -q      Force printing of non-graphic characters in file names as the\n",
      "             character `?'; this is the default when output is to a terminal.\n",
      "\n",
      "     -R      Recursively list subdirectories encountered.\n",
      "\n",
      "     -r      Reverse the order of the sort to get reverse lexicographical\n",
      "             order or the oldest entries first (or largest files last, if com-\n",
      "             bined with sort by size\n",
      "\n",
      "     -S      Sort files by size\n",
      "\n",
      "     -s      Display the number of file system blocks actually used by each\n",
      "             file, in units of 512 bytes, where partial units are rounded up\n",
      "             to the next integer value.  If the output is to a terminal, a\n",
      "             total sum for all the file sizes is output on a line before the\n",
      "             listing.  The environment variable BLOCKSIZE overrides the unit\n",
      "             size of 512 bytes.\n",
      "\n",
      "     -T      When used with the -l (lowercase letter ``ell'') option, display\n",
      "             complete time information for the file, including month, day,\n",
      "             hour, minute, second, and year.\n",
      "\n",
      "     -t      Sort by time modified (most recently modified first) before sort-\n",
      "             ing the operands by lexicographical order.\n",
      "\n",
      "     -u      Use time of last access, instead of last modification of the file\n",
      "             for sorting (-t) or long printing (-l).\n",
      "\n",
      "     -U      Use time of file creation, instead of last modification for sort-\n",
      "             ing (-t) or long output (-l).\n",
      "\n",
      "     -v      Force unedited printing of non-graphic characters; this is the\n",
      "             default when output is not to a terminal.\n",
      "\n",
      "     -W      Display whiteouts when scanning directories.  (-S) flag).\n",
      "\n",
      "     -w      Force raw printing of non-printable characters.  This is the\n",
      "             default when output is not to a terminal.\n",
      "\n",
      "     -x      The same as -C, except that the multi-column output is produced\n",
      "             with entries sorted across, rather than down, the columns.\n",
      "\n",
      "     -%      Distinguish dataless files and directories with a '%' character\n",
      "             in long (-l) output, and don't materialize dataless directories\n",
      "             when listing them.\n",
      "\n",
      "     The -1, -C, -x, and -l options all override each other; the last one\n",
      "     specified determines the format used.\n",
      "\n",
      "     The -c and -u options override each other; the last one specified deter-\n",
      "     mines the file time used.\n",
      "\n",
      "     The -B, -b, -w, and -q options all override each other; the last one\n",
      "     specified determines the format used for non-printable characters.\n",
      "\n",
      "     The -H, -L and -P options all override each other (either partially or\n",
      "     fully); they are applied in the order specified.\n",
      "\n",
      "     By default, ls lists one entry per line to standard output; the excep-\n",
      "     tions are to terminals or when the -C or -x options are specified.\n",
      "\n",
      "     File information is displayed with one or more <blank>s separating the\n",
      "     information associated with the -i, -s, and -l options.\n",
      "\n",
      "   The Long Format\n",
      "     If the -l option is given, the following information is displayed for\n",
      "     each file: file mode, number of links, owner name, group name, number of\n",
      "     bytes in the file, abbreviated month, day-of-month file was last modi-\n",
      "     fied, hour file last modified, minute file last modified, and the path-\n",
      "     name.  In addition, for each directory whose contents are displayed, the\n",
      "     total number of 512-byte blocks used by the files in the directory is\n",
      "     displayed on a line by itself, immediately before the information for the\n",
      "     files in the directory.  If the file or directory has extended\n",
      "     attributes, the permissions field printed by the -l option is followed by\n",
      "     a '@' character.  Otherwise, if the file or directory has extended secu-\n",
      "     rity information (such as an access control list), the permissions field\n"
     ]
    },
    {
     "output_type": "stream",
     "name": "stdout",
     "text": [
      "     printed by the -l option is followed by a '+' character.  If the -%\n",
      "     option is given, a '%' character follows the permissions field for data-\n",
      "     less files and directories, possibly replacing the '@' or '+' character.\n",
      "\n",
      "     If the modification time of the file is more than 6 months in the past or\n",
      "     future, then the year of the last modification is displayed in place of\n",
      "     the hour and minute fields.\n",
      "\n",
      "     If the owner or group names are not a known user or group name, or the -n\n",
      "     option is given, the numeric ID's are displayed.\n",
      "\n",
      "     If the file is a character special or block special file, the major and\n",
      "     minor device numbers for the file are displayed in the size field.  If\n",
      "     the file is a symbolic link, the pathname of the linked-to file is pre-\n",
      "     ceded by ``->''.\n",
      "\n",
      "     The file mode printed under the -l option consists of the entry type,\n",
      "     owner permissions, and group permissions.  The entry type character\n",
      "     describes the type of file, as follows:\n",
      "\n",
      "           b     Block special file.\n",
      "           c     Character special file.\n",
      "           d     Directory.\n",
      "           l     Symbolic link.\n",
      "           s     Socket link.\n",
      "           p     FIFO.\n",
      "           -     Regular file.\n",
      "\n",
      "     The next three fields are three characters each: owner permissions, group\n",
      "     permissions, and other permissions.  Each field has three character posi-\n",
      "     tions:\n",
      "\n",
      "           1.   If r, the file is readable; if -, it is not readable.\n",
      "\n",
      "           2.   If w, the file is writable; if -, it is not writable.\n",
      "\n",
      "           3.   The first of the following that applies:\n",
      "\n",
      "                      S     If in the owner permissions, the file is not exe-\n",
      "                            cutable and set-user-ID mode is set.  If in the\n",
      "                            group permissions, the file is not executable and\n",
      "                            set-group-ID mode is set.\n",
      "\n",
      "                      s     If in the owner permissions, the file is exe-\n",
      "                            cutable and set-user-ID mode is set.  If in the\n",
      "                            group permissions, the file is executable and set-\n",
      "                            group-ID mode is set.\n",
      "\n",
      "                      x     The file is executable or the directory is search-\n",
      "                            able.\n",
      "\n",
      "                      -     The file is neither readable, writable, exe-\n",
      "                            cutable, nor set-user-ID nor set-group-ID mode,\n",
      "                            nor sticky.  (See below.)\n",
      "\n",
      "                These next two apply only to the third character in the last\n",
      "                group (other permissions).\n",
      "\n",
      "                      T     The sticky bit is set (mode 1000), but not execute\n",
      "                            or search permission.  (See chmod(1) or\n",
      "                            sticky(8).)\n",
      "\n",
      "                      t     The sticky bit is set (mode 1000), and is search-\n",
      "                            able or executable.  (See chmod(1) or sticky(8).)\n",
      "\n",
      "EXAMPLES\n",
      "     The following is how to do an ls listing sorted by increasing size\n",
      "\n",
      "           ls -lrS\n",
      "\n",
      "DIAGNOSTICS\n",
      "     The ls utility exits 0 on success, and >0 if an error occurs.\n",
      "\n",
      "ENVIRONMENT\n",
      "     The following environment variables affect the execution of ls:\n",
      "\n",
      "     BLOCKSIZE       If the environment variable BLOCKSIZE is set, the block\n",
      "                     counts (see -s) will be displayed in units of that size\n",
      "                     block.\n",
      "\n",
      "     CLICOLOR        Use ANSI color sequences to distinguish file types.  See\n",
      "                     LSCOLORS below.  In addition to the file types mentioned\n",
      "                     in the -F option some extra attributes (setuid bit set,\n",
      "                     etc.) are also displayed.  The colorization is dependent\n",
      "                     on a terminal type with the proper termcap(5) capabili-\n",
      "                     ties.  The default ``cons25'' console has the proper\n",
      "                     capabilities, but to display the colors in an xterm(1),\n",
      "                     for example, the TERM variable must be set to\n",
      "                     ``xterm-color''.  Other terminal types may require simi-\n",
      "                     lar adjustments.  Colorization is silently disabled if\n",
      "                     the output isn't directed to a terminal unless the\n",
      "                     CLICOLOR_FORCE variable is defined.\n",
      "\n",
      "     CLICOLOR_FORCE  Color sequences are normally disabled if the output isn't\n",
      "                     directed to a terminal.  This can be overridden by set-\n",
      "                     ting this flag.  The TERM variable still needs to refer-\n",
      "                     ence a color capable terminal however otherwise it is not\n",
      "                     possible to determine which color sequences to use.\n",
      "\n",
      "     COLUMNS         If this variable contains a string representing a decimal\n",
      "                     integer, it is used as the column position width for dis-\n",
      "                     playing multiple-text-column output.  The ls utility cal-\n",
      "                     culates how many pathname text columns to display based\n",
      "                     on the width provided.  (See -C and -x.)\n",
      "\n",
      "     LANG            The locale to use when determining the order of day and\n",
      "                     month in the long -l format output.  See environ(7) for\n",
      "                     more information.\n",
      "\n",
      "     LSCOLORS        The value of this variable describes what color to use\n",
      "                     for which attribute when colors are enabled with\n",
      "                     CLICOLOR.  This string is a concatenation of pairs of the\n",
      "                     format fb, where f is the foreground color and b is the\n",
      "                     background color.\n",
      "\n",
      "                     The color designators are as follows:\n",
      "\n",
      "                           a     black\n",
      "                           b     red\n",
      "                           c     green\n",
      "                           d     brown\n",
      "                           e     blue\n",
      "                           f     magenta\n",
      "                           g     cyan\n",
      "                           h     light grey\n",
      "                           A     bold black, usually shows up as dark grey\n",
      "                           B     bold red\n",
      "                           C     bold green\n",
      "                           D     bold brown, usually shows up as yellow\n",
      "                           E     bold blue\n",
      "                           F     bold magenta\n",
      "                           G     bold cyan\n",
      "                           H     bold light grey; looks like bright white\n",
      "                           x     default foreground or background\n",
      "\n",
      "                     Note that the above are standard ANSI colors.  The actual\n",
      "                     display may differ depending on the color capabilities of\n",
      "                     the terminal in use.\n",
      "\n",
      "                     The order of the attributes are as follows:\n",
      "\n",
      "                           1.   directory\n",
      "                           2.   symbolic link\n",
      "                           3.   socket\n",
      "                           4.   pipe\n",
      "                           5.   executable\n",
      "                           6.   block special\n",
      "                           7.   character special\n",
      "                           8.   executable with setuid bit set\n",
      "                           9.   executable with setgid bit set\n",
      "                           10.  directory writable to others, with sticky bit\n",
      "                           11.  directory writable to others, without sticky\n",
      "                                bit\n",
      "\n",
      "                     The default is \"exfxcxdxbxegedabagacad\", i.e. blue fore-\n",
      "                     ground and default background for regular directories,\n",
      "                     black foreground and red background for setuid executa-\n",
      "                     bles, etc.\n",
      "\n",
      "     LS_COLWIDTHS    If this variable is set, it is considered to be a colon-\n",
      "                     delimited list of minimum column widths.  Unreasonable\n",
      "                     and insufficient widths are ignored (thus zero signifies\n",
      "                     a dynamically sized column).  Not all columns have\n",
      "                     changeable widths.  The fields are, in order: inode,\n",
      "                     block count, number of links, user name, group name,\n",
      "                     flags, file size, file name.\n",
      "\n",
      "     TERM            The CLICOLOR functionality depends on a terminal type\n"
     ]
    },
    {
     "output_type": "stream",
     "name": "stdout",
     "text": [
      "                     with color capabilities.\n",
      "\n",
      "     TZ              The timezone to use when displaying dates.  See\n",
      "                     environ(7) for more information.\n",
      "\n",
      "COMPATIBILITY\n",
      "     The group field is now automatically included in the long listing for\n",
      "     files in order to be compatible with the IEEE Std 1003.2 (``POSIX.2'')\n",
      "     specification.\n",
      "\n",
      "LEGACY DESCRIPTION\n",
      "     In legacy mode, the -f option does not turn on the -a option and the -g,\n",
      "     -n, and -o options do not turn on the -l option.\n",
      "\n",
      "     Also, the -o option causes the file flags to be included in a long (-l)\n",
      "     output; there is no -O option.\n",
      "\n",
      "     When -H is specified (and not overridden by -L or -P) and a file argument\n",
      "     is a symlink that resolves to a non-directory file, the output will\n",
      "     reflect the nature of the link, rather than that of the file.  In legacy\n",
      "     operation, the output will describe the file.\n",
      "\n",
      "     For more information about legacy mode, see compat(5).\n",
      "\n",
      "SEE ALSO\n",
      "     chflags(1), chmod(1), sort(1), xterm(1), compat(5), termcap(5),\n",
      "     symlink(7), sticky(8)\n",
      "\n",
      "STANDARDS\n",
      "     The ls utility conforms to IEEE Std 1003.1-2001 (``POSIX.1'').\n",
      "\n",
      "HISTORY\n",
      "     An ls command appeared in Version 1 AT&T UNIX.\n",
      "\n",
      "BUGS\n",
      "     To maintain backward compatibility, the relationships between the many\n",
      "     options are quite complex.\n",
      "\n",
      "BSD                              May 19, 2002                              BSD\n"
     ]
    }
   ],
   "metadata": {
    "scrolled": true,
    "slideshow": {
     "slide_type": "fragment"
    }
   }
  },
  {
   "cell_type": "markdown",
   "source": [
    "When you run that command in a terminal, your terminal will be turned into a page that can be navigated via:\n",
    "\n",
    "* The `↑` / `↓` arrows (move up/down one line)\n",
    "* The `B` / `Spacebar` keys (move up/down one page), or t\n",
    "* The scroll bar (if you're lucky!)\n",
    "\n",
    "To quit and get your \"old\" terminal back, press `q`!"
   ],
   "metadata": {
    "slideshow": {
     "slide_type": "subslide"
    }
   }
  },
  {
   "cell_type": "markdown",
   "source": [
    "### Combining options\n",
    "\n",
    "You can use multiple options at the same time! If the options are single letters (like most of those with `ls`), you can combine them with the same `-` flag:"
   ],
   "metadata": {
    "slideshow": {
     "slide_type": "subslide"
    }
   }
  },
  {
   "cell_type": "code",
   "execution_count": 16,
   "source": [
    "ls -sS Desktop/data-shell/data"
   ],
   "outputs": [
    {
     "output_type": "stream",
     "name": "stdout",
     "text": [
      "total 208\n",
      "152 sunspot.txt       0 \u001b[1m\u001b[34mpdb\u001b[39;49m\u001b[0m               8 animals.txt\n",
      " 24 planets.txt       8 morse.txt         0 \u001b[1m\u001b[34manimal-counts\u001b[39;49m\u001b[0m\n",
      "  0 \u001b[1m\u001b[34melements\u001b[39;49m\u001b[0m          8 amino-acids.txt   8 salmon.txt\n"
     ]
    }
   ],
   "metadata": {
    "slideshow": {
     "slide_type": "fragment"
    }
   }
  },
  {
   "cell_type": "markdown",
   "source": [
    "### Exercise:\n",
    "\n",
    "1. Using the `man ls`, find out how the `-l` option should change the behavior of `ls`."
   ],
   "metadata": {
    "slideshow": {
     "slide_type": "subslide"
    }
   }
  },
  {
   "cell_type": "code",
   "execution_count": null,
   "source": [
    "ls -l Desktop/data-shell/data"
   ],
   "outputs": [],
   "metadata": {
    "slideshow": {
     "slide_type": "fragment"
    }
   }
  },
  {
   "cell_type": "markdown",
   "source": [
    "### Exercise:\n",
    "\n",
    "2. Now, find out how the `-h` option should change the behavior of `ls`."
   ],
   "metadata": {
    "slideshow": {
     "slide_type": "subslide"
    }
   }
  },
  {
   "cell_type": "code",
   "execution_count": null,
   "source": [
    "ls -h Desktop/data-shell/data"
   ],
   "outputs": [],
   "metadata": {
    "slideshow": {
     "slide_type": "fragment"
    }
   }
  },
  {
   "cell_type": "markdown",
   "source": [
    "### Exercise:\n",
    "\n",
    "3. What will happen when we use them *together*?"
   ],
   "metadata": {
    "slideshow": {
     "slide_type": "subslide"
    }
   }
  },
  {
   "cell_type": "code",
   "execution_count": null,
   "source": [
    "ls -lh Desktop/data-shell/data"
   ],
   "outputs": [],
   "metadata": {
    "slideshow": {
     "slide_type": "fragment"
    }
   }
  },
  {
   "cell_type": "markdown",
   "source": [
    "### Exercise:\n",
    "\n",
    "* `ls` lists contents in alphabetical order by default.\n",
    "* The `-t` option lists items by the time they were last modified (instead of alphabetically)\n",
    "* The `-r` option lists the contents of a direcotry in reverse order\n",
    "\n",
    "**Question**: What file is displayed **last** when you type `ls -tr`?"
   ],
   "metadata": {
    "slideshow": {
     "slide_type": "subslide"
    }
   }
  },
  {
   "cell_type": "code",
   "execution_count": null,
   "source": [
    "ls -tr"
   ],
   "outputs": [],
   "metadata": {
    "scrolled": true,
    "slideshow": {
     "slide_type": "fragment"
    }
   }
  },
  {
   "cell_type": "markdown",
   "source": [
    "**Answer**: The most recently changed file is listed last!"
   ],
   "metadata": {
    "slideshow": {
     "slide_type": "subslide"
    }
   }
  },
  {
   "cell_type": "markdown",
   "source": [
    "### Exploring other directories\n",
    "\n",
    "Providing an argument to `ls` lets us list the content of other directories (besides our current working directory):"
   ],
   "metadata": {
    "slideshow": {
     "slide_type": "subslide"
    }
   }
  },
  {
   "cell_type": "code",
   "execution_count": 17,
   "source": [
    "ls -F Desktop"
   ],
   "outputs": [
    {
     "output_type": "stream",
     "name": "stdout",
     "text": [
      "\u001b[1m\u001b[34mBrainStat\u001b[39;49m\u001b[0m/            \u001b[1m\u001b[34mdata\u001b[39;49m\u001b[0m/                 \u001b[1m\u001b[34mmlcn_workshop\u001b[39;49m\u001b[0m/\n",
      "\u001b[1m\u001b[34mbidsonym_test\u001b[39;49m\u001b[0m/        \u001b[1m\u001b[34mdata-shell\u001b[39;49m\u001b[0m/           \u001b[1m\u001b[34mwalkthrough\u001b[39;49m\u001b[0m/\n",
      "\u001b[1m\u001b[34mbidsonym_test_backup\u001b[39;49m\u001b[0m/ \u001b[1m\u001b[34mmisc\u001b[39;49m\u001b[0m/\n"
     ]
    }
   ],
   "metadata": {
    "slideshow": {
     "slide_type": "fragment"
    }
   }
  },
  {
   "cell_type": "markdown",
   "source": [
    "(For those of you on Mac + Linux: this should match what you *see* on your desktop! For those of you using the WSL: this will be a bit different, unfortunately.)"
   ],
   "metadata": {
    "slideshow": {
     "slide_type": "subslide"
    }
   }
  },
  {
   "cell_type": "markdown",
   "source": [
    "We can now do two things:\n",
    "\n",
    "1. List the contents of one of the directories on our Desktop:"
   ],
   "metadata": {
    "slideshow": {
     "slide_type": "subslide"
    }
   }
  },
  {
   "cell_type": "code",
   "execution_count": 18,
   "source": [
    "ls -F Desktop/data-shell"
   ],
   "outputs": [
    {
     "output_type": "stream",
     "name": "stdout",
     "text": [
      "\u001b[1m\u001b[34mcreatures\u001b[39;49m\u001b[0m/          \u001b[1m\u001b[34mmolecules\u001b[39;49m\u001b[0m/          notes.txt           solar.pdf\n",
      "\u001b[1m\u001b[34mdata\u001b[39;49m\u001b[0m/               \u001b[1m\u001b[34mnorth-pacific-gyre\u001b[39;49m\u001b[0m/ pizza.cfg           \u001b[1m\u001b[34mwriting\u001b[39;49m\u001b[0m/\n"
     ]
    }
   ],
   "metadata": {
    "slideshow": {
     "slide_type": "fragment"
    }
   }
  },
  {
   "cell_type": "markdown",
   "source": [
    "We can now do two things:\n",
    "\n",
    "2. Actually *change* to a different directory, moving out of our home directory"
   ],
   "metadata": {
    "slideshow": {
     "slide_type": "subslide"
    }
   }
  },
  {
   "cell_type": "code",
   "execution_count": 19,
   "source": [
    "#cd /mnt/c/Users/my_user_name/Desktop -> windows\n",
    "cd Desktop"
   ],
   "outputs": [],
   "metadata": {
    "slideshow": {
     "slide_type": "fragment"
    }
   }
  },
  {
   "cell_type": "code",
   "execution_count": 20,
   "source": [
    "cd data-shell"
   ],
   "outputs": [],
   "metadata": {
    "slideshow": {
     "slide_type": "fragment"
    }
   }
  },
  {
   "cell_type": "code",
   "execution_count": 21,
   "source": [
    "cd data"
   ],
   "outputs": [],
   "metadata": {
    "slideshow": {
     "slide_type": "fragment"
    }
   }
  },
  {
   "cell_type": "markdown",
   "source": [
    "The `cd` command (**c**hange **d**irectory) changes the **shell's idea** of what directory we're in.\n",
    "\n",
    "The above commands will change us, one-by-one, into `Desktop`, then `data-shell`, then `data`.\n",
    "\n",
    "Note the lack of output! This is normal for `cd`."
   ],
   "metadata": {
    "slideshow": {
     "slide_type": "fragment"
    }
   }
  },
  {
   "cell_type": "markdown",
   "source": [
    "### Where are we now?\n",
    "\n",
    "Let's check our **current working directory**:"
   ],
   "metadata": {
    "slideshow": {
     "slide_type": "subslide"
    }
   }
  },
  {
   "cell_type": "code",
   "execution_count": 22,
   "source": [
    "pwd"
   ],
   "outputs": [
    {
     "output_type": "stream",
     "name": "stdout",
     "text": [
      "/Users/peerherholz/Desktop/data-shell/data\n"
     ]
    }
   ],
   "metadata": {
    "slideshow": {
     "slide_type": "fragment"
    }
   }
  },
  {
   "cell_type": "markdown",
   "source": [
    "And the contents of the directory (once more):"
   ],
   "metadata": {
    "slideshow": {
     "slide_type": "fragment"
    }
   }
  },
  {
   "cell_type": "code",
   "execution_count": 23,
   "source": [
    "ls -F"
   ],
   "outputs": [
    {
     "output_type": "stream",
     "name": "stdout",
     "text": [
      "amino-acids.txt  \u001b[1m\u001b[34melements\u001b[39;49m\u001b[0m/        planets.txt\n",
      "\u001b[1m\u001b[34manimal-counts\u001b[39;49m\u001b[0m/   morse.txt        salmon.txt\n",
      "animals.txt      \u001b[1m\u001b[34mpdb\u001b[39;49m\u001b[0m/             sunspot.txt\n"
     ]
    }
   ],
   "metadata": {
    "slideshow": {
     "slide_type": "fragment"
    }
   }
  },
  {
   "cell_type": "markdown",
   "source": [
    "### How do I get out of here?\n",
    "\n",
    "We can go \"down\" into directories, but what about reversing that? What if I want to go back to `data-shell`?"
   ],
   "metadata": {
    "slideshow": {
     "slide_type": "subslide"
    }
   }
  },
  {
   "cell_type": "code",
   "execution_count": 24,
   "source": [
    "cd data-shell"
   ],
   "outputs": [
    {
     "output_type": "stream",
     "name": "stdout",
     "text": [
      "bash: cd: data-shell: No such file or directory\n"
     ]
    },
    {
     "output_type": "error",
     "ename": "",
     "evalue": "1",
     "traceback": []
    }
   ],
   "metadata": {
    "slideshow": {
     "slide_type": "fragment"
    }
   }
  },
  {
   "cell_type": "markdown",
   "source": [
    "Nope! `cd` can only see *inside* your current directory. \n",
    "\n",
    "There's a special notation to move one directory up:"
   ],
   "metadata": {
    "slideshow": {
     "slide_type": "fragment"
    }
   }
  },
  {
   "cell_type": "code",
   "execution_count": 25,
   "source": [
    "cd .."
   ],
   "outputs": [],
   "metadata": {
    "slideshow": {
     "slide_type": "fragment"
    }
   }
  },
  {
   "cell_type": "markdown",
   "source": [
    "Here, `..` refers to \"the directory containing this one\". This is also called the **parent** of the current directory.\n",
    "\n",
    "Let's check that we are where we think we are:"
   ],
   "metadata": {
    "slideshow": {
     "slide_type": "subslide"
    }
   }
  },
  {
   "cell_type": "code",
   "execution_count": 26,
   "source": [
    "pwd"
   ],
   "outputs": [
    {
     "output_type": "stream",
     "name": "stdout",
     "text": [
      "/Users/peerherholz/Desktop/data-shell\n"
     ]
    }
   ],
   "metadata": {
    "slideshow": {
     "slide_type": "fragment"
    }
   }
  },
  {
   "cell_type": "markdown",
   "source": [
    "### Seeing the unseen\n",
    "\n",
    "`ls` is supposed to list the contents of our directory, but we didn't see `..` anywhere in the listings from before, right?\n",
    "\n",
    "`..` is a special directory that is normally hidden. We can provide an additional argument to `ls` to make it appear:"
   ],
   "metadata": {
    "slideshow": {
     "slide_type": "subslide"
    }
   }
  },
  {
   "cell_type": "code",
   "execution_count": 27,
   "source": [
    "ls -Fa"
   ],
   "outputs": [
    {
     "output_type": "stream",
     "name": "stdout",
     "text": [
      "\u001b[1m\u001b[34m.\u001b[39;49m\u001b[0m/                  \u001b[1m\u001b[34mcreatures\u001b[39;49m\u001b[0m/          \u001b[1m\u001b[34mnorth-pacific-gyre\u001b[39;49m\u001b[0m/ solar.pdf\n",
      "\u001b[1m\u001b[34m..\u001b[39;49m\u001b[0m/                 \u001b[1m\u001b[34mdata\u001b[39;49m\u001b[0m/               notes.txt           \u001b[1m\u001b[34mwriting\u001b[39;49m\u001b[0m/\n",
      ".bash_profile       \u001b[1m\u001b[34mmolecules\u001b[39;49m\u001b[0m/          pizza.cfg\n"
     ]
    }
   ],
   "metadata": {
    "slideshow": {
     "slide_type": "fragment"
    }
   }
  },
  {
   "cell_type": "markdown",
   "source": [
    "The `-a` argument (show **a**ll contents) will list ALL the contents of our current directory, including special and hidden files/directories, like:\n",
    "\n",
    "* `..`, which refers to the parent directory\n",
    "* `.`, which refers to the current working directory"
   ],
   "metadata": {
    "slideshow": {
     "slide_type": "subslide"
    }
   }
  },
  {
   "cell_type": "markdown",
   "source": [
    "### Hidden files\n",
    "\n",
    "The last command also revealed a `.bash_profile` file:"
   ],
   "metadata": {
    "slideshow": {
     "slide_type": "subslide"
    }
   }
  },
  {
   "cell_type": "code",
   "execution_count": 28,
   "source": [
    "ls -Fa"
   ],
   "outputs": [
    {
     "output_type": "stream",
     "name": "stdout",
     "text": [
      "\u001b[1m\u001b[34m.\u001b[39;49m\u001b[0m/                  \u001b[1m\u001b[34mcreatures\u001b[39;49m\u001b[0m/          \u001b[1m\u001b[34mnorth-pacific-gyre\u001b[39;49m\u001b[0m/ solar.pdf\n",
      "\u001b[1m\u001b[34m..\u001b[39;49m\u001b[0m/                 \u001b[1m\u001b[34mdata\u001b[39;49m\u001b[0m/               notes.txt           \u001b[1m\u001b[34mwriting\u001b[39;49m\u001b[0m/\n",
      ".bash_profile       \u001b[1m\u001b[34mmolecules\u001b[39;49m\u001b[0m/          pizza.cfg\n"
     ]
    }
   ],
   "metadata": {
    "slideshow": {
     "slide_type": "fragment"
    }
   }
  },
  {
   "cell_type": "markdown",
   "source": [
    "The `.` prefix is usually reserved for configuration files, and prevents them from cluttering the terminal when you use `ls`."
   ],
   "metadata": {
    "slideshow": {
     "slide_type": "subslide"
    }
   }
  },
  {
   "cell_type": "markdown",
   "source": [
    "### `pwd`, `cd`, and `ls`\n",
    "\n",
    "These are some of **the most** common commands you'll use in the shell! So let's learn a little more about them."
   ],
   "metadata": {
    "slideshow": {
     "slide_type": "subslide"
    }
   }
  },
  {
   "cell_type": "code",
   "execution_count": 29,
   "source": [
    "cd"
   ],
   "outputs": [],
   "metadata": {
    "slideshow": {
     "slide_type": "fragment"
    }
   }
  },
  {
   "cell_type": "markdown",
   "source": [
    "`cd` optionally takes no arguments. But where does that land us?"
   ],
   "metadata": {
    "slideshow": {
     "slide_type": "fragment"
    }
   }
  },
  {
   "cell_type": "code",
   "execution_count": 30,
   "source": [
    "pwd"
   ],
   "outputs": [
    {
     "output_type": "stream",
     "name": "stdout",
     "text": [
      "/Users/peerherholz\n"
     ]
    }
   ],
   "metadata": {
    "slideshow": {
     "slide_type": "fragment"
    }
   }
  },
  {
   "cell_type": "markdown",
   "source": [
    "In our home directory! This is *incredibly* useful if you've gotten lost.\n",
    "\n",
    "Let's go back to the `data` directory:"
   ],
   "metadata": {
    "slideshow": {
     "slide_type": "subslide"
    }
   }
  },
  {
   "cell_type": "code",
   "execution_count": 31,
   "source": [
    "cd Desktop/data-shell/data"
   ],
   "outputs": [],
   "metadata": {
    "slideshow": {
     "slide_type": "fragment"
    }
   }
  },
  {
   "cell_type": "code",
   "execution_count": 32,
   "source": [
    "pwd"
   ],
   "outputs": [
    {
     "output_type": "stream",
     "name": "stdout",
     "text": [
      "/Users/peerherholz/Desktop/data-shell/data\n"
     ]
    }
   ],
   "metadata": {
    "slideshow": {
     "slide_type": "fragment"
    }
   }
  },
  {
   "cell_type": "markdown",
   "source": [
    "We can string together paths with the `/` separator instead of changing one directory at a time!"
   ],
   "metadata": {
    "slideshow": {
     "slide_type": "fragment"
    }
   }
  },
  {
   "cell_type": "markdown",
   "source": [
    "### Relative versus absolute paths\n",
    "\n",
    "We've been using **relative** paths to change directories and list their contents.\n",
    "\n",
    "Relative here indicates that the path is **relative to your current working directory**.\n",
    "\n",
    "The alternative is an **absolute** path, which includes the entire path starting at the root directory (`/`).\n",
    "\n",
    "This is what's been printed with `pwd`:"
   ],
   "metadata": {
    "slideshow": {
     "slide_type": "subslide"
    }
   }
  },
  {
   "cell_type": "code",
   "execution_count": 33,
   "source": [
    "pwd"
   ],
   "outputs": [
    {
     "output_type": "stream",
     "name": "stdout",
     "text": [
      "/Users/peerherholz/Desktop/data-shell/data\n"
     ]
    }
   ],
   "metadata": {
    "slideshow": {
     "slide_type": "fragment"
    }
   }
  },
  {
   "cell_type": "markdown",
   "source": [
    "We can provide absolute paths to our commands and they'll work, too:"
   ],
   "metadata": {
    "slideshow": {
     "slide_type": "subslide"
    }
   }
  },
  {
   "cell_type": "code",
   "execution_count": 34,
   "source": [
    "cd /Users/peerherholz/Desktop/data-shell"
   ],
   "outputs": [],
   "metadata": {
    "slideshow": {
     "slide_type": "fragment"
    }
   }
  },
  {
   "cell_type": "code",
   "execution_count": 35,
   "source": [
    "pwd"
   ],
   "outputs": [
    {
     "output_type": "stream",
     "name": "stdout",
     "text": [
      "/Users/peerherholz/Desktop/data-shell\n"
     ]
    }
   ],
   "metadata": {
    "slideshow": {
     "slide_type": "fragment"
    }
   }
  },
  {
   "cell_type": "code",
   "execution_count": 36,
   "source": [
    "ls -F"
   ],
   "outputs": [
    {
     "output_type": "stream",
     "name": "stdout",
     "text": [
      "\u001b[1m\u001b[34mcreatures\u001b[39;49m\u001b[0m/          \u001b[1m\u001b[34mmolecules\u001b[39;49m\u001b[0m/          notes.txt           solar.pdf\n",
      "\u001b[1m\u001b[34mdata\u001b[39;49m\u001b[0m/               \u001b[1m\u001b[34mnorth-pacific-gyre\u001b[39;49m\u001b[0m/ pizza.cfg           \u001b[1m\u001b[34mwriting\u001b[39;49m\u001b[0m/\n"
     ]
    }
   ],
   "metadata": {
    "slideshow": {
     "slide_type": "fragment"
    }
   }
  },
  {
   "cell_type": "markdown",
   "source": [
    "### Some helpful shortcuts"
   ],
   "metadata": {
    "slideshow": {
     "slide_type": "subslide"
    }
   }
  },
  {
   "cell_type": "markdown",
   "source": [
    "#### `~`\n",
    "\n",
    "The shell will interpret the `~` tilde character as \"your home directory\". \n",
    "\n",
    "That is, `cd ~`, `cd`, and `cd /Users/peerherholz` will all get me to the same place!"
   ],
   "metadata": {
    "slideshow": {
     "slide_type": "fragment"
    }
   }
  },
  {
   "cell_type": "code",
   "execution_count": 37,
   "source": [
    "cd ~"
   ],
   "outputs": [],
   "metadata": {
    "slideshow": {
     "slide_type": "fragment"
    }
   }
  },
  {
   "cell_type": "code",
   "execution_count": 38,
   "source": [
    "pwd"
   ],
   "outputs": [
    {
     "output_type": "stream",
     "name": "stdout",
     "text": [
      "/Users/peerherholz\n"
     ]
    }
   ],
   "metadata": {
    "slideshow": {
     "slide_type": "fragment"
    }
   }
  },
  {
   "cell_type": "markdown",
   "source": [
    "If you're unsure, you can determine what your home directory is via the environmental variable `$HOME` (like we did with `$SHELL` before!):"
   ],
   "metadata": {
    "slideshow": {
     "slide_type": "subslide"
    }
   }
  },
  {
   "cell_type": "code",
   "execution_count": 39,
   "source": [
    "echo $HOME"
   ],
   "outputs": [
    {
     "output_type": "stream",
     "name": "stdout",
     "text": [
      "/Users/peerherholz\n"
     ]
    }
   ],
   "metadata": {
    "slideshow": {
     "slide_type": "fragment"
    }
   }
  },
  {
   "cell_type": "markdown",
   "source": [
    "#### `-`\n",
    "\n",
    "The shell will interpret the `-` character as \"wherever you were last\".\n",
    "\n",
    "Unlike `..`, which moves us \"up\" one directory, `-` will bring you BACK. \n",
    "\n",
    "We were just in `/Users/peerherholz/Desktop/data-shell` and then changed to `/Users/peerherholz` so `cd -` should bring us back:"
   ],
   "metadata": {
    "slideshow": {
     "slide_type": "fragment"
    }
   }
  },
  {
   "cell_type": "code",
   "execution_count": 40,
   "source": [
    "cd -"
   ],
   "outputs": [
    {
     "output_type": "stream",
     "name": "stdout",
     "text": [
      "/Users/peerherholz/Desktop/data-shell\n"
     ]
    }
   ],
   "metadata": {
    "slideshow": {
     "slide_type": "fragment"
    }
   }
  },
  {
   "cell_type": "markdown",
   "source": [
    "### Absolute vs Relative Paths:\n",
    "\n",
    "Starting from `/Users/amanda/data`, which of the following commands could Amanda use to navigate to her home directory, which is `/Users/amanda`?\n",
    "\n",
    "1. `cd .`\n",
    "2. `cd /`\n",
    "3. `cd /home/amanda`\n",
    "4. `cd ../..`\n",
    "5. `cd ~`\n",
    "6. `cd home`\n",
    "7. `cd ~/data/..`\n",
    "8. `cd`\n",
    "9. `cd ..`"
   ],
   "metadata": {
    "slideshow": {
     "slide_type": "subslide"
    }
   }
  },
  {
   "cell_type": "markdown",
   "source": [
    "1. No: `.` refers to the **current working directory**\n",
    "2. No: `/` refers to the **root directory**\n",
    "3. No: Amanda's home directory is `/Users/amanda`\n",
    "4. No: this goes up two levels, to `Users`\n",
    "5. Yes: `~` refers to the home directory, which is `Users/amanda`.\n",
    "6. No: this would navigate to the `hom` directory inside `Users/amanda/data` (if it exists)\n",
    "7. Yes: unnecesarily complicated, but correct\n",
    "8. Yes: this is a shortcut to go back to the user's home directory!\n",
    "9. Yes: this goes up one directory, to `/Users/amanda`"
   ],
   "metadata": {
    "slideshow": {
     "slide_type": "subslide"
    }
   }
  },
  {
   "cell_type": "markdown",
   "source": [
    "### Relative Path Resolution:\n",
    "\n",
    "Based on the following diagram, if `pwd` displays `/Users/thing`, what will `ls -F ../backup` display?\n",
    "\n",
    "1. `../backup: No such file or directory`\n",
    "2. `2012-12-01 2013-01-08 2013-01-27`\n",
    "3. `2012-12-01/ 2013-01-08/ 2013-01-27/`\n",
    "4. `original/ pnas_final/ pnas_sub/`\n",
    "\n",
    "<img src=\"http://swcarpentry.github.io/shell-novice/fig/filesystem-challenge.svg\" style=\"margin-bottom: 10px;float: right\">"
   ],
   "metadata": {
    "slideshow": {
     "slide_type": "subslide"
    }
   }
  },
  {
   "cell_type": "markdown",
   "source": [
    "1. No: there *is* a directory `backup` in `Users`"
   ],
   "metadata": {
    "slideshow": {
     "slide_type": "subslide"
    }
   }
  },
  {
   "cell_type": "markdown",
   "source": [
    "2. No: this is the content of `/Users/thing/backup`, but `..` means we are one level up from that"
   ],
   "metadata": {
    "slideshow": {
     "slide_type": "fragment"
    }
   }
  },
  {
   "cell_type": "markdown",
   "source": [
    "3. No: for the same reason as (2)"
   ],
   "metadata": {
    "slideshow": {
     "slide_type": "fragment"
    }
   }
  },
  {
   "cell_type": "markdown",
   "source": [
    "4. Yes: `../backup` refers to `/Users/backup`"
   ],
   "metadata": {
    "slideshow": {
     "slide_type": "fragment"
    }
   }
  },
  {
   "cell_type": "markdown",
   "source": [
    "### `ls` Reading Comprehension\n",
    "\n",
    "Using the filesystem diagram below, if `pwd` displays `/Users/backup`, and `-r` tells `ls` to display things in reverse (alphabetical) order, what command(s) will result in the following output:\n",
    "\n",
    "```\n",
    "pnas_sub/ pnas_final/ original/\n",
    "```\n",
    "\n",
    "1. `ls pwd`\n",
    "2. `ls -rF`\n",
    "3. `ls -rF /Users/backup`\n",
    "\n",
    "<img src=\"http://swcarpentry.github.io/shell-novice/fig/filesystem-challenge.svg\" style=\"margin-bottom: 10px;float: right\">"
   ],
   "metadata": {
    "slideshow": {
     "slide_type": "subslide"
    }
   }
  },
  {
   "cell_type": "markdown",
   "source": [
    "1. No: `pwd` is not the name of a directory, it is a command."
   ],
   "metadata": {
    "slideshow": {
     "slide_type": "subslide"
    }
   }
  },
  {
   "cell_type": "markdown",
   "source": [
    "2. Yes: `ls` without any arguments will list the contents of the current directory."
   ],
   "metadata": {
    "slideshow": {
     "slide_type": "fragment"
    }
   }
  },
  {
   "cell_type": "markdown",
   "source": [
    "3. Yes: providing the absolute path of the directory will work."
   ],
   "metadata": {
    "slideshow": {
     "slide_type": "fragment"
    }
   }
  },
  {
   "cell_type": "markdown",
   "source": [
    "### Key points\n",
    "\n",
    "\n",
    "* The file system is responsible for managing information on the disk\n",
    "* Information is stored in files, which are stored in directories (folders)\n",
    "* Directories can also store other (sub-)directories, which forms a directory tree\n",
    "* `cd path` changes the current working directory\n",
    "* `ls path` prints a listing of a specific file or directory; `ls` on its own lists the current working directory.\n",
    "* `pwd` prints the user’s current working directory\n",
    "* `/` on its own is the root directory of the whole file system\n",
    "* A relative path specifies a location starting from the current location\n",
    "* An absolute path specifies a location from the root of the file system\n",
    "* Directory names in a path are separated with `/` on Unix, but `\\` on Windows\n",
    "* `..` means \"the directory above the current one\"; `.` on its own means \"the current directory\""
   ],
   "metadata": {
    "slideshow": {
     "slide_type": "subslide"
    }
   }
  },
  {
   "cell_type": "markdown",
   "source": [
    "## Working with Files and Directories\n",
    "\n",
    "How do we actually _make_ new files and directories from the command line?\n",
    "\n",
    "First, let's remind ourselves of where we are:"
   ],
   "metadata": {
    "slideshow": {
     "slide_type": "slide"
    }
   }
  },
  {
   "cell_type": "code",
   "execution_count": null,
   "source": [
    "cd ~/Desktop/data-shell\n",
    "pwd"
   ],
   "outputs": [],
   "metadata": {
    "slideshow": {
     "slide_type": "fragment"
    }
   }
  },
  {
   "cell_type": "code",
   "execution_count": null,
   "source": [
    "ls -F"
   ],
   "outputs": [],
   "metadata": {
    "slideshow": {
     "slide_type": "fragment"
    }
   }
  },
  {
   "cell_type": "markdown",
   "source": [
    "## Creating a directory\n",
    "\n",
    "We can create new directories with the `mkdir` (**m**a**k**e **dir**ectory) command:"
   ],
   "metadata": {
    "slideshow": {
     "slide_type": "subslide"
    }
   }
  },
  {
   "cell_type": "code",
   "execution_count": null,
   "source": [
    "mkdir thesis"
   ],
   "outputs": [],
   "metadata": {
    "slideshow": {
     "slide_type": "fragment"
    }
   }
  },
  {
   "cell_type": "markdown",
   "source": [
    "Since we provided a relative path, we can expect that to have been created in our current working directory:"
   ],
   "metadata": {
    "slideshow": {
     "slide_type": "subslide"
    }
   }
  },
  {
   "cell_type": "code",
   "execution_count": null,
   "source": [
    "ls -F"
   ],
   "outputs": [],
   "metadata": {
    "scrolled": true,
    "slideshow": {
     "slide_type": "fragment"
    }
   }
  },
  {
   "cell_type": "markdown",
   "source": [
    "(You could have also opened up the file explorer and made a new folder that way, too!)"
   ],
   "metadata": {
    "slideshow": {
     "slide_type": "subslide"
    }
   }
  },
  {
   "cell_type": "markdown",
   "source": [
    "### Good naming conventions\n",
    "\n",
    "1. Don't use spaces\n",
    "2. Don't begin the name with `-`\n",
    "3. Stick with letters, numbers, `.`, `-`, and `_`\n",
    "    - That is, avoid other special characters like `~!@#$%^&*()`"
   ],
   "metadata": {
    "slideshow": {
     "slide_type": "subslide"
    }
   }
  },
  {
   "cell_type": "markdown",
   "source": [
    "### Creating a text file\n",
    "\n",
    "Let's navigate into our (empty) `thesis` directory and create a new file:"
   ],
   "metadata": {
    "slideshow": {
     "slide_type": "subslide"
    }
   }
  },
  {
   "cell_type": "code",
   "execution_count": null,
   "source": [
    "cd thesis"
   ],
   "outputs": [],
   "metadata": {
    "slideshow": {
     "slide_type": "fragment"
    }
   }
  },
  {
   "cell_type": "markdown",
   "source": [
    "We can make a file via the following command:"
   ],
   "metadata": {
    "slideshow": {
     "slide_type": "fragment"
    }
   }
  },
  {
   "cell_type": "code",
   "execution_count": null,
   "source": [
    "touch draft.txt"
   ],
   "outputs": [],
   "metadata": {
    "slideshow": {
     "slide_type": "fragment"
    }
   }
  },
  {
   "cell_type": "markdown",
   "source": [
    "`touch` creates an **empty** file. We can see that with `ls -l`:"
   ],
   "metadata": {
    "slideshow": {
     "slide_type": "fragment"
    }
   }
  },
  {
   "cell_type": "code",
   "execution_count": null,
   "source": [
    "ls -l"
   ],
   "outputs": [],
   "metadata": {
    "slideshow": {
     "slide_type": "fragment"
    }
   }
  },
  {
   "cell_type": "markdown",
   "source": [
    "### Moving files and directories\n",
    "\n",
    "Let's start by going back to the `data-shell` directory:"
   ],
   "metadata": {
    "slideshow": {
     "slide_type": "subslide"
    }
   }
  },
  {
   "cell_type": "code",
   "execution_count": null,
   "source": [
    "cd ~/Desktop/data-shell"
   ],
   "outputs": [],
   "metadata": {
    "slideshow": {
     "slide_type": "fragment"
    }
   }
  },
  {
   "cell_type": "markdown",
   "source": [
    "We now have a `thesis/draft.txt` file, which isn't very informatively named. Let's **m**o**v**e it:"
   ],
   "metadata": {
    "slideshow": {
     "slide_type": "fragment"
    }
   }
  },
  {
   "cell_type": "code",
   "execution_count": null,
   "source": [
    "mv thesis/draft.txt thesis/quotes.txt"
   ],
   "outputs": [],
   "metadata": {
    "slideshow": {
     "slide_type": "fragment"
    }
   }
  },
  {
   "cell_type": "markdown",
   "source": [
    "The first argument of `mv` is the file we're moving, and the last argument is where we want it to go!\n",
    "\n",
    "Let's make sure that worked:"
   ],
   "metadata": {
    "slideshow": {
     "slide_type": "fragment"
    }
   }
  },
  {
   "cell_type": "code",
   "execution_count": null,
   "source": [
    "ls thesis"
   ],
   "outputs": [],
   "metadata": {
    "slideshow": {
     "slide_type": "subslide"
    }
   }
  },
  {
   "cell_type": "markdown",
   "source": [
    "Note: we can provide more than two arguments to `mv`, as long as the final argument is a directory! That would mean \"move all these things into this directory\".\n",
    "\n",
    "Also note: `mv` is **quite dangerous**, because it will silently overwrite files if the destination already exists! Refer to the `-i` flag for \"interactive\" moving (with warnings!)."
   ],
   "metadata": {
    "slideshow": {
     "slide_type": "fragment"
    }
   }
  },
  {
   "cell_type": "markdown",
   "source": [
    "### More on `mv`\n",
    "\n",
    "Note that we use `mv` to change files to a different directory (rather than just re-naming):"
   ],
   "metadata": {
    "slideshow": {
     "slide_type": "subslide"
    }
   }
  },
  {
   "cell_type": "code",
   "execution_count": null,
   "source": [
    "mv thesis/quotes.txt ."
   ],
   "outputs": [],
   "metadata": {
    "slideshow": {
     "slide_type": "fragment"
    }
   }
  },
  {
   "cell_type": "markdown",
   "source": [
    "The `.` means \"the current directory\", so we _should_ have moved `quotes.txt` out of the `thesis` directory into our current directory.\n",
    "\n",
    "Let's check that worked as expected:"
   ],
   "metadata": {
    "slideshow": {
     "slide_type": "fragment"
    }
   }
  },
  {
   "cell_type": "code",
   "execution_count": null,
   "source": [
    "ls thesis"
   ],
   "outputs": [],
   "metadata": {
    "slideshow": {
     "slide_type": "fragment"
    }
   }
  },
  {
   "cell_type": "code",
   "execution_count": null,
   "source": [
    "ls quotes.txt"
   ],
   "outputs": [],
   "metadata": {
    "slideshow": {
     "slide_type": "fragment"
    }
   }
  },
  {
   "cell_type": "markdown",
   "source": [
    "(Note: providing a filename to `ls` instead of a directory will list only that filename **if it exists**. Otherwise, it will throw an error.)"
   ],
   "metadata": {
    "slideshow": {
     "slide_type": "subslide"
    }
   }
  },
  {
   "cell_type": "markdown",
   "source": [
    "### Exercise: Moving files to a new folder\n",
    "\n",
    "After running the following commands, Jamie realizes that she put the files `sucrose.dat` and `maltose.dat` into the wrong folder. The files should have been placed in the `raw` folder.\n",
    "\n",
    "```bash\n",
    "$ ls -F\n",
    " analyzed/ raw/\n",
    "$ ls -F analyzed\n",
    "fructose.dat glucose.dat maltose.dat sucrose.dat\n",
    "$ cd analyzed\n",
    "```\n",
    "\n",
    "Fill in the blanks to move these files to the raw/ folder (i.e. the one she forgot to put them in):\n",
    "\n",
    "```bash\n",
    "$ mv sucrose.dat maltose.dat ____/____\n",
    "```"
   ],
   "metadata": {
    "slideshow": {
     "slide_type": "subslide"
    }
   }
  },
  {
   "cell_type": "markdown",
   "source": [
    "```bash\n",
    "mv sucrose.dat maltose.dat ../raw\n",
    "```\n",
    "\n",
    "Remember, the `..` refers to the parent directory (i.e., one above the current directory)"
   ],
   "metadata": {
    "slideshow": {
     "slide_type": "fragment"
    }
   }
  },
  {
   "cell_type": "markdown",
   "source": [
    "### Copying files and directories\n",
    "\n",
    "The `cp` (**c**o**p**y) command is like `mv`, but copies instead of moving!"
   ],
   "metadata": {
    "slideshow": {
     "slide_type": "subslide"
    }
   }
  },
  {
   "cell_type": "code",
   "execution_count": null,
   "source": [
    "cp quotes.txt thesis/quotations.txt"
   ],
   "outputs": [],
   "metadata": {
    "slideshow": {
     "slide_type": "fragment"
    }
   }
  },
  {
   "cell_type": "code",
   "execution_count": null,
   "source": [
    "ls quotes.txt thesis/quotations.txt"
   ],
   "outputs": [],
   "metadata": {
    "slideshow": {
     "slide_type": "fragment"
    }
   }
  },
  {
   "cell_type": "markdown",
   "source": [
    "We can use the `-r` (**r**ecursive) flag to copy a directory and all its contents:"
   ],
   "metadata": {
    "slideshow": {
     "slide_type": "fragment"
    }
   }
  },
  {
   "cell_type": "code",
   "execution_count": null,
   "source": [
    "cp -r thesis thesis_backup"
   ],
   "outputs": [],
   "metadata": {
    "slideshow": {
     "slide_type": "fragment"
    }
   }
  },
  {
   "cell_type": "code",
   "execution_count": null,
   "source": [
    "ls thesis thesis_backup"
   ],
   "outputs": [],
   "metadata": {
    "slideshow": {
     "slide_type": "fragment"
    }
   }
  },
  {
   "cell_type": "markdown",
   "source": [
    "### Exercise: Renaming files\n",
    "\n",
    "Suppose that you created a plain-text file in your current directory to contain a list of the statistical tests you will need to do to analyze your data, and named it: `statstics.txt`\n",
    "\n",
    "After creating and saving this file you realize you misspelled the filename! You want to correct the mistake and remove the incorrectly named file. Which of the following commands could you use to do so?\n",
    "\n",
    "1. cp statstics.txt statistics.txt\n",
    "2. mv statstics.txt statistics.txt\n",
    "3. mv statstics.txt .\n",
    "4. cp statstics.txt ."
   ],
   "metadata": {
    "slideshow": {
     "slide_type": "subslide"
    }
   }
  },
  {
   "cell_type": "markdown",
   "source": [
    "1. No: this would create a file with the correct name but would **not** remove the incorrectly named file"
   ],
   "metadata": {
    "slideshow": {
     "slide_type": "subslide"
    }
   }
  },
  {
   "cell_type": "markdown",
   "source": [
    "2. Yes: this would rename the file!"
   ],
   "metadata": {
    "slideshow": {
     "slide_type": "fragment"
    }
   }
  },
  {
   "cell_type": "markdown",
   "source": [
    "3. No, the `.` indicates where to move the file but does not provide a new name."
   ],
   "metadata": {
    "slideshow": {
     "slide_type": "fragment"
    }
   }
  },
  {
   "cell_type": "markdown",
   "source": [
    "4. No, the `.` indicates where to copy the file but does not provide a new name."
   ],
   "metadata": {
    "slideshow": {
     "slide_type": "fragment"
    }
   }
  },
  {
   "cell_type": "markdown",
   "source": [
    "### Moving and Copying\n",
    "\n",
    "What is the output of the closing `ls` command in the aequence shown below:\n",
    "\n",
    "```bash\n",
    "$ pwd\n",
    "/Users/jamie/data\n",
    "$ ls\n",
    "proteins.dat\n",
    "$ mkdir recombine\n",
    "$ mv proteins.dat recombine\n",
    "$ cp recombine/proteins.dat ../proteins-saved.dat\n",
    "$ ls\n",
    "```\n",
    "\n",
    "1. `proteins-saved.dat recombine`\n",
    "2. `recombine`\n",
    "3. `proteins.dat recombine`\n",
    "4. `proteins-saved.dat`"
   ],
   "metadata": {
    "slideshow": {
     "slide_type": "subslide"
    }
   }
  },
  {
   "cell_type": "markdown",
   "source": [
    "1. No: `proteins-saved.dat` is located at `/Users/jamie`"
   ],
   "metadata": {
    "slideshow": {
     "slide_type": "subslide"
    }
   }
  },
  {
   "cell_type": "markdown",
   "source": [
    "2. Yes!"
   ],
   "metadata": {
    "slideshow": {
     "slide_type": "fragment"
    }
   }
  },
  {
   "cell_type": "markdown",
   "source": [
    "3. No: `proteins.dat` is located at `/Users/jamie/data/recombine`"
   ],
   "metadata": {
    "slideshow": {
     "slide_type": "fragment"
    }
   }
  },
  {
   "cell_type": "markdown",
   "source": [
    "4. No, `proteins-saved.dat` is located at `/Users/jamie` "
   ],
   "metadata": {
    "slideshow": {
     "slide_type": "fragment"
    }
   }
  },
  {
   "cell_type": "markdown",
   "source": [
    "### Removing files\n",
    "\n",
    "Let's go back to `data-shell` and **r**e**m**ove the `quotes.txt` file we created:"
   ],
   "metadata": {
    "slideshow": {
     "slide_type": "subslide"
    }
   }
  },
  {
   "cell_type": "code",
   "execution_count": null,
   "source": [
    "cd ~/Desktop/data-shell"
   ],
   "outputs": [],
   "metadata": {
    "slideshow": {
     "slide_type": "fragment"
    }
   }
  },
  {
   "cell_type": "code",
   "execution_count": null,
   "source": [
    "rm quotes.txt"
   ],
   "outputs": [],
   "metadata": {
    "slideshow": {
     "slide_type": "fragment"
    }
   }
  },
  {
   "cell_type": "markdown",
   "source": [
    "The `rm` command deletes files. Let's check that the file is gone:"
   ],
   "metadata": {
    "slideshow": {
     "slide_type": "fragment"
    }
   }
  },
  {
   "cell_type": "code",
   "execution_count": null,
   "source": [
    "ls quotes.txt"
   ],
   "outputs": [],
   "metadata": {
    "slideshow": {
     "slide_type": "fragment"
    }
   }
  },
  {
   "cell_type": "markdown",
   "source": [
    "### Deleting is **FOREVER** 💀💀\n",
    "\n",
    "* The shell DOES NOT HAVE A TRASH BIN.\n",
    "* You CANNOT recover files that have been deleted with `rm`\n",
    "* But, you can use the `-i` flag to do things a bit more safely!\n",
    "    * This will prompt you to type `Y` or `N` before every file that is going to be deleted."
   ],
   "metadata": {
    "slideshow": {
     "slide_type": "subslide"
    }
   }
  },
  {
   "cell_type": "markdown",
   "source": [
    "### Removing directories\n",
    "\n",
    "Let's try and remove the `thesis` directory:"
   ],
   "metadata": {
    "slideshow": {
     "slide_type": "subslide"
    }
   }
  },
  {
   "cell_type": "code",
   "execution_count": null,
   "source": [
    "rm thesis"
   ],
   "outputs": [],
   "metadata": {
    "slideshow": {
     "slide_type": "fragment"
    }
   }
  },
  {
   "cell_type": "markdown",
   "source": [
    "`rm` only works on files, by default, but we can tell it to **r**ecursively delete a directory and all its contents with the `-r` flag:"
   ],
   "metadata": {
    "slideshow": {
     "slide_type": "fragment"
    }
   }
  },
  {
   "cell_type": "code",
   "execution_count": null,
   "source": [
    "rm -r thesis"
   ],
   "outputs": [],
   "metadata": {
    "slideshow": {
     "slide_type": "fragment"
    }
   }
  },
  {
   "cell_type": "markdown",
   "source": [
    "Because **deleting is forever 💀💀**, the `rm -r` command should be used with GREAT CAUTION."
   ],
   "metadata": {
    "slideshow": {
     "slide_type": "fragment"
    }
   }
  },
  {
   "cell_type": "markdown",
   "source": [
    "### Operations with multiple files and directories\n",
    "\n",
    "Oftentimes you need to copy or move several files at once. You can do this by specifiying a list of filenames\n",
    "\n",
    "#### Exercise: Copy with Multiple Filenames\n",
    "\n",
    "(Work through these in the `data-shell/data` directory.)\n",
    "\n",
    "In the example below, what does `cp` do when given several filenames and a directory name?\n",
    "\n",
    "```bash\n",
    "$ mkdir backup\n",
    "$ cp amino-acids.txt animals.txt backup/\n",
    "```\n"
   ],
   "metadata": {
    "slideshow": {
     "slide_type": "subslide"
    }
   }
  },
  {
   "cell_type": "markdown",
   "source": [
    "What does `cp` do when given three or more filenames?\n",
    "```bash\n",
    "$ ls\n",
    "amino-acids.txt  animals.txt  backup/  elements/  morse.txt  pdb/  planets.txt  salmon.txt  sunspot.txt\n",
    "$ cp amino-acids.txt animals.txt morse.txt\n",
    "```"
   ],
   "metadata": {
    "slideshow": {
     "slide_type": "subslide"
    }
   }
  },
  {
   "cell_type": "markdown",
   "source": [
    "1. When given multiple filenames followed by a directory all the files are copied into the directory."
   ],
   "metadata": {
    "slideshow": {
     "slide_type": "fragment"
    }
   }
  },
  {
   "cell_type": "markdown",
   "source": [
    "2. When give multiple filenames with no directory, `cp` throws an error:\n",
    "\n",
    "```bash\n",
    "cp: target morse.txt is not a directory\n",
    "```"
   ],
   "metadata": {
    "slideshow": {
     "slide_type": "fragment"
    }
   }
  },
  {
   "cell_type": "markdown",
   "source": [
    "#### Using wildcards for accessing multiple files at once\n",
    "\n",
    "`*` is a wildcard which matches zero or more characters.\n",
    "\n",
    "Consider the `data-shell/molecules` directory:"
   ],
   "metadata": {
    "slideshow": {
     "slide_type": "subslide"
    }
   }
  },
  {
   "cell_type": "code",
   "execution_count": null,
   "source": [
    "ls molecules/*"
   ],
   "outputs": [],
   "metadata": {
    "slideshow": {
     "slide_type": "fragment"
    }
   }
  },
  {
   "cell_type": "markdown",
   "source": [
    "This matches every file in the `molecules` directory."
   ],
   "metadata": {
    "slideshow": {
     "slide_type": "fragment"
    }
   }
  },
  {
   "cell_type": "code",
   "execution_count": null,
   "source": [
    "ls molecules/*pdb"
   ],
   "outputs": [],
   "metadata": {
    "slideshow": {
     "slide_type": "subslide"
    }
   }
  },
  {
   "cell_type": "markdown",
   "source": [
    "This matches every file in the `molecules` directory ending in `.pdb`."
   ],
   "metadata": {
    "slideshow": {
     "slide_type": "fragment"
    }
   }
  },
  {
   "cell_type": "code",
   "execution_count": null,
   "source": [
    "ls molecules/p*.pdb"
   ],
   "outputs": [],
   "metadata": {
    "slideshow": {
     "slide_type": "fragment"
    }
   }
  },
  {
   "cell_type": "markdown",
   "source": [
    "This matches all files in the `molecules` directory starting with `p` and ending with `.pdb`"
   ],
   "metadata": {
    "slideshow": {
     "slide_type": "fragment"
    }
   }
  },
  {
   "cell_type": "markdown",
   "source": [
    "#### Using wildcards for accessing multiple files at once (cont'd)\n",
    "\n",
    "`?` is a wildcard matching exactly one character."
   ],
   "metadata": {
    "slideshow": {
     "slide_type": "subslide"
    }
   }
  },
  {
   "cell_type": "code",
   "execution_count": null,
   "source": [
    "ls molecules/?ethane.pdb"
   ],
   "outputs": [],
   "metadata": {
    "slideshow": {
     "slide_type": "fragment"
    }
   }
  },
  {
   "cell_type": "markdown",
   "source": [
    "This matches any file in `molecules` that has one character followed by `ethane.pdb`. Compare to:"
   ],
   "metadata": {
    "slideshow": {
     "slide_type": "fragment"
    }
   }
  },
  {
   "cell_type": "code",
   "execution_count": null,
   "source": [
    "ls molecules/*ethane.pdb"
   ],
   "outputs": [],
   "metadata": {
    "slideshow": {
     "slide_type": "fragment"
    }
   }
  },
  {
   "cell_type": "markdown",
   "source": [
    "Which matches any file in `molecules` that ends in `ethane.pdb`."
   ],
   "metadata": {
    "slideshow": {
     "slide_type": "fragment"
    }
   }
  },
  {
   "cell_type": "markdown",
   "source": [
    "#### Using wildcards for accessing multiple files at once (cont'd)\n",
    "\n",
    "You can string wildcards together, too!"
   ],
   "metadata": {
    "slideshow": {
     "slide_type": "subslide"
    }
   }
  },
  {
   "cell_type": "code",
   "execution_count": null,
   "source": [
    "ls molecules/???ane.pdb"
   ],
   "outputs": [],
   "metadata": {
    "slideshow": {
     "slide_type": "fragment"
    }
   }
  },
  {
   "cell_type": "markdown",
   "source": [
    "This matches and file in `molecules` that has any three characters and ends in `ane.pdb`"
   ],
   "metadata": {
    "slideshow": {
     "slide_type": "fragment"
    }
   }
  },
  {
   "cell_type": "markdown",
   "source": [
    "Wildcards are said to be \"expanded\" to create a list of matching files. This happens **before** running the relevant command. For example, the following command will fail:"
   ],
   "metadata": {
    "slideshow": {
     "slide_type": "fragment"
    }
   }
  },
  {
   "cell_type": "code",
   "execution_count": null,
   "source": [
    "ls molecules/*pdf"
   ],
   "outputs": [],
   "metadata": {
    "slideshow": {
     "slide_type": "fragment"
    }
   }
  },
  {
   "cell_type": "markdown",
   "source": [
    "#### Exercise: List filenames matching a pattern\n",
    "\n",
    "When run in the `molecules` directory, which `ls` command(s) will produce this output?\n",
    "\n",
    "`ethane.pdb methane.pdb`\n",
    "\n",
    "1. `ls *t*ane.pdb`\n",
    "2. `ls *t?ne.*`\n",
    "3. `ls *t??ne.pdb`\n",
    "4. `ls ethane.*`"
   ],
   "metadata": {
    "slideshow": {
     "slide_type": "subslide"
    }
   }
  },
  {
   "cell_type": "markdown",
   "source": [
    "1. No: This will give `ethane.pdb methane.pdb octane.pdb pentane.pdb`"
   ],
   "metadata": {
    "slideshow": {
     "slide_type": "subslide"
    }
   }
  },
  {
   "cell_type": "markdown",
   "source": [
    "2. No: this will give `octane.pdb pentane.pdb`"
   ],
   "metadata": {
    "slideshow": {
     "slide_type": "fragment"
    }
   }
  },
  {
   "cell_type": "markdown",
   "source": [
    "3. Yes!"
   ],
   "metadata": {
    "slideshow": {
     "slide_type": "fragment"
    }
   }
  },
  {
   "cell_type": "markdown",
   "source": [
    "4. No: This only shows file starting with `ethane`"
   ],
   "metadata": {
    "slideshow": {
     "slide_type": "fragment"
    }
   }
  },
  {
   "cell_type": "markdown",
   "source": [
    "### Key points\n",
    "\n",
    "* `cp old new` copies a file\n",
    "* `mkdir path` creates a new directory\n",
    "* `mv old new` moves (renames) a file or directory\n",
    "* `rm path` removes (deletes) a file\n",
    "* `*` matches zero or more characters in a filename, so `*.txt` matches all files ending in `.txt`\n",
    "* `?` matches any single character in a filename, so `?.txt` matches `a.txt` but not `any.txt`\n",
    "* The shell does not have a trash bin: once something is deleted, it’s really gone"
   ],
   "metadata": {
    "slideshow": {
     "slide_type": "subslide"
    }
   }
  },
  {
   "cell_type": "markdown",
   "source": [
    "## Summary\n",
    "\n",
    "* The bash shell is very powerful!\n",
    "* It offers a command-line interface to your computer and file system\n",
    "* It makes it easy to operate on files quickly and efficiently (copying, renaming, etc.)\n",
    "* Sequences of shell commands can be strung together to quickly and reproducibly make powerful pipelines"
   ],
   "metadata": {
    "slideshow": {
     "slide_type": "slide"
    }
   }
  },
  {
   "cell_type": "markdown",
   "source": [
    "## Soapbox\n",
    "\n",
    "* Bash is *fantastic* and you will (likely) find yourself using it a lot!\n",
    "* However, for complex pipelines and programs we would _strongly_ encourage you to use a \"newer\" programming lanuage\n",
    "    * Like Python, which we will also be discussed in this workshop!\n",
    "* There are a number of reasons for this (e.g., better control flow, error handling, and debugging)"
   ],
   "metadata": {
    "slideshow": {
     "slide_type": "subslide"
    }
   }
  },
  {
   "cell_type": "markdown",
   "source": [
    "## References\n",
    "\n",
    "There are lots of excellent resources online for learning more about bash:\n",
    "\n",
    "* The GNU Manual is *the* reference for all bash commands: http://www.gnu.org/manual/manual.html\n",
    "* \"Learning the Bash Shell\" book: http://shop.oreilly.com/product/9780596009656.do\n",
    "* An interactive on-line bash shell course: https://www.learnshell.org/"
   ],
   "metadata": {
    "slideshow": {
     "slide_type": "slide"
    }
   }
  },
  {
   "cell_type": "markdown",
   "source": [
    "## Finding Things\n",
    "\n",
    "Oftentimes, our file system can be quite complex, with sub-directories inside sub-directories inside sub-directories.\n",
    "\n",
    "What happens in we want to find one (or several) files, without having to type `ls` hundreds or thousands of times?\n",
    "\n",
    "First, let's navigate to the `data-shell/writing` directory:"
   ],
   "metadata": {
    "slideshow": {
     "slide_type": "slide"
    }
   }
  },
  {
   "cell_type": "code",
   "execution_count": null,
   "source": [
    "cd ~/Desktop/data-shell/writing"
   ],
   "outputs": [],
   "metadata": {
    "slideshow": {
     "slide_type": "fragment"
    }
   }
  },
  {
   "cell_type": "markdown",
   "source": [
    "The directory structure of `data-shell/writing` looks like:\n",
    "\n",
    "<img src=\"http://swcarpentry.github.io/shell-novice/fig/find-file-tree.svg\">"
   ],
   "metadata": {
    "slideshow": {
     "slide_type": "subslide"
    }
   }
  },
  {
   "cell_type": "markdown",
   "source": [
    "Let's get our bearings with `ls`:"
   ],
   "metadata": {
    "slideshow": {
     "slide_type": "subslide"
    }
   }
  },
  {
   "cell_type": "code",
   "execution_count": null,
   "source": [
    "ls"
   ],
   "outputs": [],
   "metadata": {
    "slideshow": {
     "slide_type": "fragment"
    }
   }
  },
  {
   "cell_type": "markdown",
   "source": [
    "Unfortunately, this doesn't list any of the files in the sub-directories. Enter `find`:"
   ],
   "metadata": {
    "slideshow": {
     "slide_type": "fragment"
    }
   }
  },
  {
   "cell_type": "code",
   "execution_count": null,
   "source": [
    "find ."
   ],
   "outputs": [],
   "metadata": {
    "slideshow": {
     "slide_type": "fragment"
    }
   }
  },
  {
   "cell_type": "markdown",
   "source": [
    "Remember, `.` means \"the current working directory\". Here, `find` provides us a full list of the entire directory structure!"
   ],
   "metadata": {
    "slideshow": {
     "slide_type": "subslide"
    }
   }
  },
  {
   "cell_type": "markdown",
   "source": [
    "### Filtering `find`\n",
    "\n",
    "We can add some helpful options to `find` to filter things a bit:"
   ],
   "metadata": {
    "slideshow": {
     "slide_type": "subslide"
    }
   }
  },
  {
   "cell_type": "code",
   "execution_count": null,
   "source": [
    "find . -type d"
   ],
   "outputs": [],
   "metadata": {
    "slideshow": {
     "slide_type": "fragment"
    }
   }
  },
  {
   "cell_type": "markdown",
   "source": [
    "This will list only the **d**irectories underneath our current directory (incluing sub-directories).\n",
    "\n",
    "Alternatively, we can list only the **f**iles with:"
   ],
   "metadata": {
    "slideshow": {
     "slide_type": "fragment"
    }
   }
  },
  {
   "cell_type": "code",
   "execution_count": null,
   "source": [
    "find . -type f"
   ],
   "outputs": [],
   "metadata": {
    "slideshow": {
     "slide_type": "fragment"
    }
   }
  },
  {
   "cell_type": "markdown",
   "source": [
    "We can also match things by name:"
   ],
   "metadata": {
    "slideshow": {
     "slide_type": "subslide"
    }
   }
  },
  {
   "cell_type": "code",
   "execution_count": null,
   "source": [
    "find . -name *.txt"
   ],
   "outputs": [],
   "metadata": {
    "slideshow": {
     "slide_type": "fragment"
    }
   }
  },
  {
   "cell_type": "markdown",
   "source": [
    "Why didn't this also get the other files??\n",
    "\n",
    "Remember: wildcards are expanded BEFORE being passed to the command. So, we really want:"
   ],
   "metadata": {
    "slideshow": {
     "slide_type": "fragment"
    }
   }
  },
  {
   "cell_type": "code",
   "execution_count": null,
   "source": [
    "find . -name \"*.txt\""
   ],
   "outputs": [],
   "metadata": {
    "slideshow": {
     "slide_type": "fragment"
    }
   }
  },
  {
   "cell_type": "markdown",
   "source": [
    "### Executing with `find`\n",
    "\n",
    "What if we want to perform some operation on the output of our `find` command? Say, list the file sizes for each file (as in `ls -lh`)?\n",
    "\n",
    "We can do that with a bit of extra work:"
   ],
   "metadata": {
    "slideshow": {
     "slide_type": "subslide"
    }
   }
  },
  {
   "cell_type": "code",
   "execution_count": null,
   "source": [
    "find . -name \"*.txt\" -exec ls -lh {} \\;"
   ],
   "outputs": [],
   "metadata": {
    "slideshow": {
     "slide_type": "fragment"
    }
   }
  },
  {
   "cell_type": "markdown",
   "source": [
    "Note the **very funky syntax**:\n",
    "\n",
    "* The `-exec` option means **exec**ute the following command,\n",
    "* `ls -lh` is the command we want to execute,\n",
    "* `{}` signifies where the output of `find` should go so as to be provided to the command we're executing, and\n",
    "* `\\;` means \"this is the end of command we want to execute\""
   ],
   "metadata": {
    "slideshow": {
     "slide_type": "subslide"
    }
   }
  },
  {
   "cell_type": "markdown",
   "source": [
    "We can also \"pipe\" the output of `find` to the `ls -lh` command as follows:"
   ],
   "metadata": {
    "slideshow": {
     "slide_type": "subslide"
    }
   }
  },
  {
   "cell_type": "code",
   "execution_count": null,
   "source": [
    "ls -lh $( find . -name \"*.txt\" )"
   ],
   "outputs": [],
   "metadata": {
    "slideshow": {
     "slide_type": "fragment"
    }
   }
  },
  {
   "cell_type": "markdown",
   "source": [
    "Here, the `$( )` syntax means \"run this command first and insert it's output here\", so `ls -lh` is provided the output of the `find . -name \"*.txt\"` command as arguments."
   ],
   "metadata": {
    "slideshow": {
     "slide_type": "fragment"
    }
   }
  }
 ],
 "metadata": {
  "celltoolbar": "Slideshow",
  "kernelspec": {
   "display_name": "Bash",
   "language": "bash",
   "name": "bash"
  },
  "language_info": {
   "codemirror_mode": "shell",
   "file_extension": ".sh",
   "mimetype": "text/x-sh",
   "name": "bash"
  },
  "rise": {
   "scroll": "true"
  }
 },
 "nbformat": 4,
 "nbformat_minor": 2
}