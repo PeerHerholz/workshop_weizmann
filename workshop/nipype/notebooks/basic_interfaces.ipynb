{
 "cells": [
  {
   "cell_type": "markdown",
   "metadata": {},
   "source": [
    "# Interfaces\n",
    "\n",
    "In Nipype, interfaces are python modules that allow you to use various external packages (e.g. FSL, SPM or FreeSurfer), even if they themselves are written in another programming language than python. Such an interface knows what sort of options an external program has and how to execute it."
   ]
  },
  {
   "cell_type": "markdown",
   "metadata": {},
   "source": [
    "## Interfaces vs. Workflows\n",
    "\n",
    "Interfaces are the building blocks that solve well-defined tasks. We solve more complex tasks by combining interfaces with workflows:\n",
    "\n",
    "<table style=\"width: 100%; font-size: 14px;\">\n",
    "  <thead>\n",
    "    <th style=\"text-align:left\">Interfaces</th>\n",
    "    <th style=\"text-align:left\">Workflows</th>\n",
    "  </thead>\n",
    "  <tbody>\n",
    "    <tr>\n",
    "      <td style=\"text-align:left\">Wrap *unitary* tasks</td>\n",
    "      <td style=\"text-align:left\">Wrap *meta*-tasks\n",
    "        <li style=\"text-align:left\">implemented with nipype interfaces wrapped inside ``Node`` objects</li>\n",
    "        <li style=\"text-align:left\">subworkflows can also be added to a workflow without any wrapping</li>\n",
    "      </td>\n",
    "    </tr>\n",
    "    <tr>\n",
    "      <td style=\"text-align:left\">Keep track of the inputs and outputs, and check their expected types</td>\n",
    "      <td style=\"text-align:left\">Do not have inputs/outputs, but expose them from the interfaces wrapped inside</td>\n",
    "    </tr>\n",
    "    <tr>\n",
    "      <td style=\"text-align:left\">Do not cache results (unless you use [interface caching](advanced_interfaces_caching.ipynb))</td>\n",
    "      <td style=\"text-align:left\">Cache results</td>\n",
    "    </tr>\n",
    "    <tr>\n",
    "      <td style=\"text-align:left\">Run by a nipype plugin</td>\n",
    "      <td style=\"text-align:left\">Run by a nipype plugin</td>\n",
    "    </tr>\n",
    "  </tbody>\n",
    "</table>"
   ]
  },
  {
   "cell_type": "markdown",
   "metadata": {},
   "source": [
    "To illustrate why interfaces are so useful, let's have a look at the brain extraction algorithm [BET](http://fsl.fmrib.ox.ac.uk/fsl/fslwiki/BET) from FSL. Once in its original framework and once in the Nipype framework."
   ]
  },
  {
   "cell_type": "markdown",
   "metadata": {},
   "source": [
    "## BET in the original framework\n",
    "\n",
    "Let's take a look at one of the T1 images we have in our dataset on which we want to run BET."
   ]
  },
  {
   "cell_type": "code",
   "execution_count": null,
   "metadata": {},
   "outputs": [],
   "source": [
    "from nilearn.plotting import plot_anat\n",
    "%matplotlib inline\n",
    "import matplotlib.pyplot as plt\n",
    "plot_anat('/data/ds000114/sub-01/ses-test/anat/sub-01_ses-test_T1w.nii.gz', title='original',\n",
    "          display_mode='ortho', dim=-1, draw_cross=False, annotate=False);"
   ]
  },
  {
   "cell_type": "markdown",
   "metadata": {},
   "source": [
    "In its simplest form, you can run BET by just specifying the input image and tell it what to name the output image:\n",
    "\n",
    "    bet <input> <output>"
   ]
  },
  {
   "cell_type": "code",
   "execution_count": null,
   "metadata": {},
   "outputs": [],
   "source": [
    "%%bash\n",
    "\n",
    "FILENAME=/data/ds000114/sub-01/ses-test/anat/sub-01_ses-test_T1w\n",
    "\n",
    "bet ${FILENAME}.nii.gz /output/sub-01_ses-test_T1w_bet.nii.gz"
   ]
  },
  {
   "cell_type": "markdown",
   "metadata": {},
   "source": [
    "Let's take a look at the results:"
   ]
  },
  {
   "cell_type": "code",
   "execution_count": null,
   "metadata": {},
   "outputs": [],
   "source": [
    "plot_anat('/output/sub-01_ses-test_T1w_bet.nii.gz', title='original',\n",
    "          display_mode='ortho', dim=-1, draw_cross=False, annotate=False);"
   ]
  },
  {
   "cell_type": "markdown",
   "metadata": {},
   "source": [
    "Perfect! Exactly what we want. Hmm... what else could we want from BET? Well, it's actually a fairly complicated program. As is the case for all FSL binaries, just call it with the help flag `-h` to see all its options."
   ]
  },
  {
   "cell_type": "code",
   "execution_count": null,
   "metadata": {},
   "outputs": [],
   "source": [
    "!bet -h"
   ]
  },
  {
   "cell_type": "markdown",
   "metadata": {},
   "source": [
    "We see that BET can also return a binary brain mask as a result of the skull-strip, which can be useful for masking our GLM analyses (among other things). Let's run it again including that option and see the result."
   ]
  },
  {
   "cell_type": "code",
   "execution_count": null,
   "metadata": {},
   "outputs": [],
   "source": [
    "%%bash\n",
    "\n",
    "FILENAME=/data/ds000114/sub-01/ses-test/anat/sub-01_ses-test_T1w\n",
    "\n",
    "bet ${FILENAME}.nii.gz /output/sub-01_ses-test_T1w_bet.nii.gz -m"
   ]
  },
  {
   "cell_type": "code",
   "execution_count": null,
   "metadata": {},
   "outputs": [],
   "source": [
    "plot_anat('/output/sub-01_ses-test_T1w_bet_mask.nii.gz', title='original',\n",
    "          display_mode='ortho', dim=-1, draw_cross=False, annotate=False);"
   ]
  },
  {
   "cell_type": "markdown",
   "metadata": {},
   "source": [
    "Now let's look at the BET interface in Nipype. First, we have to import it."
   ]
  },
  {
   "cell_type": "markdown",
   "metadata": {},
   "source": [
    "## BET in the Nipype framework\n",
    "\n",
    "So how can we run BET in the Nipype framework?\n",
    "\n",
    "First things first, we need to import the ``BET`` class from Nipype's ``interfaces`` module:"
   ]
  },
  {
   "cell_type": "code",
   "execution_count": null,
   "metadata": {},
   "outputs": [],
   "source": [
    "from nipype.interfaces.fsl import BET"
   ]
  },
  {
   "cell_type": "markdown",
   "metadata": {},
   "source": [
    "Now that we have the BET function accessible, we just have to specify the input and output file. And finally, we have to run the command. So exactly like in the original framework."
   ]
  },
  {
   "cell_type": "code",
   "execution_count": null,
   "metadata": {},
   "outputs": [],
   "source": [
    "skullstrip = BET()\n",
    "skullstrip.inputs.in_file = \"/data/ds000114/sub-01/ses-test/anat/sub-01_ses-test_T1w.nii.gz\"\n",
    "skullstrip.inputs.out_file = \"/output/T1w_nipype_bet.nii.gz\"\n",
    "res = skullstrip.run()"
   ]
  },
  {
   "cell_type": "markdown",
   "metadata": {},
   "source": [
    "If we now look at the results from Nipype, we see that it is exactly the same as before."
   ]
  },
  {
   "cell_type": "code",
   "execution_count": null,
   "metadata": {},
   "outputs": [],
   "source": [
    "plot_anat('/output/T1w_nipype_bet.nii.gz', title='original',\n",
    "          display_mode='ortho', dim=-1, draw_cross=False, annotate=False);"
   ]
  },
  {
   "cell_type": "markdown",
   "metadata": {},
   "source": [
    "This is not surprising, because Nipype used exactly the same bash code that we were using in the original framework example above. To verify this, we can call the ``cmdline`` function of the constructed BET instance."
   ]
  },
  {
   "cell_type": "code",
   "execution_count": null,
   "metadata": {},
   "outputs": [],
   "source": [
    "print(skullstrip.cmdline)"
   ]
  },
  {
   "cell_type": "markdown",
   "metadata": {},
   "source": [
    "Another way to set the inputs on an interface object is to use them as keyword arguments when you construct the interface instance. Let's write the Nipype code from above in this way, but let's also add the option to create a brain mask."
   ]
  },
  {
   "cell_type": "code",
   "execution_count": null,
   "metadata": {},
   "outputs": [],
   "source": [
    "skullstrip = BET(in_file=\"/data/ds000114/sub-01/ses-test/anat/sub-01_ses-test_T1w.nii.gz\",\n",
    "                 out_file=\"/output/T1w_nipype_bet.nii.gz\",\n",
    "                 mask=True)\n",
    "res = skullstrip.run()"
   ]
  },
  {
   "cell_type": "markdown",
   "metadata": {},
   "source": [
    "Now if we plot this, we see again that this worked exactly as before. No surprise there."
   ]
  },
  {
   "cell_type": "code",
   "execution_count": null,
   "metadata": {},
   "outputs": [],
   "source": [
    "plot_anat('/output/T1w_nipype_bet_mask.nii.gz', title='after skullstrip',\n",
    "          display_mode='ortho', dim=-1, draw_cross=False, annotate=False);"
   ]
  },
  {
   "cell_type": "markdown",
   "metadata": {},
   "source": [
    "## Help Function\n",
    "\n",
    "But how did we know what the names of the input parameters are? In the original framework, we were able to just run ``BET``, without any additional parameters to get an information page. In the Nipype framework, we can achieve the same thing by using the ``help()`` function on an interface class. For the BET example, this is:"
   ]
  },
  {
   "cell_type": "code",
   "execution_count": null,
   "metadata": {},
   "outputs": [],
   "source": [
    "BET.help()"
   ]
  },
  {
   "cell_type": "markdown",
   "metadata": {},
   "source": [
    "As you can see, we get three different pieces of information. ***First***, a general explanation of the class.\n",
    "\n",
    "    Wraps command **bet**\n",
    "\n",
    "    Use FSL BET command for skull stripping.\n",
    "\n",
    "    For complete details, see the `BET Documentation.\n",
    "    <http://www.fmrib.ox.ac.uk/fsl/bet2/index.html>`_\n",
    "\n",
    "    Examples\n",
    "    --------\n",
    "    >>> from nipype.interfaces import fsl\n",
    "    >>> from nipype.testing import  example_data\n",
    "    >>> btr = fsl.BET()\n",
    "    >>> btr.inputs.in_file = example_data('structural.nii')\n",
    "    >>> btr.inputs.frac = 0.7\n",
    "    >>> res = btr.run() # doctest: +SKIP\n",
    "\n",
    "***Second***, a list of all possible input parameters.\n",
    "\n",
    "    Inputs:\n",
    "\n",
    "        [Mandatory]\n",
    "        in_file: (an existing file name)\n",
    "            input file to skull strip\n",
    "            flag: %s, position: 0\n",
    "\n",
    "        [Optional]\n",
    "        args: (a string)\n",
    "            Additional parameters to the command\n",
    "            flag: %s\n",
    "        center: (a list of at most 3 items which are an integer (int or\n",
    "             long))\n",
    "            center of gravity in voxels\n",
    "            flag: -c %s\n",
    "        environ: (a dictionary with keys which are a value of type 'str' and\n",
    "             with values which are a value of type 'str', nipype default value:\n",
    "             {})\n",
    "            Environment variables\n",
    "        frac: (a float)\n",
    "            fractional intensity threshold\n",
    "            flag: -f %.2f\n",
    "        functional: (a boolean)\n",
    "            apply to 4D fMRI data\n",
    "            flag: -F\n",
    "            mutually_exclusive: functional, reduce_bias, robust, padding,\n",
    "             remove_eyes, surfaces, t2_guided\n",
    "        ignore_exception: (a boolean, nipype default value: False)\n",
    "            Print an error message instead of throwing an exception in case the\n",
    "            interface fails to run\n",
    "        mask: (a boolean)\n",
    "            create binary mask image\n",
    "            flag: -m\n",
    "        mesh: (a boolean)\n",
    "            generate a vtk mesh brain surface\n",
    "            flag: -e\n",
    "        no_output: (a boolean)\n",
    "            Don't generate segmented output\n",
    "            flag: -n\n",
    "        out_file: (a file name)\n",
    "            name of output skull stripped image\n",
    "            flag: %s, position: 1\n",
    "        outline: (a boolean)\n",
    "            create surface outline image\n",
    "            flag: -o\n",
    "        output_type: ('NIFTI_PAIR' or 'NIFTI_PAIR_GZ' or 'NIFTI_GZ' or\n",
    "             'NIFTI')\n",
    "            FSL output type\n",
    "        padding: (a boolean)\n",
    "            improve BET if FOV is very small in Z (by temporarily padding end\n",
    "            slices)\n",
    "            flag: -Z\n",
    "            mutually_exclusive: functional, reduce_bias, robust, padding,\n",
    "             remove_eyes, surfaces, t2_guided\n",
    "        radius: (an integer (int or long))\n",
    "            head radius\n",
    "            flag: -r %d\n",
    "        reduce_bias: (a boolean)\n",
    "            bias field and neck cleanup\n",
    "            flag: -B\n",
    "            mutually_exclusive: functional, reduce_bias, robust, padding,\n",
    "             remove_eyes, surfaces, t2_guided\n",
    "        remove_eyes: (a boolean)\n",
    "            eye & optic nerve cleanup (can be useful in SIENA)\n",
    "            flag: -S\n",
    "            mutually_exclusive: functional, reduce_bias, robust, padding,\n",
    "             remove_eyes, surfaces, t2_guided\n",
    "        robust: (a boolean)\n",
    "            robust brain centre estimation (iterates BET several times)\n",
    "            flag: -R\n",
    "            mutually_exclusive: functional, reduce_bias, robust, padding,\n",
    "             remove_eyes, surfaces, t2_guided\n",
    "        skull: (a boolean)\n",
    "            create skull image\n",
    "            flag: -s\n",
    "        surfaces: (a boolean)\n",
    "            run bet2 and then betsurf to get additional skull and scalp surfaces\n",
    "            (includes registrations)\n",
    "            flag: -A\n",
    "            mutually_exclusive: functional, reduce_bias, robust, padding,\n",
    "             remove_eyes, surfaces, t2_guided\n",
    "        t2_guided: (a file name)\n",
    "            as with creating surfaces, when also feeding in non-brain-extracted\n",
    "            T2 (includes registrations)\n",
    "            flag: -A2 %s\n",
    "            mutually_exclusive: functional, reduce_bias, robust, padding,\n",
    "             remove_eyes, surfaces, t2_guided\n",
    "        terminal_output: ('stream' or 'allatonce' or 'file' or 'none')\n",
    "            Control terminal output: `stream` - displays to terminal immediately\n",
    "            (default), `allatonce` - waits till command is finished to display\n",
    "            output, `file` - writes output to file, `none` - output is ignored\n",
    "        threshold: (a boolean)\n",
    "            apply thresholding to segmented brain image and mask\n",
    "            flag: -t\n",
    "        vertical_gradient: (a float)\n",
    "            vertical gradient in fractional intensity threshold (-1, 1)\n",
    "            flag: -g %.2f\n",
    "\n",
    "And ***third***, a list of all possible output parameters.\n",
    "\n",
    "    Outputs:\n",
    "\n",
    "        inskull_mask_file: (a file name)\n",
    "            path/name of inskull mask (if generated)\n",
    "        inskull_mesh_file: (a file name)\n",
    "            path/name of inskull mesh outline (if generated)\n",
    "        mask_file: (a file name)\n",
    "            path/name of binary brain mask (if generated)\n",
    "        meshfile: (a file name)\n",
    "            path/name of vtk mesh file (if generated)\n",
    "        out_file: (a file name)\n",
    "            path/name of skullstripped file (if generated)\n",
    "        outline_file: (a file name)\n",
    "            path/name of outline file (if generated)\n",
    "        outskin_mask_file: (a file name)\n",
    "            path/name of outskin mask (if generated)\n",
    "        outskin_mesh_file: (a file name)\n",
    "            path/name of outskin mesh outline (if generated)\n",
    "        outskull_mask_file: (a file name)\n",
    "            path/name of outskull mask (if generated)\n",
    "        outskull_mesh_file: (a file name)\n",
    "            path/name of outskull mesh outline (if generated)\n",
    "        skull_mask_file: (a file name)\n",
    "            path/name of skull mask (if generated)"
   ]
  },
  {
   "cell_type": "markdown",
   "metadata": {},
   "source": [
    "So here we see that Nipype also has output parameters. This is very practical. Because instead of typing the full path name to the mask volume, we can also more directly use the ``mask_file`` parameter."
   ]
  },
  {
   "cell_type": "code",
   "execution_count": null,
   "metadata": {},
   "outputs": [],
   "source": [
    "print(res.outputs.mask_file)"
   ]
  },
  {
   "cell_type": "markdown",
   "metadata": {},
   "source": [
    "## Interface errors"
   ]
  },
  {
   "cell_type": "markdown",
   "metadata": {},
   "source": [
    "To execute any interface class we use the ``run`` method on that object. For FSL, Freesurfer, and other programs, this will just make a system call with the command line we saw above. For MATLAB-based programs like SPM, it will actually generate a ``.m`` file and run a MATLAB process to execute it. All of that is handled in the background.\n",
    "\n",
    "But what happens if we didn't specify all necessary inputs? For instance, you need to give BET a file to work on. If you try and run it without setting the input ``in_file``, you'll get a Python exception before anything actually gets executed:"
   ]
  },
  {
   "cell_type": "code",
   "execution_count": null,
   "metadata": {},
   "outputs": [],
   "source": [
    "skullstrip2 = BET()\n",
    "try:\n",
    "    skullstrip2.run()\n",
    "except(ValueError) as err:\n",
    "    print(\"ValueError:\", err)\n",
    "else:\n",
    "    raise"
   ]
  },
  {
   "cell_type": "markdown",
   "metadata": {},
   "source": [
    "Nipype also knows some things about what sort of values should get passed to the inputs and will raise (hopefully) informative exceptions when they are violated -- before anything gets processed. For example, BET just lets you say \"create a mask,\" it doesn't let you name it. You may forget this, and try to give it a name. In this case, Nipype will raise a ``TraitError`` telling you what you did wrong:"
   ]
  },
  {
   "cell_type": "code",
   "execution_count": null,
   "metadata": {},
   "outputs": [],
   "source": [
    "try:\n",
    "    skullstrip.inputs.mask = \"mask_file.nii\"\n",
    "except(Exception) as err:\n",
    "    if \"TraitError\" in str(err.__class__):\n",
    "        print(\"TraitError:\", err)\n",
    "    else:\n",
    "        raise\n",
    "else:\n",
    "    raise"
   ]
  },
  {
   "cell_type": "markdown",
   "metadata": {},
   "source": [
    "Additionally, Nipype knows that, for inputs corresponding to files you are going to process, they should exist in your file system. If you pass a string that doesn't correspond to an existing file, it will error and let you know:"
   ]
  },
  {
   "cell_type": "code",
   "execution_count": null,
   "metadata": {},
   "outputs": [],
   "source": [
    "try:\n",
    "    skullstrip.inputs.in_file = \"/data/oops_a_typo.nii\"\n",
    "except(Exception) as err:\n",
    "    if \"TraitError\" in str(err.__class__):\n",
    "        print(\"TraitError:\", err)\n",
    "    else:\n",
    "        raise\n",
    "else:\n",
    "    raise"
   ]
  },
  {
   "cell_type": "markdown",
   "metadata": {},
   "source": [
    "It turns out that for default output files, you don't even need to specify a name. Nipype will know what files are going to be created and will generate a name for you:"
   ]
  },
  {
   "cell_type": "code",
   "execution_count": null,
   "metadata": {},
   "outputs": [],
   "source": [
    "skullstrip = BET(in_file=\"/data/ds000114/sub-01/ses-test/anat/sub-01_ses-test_T1w.nii.gz\")\n",
    "print(skullstrip.cmdline)"
   ]
  },
  {
   "cell_type": "markdown",
   "metadata": {},
   "source": [
    "Note that it is going to write the output file to the local directory.\n",
    "\n",
    "What if you just ran this interface and wanted to know what it called the file that was produced? As you might have noticed before, calling the ``run`` method returned an object called ``InterfaceResult`` that we saved under the variable ``res``.  Let's inspect that object:"
   ]
  },
  {
   "cell_type": "code",
   "execution_count": null,
   "metadata": {},
   "outputs": [],
   "source": [
    "res = skullstrip.run()\n",
    "print(res.outputs)"
   ]
  },
  {
   "cell_type": "markdown",
   "metadata": {},
   "source": [
    "We see that four possible files can be generated by BET. Here we ran it in the most simple way possible, so it just generated an ``out_file``, which is the skull-stripped image. Let's see what happens when we generate a mask. By the way, you can also set inputs at runtime by including them as arguments to the ``run`` method:"
   ]
  },
  {
   "cell_type": "code",
   "execution_count": null,
   "metadata": {},
   "outputs": [],
   "source": [
    "res2 = skullstrip.run(mask=True)\n",
    "print(res2.outputs)"
   ]
  },
  {
   "cell_type": "markdown",
   "metadata": {},
   "source": [
    "Nipype knows that if you ask for a mask, BET is going to generate it in a particular way and makes that information available to you."
   ]
  },
  {
   "cell_type": "markdown",
   "metadata": {},
   "source": [
    "## Why this is amazing!\n",
    "\n",
    "**A major motivating objective for Nipype is to streamline the integration of different analysis packages so that you can use the algorithms you feel are best suited to your particular problem.**\n",
    "\n",
    "Say that you want to use BET, as SPM does not offer a way to create an explicit mask from functional data, but that otherwise, you want your processing to occur in SPM. Although possible to do this in a MATLAB script, it might not be all that clean, particularly if you want your skullstrip to happen in the middle of your workflow (for instance, after realignment). Nipype provides a unified representation of interfaces across analysis packages.\n",
    "\n",
    "For more on this, check out the [Interfaces](basic_interfaces.ipynb) and the [Workflow](basic_workflow.ipynb) tutorial."
   ]
  },
  {
   "cell_type": "markdown",
   "metadata": {},
   "source": [
    "### Exercise 1\n",
    "Import `IsotropicSmooth` from `nipype.interfaces.fsl` and find  the `FSL` command that is being run. What are the mandatory inputs for this interface?"
   ]
  },
  {
   "cell_type": "code",
   "execution_count": null,
   "metadata": {
    "solution2": "hidden",
    "solution2_first": true
   },
   "outputs": [],
   "source": [
    "# write your solution here"
   ]
  },
  {
   "cell_type": "code",
   "execution_count": null,
   "metadata": {
    "solution2": "hidden"
   },
   "outputs": [],
   "source": [
    "from nipype.interfaces.fsl import IsotropicSmooth\n",
    "# all this information can be found when we run `help` method. \n",
    "# note that you can either provide `in_file` and `fwhm` or `in_file` and `sigma`\n",
    "IsotropicSmooth.help()"
   ]
  },
  {
   "cell_type": "markdown",
   "metadata": {},
   "source": [
    "### Exercise 2\n",
    "Run the `IsotropicSmooth` for `/data/ds000114/sub-01/ses-test/anat/sub-01_ses-test_T1w.nii.gz` file with a smoothing kernel 4mm:"
   ]
  },
  {
   "cell_type": "code",
   "execution_count": null,
   "metadata": {
    "solution2": "hidden",
    "solution2_first": true
   },
   "outputs": [],
   "source": [
    "# write your solution here"
   ]
  },
  {
   "cell_type": "code",
   "execution_count": null,
   "metadata": {
    "solution2": "hidden"
   },
   "outputs": [],
   "source": [
    "smoothing = IsotropicSmooth()\n",
    "smoothing.inputs.in_file = \"/data/ds000114/sub-01/ses-test/anat/sub-01_ses-test_T1w.nii.gz\"\n",
    "smoothing.inputs.fwhm = 4\n",
    "smoothing.inputs.out_file = \"/output/T1w_nipype_smooth.nii.gz\"\n",
    "smoothing.run()"
   ]
  },
  {
   "cell_type": "markdown",
   "metadata": {},
   "source": [
    "### Exercise 3\n",
    "Plot the output of your interface."
   ]
  },
  {
   "cell_type": "code",
   "execution_count": null,
   "metadata": {
    "solution2": "hidden",
    "solution2_first": true
   },
   "outputs": [],
   "source": [
    "# write your solution here"
   ]
  },
  {
   "cell_type": "code",
   "execution_count": null,
   "metadata": {
    "solution2": "hidden"
   },
   "outputs": [],
   "source": [
    "# we will be using plot_anat from nilearn package\n",
    "from nilearn.plotting import plot_anat\n",
    "%matplotlib inline\n",
    "plot_anat('/output/T1w_nipype_smooth.nii.gz', title='after smoothing',\n",
    "          display_mode='ortho', dim=-1, draw_cross=False, annotate=False);"
   ]
  }
 ],
 "metadata": {
  "anaconda-cloud": {},
  "kernelspec": {
   "display_name": "Python 3",
   "language": "python",
   "name": "python3"
  },
  "language_info": {
   "codemirror_mode": {
    "name": "ipython",
    "version": 3
   },
   "file_extension": ".py",
   "mimetype": "text/x-python",
   "name": "python",
   "nbconvert_exporter": "python",
   "pygments_lexer": "ipython3",
   "version": "3.7.8"
  }
 },
 "nbformat": 4,
 "nbformat_minor": 2
}
