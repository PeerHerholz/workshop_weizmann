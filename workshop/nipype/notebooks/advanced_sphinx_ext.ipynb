{
 "cells": [
  {
   "cell_type": "markdown",
   "metadata": {},
   "source": [
    "# Sphinx extensions\n",
    "\n",
    "To help users document their **Nipype**-based code, the software is shipped\n",
    "with a set of extensions (currently only one) to customize the appearance\n",
    "and simplify the generation process."
   ]
  },
  {
   "cell_type": "markdown",
   "metadata": {},
   "source": [
    "# `nipype.sphinxext.plot_workflow` - Workflow plotting extension\n",
    "\n",
    "A directive for including a nipype workflow graph in a Sphinx document.\n",
    "\n",
    "This code is forked from the plot_figure sphinx extension of matplotlib.\n",
    "\n",
    "By default, in HTML output, `workflow` will include a .png file with a link to a high-res .png. In LaTeX output, it will include a .pdf. The source code for the workflow may be included as **inline content** to the directive `workflow`:\n",
    "\n",
    "    .. workflow ::\n",
    "        :graph2use: flat\n",
    "        :simple_form: no\n",
    "\n",
    "        from nipype.workflows.dmri.camino.connectivity_mapping import create_connectivity_pipeline\n",
    "        wf = create_connectivity_pipeline()\n",
    "        \n",
    "For example, the following graph has been generated inserting the previous code block in this documentation:\n",
    "\n",
    "<img src=\"../static/images/sphinx_ext.svg\">"
   ]
  },
  {
   "cell_type": "markdown",
   "metadata": {},
   "source": [
    "### Options\n",
    "\n",
    "The ``workflow`` directive supports the following options:\n",
    "\n",
    "- `graph2use`: {`'hierarchical'`, `'colored'`, `'flat'`, `'orig'`, `'exec'`}  \n",
    "    Specify the type of graph to be generated.\n",
    "\n",
    "\n",
    "- `simple_form`: `bool`  \n",
    "    Whether the graph will be in detailed or simple form.\n",
    "\n",
    "\n",
    "- `format`: {`'python'`, `'doctest'`}  \n",
    "    Specify the format of the input\n",
    "\n",
    "\n",
    "- `include-source`: `bool`  \n",
    "    Whether to display the source code. The default can be changed using the `workflow_include_source` variable in conf.py\n",
    "\n",
    "\n",
    "- `encoding`: `str`  \n",
    "    If this source file is in a non-UTF8 or non-ASCII encoding, the encoding must be specified using the `:encoding:` option. The encoding will not be inferred using the ``-*- coding -*-`` metacomment.\n",
    "\n",
    "Additionally, this directive supports all of the options of the `image` directive, except for `target` (since workflow will add its own target).  These include `alt`, `height`, `width`, `scale`, `align` and `class`."
   ]
  },
  {
   "cell_type": "markdown",
   "metadata": {},
   "source": [
    "### Configuration options\n",
    "\n",
    "The workflow directive has the following configuration options:\n",
    "\n",
    "- `graph2use`  \n",
    "    Select a graph type to use\n",
    "\n",
    "\n",
    "- `simple_form`  \n",
    "    determines if the node name shown in the visualization is either of the form nodename (package) when set to True or nodename.Class.package when set to False.\n",
    "\n",
    "\n",
    "- `wf_include_source`  \n",
    "    Default value for the include-source option\n",
    "\n",
    "\n",
    "- `wf_html_show_source_link`  \n",
    "    Whether to show a link to the source in HTML.\n",
    "\n",
    "\n",
    "- `wf_pre_code`  \n",
    "    Code that should be executed before each workflow.\n",
    "\n",
    "\n",
    "- `wf_basedir`  \n",
    "    Base directory, to which ``workflow::`` file names are relative to.  (If None or empty, file names are relative to the directory where the file containing the directive is.)\n",
    "\n",
    "\n",
    "- `wf_formats`  \n",
    "    File formats to generate. List of tuples or strings:  \n",
    "        [(suffix, dpi), suffix, ...]  \n",
    "    that determine the file format and the DPI. For entries whose DPI was omitted, sensible defaults are chosen. When passing from the command line through sphinx_build the list should be passed as suffix:dpi,suffix:dpi, ....\n",
    "\n",
    "\n",
    "- `wf_html_show_formats`  \n",
    "    Whether to show links to the files in HTML.\n",
    "\n",
    "\n",
    "- `wf_rcparams`  \n",
    "    A dictionary containing any non-standard rcParams that should be applied before each workflow.\n",
    "\n",
    "\n",
    "- `wf_apply_rcparams`  \n",
    "    By default, rcParams are applied when `context` option is not used in a workflow directive. This configuration option overrides this behavior and applies rcParams before each workflow.\n",
    "\n",
    "\n",
    "- `wf_working_directory`  \n",
    "    By default, the working directory will be changed to the directory of the example, so the code can get at its data files, if any. Also, its path will be added to `sys.path` so it can import any helper modules sitting beside it.  This configuration option can be used to specify a central directory (also added to `sys.path`) where data files and helper modules for all code are located.\n",
    "\n",
    "\n",
    "- `wf_template`  \n",
    "    Provide a customized template for preparing restructured text."
   ]
  }
 ],
 "metadata": {
  "kernelspec": {
   "display_name": "Python [default]",
   "language": "python",
   "name": "python3"
  },
  "language_info": {
   "codemirror_mode": {
    "name": "ipython",
    "version": 3
   },
   "file_extension": ".py",
   "mimetype": "text/x-python",
   "name": "python",
   "nbconvert_exporter": "python",
   "pygments_lexer": "ipython3",
   "version": "3.6.5"
  }
 },
 "nbformat": 4,
 "nbformat_minor": 2
}
