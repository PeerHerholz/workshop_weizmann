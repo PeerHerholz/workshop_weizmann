{
 "cells": [
  {
   "cell_type": "markdown",
   "metadata": {},
   "source": [
    "# Errors and Crashes\n",
    "\n",
    "Probably the most important chapter in this section is about how to handle error and crashes. Because at the beginning you will run into a few.\n",
    "\n",
    "For example:\n",
    "\n",
    "1. You specified filenames or paths that **don't exist**.\n",
    "2. You try to give an interface a ``string`` as input, where a ``float`` value is expected or you try to specify a parameter that doesn't exist. Be sure to use the right **``input type``** and input name.\n",
    "3. You wanted to give a list of inputs ``[func1.nii, func2.nii, func3.nii]`` to a node that only expects one input file. **``MapNode``** is your solution.\n",
    "4. You wanted to run SPM's motion correction on compressed NIfTI files, i.e. ``*.nii.gz``? **SPM** cannot handle that. Nipype's **``Gunzip``** interface can help.\n",
    "5. You haven't set up all necessary **environment variables**. Nipype, for example, doesn't find your MATLAB or SPM version.\n",
    "6. You **forget** to specify a **mandatory input** field.\n",
    "7. You try to **connect** a node to an input field that another node is **already connected** to.\n",
    "\n",
    "**Important** note about ``crashfiles``. ``Crashfiles`` are only created when you run a workflow, not during building a workflow. If you have a typo in a folder path, because they didn't happen during runtime, but still during workflow building."
   ]
  },
  {
   "cell_type": "markdown",
   "metadata": {},
   "source": [
    "## Example Crash 1: File doesn't exist\n",
    "\n",
    "When creating a new workflow, very often the initial errors are ``OSError``, meaning Nipype cannot find the right files. For example, let's try to run a workflow on ``sub-11``, that in our dataset doesn't exist."
   ]
  },
  {
   "cell_type": "markdown",
   "metadata": {},
   "source": [
    "### Creating the crash"
   ]
  },
  {
   "cell_type": "code",
   "execution_count": 1,
   "metadata": {},
   "outputs": [
    {
     "name": "stdout",
     "output_type": "stream",
     "text": [
      "211017-17:10:36,882 nipype.workflow INFO:\n",
      "\t Workflow preprocWF settings: ['check', 'execution', 'logging', 'monitoring']\n",
      "211017-17:10:36,921 nipype.workflow INFO:\n",
      "\t Running serially.\n",
      "211017-17:10:36,922 nipype.workflow INFO:\n",
      "\t [Node] Setting-up \"preprocWF.selectfiles\" in \"/home/neuro/workshop_weizmann/workshop/nipype/notebooks/working_dir/preprocWF/selectfiles\".\n",
      "211017-17:10:36,956 nipype.workflow INFO:\n",
      "\t [Node] Running \"selectfiles\" (\"nipype.interfaces.io.SelectFiles\")\n",
      "211017-17:10:36,974 nipype.workflow WARNING:\n",
      "\t Storing result file without outputs\n",
      "211017-17:10:36,988 nipype.workflow WARNING:\n",
      "\t [Node] Error on \"preprocWF.selectfiles\" (/home/neuro/workshop_weizmann/workshop/nipype/notebooks/working_dir/preprocWF/selectfiles)\n",
      "211017-17:10:37,18 nipype.workflow ERROR:\n",
      "\t Node selectfiles failed to run on host 11746b08bfb7.\n",
      "211017-17:10:37,22 nipype.workflow ERROR:\n",
      "\t Saving crash info to /home/neuro/workshop_weizmann/workshop/nipype/notebooks/crash-20211017-171037-neuro-selectfiles-37d06f37-f3aa-43e8-a608-9010f91410f7.pklz\n",
      "Traceback (most recent call last):\n",
      "  File \"/opt/miniconda-latest/envs/neuro/lib/python3.7/site-packages/nipype/pipeline/plugins/linear.py\", line 46, in run\n",
      "    node.run(updatehash=updatehash)\n",
      "  File \"/opt/miniconda-latest/envs/neuro/lib/python3.7/site-packages/nipype/pipeline/engine/nodes.py\", line 516, in run\n",
      "    result = self._run_interface(execute=True)\n",
      "  File \"/opt/miniconda-latest/envs/neuro/lib/python3.7/site-packages/nipype/pipeline/engine/nodes.py\", line 635, in _run_interface\n",
      "    return self._run_command(execute)\n",
      "  File \"/opt/miniconda-latest/envs/neuro/lib/python3.7/site-packages/nipype/pipeline/engine/nodes.py\", line 741, in _run_command\n",
      "    result = self._interface.run(cwd=outdir)\n",
      "  File \"/opt/miniconda-latest/envs/neuro/lib/python3.7/site-packages/nipype/interfaces/base/core.py\", line 421, in run\n",
      "    outputs = self.aggregate_outputs(runtime)\n",
      "  File \"/opt/miniconda-latest/envs/neuro/lib/python3.7/site-packages/nipype/interfaces/base/core.py\", line 498, in aggregate_outputs\n",
      "    predicted_outputs = self._list_outputs()  # Predictions from _list_outputs\n",
      "  File \"/opt/miniconda-latest/envs/neuro/lib/python3.7/site-packages/nipype/interfaces/io.py\", line 1480, in _list_outputs\n",
      "    raise IOError(msg)\n",
      "OSError: No files were found matching func template: /data/ds000114/sub-11/ses-test/func/sub-11_ses-test_task-fingerfootlips_bold.nii.gz\n",
      "\n",
      "211017-17:10:37,33 nipype.workflow INFO:\n",
      "\t ***********************************\n",
      "211017-17:10:37,35 nipype.workflow ERROR:\n",
      "\t could not run node: preprocWF.selectfiles\n",
      "211017-17:10:37,38 nipype.workflow INFO:\n",
      "\t crashfile: /home/neuro/workshop_weizmann/workshop/nipype/notebooks/crash-20211017-171037-neuro-selectfiles-37d06f37-f3aa-43e8-a608-9010f91410f7.pklz\n",
      "211017-17:10:37,43 nipype.workflow INFO:\n",
      "\t ***********************************\n",
      "RuntimeError: Workflow did not execute cleanly. Check log for details\n"
     ]
    }
   ],
   "source": [
    "from nipype import SelectFiles, Node, Workflow\n",
    "from os.path import abspath as opap\n",
    "from nipype.interfaces.fsl import MCFLIRT, IsotropicSmooth\n",
    "\n",
    "# Create SelectFiles node\n",
    "templates={'func': '{subject_id}/ses-test/func/{subject_id}_ses-test_task-fingerfootlips_bold.nii.gz'}\n",
    "sf = Node(SelectFiles(templates),\n",
    "          name='selectfiles')\n",
    "sf.inputs.base_directory = opap('/data/ds000114')\n",
    "sf.inputs.subject_id = 'sub-11'\n",
    "\n",
    "# Create Motion Correction Node\n",
    "mcflirt = Node(MCFLIRT(mean_vol=True,\n",
    "                       save_plots=True),\n",
    "               name='mcflirt')\n",
    "\n",
    "# Create Smoothing node\n",
    "smooth = Node(IsotropicSmooth(fwhm=4),\n",
    "              name='smooth')\n",
    "\n",
    "# Create a preprocessing workflow\n",
    "wf = Workflow(name=\"preprocWF\")\n",
    "wf.base_dir = 'working_dir'\n",
    "\n",
    "# Connect the three nodes to each other\n",
    "wf.connect([(sf, mcflirt, [(\"func\", \"in_file\")]),\n",
    "            (mcflirt, smooth, [(\"out_file\", \"in_file\")])])\n",
    "\n",
    "# Let's run the workflow\n",
    "try:\n",
    "    wf.run()\n",
    "except(RuntimeError) as err:\n",
    "    print(\"RuntimeError:\", err)\n",
    "else:\n",
    "    raise"
   ]
  },
  {
   "cell_type": "markdown",
   "metadata": {},
   "source": [
    "### Investigating the crash\n",
    "\n",
    "Hidden, in the log file you can find the relevant information:\n",
    "\n",
    "    OSError: No files were found matching func template: /data/ds000114/sub-11/ses-test/func/sub-11_ses-test_task-fingerfootlips_bold.nii.gz\n",
    "    Interface SelectFiles failed to run. \n",
    "\n",
    "    170904-05:48:13,727 workflow INFO:\n",
    "         ***********************************\n",
    "    170904-05:48:13,728 workflow ERROR:\n",
    "         could not run node: preprocWF.selectfiles\n",
    "    170904-05:48:13,730 workflow INFO:\n",
    "         crashfile: /repos/nipype_tutorial/notebooks/crash-20170904-054813-neuro-selectfiles-15f5400a-452e-4e0c-ae99-fc0d4b9a44f3.pklz\n",
    "    170904-05:48:13,731 workflow INFO:\n",
    "         ***********************************\n",
    "    \n",
    "This part tells you that it's an **``OSError``** and that it looked for the file **``/data/ds000114/sub-11/ses-test/func/sub-11_ses-test_task-fingerfootlips_bold.nii.gz``**.\n",
    "\n",
    "After the line ``***********************************``, you can additional see, that it's the node **``preprocWF.selectfiles``** that crasehd and that you can find a **``crashfile``** to this crash under **``/opt/tutorial/notebooks``**."
   ]
  },
  {
   "cell_type": "markdown",
   "metadata": {},
   "source": [
    "### Reading the ``crashfile``\n",
    "\n",
    "To get the full picture of the error, we can read the content of the ``crashfile`` (that has `pklz` format by default) with the ``bash`` command ``nipypecli crash``. We will get the same information as above, but additionally, we can also see directly the input values of the Node that crashed."
   ]
  },
  {
   "cell_type": "code",
   "execution_count": 2,
   "metadata": {},
   "outputs": [
    {
     "name": "stdout",
     "output_type": "stream",
     "text": [
      "\r\n",
      "\r\n",
      "File: /home/neuro/workshop_weizmann/workshop/nipype/notebooks/crash-20211017-171037-neuro-selectfiles-37d06f37-f3aa-43e8-a608-9010f91410f7.pklz\r\n",
      "Node: preprocWF.selectfiles\r\n",
      "Working directory: /home/neuro/workshop_weizmann/workshop/nipype/notebooks/working_dir/preprocWF/selectfiles\r\n",
      "\r\n",
      "\r\n",
      "Node inputs:\r\n",
      "\r\n",
      "base_directory = /data/ds000114\r\n",
      "force_lists = False\r\n",
      "raise_on_empty = True\r\n",
      "sort_filelist = True\r\n",
      "subject_id = sub-11\r\n",
      "\r\n",
      "\r\n",
      "\r\n",
      "Traceback: \r\n",
      "Traceback (most recent call last):\r\n",
      "  File \"/opt/miniconda-latest/envs/neuro/lib/python3.7/site-packages/nipype/pipeline/plugins/linear.py\", line 46, in run\r\n",
      "    node.run(updatehash=updatehash)\r\n",
      "  File \"/opt/miniconda-latest/envs/neuro/lib/python3.7/site-packages/nipype/pipeline/engine/nodes.py\", line 516, in run\r\n",
      "    result = self._run_interface(execute=True)\r\n",
      "  File \"/opt/miniconda-latest/envs/neuro/lib/python3.7/site-packages/nipype/pipeline/engine/nodes.py\", line 635, in _run_interface\r\n",
      "    return self._run_command(execute)\r\n",
      "  File \"/opt/miniconda-latest/envs/neuro/lib/python3.7/site-packages/nipype/pipeline/engine/nodes.py\", line 741, in _run_command\r\n",
      "    result = self._interface.run(cwd=outdir)\r\n",
      "  File \"/opt/miniconda-latest/envs/neuro/lib/python3.7/site-packages/nipype/interfaces/base/core.py\", line 421, in run\r\n",
      "    outputs = self.aggregate_outputs(runtime)\r\n",
      "  File \"/opt/miniconda-latest/envs/neuro/lib/python3.7/site-packages/nipype/interfaces/base/core.py\", line 498, in aggregate_outputs\r\n",
      "    predicted_outputs = self._list_outputs()  # Predictions from _list_outputs\r\n",
      "  File \"/opt/miniconda-latest/envs/neuro/lib/python3.7/site-packages/nipype/interfaces/io.py\", line 1480, in _list_outputs\r\n",
      "    raise IOError(msg)\r\n",
      "OSError: No files were found matching func template: /data/ds000114/sub-11/ses-test/func/sub-11_ses-test_task-fingerfootlips_bold.nii.gz\r\n",
      "\r\n",
      "\r\n",
      "\r\n"
     ]
    }
   ],
   "source": [
    "!nipypecli crash $(pwd)/crash-*selectfiles-*.pklz"
   ]
  },
  {
   "cell_type": "markdown",
   "metadata": {},
   "source": [
    "`nipypecli` allows you to rerun the crashed node using an additional option `-r`."
   ]
  },
  {
   "cell_type": "code",
   "execution_count": 3,
   "metadata": {},
   "outputs": [
    {
     "name": "stdout",
     "output_type": "stream",
     "text": [
      "\n",
      "\n",
      "File: /home/neuro/workshop_weizmann/workshop/nipype/notebooks/crash-20211017-171037-neuro-selectfiles-37d06f37-f3aa-43e8-a608-9010f91410f7.pklz\n",
      "Node: preprocWF.selectfiles\n",
      "Working directory: /home/neuro/workshop_weizmann/workshop/nipype/notebooks/working_dir/preprocWF/selectfiles\n",
      "\n",
      "\n",
      "Node inputs:\n",
      "\n",
      "base_directory = /data/ds000114\n",
      "force_lists = False\n",
      "raise_on_empty = True\n",
      "sort_filelist = True\n",
      "subject_id = sub-11\n",
      "\n",
      "\n",
      "\n",
      "Traceback: \n",
      "Traceback (most recent call last):\n",
      "  File \"/opt/miniconda-latest/envs/neuro/lib/python3.7/site-packages/nipype/pipeline/plugins/linear.py\", line 46, in run\n",
      "    node.run(updatehash=updatehash)\n",
      "  File \"/opt/miniconda-latest/envs/neuro/lib/python3.7/site-packages/nipype/pipeline/engine/nodes.py\", line 516, in run\n",
      "    result = self._run_interface(execute=True)\n",
      "  File \"/opt/miniconda-latest/envs/neuro/lib/python3.7/site-packages/nipype/pipeline/engine/nodes.py\", line 635, in _run_interface\n",
      "    return self._run_command(execute)\n",
      "  File \"/opt/miniconda-latest/envs/neuro/lib/python3.7/site-packages/nipype/pipeline/engine/nodes.py\", line 741, in _run_command\n",
      "    result = self._interface.run(cwd=outdir)\n",
      "  File \"/opt/miniconda-latest/envs/neuro/lib/python3.7/site-packages/nipype/interfaces/base/core.py\", line 421, in run\n",
      "    outputs = self.aggregate_outputs(runtime)\n",
      "  File \"/opt/miniconda-latest/envs/neuro/lib/python3.7/site-packages/nipype/interfaces/base/core.py\", line 498, in aggregate_outputs\n",
      "    predicted_outputs = self._list_outputs()  # Predictions from _list_outputs\n",
      "  File \"/opt/miniconda-latest/envs/neuro/lib/python3.7/site-packages/nipype/interfaces/io.py\", line 1480, in _list_outputs\n",
      "    raise IOError(msg)\n",
      "OSError: No files were found matching func template: /data/ds000114/sub-11/ses-test/func/sub-11_ses-test_task-fingerfootlips_bold.nii.gz\n",
      "\n",
      "\n",
      "\n",
      "Rerunning node\n",
      "211017-17:10:39,432 nipype.workflow INFO:\n",
      "\t [Node] Setting-up \"preprocWF.selectfiles\" in \"/home/neuro/workshop_weizmann/workshop/nipype/notebooks/working_dir/preprocWF/selectfiles\".\n",
      "211017-17:10:39,476 nipype.workflow INFO:\n",
      "\t [Node] Running \"selectfiles\" (\"nipype.interfaces.io.SelectFiles\")\n",
      "211017-17:10:39,482 nipype.workflow WARNING:\n",
      "\t Storing result file without outputs\n",
      "211017-17:10:39,489 nipype.workflow WARNING:\n",
      "\t [Node] Error on \"preprocWF.selectfiles\" (/home/neuro/workshop_weizmann/workshop/nipype/notebooks/working_dir/preprocWF/selectfiles)\n",
      "Traceback (most recent call last):\n",
      "  File \"/opt/miniconda-latest/envs/neuro/bin/nipypecli\", line 8, in <module>\n",
      "    sys.exit(cli())\n",
      "  File \"/opt/miniconda-latest/envs/neuro/lib/python3.7/site-packages/click/core.py\", line 829, in __call__\n",
      "    return self.main(*args, **kwargs)\n",
      "  File \"/opt/miniconda-latest/envs/neuro/lib/python3.7/site-packages/click/core.py\", line 782, in main\n",
      "    rv = self.invoke(ctx)\n",
      "  File \"/opt/miniconda-latest/envs/neuro/lib/python3.7/site-packages/click/core.py\", line 1259, in invoke\n",
      "    return _process_result(sub_ctx.command.invoke(sub_ctx))\n",
      "  File \"/opt/miniconda-latest/envs/neuro/lib/python3.7/site-packages/click/core.py\", line 1066, in invoke\n",
      "    return ctx.invoke(self.callback, **ctx.params)\n",
      "  File \"/opt/miniconda-latest/envs/neuro/lib/python3.7/site-packages/click/core.py\", line 610, in invoke\n",
      "    return callback(*args, **kwargs)\n",
      "  File \"/opt/miniconda-latest/envs/neuro/lib/python3.7/site-packages/nipype/scripts/cli.py\", line 96, in crash\n",
      "    display_crash_file(crashfile, rerun, debug, dir)\n",
      "  File \"/opt/miniconda-latest/envs/neuro/lib/python3.7/site-packages/nipype/scripts/crash_files.py\", line 81, in display_crash_file\n",
      "    node.run()\n",
      "  File \"/opt/miniconda-latest/envs/neuro/lib/python3.7/site-packages/nipype/pipeline/engine/nodes.py\", line 516, in run\n",
      "    result = self._run_interface(execute=True)\n",
      "  File \"/opt/miniconda-latest/envs/neuro/lib/python3.7/site-packages/nipype/pipeline/engine/nodes.py\", line 635, in _run_interface\n",
      "    return self._run_command(execute)\n",
      "  File \"/opt/miniconda-latest/envs/neuro/lib/python3.7/site-packages/nipype/pipeline/engine/nodes.py\", line 741, in _run_command\n",
      "    result = self._interface.run(cwd=outdir)\n",
      "  File \"/opt/miniconda-latest/envs/neuro/lib/python3.7/site-packages/nipype/interfaces/base/core.py\", line 421, in run\n",
      "    outputs = self.aggregate_outputs(runtime)\n",
      "  File \"/opt/miniconda-latest/envs/neuro/lib/python3.7/site-packages/nipype/interfaces/base/core.py\", line 498, in aggregate_outputs\n",
      "    predicted_outputs = self._list_outputs()  # Predictions from _list_outputs\n",
      "  File \"/opt/miniconda-latest/envs/neuro/lib/python3.7/site-packages/nipype/interfaces/io.py\", line 1480, in _list_outputs\n",
      "    raise IOError(msg)\n",
      "OSError: No files were found matching func template: /data/ds000114/sub-11/ses-test/func/sub-11_ses-test_task-fingerfootlips_bold.nii.gz\n"
     ]
    }
   ],
   "source": [
    "!nipypecli crash -r $(pwd)/crash-*selectfiles-*.pklz"
   ]
  },
  {
   "cell_type": "markdown",
   "metadata": {},
   "source": [
    "When running in the terminal you can also try options that **enable the Python or Ipython debugger when re-executing: `-d` or `-i`**.\n",
    "\n",
    "**If you don't want to have an option to rerun the crashed workflow, you can change the format of crashfile to a text format.** You can either change this in a configuration file (you can read more [here](basic_execution_configuration.ipynb)), or you can directly change the `wf.config` dictionary before running the workflow."
   ]
  },
  {
   "cell_type": "code",
   "execution_count": 4,
   "metadata": {},
   "outputs": [
    {
     "name": "stdout",
     "output_type": "stream",
     "text": [
      "211017-17:10:39,650 nipype.workflow INFO:\n",
      "\t Workflow preprocWF settings: ['check', 'execution', 'logging', 'monitoring']\n",
      "211017-17:10:39,698 nipype.workflow INFO:\n",
      "\t Running serially.\n",
      "211017-17:10:39,699 nipype.workflow INFO:\n",
      "\t [Node] Setting-up \"preprocWF.selectfiles\" in \"/home/neuro/workshop_weizmann/workshop/nipype/notebooks/working_dir/preprocWF/selectfiles\".\n",
      "211017-17:10:39,761 nipype.workflow INFO:\n",
      "\t [Node] Running \"selectfiles\" (\"nipype.interfaces.io.SelectFiles\")\n",
      "211017-17:10:39,765 nipype.workflow WARNING:\n",
      "\t Storing result file without outputs\n",
      "211017-17:10:39,778 nipype.workflow WARNING:\n",
      "\t [Node] Error on \"preprocWF.selectfiles\" (/home/neuro/workshop_weizmann/workshop/nipype/notebooks/working_dir/preprocWF/selectfiles)\n",
      "211017-17:10:39,799 nipype.workflow ERROR:\n",
      "\t Node selectfiles failed to run on host 11746b08bfb7.\n",
      "211017-17:10:39,801 nipype.workflow ERROR:\n",
      "\t Saving crash info to /home/neuro/workshop_weizmann/workshop/nipype/notebooks/crash-20211017-171039-neuro-selectfiles-f56abef1-3008-4e84-941c-c2800895302b.txt\n",
      "Traceback (most recent call last):\n",
      "  File \"/opt/miniconda-latest/envs/neuro/lib/python3.7/site-packages/nipype/pipeline/plugins/linear.py\", line 46, in run\n",
      "    node.run(updatehash=updatehash)\n",
      "  File \"/opt/miniconda-latest/envs/neuro/lib/python3.7/site-packages/nipype/pipeline/engine/nodes.py\", line 516, in run\n",
      "    result = self._run_interface(execute=True)\n",
      "  File \"/opt/miniconda-latest/envs/neuro/lib/python3.7/site-packages/nipype/pipeline/engine/nodes.py\", line 635, in _run_interface\n",
      "    return self._run_command(execute)\n",
      "  File \"/opt/miniconda-latest/envs/neuro/lib/python3.7/site-packages/nipype/pipeline/engine/nodes.py\", line 741, in _run_command\n",
      "    result = self._interface.run(cwd=outdir)\n",
      "  File \"/opt/miniconda-latest/envs/neuro/lib/python3.7/site-packages/nipype/interfaces/base/core.py\", line 421, in run\n",
      "    outputs = self.aggregate_outputs(runtime)\n",
      "  File \"/opt/miniconda-latest/envs/neuro/lib/python3.7/site-packages/nipype/interfaces/base/core.py\", line 498, in aggregate_outputs\n",
      "    predicted_outputs = self._list_outputs()  # Predictions from _list_outputs\n",
      "  File \"/opt/miniconda-latest/envs/neuro/lib/python3.7/site-packages/nipype/interfaces/io.py\", line 1480, in _list_outputs\n",
      "    raise IOError(msg)\n",
      "OSError: No files were found matching func template: /data/ds000114/sub-11/ses-test/func/sub-11_ses-test_task-fingerfootlips_bold.nii.gz\n",
      "\n",
      "211017-17:10:39,810 nipype.workflow INFO:\n",
      "\t ***********************************\n",
      "211017-17:10:39,811 nipype.workflow ERROR:\n",
      "\t could not run node: preprocWF.selectfiles\n",
      "211017-17:10:39,814 nipype.workflow INFO:\n",
      "\t crashfile: /home/neuro/workshop_weizmann/workshop/nipype/notebooks/crash-20211017-171039-neuro-selectfiles-f56abef1-3008-4e84-941c-c2800895302b.txt\n",
      "211017-17:10:39,816 nipype.workflow INFO:\n",
      "\t ***********************************\n",
      "RuntimeError: Workflow did not execute cleanly. Check log for details\n"
     ]
    }
   ],
   "source": [
    "wf.config['execution']['crashfile_format'] = 'txt'\n",
    "try:\n",
    "    wf.run()\n",
    "except(RuntimeError) as err:\n",
    "    print(\"RuntimeError:\", err)\n",
    "else:\n",
    "    raise"
   ]
  },
  {
   "cell_type": "markdown",
   "metadata": {},
   "source": [
    "Now you should have a new text file with your crash report. "
   ]
  },
  {
   "cell_type": "code",
   "execution_count": 5,
   "metadata": {},
   "outputs": [
    {
     "name": "stdout",
     "output_type": "stream",
     "text": [
      "Node: preprocWF.selectfiles\r\n",
      "Working directory: /home/neuro/workshop_weizmann/workshop/nipype/notebooks/working_dir/preprocWF/selectfiles\r\n",
      "\r\n",
      "Node inputs:\r\n",
      "\r\n",
      "base_directory = /data/ds000114\r\n",
      "force_lists = False\r\n",
      "raise_on_empty = True\r\n",
      "sort_filelist = True\r\n",
      "subject_id = sub-11\r\n",
      "\r\n",
      "Traceback (most recent call last):\r\n",
      "  File \"/opt/miniconda-latest/envs/neuro/lib/python3.7/site-packages/nipype/pipeline/plugins/linear.py\", line 46, in run\r\n",
      "    node.run(updatehash=updatehash)\r\n",
      "  File \"/opt/miniconda-latest/envs/neuro/lib/python3.7/site-packages/nipype/pipeline/engine/nodes.py\", line 516, in run\r\n",
      "    result = self._run_interface(execute=True)\r\n",
      "  File \"/opt/miniconda-latest/envs/neuro/lib/python3.7/site-packages/nipype/pipeline/engine/nodes.py\", line 635, in _run_interface\r\n",
      "    return self._run_command(execute)\r\n",
      "  File \"/opt/miniconda-latest/envs/neuro/lib/python3.7/site-packages/nipype/pipeline/engine/nodes.py\", line 741, in _run_command\r\n",
      "    result = self._interface.run(cwd=outdir)\r\n",
      "  File \"/opt/miniconda-latest/envs/neuro/lib/python3.7/site-packages/nipype/interfaces/base/core.py\", line 421, in run\r\n",
      "    outputs = self.aggregate_outputs(runtime)\r\n",
      "  File \"/opt/miniconda-latest/envs/neuro/lib/python3.7/site-packages/nipype/interfaces/base/core.py\", line 498, in aggregate_outputs\r\n",
      "    predicted_outputs = self._list_outputs()  # Predictions from _list_outputs\r\n",
      "  File \"/opt/miniconda-latest/envs/neuro/lib/python3.7/site-packages/nipype/interfaces/io.py\", line 1480, in _list_outputs\r\n",
      "    raise IOError(msg)\r\n",
      "OSError: No files were found matching func template: /data/ds000114/sub-11/ses-test/func/sub-11_ses-test_task-fingerfootlips_bold.nii.gz\r\n"
     ]
    }
   ],
   "source": [
    "!cat $(pwd)/crash-*selectfiles-*.txt"
   ]
  },
  {
   "cell_type": "markdown",
   "metadata": {},
   "source": [
    "## Example Crash 2: Wrong Input Type or Typo in the parameter\n",
    "\n",
    "Very simple, if an interface expects a ``float`` as input, but you give it a ``string``, it will crash:"
   ]
  },
  {
   "cell_type": "code",
   "execution_count": 6,
   "metadata": {},
   "outputs": [
    {
     "name": "stdout",
     "output_type": "stream",
     "text": [
      "TraitError: The 'fwhm' trait of an IsotropicSmoothInput instance must be a float, but a value of '4' <class 'str'> was specified.\n"
     ]
    }
   ],
   "source": [
    "from nipype.interfaces.fsl import IsotropicSmooth\n",
    "try:\n",
    "    smooth = IsotropicSmooth(fwhm='4')\n",
    "except(Exception) as err:\n",
    "    if \"TraitError\" in str(err.__class__):\n",
    "        print(\"TraitError:\", err)\n",
    "    else:\n",
    "        raise\n",
    "else:\n",
    "    raise"
   ]
  },
  {
   "cell_type": "markdown",
   "metadata": {},
   "source": [
    "This will give you the error: **``TraitError``**``: The 'fwhm' trait of an IsotropicSmoothInput instance must be a float, but a value of '4' <type 'str'> was specified.``\n",
    "\n",
    "To make sure that you are using the right input types, just check the ``help`` section of a given interface. There you can see **``fwhm: (a float)``**."
   ]
  },
  {
   "cell_type": "code",
   "execution_count": 7,
   "metadata": {},
   "outputs": [
    {
     "name": "stdout",
     "output_type": "stream",
     "text": [
      "Wraps the executable command ``fslmaths``.\n",
      "\n",
      "Use fslmaths to spatially smooth an image with a gaussian kernel.\n",
      "\n",
      "Inputs::\n",
      "\n",
      "        [Mandatory]\n",
      "        fwhm: (a float)\n",
      "                fwhm of smoothing kernel [mm]\n",
      "                argument: ``-s %.5f``, position: 4\n",
      "                mutually_exclusive: sigma\n",
      "        sigma: (a float)\n",
      "                sigma of smoothing kernel [mm]\n",
      "                argument: ``-s %.5f``, position: 4\n",
      "                mutually_exclusive: fwhm\n",
      "        in_file: (a pathlike object or string representing an existing file)\n",
      "                image to operate on\n",
      "                argument: ``%s``, position: 2\n",
      "\n",
      "        [Optional]\n",
      "        out_file: (a pathlike object or string representing a file)\n",
      "                image to write\n",
      "                argument: ``%s``, position: -2\n",
      "        internal_datatype: ('float' or 'char' or 'int' or 'short' or 'double'\n",
      "                  or 'input')\n",
      "                datatype to use for calculations (default is float)\n",
      "                argument: ``-dt %s``, position: 1\n",
      "        output_datatype: ('float' or 'char' or 'int' or 'short' or 'double'\n",
      "                  or 'input')\n",
      "                datatype to use for output (default uses input type)\n",
      "                argument: ``-odt %s``, position: -1\n",
      "        nan2zeros: (a boolean)\n",
      "                change NaNs to zeros before doing anything\n",
      "                argument: ``-nan``, position: 3\n",
      "        output_type: ('NIFTI' or 'NIFTI_PAIR' or 'NIFTI_GZ' or\n",
      "                  'NIFTI_PAIR_GZ')\n",
      "                FSL output type\n",
      "        args: (a string)\n",
      "                Additional parameters to the command\n",
      "                argument: ``%s``\n",
      "        environ: (a dictionary with keys which are a bytes or None or a value\n",
      "                  of class 'str' and with values which are a bytes or None or a\n",
      "                  value of class 'str', nipype default value: {})\n",
      "                Environment variables\n",
      "\n",
      "Outputs::\n",
      "\n",
      "        out_file: (a pathlike object or string representing an existing file)\n",
      "                image written after calculations\n",
      "\n",
      "References:\n",
      "-----------\n",
      "BibTeX('@article{JenkinsonBeckmannBehrensWoolrichSmith2012,author={M. Jenkinson, C.F. Beckmann, T.E. Behrens, M.W. Woolrich, and S.M. Smith},title={FSL},journal={NeuroImage},volume={62},pages={782-790},year={2012},}', key='JenkinsonBeckmannBehrensWoolrichSmith2012')\n"
     ]
    }
   ],
   "source": [
    "IsotropicSmooth.help()"
   ]
  },
  {
   "cell_type": "markdown",
   "metadata": {},
   "source": [
    "In a similar way, you will also get an error message if the input type is correct but you have a type in the name:\n",
    "\n",
    "    TraitError: The 'output_type' trait of an IsotropicSmoothInput instance must be u'NIFTI_PAIR' or u'NIFTI_PAIR_GZ' or u'NIFTI_GZ' or u'NIFTI', but a value of 'NIFTIiii' <type 'str'> was specified."
   ]
  },
  {
   "cell_type": "code",
   "execution_count": 8,
   "metadata": {},
   "outputs": [
    {
     "name": "stdout",
     "output_type": "stream",
     "text": [
      "TraitError: The 'output_type' trait of an IsotropicSmoothInput instance must be 'NIFTI' or 'NIFTI_PAIR' or 'NIFTI_GZ' or 'NIFTI_PAIR_GZ', but a value of 'NIFTIiii' <class 'str'> was specified.\n"
     ]
    }
   ],
   "source": [
    "from nipype.interfaces.fsl import IsotropicSmooth\n",
    "try:\n",
    "    smooth = IsotropicSmooth(output_type='NIFTIiii')\n",
    "except(Exception) as err:\n",
    "    if \"TraitError\" in str(err.__class__):\n",
    "        print(\"TraitError:\", err)\n",
    "    else:\n",
    "        raise\n",
    "else:\n",
    "    raise"
   ]
  },
  {
   "cell_type": "markdown",
   "metadata": {},
   "source": [
    "## Example Crash 3: Giving an array as input where a single file is expected\n",
    "\n",
    "As you can see in the [MapNode](basic_mapnodes.ipynb) example, if you try to feed an array as an input into a field that only expects a single file, you will get a **``TraitError``**."
   ]
  },
  {
   "cell_type": "code",
   "execution_count": 9,
   "metadata": {},
   "outputs": [
    {
     "name": "stdout",
     "output_type": "stream",
     "text": [
      "TraitError: The 'in_file' trait of a GunzipInputSpec instance must be a pathlike object or string representing an existing file, but a value of \"['/data/ds000114/sub-01/ses-test/func/sub-01_ses-test_task-fingerfootlips_bold.nii.gz', '/data/ds000114/sub-01/ses-test/func/sub-01_ses-test_task-fingerfootlips_bold.nii.gz']\" <class 'str'> was specified.\n"
     ]
    }
   ],
   "source": [
    "from nipype.algorithms.misc import Gunzip\n",
    "from nipype import Node\n",
    "\n",
    "files = ['/data/ds000114/sub-01/ses-test/func/sub-01_ses-test_task-fingerfootlips_bold.nii.gz',\n",
    "         '/data/ds000114/sub-01/ses-test/func/sub-01_ses-test_task-fingerfootlips_bold.nii.gz']\n",
    "\n",
    "gunzip = Node(Gunzip(), name='gunzip',)\n",
    "\n",
    "try:\n",
    "    gunzip.inputs.in_file = files\n",
    "except(Exception) as err:\n",
    "    if \"TraitError\" in str(err.__class__):\n",
    "        print(\"TraitError:\", err)\n",
    "    else:\n",
    "        raise\n",
    "else:\n",
    "    raise"
   ]
  },
  {
   "cell_type": "markdown",
   "metadata": {},
   "source": [
    "This can be solved by using a ``MapNode``:"
   ]
  },
  {
   "cell_type": "code",
   "execution_count": 10,
   "metadata": {},
   "outputs": [],
   "source": [
    "from nipype import MapNode\n",
    "gunzip = MapNode(Gunzip(), name='gunzip', iterfield=['in_file'])\n",
    "gunzip.inputs.in_file = files"
   ]
  },
  {
   "cell_type": "markdown",
   "metadata": {},
   "source": [
    "Now, make sure that you specify files that actually exist, otherwise you will have a ``TraitError`` again:"
   ]
  },
  {
   "cell_type": "code",
   "execution_count": 11,
   "metadata": {},
   "outputs": [
    {
     "name": "stdout",
     "output_type": "stream",
     "text": [
      "TraitError: Each element of the 'in_file' trait of a DynamicTraitedSpec instance must be a pathlike object or string representing an existing file, but a value of '/data/ds000114/sub-01/func/sub-01_task-fingerfootlips_bold.nii.gz' <class 'str'> was specified.\n"
     ]
    }
   ],
   "source": [
    "files = ['/data/ds000114/sub-01/func/sub-01_task-fingerfootlips_bold.nii.gz',\n",
    "         '/data/ds000114/sub-03/func/sub-03_task-fingerfootlips_bold.nii.gz']\n",
    "\n",
    "try:\n",
    "    gunzip.inputs.in_file = files\n",
    "except(Exception) as err:\n",
    "    if \"TraitError\" in str(err.__class__):\n",
    "        print(\"TraitError:\", err)\n",
    "    else:\n",
    "        raise\n",
    "else:\n",
    "    raise"
   ]
  },
  {
   "cell_type": "markdown",
   "metadata": {},
   "source": [
    "**By the way, not that those crashes don't create a ``crashfile``, because they didn't happen during runtime, but still during workflow building.**"
   ]
  },
  {
   "cell_type": "markdown",
   "metadata": {},
   "source": [
    "## Example Crash 4: SPM doesn't like ``*.nii.gz`` files\n",
    "\n",
    "SPM12 cannot handle compressed NIfTI files (``*nii.gz``). If you try to run the node nonetheless, it can give you different kind of problems:\n",
    "\n",
    "### SPM Problem 1 with ``*.nii.gz`` files\n",
    "\n",
    "SPM12 has a problem with handling ``*.nii.gz`` files. For it a compressed functional image has no temporal dimension and therefore seems to be just a 3D file. So if we try to run the ``Realign`` interface on a compressed file, we will get a **``TraitError``** error."
   ]
  },
  {
   "cell_type": "code",
   "execution_count": 12,
   "metadata": {},
   "outputs": [
    {
     "name": "stdout",
     "output_type": "stream",
     "text": [
      "TraitError: Each element of the 'in_files' trait of a SmoothInputSpec instance must be a pathlike object or string representing an existing file, but a value of '/data/ds000114/sub-01/ses-test/anat/sub-01_ses-test_T1w.nii.gz' <class 'str'> was specified.\n"
     ]
    }
   ],
   "source": [
    "from nipype.interfaces.spm import Smooth\n",
    "\n",
    "try:\n",
    "    smooth = Smooth(in_files='/data/ds000114/sub-01/ses-test/anat/sub-01_ses-test_T1w.nii.gz')\n",
    "except(Exception) as err:\n",
    "    if \"TraitError\" in str(err.__class__):\n",
    "        print(\"TraitError:\", err)\n",
    "    else:\n",
    "        raise\n",
    "else:\n",
    "    raise"
   ]
  },
  {
   "cell_type": "markdown",
   "metadata": {},
   "source": [
    "### SPM problem 2 with ``*.nii.gz`` files\n",
    "\n",
    "Sometimes **``TraitError``** can be more misleading."
   ]
  },
  {
   "cell_type": "code",
   "execution_count": 13,
   "metadata": {},
   "outputs": [
    {
     "name": "stdout",
     "output_type": "stream",
     "text": [
      "TraitError: Each element of the 'in_files' trait of a RealignInputSpec instance must be a pathlike object or string representing an existing file or a list of items which are a pathlike object or string representing an existing file, but a value of '/data/ds000114/sub-01/ses-test/func/sub-01_ses-test_task-fingerfootlips_bold.nii.gz' <class 'str'> was specified.\n"
     ]
    }
   ],
   "source": [
    "from nipype.interfaces.spm import Realign\n",
    "\n",
    "try:\n",
    "    realign = Realign(in_files='/data/ds000114/sub-01/ses-test/func/sub-01_ses-test_task-fingerfootlips_bold.nii.gz')\n",
    "except(Exception) as err:\n",
    "    if \"TraitError\" in str(err.__class__):\n",
    "        print(\"TraitError:\", err)\n",
    "    else:\n",
    "        raise\n",
    "else:\n",
    "    raise"
   ]
  },
  {
   "cell_type": "markdown",
   "metadata": {},
   "source": [
    "**This issue can be solved by unzipping the compressed NIfTI file before giving it as an input to an SPM node.** This can either be done by using the ``Gunzip`` interface from Nipype or even better if the input is coming from a FSL interface, most of them have an input filed `output_type='NIFTI'`, that you can set to NIFIT."
   ]
  },
  {
   "cell_type": "markdown",
   "metadata": {},
   "source": [
    "## Example Crash 5: Nipype cannot find the right software\n",
    "\n",
    "Especially at the beginning, just after installation, you sometimes forgot to specify some environment variables. If you try to use an interface where the environment variables of the software are not specified, e.g. if you try to run:\n",
    "\n",
    "```python\n",
    "from nipype.interfaces.freesurfer import MRIConvert\n",
    "convert = MRIConvert(in_file='/data/ds000114/sub-01/ses-test/anat/sub-01_ses-test_T1w.nii.gz',\n",
    "                     out_type='nii')\n",
    "```\n",
    "\n",
    "you might get an errors, such as:\n",
    "\n",
    "    IOError: command 'mri_convert' could not be found on host mnotter\n",
    "    Interface MRIConvert failed to run."
   ]
  },
  {
   "cell_type": "markdown",
   "metadata": {},
   "source": [
    "Or if you try to use SPM, but forgot to tell Nipype where to find it. If you forgot to tell the system where to find MATLAB (or MCR), then you will get the same kind of error as above. But if you forgot to specify which SPM you want to use, you'll get the following **``RuntimeError``**:\n",
    "\n",
    "    Standard error:\n",
    "    MATLAB code threw an exception:\n",
    "    SPM not in matlab path\n",
    "\n",
    "\n",
    "You can solve this issue by specifying the path to your SPM version:\n",
    "\n",
    "```python\n",
    "from nipype.interfaces.matlab import MatlabCommand\n",
    "MatlabCommand.set_default_paths('/opt/spm12-r7219/spm12_mcr/spm12')\n",
    "```"
   ]
  },
  {
   "cell_type": "markdown",
   "metadata": {},
   "source": [
    "## Example Crash 6: You forget mandatory inputs or use input fields that don't exist\n",
    "\n",
    "One of the simpler errors are the ones connected to input and output fields.\n",
    "\n",
    "### Forgetting mandatory input fields\n",
    "\n",
    "Let's see what happens if you forget a **``[Mandatory]``** input field."
   ]
  },
  {
   "cell_type": "code",
   "execution_count": 14,
   "metadata": {},
   "outputs": [
    {
     "name": "stdout",
     "output_type": "stream",
     "text": [
      "ValueError: Realign requires a value for input 'in_files'. For a list of required inputs, see Realign.help()\n"
     ]
    }
   ],
   "source": [
    "from nipype.interfaces.spm import Realign\n",
    "realign = Realign(register_to_mean=True)\n",
    "\n",
    "try:\n",
    "    realign.run()\n",
    "except(ValueError) as err:\n",
    "    print(\"ValueError:\", err)\n",
    "else:\n",
    "    raise"
   ]
  },
  {
   "cell_type": "markdown",
   "metadata": {},
   "source": [
    "This gives you the error:\n",
    "\n",
    "    ValueError: Realign requires a value for input 'in_files'. For a list of required inputs, see Realign.help()"
   ]
  },
  {
   "cell_type": "markdown",
   "metadata": {},
   "source": [
    "As described by the error text, if we use the ``help()`` function, we can actually see, which inputs are mandatory and which are optional."
   ]
  },
  {
   "cell_type": "code",
   "execution_count": 15,
   "metadata": {},
   "outputs": [
    {
     "name": "stdout",
     "output_type": "stream",
     "text": [
      "Use spm_realign for estimating within modality rigid body alignment\n",
      "\n",
      "http://www.fil.ion.ucl.ac.uk/spm/doc/manual.pdf#page=25\n",
      "\n",
      "Examples\n",
      "--------\n",
      "\n",
      ">>> import nipype.interfaces.spm as spm\n",
      ">>> realign = spm.Realign()\n",
      ">>> realign.inputs.in_files = 'functional.nii'\n",
      ">>> realign.inputs.register_to_mean = True\n",
      ">>> realign.run() # doctest: +SKIP\n",
      "\n",
      "Inputs::\n",
      "\n",
      "        [Mandatory]\n",
      "        in_files: (a list of items which are a pathlike object or string\n",
      "                  representing an existing file or a list of items which are a\n",
      "                  pathlike object or string representing an existing file)\n",
      "                list of filenames to realign\n",
      "\n",
      "        [Optional]\n",
      "        jobtype: ('estwrite' or 'estimate' or 'write', nipype default value:\n",
      "                  estwrite)\n",
      "                one of: estimate, write, estwrite\n",
      "        quality: (0.0 <= a floating point number <= 1.0)\n",
      "                0.1 = fast, 1.0 = precise\n",
      "        fwhm: (a floating point number >= 0.0)\n",
      "                gaussian smoothing kernel width\n",
      "        separation: (a floating point number >= 0.0)\n",
      "                sampling separation in mm\n",
      "        register_to_mean: (a boolean)\n",
      "                Indicate whether realignment is done to the mean image\n",
      "        weight_img: (a pathlike object or string representing an existing\n",
      "                  file)\n",
      "                filename of weighting image\n",
      "        interp: (0 <= an integer <= 7)\n",
      "                degree of b-spline used for interpolation\n",
      "        wrap: (a list of from 3 to 3 items which are an integer)\n",
      "                Check if interpolation should wrap in [x,y,z]\n",
      "        write_which: (a list of items which are a value of class 'int',\n",
      "                  nipype default value: [2, 1])\n",
      "                determines which images to reslice\n",
      "        write_interp: (0 <= an integer <= 7)\n",
      "                degree of b-spline used for interpolation\n",
      "        write_wrap: (a list of from 3 to 3 items which are an integer)\n",
      "                Check if interpolation should wrap in [x,y,z]\n",
      "        write_mask: (a boolean)\n",
      "                True/False mask output image\n",
      "        out_prefix: (a string, nipype default value: r)\n",
      "                realigned output prefix\n",
      "        matlab_cmd: (a string)\n",
      "                matlab command to use\n",
      "        paths: (a list of items which are a pathlike object or string\n",
      "                  representing a directory)\n",
      "                Paths to add to matlabpath\n",
      "        mfile: (a boolean, nipype default value: True)\n",
      "                Run m-code using m-file\n",
      "        use_mcr: (a boolean)\n",
      "                Run m-code using SPM MCR\n",
      "        use_v8struct: (a boolean, nipype default value: True)\n",
      "                Generate SPM8 and higher compatible jobs\n",
      "\n",
      "Outputs::\n",
      "\n",
      "        mean_image: (a pathlike object or string representing an existing\n",
      "                  file)\n",
      "                Mean image file from the realignment\n",
      "        modified_in_files: (a list of items which are a list of items which\n",
      "                  are a pathlike object or string representing an existing file or a\n",
      "                  pathlike object or string representing an existing file)\n",
      "                Copies of all files passed to in_files. Headers will have been\n",
      "                modified to align all images with the first, or optionally to first\n",
      "                do that, extract a mean image, and re-align to that mean image.\n",
      "        realigned_files: (a list of items which are a list of items which are\n",
      "                  a pathlike object or string representing an existing file or a\n",
      "                  pathlike object or string representing an existing file)\n",
      "                If jobtype is write or estwrite, these will be the resliced files.\n",
      "                Otherwise, they will be copies of in_files that have had their\n",
      "                headers rewritten.\n",
      "        realignment_parameters: (a list of items which are a pathlike object\n",
      "                  or string representing an existing file)\n",
      "                Estimated translation and rotation parameters\n",
      "\n",
      "References:\n",
      "-----------\n",
      "BibTeX('@book{FrackowiakFristonFrithDolanMazziotta1997,author={R.S.J. Frackowiak, K.J. Friston, C.D. Frith, R.J. Dolan, and J.C. Mazziotta},title={Human Brain Function},publisher={Academic Press USA},year={1997},}', key='FrackowiakFristonFrithDolanMazziotta1997')\n"
     ]
    }
   ],
   "source": [
    "realign.help()"
   ]
  },
  {
   "cell_type": "markdown",
   "metadata": {},
   "source": [
    "### Using input fields that don't exist\n",
    "\n",
    "Let's see what happens if we try to specify a parameter that doesn't exist as an input field:\n"
   ]
  },
  {
   "cell_type": "code",
   "execution_count": 16,
   "metadata": {},
   "outputs": [
    {
     "name": "stdout",
     "output_type": "stream",
     "text": [
      "TraitError: Cannot set the undefined 'output_type' attribute of a 'DespikeInputSpec' object.\n"
     ]
    }
   ],
   "source": [
    "from nipype.interfaces.afni import Despike\n",
    "\n",
    "try:\n",
    "    despike = Despike(in_file='/data/ds000114/sub-01/ses-test/func/sub-01_ses-test_task-fingerfootlips_bold.nii.gz',\n",
    "                      output_type='NIFTI')\n",
    "except(Exception) as err:\n",
    "    if \"TraitError\" in str(err.__class__):\n",
    "        print(\"TraitError:\", err)\n",
    "    else:\n",
    "        raise\n",
    "else:\n",
    "    raise"
   ]
  },
  {
   "cell_type": "markdown",
   "metadata": {},
   "source": [
    "This results in the **``TraitError``**:\n",
    "\n",
    "    TraitError: Cannot set the undefined 'output_type' attribute of a 'DespikeInputSpec' object.\n",
    "\n",
    "So what went wrong? If you use the ``help()`` function, you will see that the correct input filed is called **``outputtype``** and not **``output_type``**."
   ]
  },
  {
   "cell_type": "markdown",
   "metadata": {},
   "source": [
    "## Example Crash 7: Trying to connect a node to an input field that is already occupied\n",
    "\n",
    "Sometimes when you build a new workflow, you might forget that an output field was already connected and you try to connect a new node to the already occupied field.\n",
    "\n",
    "First, let's create a simple workflow:"
   ]
  },
  {
   "cell_type": "code",
   "execution_count": 17,
   "metadata": {},
   "outputs": [],
   "source": [
    "from nipype import SelectFiles, Node, Workflow\n",
    "from os.path import abspath as opap\n",
    "from nipype.interfaces.fsl import MCFLIRT, IsotropicSmooth\n",
    "\n",
    "# Create SelectFiles node\n",
    "templates={'func': '{subject_id}/func/{subject_id}_task-fingerfootlips_bold.nii.gz'}\n",
    "sf = Node(SelectFiles(templates),\n",
    "          name='selectfiles')\n",
    "sf.inputs.base_directory = opap('/data/ds000114')\n",
    "sf.inputs.subject_id = 'sub-01'\n",
    "\n",
    "# Create Motion Correction Node\n",
    "mcflirt = Node(MCFLIRT(mean_vol=True,\n",
    "                       save_plots=True),\n",
    "               name='mcflirt')\n",
    "\n",
    "# Create Smoothing node\n",
    "smooth = Node(IsotropicSmooth(fwhm=4),\n",
    "              name='smooth')\n",
    "\n",
    "# Create a preprocessing workflow\n",
    "wf = Workflow(name=\"preprocWF\")\n",
    "wf.base_dir = 'working_dir'\n",
    "\n",
    "# Connect the three nodes to each other\n",
    "wf.connect([(sf, mcflirt, [(\"func\", \"in_file\")]),\n",
    "            (mcflirt, smooth, [(\"out_file\", \"in_file\")])])"
   ]
  },
  {
   "cell_type": "markdown",
   "metadata": {},
   "source": [
    "Now, let's create a new node and connect it to the already occupied input field ``in_file`` of the ``smooth`` node:"
   ]
  },
  {
   "cell_type": "code",
   "execution_count": 18,
   "metadata": {},
   "outputs": [
    {
     "name": "stdout",
     "output_type": "stream",
     "text": [
      "Exception: Trying to connect preprocWF.mcflirt_NEW:out_file to preprocWF.smooth:in_file but input 'in_file' of node 'preprocWF.smooth' is already\n",
      "connected.\n",
      "\n"
     ]
    }
   ],
   "source": [
    "# Create a new node\n",
    "mcflirt_NEW = Node(MCFLIRT(mean_vol=True),\n",
    "                   name='mcflirt_NEW')\n",
    "\n",
    "# Connect it to an already connected input field\n",
    "try:\n",
    "    wf.connect([(mcflirt_NEW, smooth, [(\"out_file\", \"in_file\")])])\n",
    "except(Exception) as err:\n",
    "    print(\"Exception:\", err)\n",
    "else:\n",
    "    raise"
   ]
  },
  {
   "cell_type": "markdown",
   "metadata": {},
   "source": [
    "This will lead to the error:\n",
    "\n",
    "```python\n",
    "Exception: \n",
    "Trying to connect preprocWF.mcflirt_NEW:out_file to preprocWF.smooth:in_file but input 'in_file' of node 'preprocWF.smooth' is already connected.\n",
    "```"
   ]
  }
 ],
 "metadata": {
  "anaconda-cloud": {},
  "kernelspec": {
   "display_name": "Python 3",
   "language": "python",
   "name": "python3"
  },
  "language_info": {
   "codemirror_mode": {
    "name": "ipython",
    "version": 3
   },
   "file_extension": ".py",
   "mimetype": "text/x-python",
   "name": "python",
   "nbconvert_exporter": "python",
   "pygments_lexer": "ipython3",
   "version": "3.7.8"
  }
 },
 "nbformat": 4,
 "nbformat_minor": 2
}
