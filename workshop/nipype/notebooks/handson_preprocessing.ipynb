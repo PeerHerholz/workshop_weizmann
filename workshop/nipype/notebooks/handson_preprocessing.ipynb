{
 "cells": [
  {
   "cell_type": "markdown",
   "metadata": {},
   "source": [
    "# Hands-on 1: How to create a fMRI preprocessing workflow\n",
    "\n",
    "The purpose of this section is that you set-up a complete fMRI analysis workflow yourself. So that in the end, you are able to perform the analysis from A-Z, i.e. from preprocessing to group analysis. This section will cover the preprocessing part, and the section [Hands-on 2: Analysis](handson_analysis.ipynb) will handle the analysis part.\n",
    "\n",
    "We will use this opportunity to show you some nice additional interfaces/nodes that might not be relevant to your usual analysis. But it's always nice to know that they exist. And hopefully, this will encourage you to investigate all other interfaces that Nipype can bring to the tip of your finger."
   ]
  },
  {
   "cell_type": "markdown",
   "metadata": {},
   "source": [
    "## Preparation\n",
    "\n",
    "Before we can start with anything we first need to download the data. For this hands-on, we will only use the right-handed subjects 2-4 and 7-9. This can be done very quickly with the following `datalad` command.\n",
    "\n",
    "**Note:** This might take a while, as datalad needs to download ~200MB of data"
   ]
  },
  {
   "cell_type": "code",
   "execution_count": 3,
   "metadata": {},
   "outputs": [
    {
     "name": "stdout",
     "output_type": "stream",
     "text": [
      "\u001b[0m\u001b[01;32mdataset_description.json\u001b[0m*              \u001b[01;32mtask-fingerfootlips_bold.json\u001b[0m*\r\n",
      "\u001b[01;34mderivatives\u001b[0m/                           \u001b[01;32mtask-fingerfootlips_events.tsv\u001b[0m*\r\n",
      "\u001b[01;34msub-01\u001b[0m/                                \u001b[01;32mtask-linebisection_bold.json\u001b[0m*\r\n",
      "\u001b[01;34msub-02\u001b[0m/                                \u001b[01;32mtask-overtverbgeneration_bold.json\u001b[0m*\r\n",
      "\u001b[01;34msub-03\u001b[0m/                                \u001b[01;32mtask-overtverbgeneration_events.tsv\u001b[0m*\r\n",
      "\u001b[01;34msub-07\u001b[0m/                                \u001b[01;32mtask-overtwordrepetition_bold.json\u001b[0m*\r\n",
      "\u001b[01;32mtask-covertverbgeneration_bold.json\u001b[0m*   \u001b[01;32mtask-overtwordrepetition_events.tsv\u001b[0m*\r\n",
      "\u001b[01;32mtask-covertverbgeneration_events.tsv\u001b[0m*\r\n"
     ]
    }
   ],
   "source": [
    "ls /data/ds000114/"
   ]
  },
  {
   "cell_type": "code",
   "execution_count": 4,
   "metadata": {},
   "outputs": [
    {
     "name": "stdout",
     "output_type": "stream",
     "text": [
      "get(ok):../../../workshop_weizmann/workshop/nipype/notebooks/ /home/neuro/workshop/data/ds000114/sub-09/ses-test/anat/sub-09_ses-test_T1w.nii.gz (file) [from web...]\n",
      "get(ok):../../../workshop_weizmann/workshop/nipype/notebooks/ /home/neuro/workshop/data/ds000114/sub-02/ses-test/anat/sub-02_ses-test_T1w.nii.gz (file) [from web...]\n",
      "get(ok):../../../workshop_weizmann/workshop/nipype/notebooks/ /home/neuro/workshop/data/ds000114/sub-03/ses-test/func/sub-03_ses-test_task-fingerfootlips_bold.nii.gz (file) [from web...]\n",
      "get(ok):../../../workshop_weizmann/workshop/nipype/notebooks/ /home/neuro/workshop/data/ds000114/sub-03/ses-test/anat/sub-03_ses-test_T1w.nii.gz (file) [from web...]\n",
      "get(ok):../../../workshop_weizmann/workshop/nipype/notebooks/ /home/neuro/workshop/data/ds000114/sub-07/ses-test/func/sub-07_ses-test_task-fingerfootlips_bold.nii.gz (file) [from web...]\n",
      "get(ok):../../../workshop_weizmann/workshop/nipype/notebooks/ /home/neuro/workshop/data/ds000114/sub-08/ses-test/func/sub-08_ses-test_task-fingerfootlips_bold.nii.gz (file) [from web...]\n",
      "get(ok):../../../workshop_weizmann/workshop/nipype/notebooks/ /home/neuro/workshop/data/ds000114/sub-04/ses-test/anat/sub-04_ses-test_T1w.nii.gz (file) [from origin...]\n",
      "get(ok):../../../workshop_weizmann/workshop/nipype/notebooks/ /home/neuro/workshop/data/ds000114/sub-04/ses-test/func/sub-04_ses-test_task-fingerfootlips_bold.nii.gz (file) [from origin...]\n",
      "get(ok):../../../workshop_weizmann/workshop/nipype/notebooks/ /home/neuro/workshop/data/ds000114/sub-07/ses-test/anat/sub-07_ses-test_T1w.nii.gz (file) [from web...]\n",
      "get(ok):../../../workshop_weizmann/workshop/nipype/notebooks/ /home/neuro/workshop/data/ds000114/sub-08/ses-test/anat/sub-08_ses-test_T1w.nii.gz (file) [from web...]\n",
      "get(ok):../../../workshop_weizmann/workshop/nipype/notebooks/ /home/neuro/workshop/data/ds000114/sub-02/ses-test/func/sub-02_ses-test_task-fingerfootlips_bold.nii.gz (file) [from origin...]\n",
      "get(ok):../../../workshop_weizmann/workshop/nipype/notebooks/ /home/neuro/workshop/data/ds000114/sub-09/ses-test/func/sub-09_ses-test_task-fingerfootlips_bold.nii.gz (file) [from origin...]\n",
      "action summary:\n",
      "  get (ok: 12)\n"
     ]
    },
    {
     "name": "stderr",
     "output_type": "stream",
     "text": [
      "It is highly recommended to configure Git before using DataLad. Set both 'user.name' and 'user.email' configuration variables.\n",
      "It is highly recommended to configure Git before using DataLad. Set both 'user.name' and 'user.email' configuration variables.\n"
     ]
    }
   ],
   "source": [
    "%%bash\n",
    "datalad get -J 4 -d /home/neuro/workshop/data/ds000114 \\\n",
    "    /home/neuro/workshop/data/ds000114/sub-0[234789]/ses-test/anat/sub-0[234789]_ses-test_T1w.nii.gz \\\n",
    "    /home/neuro/workshop/data/ds000114/sub-0[234789]/ses-test/func/*fingerfootlips*"
   ]
  },
  {
   "cell_type": "markdown",
   "metadata": {},
   "source": [
    "# Preprocessing Workflow Structure\n",
    "\n",
    "So let's get our hands dirty. First things first, it's always good to know which interfaces you want to use in your workflow and in which order you want to execute them. For the preprocessing workflow, I recommend that we use the following nodes:\n",
    "\n",
    "     1. Gunzip (Nipype)\n",
    "     2. Drop Dummy Scans (FSL)\n",
    "     3. Slice Time Correction (SPM)\n",
    "     4. Motion Correction (SPM)\n",
    "     5. Artifact Detection\n",
    "     6. Segmentation (SPM)\n",
    "     7. Coregistration (FSL)\n",
    "     8. Smoothing (FSL)\n",
    "     9. Apply Binary Mask (FSL)\n",
    "    10. Remove Linear Trends (Nipype)\n",
    "    \n",
    "**Note:** This workflow might be overkill concerning data manipulation, but it hopefully serves as a good Nipype exercise."
   ]
  },
  {
   "cell_type": "markdown",
   "metadata": {},
   "source": [
    "## Imports\n",
    "\n",
    "It's always best to have all relevant module imports at the beginning of your script. So let's import what we most certainly need."
   ]
  },
  {
   "cell_type": "code",
   "execution_count": 5,
   "metadata": {},
   "outputs": [],
   "source": [
    "from nilearn import plotting\n",
    "%matplotlib inline\n",
    "\n",
    "# Get the Node and Workflow object\n",
    "from nipype import Node, Workflow\n",
    "\n",
    "# Specify which SPM to use\n",
    "from nipype.interfaces.matlab import MatlabCommand\n",
    "MatlabCommand.set_default_paths('/opt/spm12-r7219/spm12_mcr/spm12')"
   ]
  },
  {
   "cell_type": "markdown",
   "metadata": {},
   "source": [
    "**Note:** Ideally you would also put the imports of all the interfaces that you use here at the top. But as we will develop the workflow step by step, we can also import the relevant modules as we go."
   ]
  },
  {
   "cell_type": "markdown",
   "metadata": {},
   "source": [
    "## Create Nodes and Workflow connections\n",
    "\n",
    "Let's create all the nodes that we need! Make sure to specify all relevant inputs and keep in mind which ones you later on need to connect in your pipeline.\n",
    "\n",
    "### Workflow\n",
    "\n",
    "We recommend to create the workflow and establish all its connections at a later place in your script. This helps to have everything nicely together. But for this hands-on example, it makes sense to establish the connections between the nodes as we go.\n",
    "\n",
    "And for this, we first need to create a workflow:"
   ]
  },
  {
   "cell_type": "code",
   "execution_count": 6,
   "metadata": {
    "solution2": "hidden",
    "solution2_first": true
   },
   "outputs": [],
   "source": [
    "# Create the workflow here\n",
    "# Hint: use 'base_dir' to specify where to store the working directory"
   ]
  },
  {
   "cell_type": "code",
   "execution_count": 7,
   "metadata": {
    "solution2": "hidden"
   },
   "outputs": [],
   "source": [
    "preproc = Workflow(name='work_preproc', base_dir='/output/')"
   ]
  },
  {
   "cell_type": "markdown",
   "metadata": {},
   "source": [
    "### Gunzip\n",
    "\n",
    "I've already created the `Gunzip` node as a template for the other nodes. Also, we've specified an `in_file` here so that we can directly test the nodes without worrying about the Input/Output data stream to the workflow. This will be taken care of in a later section."
   ]
  },
  {
   "cell_type": "code",
   "execution_count": 8,
   "metadata": {},
   "outputs": [],
   "source": [
    "from nipype.algorithms.misc import Gunzip"
   ]
  },
  {
   "cell_type": "code",
   "execution_count": 9,
   "metadata": {},
   "outputs": [],
   "source": [
    "# Specify example input file\n",
    "func_file = '/data/ds000114/sub-07/ses-test/func/sub-07_ses-test_task-fingerfootlips_bold.nii.gz'\n",
    "\n",
    "# Initiate Gunzip node\n",
    "gunzip_func = Node(Gunzip(in_file=func_file), name='gunzip_func')"
   ]
  },
  {
   "cell_type": "markdown",
   "metadata": {},
   "source": [
    "### Drop Dummy Scans\n",
    "\n",
    "The functional images of this dataset were recorded with 4 dummy scans at the beginning (see the [corresponding publication](https://www.ncbi.nlm.nih.gov/pmc/articles/PMC3641991/)). But those dummy scans were not yet taken out from the functional images.\n",
    "\n",
    "To better illustrate this, let's plot the time course of a random voxel of the just defined `func_file`:"
   ]
  },
  {
   "cell_type": "code",
   "execution_count": 10,
   "metadata": {},
   "outputs": [
    {
     "data": {
      "image/png": "[encoded data removed]",
      "text/plain": [
       "<Figure size 432x288 with 1 Axes>"
      ]
     },
     "metadata": {
      "needs_background": "light"
     },
     "output_type": "display_data"
    }
   ],
   "source": [
    "import nibabel as nb\n",
    "%matplotlib inline\n",
    "import matplotlib.pyplot as plt\n",
    "plt.plot(nb.load(func_file).get_fdata()[32, 32, 15, :]);"
   ]
  },
  {
   "cell_type": "markdown",
   "metadata": {},
   "source": [
    "In the figure above, we see that at the very beginning there are extreme values, which hint to the fact that steady state wasn't reached yet. Therefore, we want to exclude the dummy scans from the original data. This can be achieved with FSL's `ExtractROI`."
   ]
  },
  {
   "cell_type": "code",
   "execution_count": 11,
   "metadata": {},
   "outputs": [],
   "source": [
    "from nipype.interfaces.fsl import ExtractROI"
   ]
  },
  {
   "cell_type": "code",
   "execution_count": 12,
   "metadata": {},
   "outputs": [],
   "source": [
    "extract = Node(ExtractROI(t_min=4, t_size=-1, output_type='NIFTI'),\n",
    "               name=\"extract\")"
   ]
  },
  {
   "cell_type": "markdown",
   "metadata": {},
   "source": [
    "This `ExtractROI` node can now be connected to the `gunzip_func` node from above. To do this, we use the following command:"
   ]
  },
  {
   "cell_type": "code",
   "execution_count": 13,
   "metadata": {},
   "outputs": [],
   "source": [
    "preproc.connect([(gunzip_func, extract, [('out_file', 'in_file')])])"
   ]
  },
  {
   "cell_type": "markdown",
   "metadata": {},
   "source": [
    "### Slice Time Correction\n",
    "\n",
    "Now to the next step. Let's us SPM's `SliceTiming` to correct for slice wise acquisition of the volumes. As a reminder, the tutorial dataset was recorded...\n",
    "- with a time repetition (TR) of 2.5 seconds\n",
    "- with 30 slices per volume\n",
    "- in an interleaved fashion, i.e. slice order is [1, 3, 5, 7, ..., 2, 4, 6, ..., 30]\n",
    "- with a time acquisition (TA) of 2.4167 seconds, i.e. `TR-(TR/num_slices)`"
   ]
  },
  {
   "cell_type": "code",
   "execution_count": 14,
   "metadata": {},
   "outputs": [],
   "source": [
    "from nipype.interfaces.spm import SliceTiming"
   ]
  },
  {
   "cell_type": "code",
   "execution_count": 15,
   "metadata": {},
   "outputs": [
    {
     "name": "stdout",
     "output_type": "stream",
     "text": [
      "[1, 3, 5, 7, 9, 11, 13, 15, 17, 19, 21, 23, 25, 27, 29, 2, 4, 6, 8, 10, 12, 14, 16, 18, 20, 22, 24, 26, 28, 30]\n"
     ]
    }
   ],
   "source": [
    "slice_order = list(range(1, 31, 2)) + list(range(2, 31, 2))\n",
    "print(slice_order)"
   ]
  },
  {
   "cell_type": "code",
   "execution_count": 16,
   "metadata": {
    "solution2": "hidden",
    "solution2_first": true
   },
   "outputs": [],
   "source": [
    "# Initiate SliceTiming node here"
   ]
  },
  {
   "cell_type": "code",
   "execution_count": 17,
   "metadata": {
    "solution2": "hidden"
   },
   "outputs": [],
   "source": [
    "slicetime = Node(SliceTiming(num_slices=30,\n",
    "                             ref_slice=15,\n",
    "                             slice_order=slice_order,\n",
    "                             time_repetition=2.5,\n",
    "                             time_acquisition=2.5-(2.5/30)),\n",
    "                 name='slicetime')"
   ]
  },
  {
   "cell_type": "markdown",
   "metadata": {},
   "source": [
    "Now the next step is to connect the `SliceTiming` node to the rest of the workflow, i.e. the `ExtractROI` node."
   ]
  },
  {
   "cell_type": "code",
   "execution_count": 18,
   "metadata": {
    "solution2": "hidden",
    "solution2_first": true
   },
   "outputs": [],
   "source": [
    "# Connect SliceTiming node to the other nodes here"
   ]
  },
  {
   "cell_type": "code",
   "execution_count": 19,
   "metadata": {
    "solution2": "hidden"
   },
   "outputs": [],
   "source": [
    "preproc.connect([(extract, slicetime, [('roi_file', 'in_files')])])"
   ]
  },
  {
   "cell_type": "markdown",
   "metadata": {},
   "source": [
    "### Motion Correction\n",
    "\n",
    "To correct for motion in the scanner, we will be using FSL's `MCFLIRT`."
   ]
  },
  {
   "cell_type": "code",
   "execution_count": 20,
   "metadata": {},
   "outputs": [],
   "source": [
    "from nipype.interfaces.fsl import MCFLIRT"
   ]
  },
  {
   "cell_type": "code",
   "execution_count": 21,
   "metadata": {
    "solution2": "hidden",
    "solution2_first": true
   },
   "outputs": [],
   "source": [
    "# Initate MCFLIRT node here"
   ]
  },
  {
   "cell_type": "code",
   "execution_count": 22,
   "metadata": {
    "solution2": "hidden"
   },
   "outputs": [],
   "source": [
    "mcflirt = Node(MCFLIRT(mean_vol=True,\n",
    "                       save_plots=True),\n",
    "               name=\"mcflirt\")"
   ]
  },
  {
   "cell_type": "markdown",
   "metadata": {},
   "source": [
    "Connect the `MCFLIRT` node to the rest of the workflow."
   ]
  },
  {
   "cell_type": "code",
   "execution_count": 23,
   "metadata": {
    "solution2": "hidden",
    "solution2_first": true
   },
   "outputs": [],
   "source": [
    "# Connect MCFLIRT node to the other nodes here"
   ]
  },
  {
   "cell_type": "code",
   "execution_count": 24,
   "metadata": {
    "solution2": "hidden"
   },
   "outputs": [],
   "source": [
    "preproc.connect([(slicetime, mcflirt, [('timecorrected_files', 'in_file')])])"
   ]
  },
  {
   "cell_type": "markdown",
   "metadata": {},
   "source": [
    "### Artifact Detection\n",
    "\n",
    "We will use the really cool and useful `ArtifactDetection` tool from Nipype to detect motion and intensity outliers in the functional images. The interface is initiated as follows:"
   ]
  },
  {
   "cell_type": "code",
   "execution_count": 25,
   "metadata": {},
   "outputs": [],
   "source": [
    "from nipype.algorithms.rapidart import ArtifactDetect"
   ]
  },
  {
   "cell_type": "code",
   "execution_count": 26,
   "metadata": {},
   "outputs": [],
   "source": [
    "art = Node(ArtifactDetect(norm_threshold=2,\n",
    "                          zintensity_threshold=3,\n",
    "                          mask_type='spm_global',\n",
    "                          parameter_source='FSL',\n",
    "                          use_differences=[True, False],\n",
    "                          plot_type='svg'),\n",
    "           name=\"art\")"
   ]
  },
  {
   "cell_type": "markdown",
   "metadata": {},
   "source": [
    "The parameters above mean the following:\n",
    "- `norm_threshold` - Threshold to use to detect motion-related outliers when composite motion is being used\n",
    "- `zintensity_threshold` - Intensity Z-threshold use to detection images that deviate from the mean\n",
    "- `mask_type` - Type of mask that should be used to mask the functional data. *spm_global* uses an spm_global like calculation to determine the brain mask\n",
    "- `parameter_source` - Source of movement parameters\n",
    "- `use_differences` - If you want to use differences between successive motion (first element) and intensity parameter (second element) estimates in order to determine outliers"
   ]
  },
  {
   "cell_type": "markdown",
   "metadata": {},
   "source": [
    "And this is how you connect this node to the rest of the workflow:"
   ]
  },
  {
   "cell_type": "code",
   "execution_count": 27,
   "metadata": {},
   "outputs": [],
   "source": [
    "preproc.connect([(mcflirt, art, [('out_file', 'realigned_files'),\n",
    "                                 ('par_file', 'realignment_parameters')])\n",
    "                 ])"
   ]
  },
  {
   "cell_type": "markdown",
   "metadata": {},
   "source": [
    "### Segmentation of anatomical image\n",
    "\n",
    "Now let's work on the anatomical image. In particular, let's use SPM's `NewSegment` to create probability maps for the gray matter, white matter tissue and CSF."
   ]
  },
  {
   "cell_type": "code",
   "execution_count": 28,
   "metadata": {},
   "outputs": [],
   "source": [
    "from nipype.interfaces.spm import NewSegment"
   ]
  },
  {
   "cell_type": "code",
   "execution_count": 29,
   "metadata": {},
   "outputs": [],
   "source": [
    "# Use the following tissue specification to get a GM and WM probability map\n",
    "tpm_img ='/opt/spm12-r7219/spm12_mcr/spm12/tpm/TPM.nii'\n",
    "tissue1 = ((tpm_img, 1), 1, (True,False), (False, False))\n",
    "tissue2 = ((tpm_img, 2), 1, (True,False), (False, False))\n",
    "tissue3 = ((tpm_img, 3), 2, (True,False), (False, False))\n",
    "tissue4 = ((tpm_img, 4), 3, (False,False), (False, False))\n",
    "tissue5 = ((tpm_img, 5), 4, (False,False), (False, False))\n",
    "tissue6 = ((tpm_img, 6), 2, (False,False), (False, False))\n",
    "tissues = [tissue1, tissue2, tissue3, tissue4, tissue5, tissue6]"
   ]
  },
  {
   "cell_type": "code",
   "execution_count": 30,
   "metadata": {
    "solution2": "hidden",
    "solution2_first": true
   },
   "outputs": [],
   "source": [
    "# Initiate NewSegment node here"
   ]
  },
  {
   "cell_type": "code",
   "execution_count": 31,
   "metadata": {
    "solution2": "hidden"
   },
   "outputs": [],
   "source": [
    "segment = Node(NewSegment(tissues=tissues), name='segment')"
   ]
  },
  {
   "cell_type": "markdown",
   "metadata": {},
   "source": [
    "We will again be using a `Gunzip` node to unzip the anatomical image that we then want to use as input to the segmentation node. We again also need to specify the anatomical image that we want to use in this case. As before, this will later also be handled directly by the Input/Output stream."
   ]
  },
  {
   "cell_type": "code",
   "execution_count": 32,
   "metadata": {},
   "outputs": [],
   "source": [
    "# Specify example input file\n",
    "anat_file = '/data/ds000114/sub-07/ses-test/anat/sub-07_ses-test_T1w.nii.gz'\n",
    "\n",
    "# Initiate Gunzip node\n",
    "gunzip_anat = Node(Gunzip(in_file=anat_file), name='gunzip_anat')"
   ]
  },
  {
   "cell_type": "markdown",
   "metadata": {},
   "source": [
    "Now we can connect the `NewSegment` node to the rest of the workflow."
   ]
  },
  {
   "cell_type": "code",
   "execution_count": 33,
   "metadata": {
    "solution2": "hidden",
    "solution2_first": true
   },
   "outputs": [],
   "source": [
    "# Connect NewSegment node to the other nodes here"
   ]
  },
  {
   "cell_type": "code",
   "execution_count": 34,
   "metadata": {
    "solution2": "hidden"
   },
   "outputs": [],
   "source": [
    "preproc.connect([(gunzip_anat, segment, [('out_file', 'channel_files')])])"
   ]
  },
  {
   "cell_type": "markdown",
   "metadata": {},
   "source": [
    "### Compute Coregistration Matrix\n",
    "\n",
    "As a next step, we will make sure that the functional images are coregistered to the anatomical image. For this, we will use FSL's `FLIRT` function. As we just created a white matter probability map, we can use this together with the Boundary-Based Registration (BBR) cost function to optimize the image coregistration. As some helpful notes...\n",
    "- use a degree of freedom of 6\n",
    "- specify the cost function as `bbr`\n",
    "- use the `schedule='/usr/share/fsl/5.0/etc/flirtsch/bbr.sch'`"
   ]
  },
  {
   "cell_type": "code",
   "execution_count": 35,
   "metadata": {},
   "outputs": [],
   "source": [
    "from nipype.interfaces.fsl import FLIRT"
   ]
  },
  {
   "cell_type": "code",
   "execution_count": 36,
   "metadata": {
    "solution2": "hidden",
    "solution2_first": true
   },
   "outputs": [],
   "source": [
    "# Initiate FLIRT node here"
   ]
  },
  {
   "cell_type": "code",
   "execution_count": 37,
   "metadata": {
    "solution2": "hidden"
   },
   "outputs": [],
   "source": [
    "coreg = Node(FLIRT(dof=6,\n",
    "                   cost='bbr',\n",
    "                   schedule='/usr/share/fsl/5.0/etc/flirtsch/bbr.sch',\n",
    "                   output_type='NIFTI'),\n",
    "             name=\"coreg\")"
   ]
  },
  {
   "cell_type": "code",
   "execution_count": 38,
   "metadata": {
    "solution2": "hidden",
    "solution2_first": true
   },
   "outputs": [],
   "source": [
    "# Connect FLIRT node to the other nodes here"
   ]
  },
  {
   "cell_type": "code",
   "execution_count": 39,
   "metadata": {
    "solution2": "hidden"
   },
   "outputs": [],
   "source": [
    "preproc.connect([(gunzip_anat, coreg, [('out_file', 'reference')]),\n",
    "                 (mcflirt, coreg, [('mean_img', 'in_file')])\n",
    "                 ])"
   ]
  },
  {
   "cell_type": "markdown",
   "metadata": {},
   "source": [
    "As mentioned above, the `bbr` routine can use the subject-specific white matter probability map to guide the coregistration. But for this, we need to create a binary mask out of the WM probability map. This can easily be done by FSL's `Threshold` interface."
   ]
  },
  {
   "cell_type": "code",
   "execution_count": 40,
   "metadata": {},
   "outputs": [],
   "source": [
    "from nipype.interfaces.fsl import Threshold\n",
    "\n",
    "# Threshold - Threshold WM probability image\n",
    "threshold_WM = Node(Threshold(thresh=0.5,\n",
    "                              args='-bin',\n",
    "                              output_type='NIFTI'),\n",
    "                name=\"threshold_WM\")"
   ]
  },
  {
   "cell_type": "markdown",
   "metadata": {},
   "source": [
    "Now, to select the WM probability map that the `NewSegment` node created, we need some helper function. Because the output field `partial_volume_files` form the segmentation node, will give us a list of files, i.e. `[[GM_prob], [WM_prob], [], [], [], []]`. Therefore, using the following function, we can select only the last element of this list."
   ]
  },
  {
   "cell_type": "code",
   "execution_count": 41,
   "metadata": {},
   "outputs": [],
   "source": [
    "# Select WM segmentation file from segmentation output\n",
    "def get_wm(files):\n",
    "    return files[1][0]\n",
    "\n",
    "# Connecting the segmentation node with the threshold node\n",
    "preproc.connect([(segment, threshold_WM, [(('native_class_images', get_wm),\n",
    "                                           'in_file')])])"
   ]
  },
  {
   "cell_type": "markdown",
   "metadata": {},
   "source": [
    "Now we can just connect this `Threshold` node to the coregistration node from above."
   ]
  },
  {
   "cell_type": "code",
   "execution_count": 42,
   "metadata": {
    "solution2": "hidden",
    "solution2_first": true
   },
   "outputs": [],
   "source": [
    "# Connect Threshold node to coregistration node above here"
   ]
  },
  {
   "cell_type": "code",
   "execution_count": 43,
   "metadata": {
    "solution2": "hidden"
   },
   "outputs": [],
   "source": [
    "preproc.connect([(threshold_WM, coreg, [('out_file', 'wm_seg')])])"
   ]
  },
  {
   "cell_type": "markdown",
   "metadata": {},
   "source": [
    "### Apply Coregistration Matrix to functional image\n",
    "\n",
    "Now that we know the coregistration matrix to correctly overlay the functional mean image on the subject-specific anatomy, we need to apply to coregistration to the whole time series. This can be achieved with FSL's `FLIRT` as follows:"
   ]
  },
  {
   "cell_type": "code",
   "execution_count": 44,
   "metadata": {},
   "outputs": [],
   "source": [
    "# Specify the isometric voxel resolution you want after coregistration\n",
    "desired_voxel_iso = 4\n",
    "\n",
    "# Apply coregistration warp to functional images\n",
    "applywarp = Node(FLIRT(interp='spline',\n",
    "                       apply_isoxfm=desired_voxel_iso,\n",
    "                       output_type='NIFTI'),\n",
    "                 name=\"applywarp\")"
   ]
  },
  {
   "cell_type": "markdown",
   "metadata": {},
   "source": [
    "**<span style=\"color:red\">Important</span>**: As you can see above, we also specified a variable `desired_voxel_iso`. This is very important at this stage, otherwise `FLIRT` will transform your functional images to a resolution of the anatomical image, which will dramatically increase the file size (e.g. to 1-10GB per file). If you don't want to change the voxel resolution, use the additional parameter `no_resample=True`. Important, for this to work, you still need to define `apply_isoxfm`."
   ]
  },
  {
   "cell_type": "code",
   "execution_count": 45,
   "metadata": {},
   "outputs": [],
   "source": [
    "# Connecting the ApplyWarp node to all the other nodes\n",
    "preproc.connect([(mcflirt, applywarp, [('out_file', 'in_file')]),\n",
    "                 (coreg, applywarp, [('out_matrix_file', 'in_matrix_file')]),\n",
    "                 (gunzip_anat, applywarp, [('out_file', 'reference')])\n",
    "                 ])"
   ]
  },
  {
   "cell_type": "markdown",
   "metadata": {},
   "source": [
    "### Smoothing\n",
    "\n",
    "Next step is image smoothing. The most simple way to do this is to use FSL's or SPM's `Smooth` function. But for learning purposes, let's use FSL's `SUSAN` workflow as it is implemented in Nipype. Note that this time, we are importing a workflow instead of an interface."
   ]
  },
  {
   "cell_type": "code",
   "execution_count": 46,
   "metadata": {},
   "outputs": [],
   "source": [
    "from niflow.nipype1.workflows.fmri.fsl.preprocess import create_susan_smooth"
   ]
  },
  {
   "cell_type": "markdown",
   "metadata": {},
   "source": [
    "If you type `create_susan_smooth?` you can see how to specify the input variables to the susan workflow. In particular, they are...\n",
    "- `fwhm`: set this value to 4 (or whichever value you want)\n",
    "- `mask_file`: will be created in a later step\n",
    "- `in_file`: will be handled while connection to other nodes in the preproc workflow"
   ]
  },
  {
   "cell_type": "code",
   "execution_count": 47,
   "metadata": {
    "solution2": "hidden",
    "solution2_first": true
   },
   "outputs": [],
   "source": [
    "# Initiate SUSAN workflow here"
   ]
  },
  {
   "cell_type": "code",
   "execution_count": 48,
   "metadata": {
    "solution2": "hidden"
   },
   "outputs": [],
   "source": [
    "susan = create_susan_smooth(name='susan')\n",
    "susan.inputs.inputnode.fwhm = 4"
   ]
  },
  {
   "cell_type": "code",
   "execution_count": 49,
   "metadata": {
    "solution2": "hidden",
    "solution2_first": true
   },
   "outputs": [],
   "source": [
    "# Connect Threshold node to coregistration node above here"
   ]
  },
  {
   "cell_type": "code",
   "execution_count": 50,
   "metadata": {
    "solution2": "hidden"
   },
   "outputs": [],
   "source": [
    "preproc.connect([(applywarp, susan, [('out_file', 'inputnode.in_files')])])"
   ]
  },
  {
   "cell_type": "markdown",
   "metadata": {},
   "source": [
    "### Create Binary Mask\n",
    "\n",
    "There are many possible approaches on how you can mask your functional images. One of them is not at all, one is with a simple brain mask and one that only considers certain kind of brain tissue, e.g. gray matter.\n",
    "\n",
    "For the current example, we want to create a dilated gray matter mask. For this purpose we need to:\n",
    "1. Resample the gray matter probability map to the same resolution as the functional images\n",
    "2. Threshold this resampled probability map at a specific value\n",
    "3. Dilate this mask by some voxels to make the mask less conservative and more inclusive\n",
    "\n",
    "The first step can be done in many ways (eg. using freesurfer's `mri_convert`, `nibabel`) but in our case, we will use FSL's `FLIRT`. The trick is to use the probability mask, as input file and a reference file."
   ]
  },
  {
   "cell_type": "code",
   "execution_count": 51,
   "metadata": {},
   "outputs": [],
   "source": [
    "from nipype.interfaces.fsl import FLIRT\n",
    "\n",
    "# Initiate resample node\n",
    "resample = Node(FLIRT(apply_isoxfm=desired_voxel_iso,\n",
    "                      output_type='NIFTI'),\n",
    "                name=\"resample\")"
   ]
  },
  {
   "cell_type": "markdown",
   "metadata": {},
   "source": [
    "The second and third step can luckily be done with just one node. We can take almost the same `Threshold` node as above. We just need to add another additional argument: `-dilF` - which applies a maximum filtering of all voxels."
   ]
  },
  {
   "cell_type": "code",
   "execution_count": 52,
   "metadata": {},
   "outputs": [],
   "source": [
    "from nipype.interfaces.fsl import Threshold\n",
    "\n",
    "# Threshold - Threshold GM probability image\n",
    "mask_GM = Node(Threshold(thresh=0.5,\n",
    "                         args='-bin -dilF',\n",
    "                         output_type='NIFTI'),\n",
    "                name=\"mask_GM\")\n",
    "\n",
    "# Select GM segmentation file from segmentation output\n",
    "def get_gm(files):\n",
    "    return files[0][0]"
   ]
  },
  {
   "cell_type": "markdown",
   "metadata": {},
   "source": [
    "Now we can connect the resample and the gray matter mask node to the segmentation node and each other."
   ]
  },
  {
   "cell_type": "code",
   "execution_count": 53,
   "metadata": {},
   "outputs": [],
   "source": [
    "preproc.connect([(segment, resample, [(('native_class_images', get_gm), 'in_file'),\n",
    "                                      (('native_class_images', get_gm), 'reference')\n",
    "                                      ]),\n",
    "                 (resample, mask_GM, [('out_file', 'in_file')])\n",
    "                 ])"
   ]
  },
  {
   "cell_type": "markdown",
   "metadata": {},
   "source": [
    "This should do the trick."
   ]
  },
  {
   "cell_type": "markdown",
   "metadata": {},
   "source": [
    "### Apply the binary mask\n",
    "\n",
    "Now we can connect this dilated gray matter mask to the susan node, as well as actually applying this to the resulting smoothed images."
   ]
  },
  {
   "cell_type": "code",
   "execution_count": 54,
   "metadata": {
    "solution2": "hidden",
    "solution2_first": true
   },
   "outputs": [],
   "source": [
    "# Connect gray matter Mask node to the susan workflow here"
   ]
  },
  {
   "cell_type": "code",
   "execution_count": 55,
   "metadata": {
    "solution2": "hidden"
   },
   "outputs": [],
   "source": [
    "preproc.connect([(mask_GM, susan, [('out_file', 'inputnode.mask_file')])])"
   ]
  },
  {
   "cell_type": "markdown",
   "metadata": {},
   "source": [
    "To apply the mask to the smoothed functional images, we will use FSL's `ApplyMask` interface."
   ]
  },
  {
   "cell_type": "code",
   "execution_count": 56,
   "metadata": {},
   "outputs": [],
   "source": [
    "from nipype.interfaces.fsl import ApplyMask"
   ]
  },
  {
   "cell_type": "markdown",
   "metadata": {},
   "source": [
    "**Important:** The susan workflow gives out a list of files, i.e. `[smoothed_func.nii]` instead of just the filename directly. If we would use a normal `Node` for `ApplyMask` this would lead to the following error:\n",
    "\n",
    "    TraitError: The 'in_file' trait of an ApplyMaskInput instance must be an existing file name, but a value of ['/output/work_preproc/susan/smooth/mapflow/_smooth0/asub-07_ses-test_task-fingerfootlips_bold_mcf_flirt_smooth.nii.gz'] <class 'list'> was specified.\n",
    "\n",
    "\n",
    "To prevent this we will be using a `MapNode` and specify the `in_file` as it's iterfield. Like this, the node is capable to handle a list of inputs as it will know that it has to apply itself iteratively to the list of inputs."
   ]
  },
  {
   "cell_type": "code",
   "execution_count": 57,
   "metadata": {},
   "outputs": [],
   "source": [
    "from nipype import MapNode"
   ]
  },
  {
   "cell_type": "code",
   "execution_count": 58,
   "metadata": {
    "solution2": "hidden",
    "solution2_first": true
   },
   "outputs": [],
   "source": [
    "# Initiate ApplyMask node here"
   ]
  },
  {
   "cell_type": "code",
   "execution_count": 59,
   "metadata": {
    "solution2": "hidden"
   },
   "outputs": [],
   "source": [
    "mask_func = MapNode(ApplyMask(output_type='NIFTI'),\n",
    "                    name=\"mask_func\", \n",
    "                    iterfield=[\"in_file\"])"
   ]
  },
  {
   "cell_type": "code",
   "execution_count": 60,
   "metadata": {
    "solution2": "hidden",
    "solution2_first": true
   },
   "outputs": [],
   "source": [
    "# Connect smoothed susan output file to ApplyMask node here"
   ]
  },
  {
   "cell_type": "code",
   "execution_count": 61,
   "metadata": {
    "solution2": "hidden"
   },
   "outputs": [],
   "source": [
    "preproc.connect([(susan, mask_func, [('outputnode.smoothed_files', 'in_file')]),\n",
    "                 (mask_GM, mask_func, [('out_file', 'mask_file')])\n",
    "                 ])"
   ]
  },
  {
   "cell_type": "markdown",
   "metadata": {},
   "source": [
    "### Remove linear trends in functional images\n",
    "\n",
    "Last but not least. Let's use Nipype's `TSNR` module to remove linear and quadratic trends in the functionally smoothed images. For this, you only have to specify the `regress_poly` parameter in the node initiation."
   ]
  },
  {
   "cell_type": "code",
   "execution_count": 62,
   "metadata": {},
   "outputs": [],
   "source": [
    "from nipype.algorithms.confounds import TSNR"
   ]
  },
  {
   "cell_type": "code",
   "execution_count": 63,
   "metadata": {
    "solution2": "hidden",
    "solution2_first": true
   },
   "outputs": [],
   "source": [
    "# Initiate TSNR node here"
   ]
  },
  {
   "cell_type": "code",
   "execution_count": 64,
   "metadata": {
    "solution2": "hidden"
   },
   "outputs": [],
   "source": [
    "detrend = Node(TSNR(regress_poly=2), name=\"detrend\")"
   ]
  },
  {
   "cell_type": "code",
   "execution_count": 65,
   "metadata": {
    "solution2": "hidden",
    "solution2_first": true
   },
   "outputs": [],
   "source": [
    "# Connect the detrend node to the other nodes here"
   ]
  },
  {
   "cell_type": "code",
   "execution_count": 66,
   "metadata": {
    "solution2": "hidden"
   },
   "outputs": [],
   "source": [
    "preproc.connect([(mask_func, detrend, [('out_file', 'in_file')])])"
   ]
  },
  {
   "cell_type": "markdown",
   "metadata": {},
   "source": [
    "## Datainput with `SelectFiles` and `iterables` \n",
    "\n",
    "This is all nice and well. But so far we still had to specify the input values for `gunzip_anat` and `gunzip_func` ourselves. How can we scale this up to multiple subjects and/or multiple functional images and make the workflow take the input directly from the BIDS dataset?\n",
    "\n",
    "For this, we need [`SelectFiles`](../../../nipype_tutorial/notebooks/basic_data_input.ipynb#SelectFiles) and [`iterables`](../../../nipype_tutorial/notebooks/basic_iteration.ipynb)! It's rather simple, specify a template and fill-up the placeholder variables."
   ]
  },
  {
   "cell_type": "code",
   "execution_count": 67,
   "metadata": {},
   "outputs": [],
   "source": [
    "# Import the SelectFiles\n",
    "from nipype import SelectFiles\n",
    "\n",
    "# String template with {}-based strings\n",
    "templates = {'anat': 'sub-{subject_id}/ses-{ses_id}/anat/'\n",
    "                     'sub-{subject_id}_ses-test_T1w.nii.gz',\n",
    "             'func': 'sub-{subject_id}/ses-{ses_id}/func/'\n",
    "                     'sub-{subject_id}_ses-{ses_id}_task-{task_id}_bold.nii.gz'}\n",
    "\n",
    "# Create SelectFiles node\n",
    "sf = Node(SelectFiles(templates,\n",
    "                      base_directory='/data/ds000114',\n",
    "                      sort_filelist=True),\n",
    "          name='selectfiles')\n",
    "sf.inputs.ses_id='test'\n",
    "sf.inputs.task_id='fingerfootlips'"
   ]
  },
  {
   "cell_type": "markdown",
   "metadata": {},
   "source": [
    "Now we can specify over which subjects the workflow should iterate. To test the workflow, let's still just look at subject 7."
   ]
  },
  {
   "cell_type": "code",
   "execution_count": 68,
   "metadata": {},
   "outputs": [],
   "source": [
    "subject_list = ['07']\n",
    "sf.iterables = [('subject_id', subject_list)]"
   ]
  },
  {
   "cell_type": "code",
   "execution_count": 69,
   "metadata": {
    "solution2": "hidden",
    "solution2_first": true
   },
   "outputs": [],
   "source": [
    "# Connect SelectFiles node to the other nodes here"
   ]
  },
  {
   "cell_type": "code",
   "execution_count": 70,
   "metadata": {
    "solution2": "hidden"
   },
   "outputs": [],
   "source": [
    "preproc.connect([(sf, gunzip_anat, [('anat', 'in_file')]),\n",
    "                 (sf, gunzip_func, [('func', 'in_file')])])"
   ]
  },
  {
   "cell_type": "markdown",
   "metadata": {},
   "source": [
    "## Visualize the workflow\n",
    "\n",
    "Now that we're done. Let's look at the workflow that we just created."
   ]
  },
  {
   "cell_type": "code",
   "execution_count": 71,
   "metadata": {},
   "outputs": [
    {
     "name": "stdout",
     "output_type": "stream",
     "text": [
      "211017-18:26:17,808 nipype.workflow INFO:\n",
      "\t Generated workflow graph: /output/work_preproc/graph.png (graph2use=colored, simple_form=True).\n"
     ]
    },
    {
     "data": {
      "image/png": "[encoded data removed]",
      "text/plain": [
       "<IPython.core.display.Image object>"
      ]
     },
     "execution_count": 71,
     "metadata": {
      "image/png": {
       "width": 750
      }
     },
     "output_type": "execute_result"
    }
   ],
   "source": [
    "# Create preproc output graph\n",
    "preproc.write_graph(graph2use='colored', format='png', simple_form=True)\n",
    "\n",
    "# Visualize the graph\n",
    "from IPython.display import Image\n",
    "Image(filename='/output/work_preproc/graph.png', width=750)"
   ]
  },
  {
   "cell_type": "markdown",
   "metadata": {},
   "source": [
    "##  Run the Workflow\n",
    "\n",
    "Now we are ready to run the workflow! Be careful about the `n_procs` parameter if you run a workflow in `'MultiProc'` mode. `n_procs` specifies the number of jobs/cores your computer will use to run the workflow. If this number is too high your computer will try to execute too many things at once and will most likely crash.\n",
    "\n",
    "**Note**: If  you're using a Docker container and FLIRT fails to run without any good reason, you might need to change memory settings in the Docker preferences (6 GB should be enough for this workflow)."
   ]
  },
  {
   "cell_type": "code",
   "execution_count": 72,
   "metadata": {
    "scrolled": true
   },
   "outputs": [
    {
     "name": "stdout",
     "output_type": "stream",
     "text": [
      "211017-18:26:17,909 nipype.workflow INFO:\n",
      "\t Workflow work_preproc settings: ['check', 'execution', 'logging', 'monitoring']\n",
      "211017-18:26:17,939 nipype.workflow INFO:\n",
      "\t Running in parallel.\n",
      "211017-18:26:17,946 nipype.workflow INFO:\n",
      "\t [MultiProc] Running 0 tasks, and 1 jobs ready. Free memory (GB): 1.75/1.75, Free processors: 4/4.\n",
      "211017-18:26:18,125 nipype.workflow INFO:\n",
      "\t [Node] Setting-up \"work_preproc.selectfiles\" in \"/output/work_preproc/_subject_id_07/selectfiles\".\n",
      "211017-18:26:18,145 nipype.workflow INFO:\n",
      "\t [Node] Running \"selectfiles\" (\"nipype.interfaces.io.SelectFiles\")\n",
      "211017-18:26:18,155 nipype.workflow INFO:\n",
      "\t [Node] Finished \"work_preproc.selectfiles\".\n",
      "211017-18:26:19,955 nipype.workflow INFO:\n",
      "\t [Job 0] Completed (work_preproc.selectfiles).\n",
      "211017-18:26:19,962 nipype.workflow INFO:\n",
      "\t [MultiProc] Running 0 tasks, and 2 jobs ready. Free memory (GB): 1.75/1.75, Free processors: 4/4.\n",
      "211017-18:26:20,202 nipype.workflow INFO:\n",
      "\t [Node] Setting-up \"work_preproc.gunzip_func\" in \"/output/work_preproc/_subject_id_07/gunzip_func\".\n",
      "211017-18:26:20,205 nipype.workflow INFO:\n",
      "\t [Node] Setting-up \"work_preproc.gunzip_anat\" in \"/output/work_preproc/_subject_id_07/gunzip_anat\".\n",
      "211017-18:26:20,221 nipype.workflow INFO:\n",
      "\t [Node] Running \"gunzip_func\" (\"nipype.algorithms.misc.Gunzip\")\n",
      "211017-18:26:20,223 nipype.workflow INFO:\n",
      "\t [Node] Running \"gunzip_anat\" (\"nipype.algorithms.misc.Gunzip\")\n",
      "211017-18:26:20,461 nipype.workflow INFO:\n",
      "\t [Node] Finished \"work_preproc.gunzip_anat\".\n",
      "211017-18:26:20,651 nipype.workflow INFO:\n",
      "\t [Node] Finished \"work_preproc.gunzip_func\".\n",
      "211017-18:26:21,955 nipype.workflow INFO:\n",
      "\t [Job 1] Completed (work_preproc.gunzip_func).\n",
      "211017-18:26:21,958 nipype.workflow INFO:\n",
      "\t [Job 6] Completed (work_preproc.gunzip_anat).\n",
      "211017-18:26:21,963 nipype.workflow INFO:\n",
      "\t [MultiProc] Running 0 tasks, and 2 jobs ready. Free memory (GB): 1.75/1.75, Free processors: 4/4.\n",
      "211017-18:26:22,82 nipype.workflow INFO:\n",
      "\t [Node] Setting-up \"work_preproc.extract\" in \"/output/work_preproc/_subject_id_07/extract\".\n",
      "211017-18:26:22,89 nipype.workflow INFO:\n",
      "\t [Node] Setting-up \"work_preproc.segment\" in \"/output/work_preproc/_subject_id_07/segment\".\n",
      "211017-18:26:22,99 nipype.workflow INFO:\n",
      "\t [Node] Running \"extract\" (\"nipype.interfaces.fsl.utils.ExtractROI\"), a CommandLine Interface with command:\n",
      "fslroi /output/work_preproc/_subject_id_07/gunzip_func/sub-07_ses-test_task-fingerfootlips_bold.nii /output/work_preproc/_subject_id_07/extract/sub-07_ses-test_task-fingerfootlips_bold_roi.nii 4 -1\n",
      "211017-18:26:22,113 nipype.workflow INFO:\n",
      "\t [Node] Running \"segment\" (\"nipype.interfaces.spm.preprocess.NewSegment\")\n",
      "211017-18:26:22,538 nipype.workflow INFO:\n",
      "\t [Node] Finished \"work_preproc.extract\".\n",
      "211017-18:26:23,955 nipype.workflow INFO:\n",
      "\t [Job 2] Completed (work_preproc.extract).\n",
      "211017-18:26:23,958 nipype.workflow INFO:\n",
      "\t [MultiProc] Running 1 tasks, and 1 jobs ready. Free memory (GB): 1.55/1.75, Free processors: 3/4.\n",
      "                     Currently running:\n",
      "                       * work_preproc.segment\n",
      "211017-18:26:24,64 nipype.workflow INFO:\n",
      "\t [Node] Setting-up \"work_preproc.slicetime\" in \"/output/work_preproc/_subject_id_07/slicetime\".\n",
      "211017-18:26:24,75 nipype.workflow INFO:\n",
      "\t [Node] Running \"slicetime\" (\"nipype.interfaces.spm.preprocess.SliceTiming\")\n",
      "211017-18:26:25,959 nipype.workflow INFO:\n",
      "\t [MultiProc] Running 2 tasks, and 0 jobs ready. Free memory (GB): 1.35/1.75, Free processors: 2/4.\n",
      "                     Currently running:\n",
      "                       * work_preproc.slicetime\n",
      "                       * work_preproc.segment\n",
      "211017-18:26:40,501 nipype.workflow INFO:\n",
      "\t [Node] Finished \"work_preproc.slicetime\".\n",
      "211017-18:26:41,940 nipype.workflow INFO:\n",
      "\t [Job 3] Completed (work_preproc.slicetime).\n",
      "211017-18:26:41,946 nipype.workflow INFO:\n",
      "\t [MultiProc] Running 1 tasks, and 1 jobs ready. Free memory (GB): 1.55/1.75, Free processors: 3/4.\n",
      "                     Currently running:\n",
      "                       * work_preproc.segment\n",
      "211017-18:26:42,46 nipype.workflow INFO:\n",
      "\t [Node] Setting-up \"work_preproc.mcflirt\" in \"/output/work_preproc/_subject_id_07/mcflirt\".\n",
      "211017-18:26:42,60 nipype.workflow INFO:\n",
      "\t [Node] Running \"mcflirt\" (\"nipype.interfaces.fsl.preprocess.MCFLIRT\"), a CommandLine Interface with command:\n",
      "mcflirt -in /output/work_preproc/_subject_id_07/slicetime/asub-07_ses-test_task-fingerfootlips_bold_roi.nii -meanvol -out /output/work_preproc/_subject_id_07/mcflirt/asub-07_ses-test_task-fingerfootlips_bold_roi_mcf.nii.gz -plots\n",
      "211017-18:26:43,944 nipype.workflow INFO:\n",
      "\t [MultiProc] Running 2 tasks, and 0 jobs ready. Free memory (GB): 1.35/1.75, Free processors: 2/4.\n",
      "                     Currently running:\n",
      "                       * work_preproc.mcflirt\n",
      "                       * work_preproc.segment\n",
      "211017-18:27:51,700 nipype.workflow INFO:\n",
      "\t [Node] Finished \"work_preproc.mcflirt\".\n",
      "211017-18:27:51,950 nipype.workflow INFO:\n",
      "\t [Job 4] Completed (work_preproc.mcflirt).\n",
      "211017-18:27:51,957 nipype.workflow INFO:\n",
      "\t [MultiProc] Running 1 tasks, and 1 jobs ready. Free memory (GB): 1.55/1.75, Free processors: 3/4.\n",
      "                     Currently running:\n",
      "                       * work_preproc.segment\n",
      "211017-18:27:52,65 nipype.workflow INFO:\n",
      "\t [Node] Setting-up \"work_preproc.art\" in \"/output/work_preproc/_subject_id_07/art\".\n",
      "211017-18:27:52,82 nipype.workflow INFO:\n",
      "\t [Node] Running \"art\" (\"nipype.algorithms.rapidart.ArtifactDetect\")\n",
      "211017-18:27:53,954 nipype.workflow INFO:\n",
      "\t [MultiProc] Running 2 tasks, and 0 jobs ready. Free memory (GB): 1.35/1.75, Free processors: 2/4.\n",
      "                     Currently running:\n",
      "                       * work_preproc.art\n",
      "                       * work_preproc.segment\n",
      "211017-18:27:54,46 nipype.workflow INFO:\n",
      "\t [Node] Finished \"work_preproc.art\".\n",
      "211017-18:27:55,955 nipype.workflow INFO:\n",
      "\t [Job 5] Completed (work_preproc.art).\n",
      "211017-18:27:55,961 nipype.workflow INFO:\n",
      "\t [MultiProc] Running 1 tasks, and 0 jobs ready. Free memory (GB): 1.55/1.75, Free processors: 3/4.\n",
      "                     Currently running:\n",
      "                       * work_preproc.segment\n",
      "211017-18:30:28,146 nipype.workflow WARNING:\n",
      "\t Storing result file without outputs\n",
      "211017-18:30:28,156 nipype.workflow WARNING:\n",
      "\t [Node] Error on \"work_preproc.segment\" (/output/work_preproc/_subject_id_07/segment)\n",
      "211017-18:30:29,205 nipype.workflow ERROR:\n",
      "\t Node segment.a0 failed to run on host a54b8d983419.\n",
      "211017-18:30:29,215 nipype.workflow ERROR:\n",
      "\t Saving crash info to /home/neuro/workshop_weizmann/workshop/nipype/notebooks/crash-20211017-183029-neuro-segment.a0-87305e58-e3ce-42b0-9f37-691d49c62e5e.pklz\n",
      "Traceback (most recent call last):\n",
      "  File \"/opt/miniconda-latest/envs/neuro/lib/python3.7/site-packages/nipype/pipeline/plugins/multiproc.py\", line 67, in run_node\n",
      "    result[\"result\"] = node.run(updatehash=updatehash)\n",
      "  File \"/opt/miniconda-latest/envs/neuro/lib/python3.7/site-packages/nipype/pipeline/engine/nodes.py\", line 516, in run\n",
      "    result = self._run_interface(execute=True)\n",
      "  File \"/opt/miniconda-latest/envs/neuro/lib/python3.7/site-packages/nipype/pipeline/engine/nodes.py\", line 635, in _run_interface\n",
      "    return self._run_command(execute)\n",
      "  File \"/opt/miniconda-latest/envs/neuro/lib/python3.7/site-packages/nipype/pipeline/engine/nodes.py\", line 741, in _run_command\n",
      "    result = self._interface.run(cwd=outdir)\n",
      "  File \"/opt/miniconda-latest/envs/neuro/lib/python3.7/site-packages/nipype/interfaces/base/core.py\", line 419, in run\n",
      "    runtime = self._run_interface(runtime)\n",
      "  File \"/opt/miniconda-latest/envs/neuro/lib/python3.7/site-packages/nipype/interfaces/spm/base.py\", line 387, in _run_interface\n",
      "    results = self.mlab.run()\n",
      "  File \"/opt/miniconda-latest/envs/neuro/lib/python3.7/site-packages/nipype/interfaces/base/core.py\", line 419, in run\n",
      "    runtime = self._run_interface(runtime)\n",
      "  File \"/opt/miniconda-latest/envs/neuro/lib/python3.7/site-packages/nipype/interfaces/matlab.py\", line 170, in _run_interface\n",
      "    runtime = super(MatlabCommand, self)._run_interface(runtime)\n",
      "  File \"/opt/miniconda-latest/envs/neuro/lib/python3.7/site-packages/nipype/interfaces/base/core.py\", line 814, in _run_interface\n",
      "    self.raise_exception(runtime)\n",
      "  File \"/opt/miniconda-latest/envs/neuro/lib/python3.7/site-packages/nipype/interfaces/base/core.py\", line 745, in raise_exception\n",
      "    ).format(**runtime.dictcopy())\n",
      "RuntimeError: Command:\n",
      "/opt/spm12-r7219/run_spm12.sh /opt/matlabmcr-2010a/v713 script /output/work_preproc/_subject_id_07/segment/pyscript_newsegment.m\n",
      "Standard output:\n",
      "Warning: No display specified.  You will not be able to display graphics on the screen.\n",
      "SPM12, version 7219 (standalone)\n",
      "MATLAB, version 7.10.0.499 (R2010a)\n",
      " ___  ____  __  __                                            \n",
      "/ __)(  _ \\(  \\/  )                                           \n",
      "\\__ \\ )___/ )    (   Statistical Parametric Mapping           \n",
      "(___/(__)  (_/\\/\\_)  SPM12 - http://www.fil.ion.ucl.ac.uk/spm/\n",
      "\n",
      "Executing /output/work_preproc/_subject_id_07/segment/pyscript_newsegment.m at 17-Oct-2021 18:26:23:\n",
      "-------------------------------------------------------------------------------------\n",
      "MATLAB Version 7.10.0.499 (R2010a)\n",
      "MATLAB License Number: unknown\n",
      "Operating System: Linux 4.19.76-linuxkit #1 SMP Tue May 26 11:42:35 UTC 2020 x86_64\n",
      "Java VM Version: Java 1.6.0_12-b04 with Sun Microsystems Inc. Java HotSpot(TM) 64-Bit Server VM mixed mode\n",
      "-------------------------------------------------------------------------------------\n",
      "MATLAB                                                Version 7.10       (R2010a)\n",
      "MATLAB Compiler                                       Version 4.13       (R2010a)\n",
      "Signal Processing Toolbox                             Version 6.13       (R2010a)\n",
      "SPM version: SPM12 Release: 7219\n",
      "SPM path: /opt/spm12-r7219/spm12_mcr/spm12/spm.m\n",
      "\n",
      "\n",
      "------------------------------------------------------------------------\n",
      "Running job #1\n",
      "------------------------------------------------------------------------\n",
      "Running 'Segment'\n",
      "\n",
      "SPM12: spm_preproc_run (v6365)                     18:26:28 - 17/10/2021\n",
      "========================================================================\n",
      "Segment /output/work_preproc/_subject_id_07/segment/sub-07_ses-test_T1w.nii,1\n",
      "Standard error:\n",
      "Killed\n",
      "Return code: 137\n",
      "\n"
     ]
    },
    {
     "name": "stdout",
     "output_type": "stream",
     "text": [
      "211017-18:30:29,226 nipype.workflow INFO:\n",
      "\t [MultiProc] Running 0 tasks, and 0 jobs ready. Free memory (GB): 1.75/1.75, Free processors: 4/4.\n",
      "211017-18:30:31,200 nipype.workflow INFO:\n",
      "\t ***********************************\n",
      "211017-18:30:31,203 nipype.workflow ERROR:\n",
      "\t could not run node: work_preproc.segment.a0\n",
      "211017-18:30:31,205 nipype.workflow INFO:\n",
      "\t crashfile: /home/neuro/workshop_weizmann/workshop/nipype/notebooks/crash-20211017-183029-neuro-segment.a0-87305e58-e3ce-42b0-9f37-691d49c62e5e.pklz\n",
      "211017-18:30:31,207 nipype.workflow INFO:\n",
      "\t ***********************************\n"
     ]
    },
    {
     "ename": "RuntimeError",
     "evalue": "Workflow did not execute cleanly. Check log for details",
     "output_type": "error",
     "traceback": [
      "\u001b[0;31m---------------------------------------------------------------------------\u001b[0m",
      "\u001b[0;31mRuntimeError\u001b[0m                              Traceback (most recent call last)",
      "\u001b[0;32m<ipython-input-72-e7bed0b326ff>\u001b[0m in \u001b[0;36m<module>\u001b[0;34m\u001b[0m\n\u001b[0;32m----> 1\u001b[0;31m \u001b[0mpreproc\u001b[0m\u001b[0;34m.\u001b[0m\u001b[0mrun\u001b[0m\u001b[0;34m(\u001b[0m\u001b[0;34m'MultiProc'\u001b[0m\u001b[0;34m,\u001b[0m \u001b[0mplugin_args\u001b[0m\u001b[0;34m=\u001b[0m\u001b[0;34m{\u001b[0m\u001b[0;34m'n_procs'\u001b[0m\u001b[0;34m:\u001b[0m \u001b[0;36m4\u001b[0m\u001b[0;34m}\u001b[0m\u001b[0;34m)\u001b[0m\u001b[0;34m\u001b[0m\u001b[0;34m\u001b[0m\u001b[0m\n\u001b[0m",
      "\u001b[0;32m/opt/miniconda-latest/envs/neuro/lib/python3.7/site-packages/nipype/pipeline/engine/workflows.py\u001b[0m in \u001b[0;36mrun\u001b[0;34m(self, plugin, plugin_args, updatehash)\u001b[0m\n\u001b[1;32m    630\u001b[0m         \u001b[0;32mif\u001b[0m \u001b[0mstr2bool\u001b[0m\u001b[0;34m(\u001b[0m\u001b[0mself\u001b[0m\u001b[0;34m.\u001b[0m\u001b[0mconfig\u001b[0m\u001b[0;34m[\u001b[0m\u001b[0;34m\"execution\"\u001b[0m\u001b[0;34m]\u001b[0m\u001b[0;34m[\u001b[0m\u001b[0;34m\"create_report\"\u001b[0m\u001b[0;34m]\u001b[0m\u001b[0;34m)\u001b[0m\u001b[0;34m:\u001b[0m\u001b[0;34m\u001b[0m\u001b[0;34m\u001b[0m\u001b[0m\n\u001b[1;32m    631\u001b[0m             \u001b[0mself\u001b[0m\u001b[0;34m.\u001b[0m\u001b[0m_write_report_info\u001b[0m\u001b[0;34m(\u001b[0m\u001b[0mself\u001b[0m\u001b[0;34m.\u001b[0m\u001b[0mbase_dir\u001b[0m\u001b[0;34m,\u001b[0m \u001b[0mself\u001b[0m\u001b[0;34m.\u001b[0m\u001b[0mname\u001b[0m\u001b[0;34m,\u001b[0m \u001b[0mexecgraph\u001b[0m\u001b[0;34m)\u001b[0m\u001b[0;34m\u001b[0m\u001b[0;34m\u001b[0m\u001b[0m\n\u001b[0;32m--> 632\u001b[0;31m         \u001b[0mrunner\u001b[0m\u001b[0;34m.\u001b[0m\u001b[0mrun\u001b[0m\u001b[0;34m(\u001b[0m\u001b[0mexecgraph\u001b[0m\u001b[0;34m,\u001b[0m \u001b[0mupdatehash\u001b[0m\u001b[0;34m=\u001b[0m\u001b[0mupdatehash\u001b[0m\u001b[0;34m,\u001b[0m \u001b[0mconfig\u001b[0m\u001b[0;34m=\u001b[0m\u001b[0mself\u001b[0m\u001b[0;34m.\u001b[0m\u001b[0mconfig\u001b[0m\u001b[0;34m)\u001b[0m\u001b[0;34m\u001b[0m\u001b[0;34m\u001b[0m\u001b[0m\n\u001b[0m\u001b[1;32m    633\u001b[0m         \u001b[0mdatestr\u001b[0m \u001b[0;34m=\u001b[0m \u001b[0mdatetime\u001b[0m\u001b[0;34m.\u001b[0m\u001b[0mutcnow\u001b[0m\u001b[0;34m(\u001b[0m\u001b[0;34m)\u001b[0m\u001b[0;34m.\u001b[0m\u001b[0mstrftime\u001b[0m\u001b[0;34m(\u001b[0m\u001b[0;34m\"%Y%m%dT%H%M%S\"\u001b[0m\u001b[0;34m)\u001b[0m\u001b[0;34m\u001b[0m\u001b[0;34m\u001b[0m\u001b[0m\n\u001b[1;32m    634\u001b[0m         \u001b[0;32mif\u001b[0m \u001b[0mstr2bool\u001b[0m\u001b[0;34m(\u001b[0m\u001b[0mself\u001b[0m\u001b[0;34m.\u001b[0m\u001b[0mconfig\u001b[0m\u001b[0;34m[\u001b[0m\u001b[0;34m\"execution\"\u001b[0m\u001b[0;34m]\u001b[0m\u001b[0;34m[\u001b[0m\u001b[0;34m\"write_provenance\"\u001b[0m\u001b[0;34m]\u001b[0m\u001b[0;34m)\u001b[0m\u001b[0;34m:\u001b[0m\u001b[0;34m\u001b[0m\u001b[0;34m\u001b[0m\u001b[0m\n",
      "\u001b[0;32m/opt/miniconda-latest/envs/neuro/lib/python3.7/site-packages/nipype/pipeline/plugins/base.py\u001b[0m in \u001b[0;36mrun\u001b[0;34m(self, graph, config, updatehash)\u001b[0m\n\u001b[1;32m    190\u001b[0m \u001b[0;34m\u001b[0m\u001b[0m\n\u001b[1;32m    191\u001b[0m         \u001b[0mself\u001b[0m\u001b[0;34m.\u001b[0m\u001b[0m_remove_node_dirs\u001b[0m\u001b[0;34m(\u001b[0m\u001b[0;34m)\u001b[0m\u001b[0;34m\u001b[0m\u001b[0;34m\u001b[0m\u001b[0m\n\u001b[0;32m--> 192\u001b[0;31m         \u001b[0mreport_nodes_not_run\u001b[0m\u001b[0;34m(\u001b[0m\u001b[0mnotrun\u001b[0m\u001b[0;34m)\u001b[0m\u001b[0;34m\u001b[0m\u001b[0;34m\u001b[0m\u001b[0m\n\u001b[0m\u001b[1;32m    193\u001b[0m \u001b[0;34m\u001b[0m\u001b[0m\n\u001b[1;32m    194\u001b[0m         \u001b[0;31m# close any open resources\u001b[0m\u001b[0;34m\u001b[0m\u001b[0;34m\u001b[0m\u001b[0;34m\u001b[0m\u001b[0m\n",
      "\u001b[0;32m/opt/miniconda-latest/envs/neuro/lib/python3.7/site-packages/nipype/pipeline/plugins/tools.py\u001b[0m in \u001b[0;36mreport_nodes_not_run\u001b[0;34m(notrun)\u001b[0m\n\u001b[1;32m     96\u001b[0m         \u001b[0mlogger\u001b[0m\u001b[0;34m.\u001b[0m\u001b[0minfo\u001b[0m\u001b[0;34m(\u001b[0m\u001b[0;34m\"***********************************\"\u001b[0m\u001b[0;34m)\u001b[0m\u001b[0;34m\u001b[0m\u001b[0;34m\u001b[0m\u001b[0m\n\u001b[1;32m     97\u001b[0m         raise RuntimeError(\n\u001b[0;32m---> 98\u001b[0;31m             \u001b[0;34m(\u001b[0m\u001b[0;34m\"Workflow did not execute cleanly. \"\u001b[0m \u001b[0;34m\"Check log for details\"\u001b[0m\u001b[0;34m)\u001b[0m\u001b[0;34m\u001b[0m\u001b[0;34m\u001b[0m\u001b[0m\n\u001b[0m\u001b[1;32m     99\u001b[0m         )\n\u001b[1;32m    100\u001b[0m \u001b[0;34m\u001b[0m\u001b[0m\n",
      "\u001b[0;31mRuntimeError\u001b[0m: Workflow did not execute cleanly. Check log for details"
     ]
    }
   ],
   "source": [
    "preproc.run('MultiProc', plugin_args={'n_procs': 4})"
   ]
  },
  {
   "cell_type": "markdown",
   "metadata": {},
   "source": [
    "## Inspect output\n",
    "\n",
    "What did we actually do? Let's look at all the data that was created."
   ]
  },
  {
   "cell_type": "code",
   "execution_count": null,
   "metadata": {
    "scrolled": true
   },
   "outputs": [],
   "source": [
    "!tree /output/work_preproc/ -I '*js|*json|*pklz|_report|*dot|*html|*txt|*.m'"
   ]
  },
  {
   "cell_type": "markdown",
   "metadata": {},
   "source": [
    "But what did we do specifically? Well, let's investigate."
   ]
  },
  {
   "cell_type": "markdown",
   "metadata": {},
   "source": [
    "### Motion Correction and Artifact Detection\n",
    "\n",
    "How much did the subject move in the scanner and where there any outliers in the functional images?"
   ]
  },
  {
   "cell_type": "code",
   "execution_count": null,
   "metadata": {},
   "outputs": [],
   "source": [
    "%matplotlib inline"
   ]
  },
  {
   "cell_type": "code",
   "execution_count": null,
   "metadata": {},
   "outputs": [],
   "source": [
    "# Plot the motion paramters\n",
    "import numpy as np\n",
    "import matplotlib.pyplot as plt\n",
    "par = np.loadtxt('/output/work_preproc/_subject_id_07/mcflirt/'\n",
    "                 'asub-07_ses-test_task-fingerfootlips_bold_roi_mcf.nii.gz.par')\n",
    "fig, axes = plt.subplots(2, 1, figsize=(15, 5))\n",
    "axes[0].set_ylabel('rotation (radians)')\n",
    "axes[0].plot(par[0:, :3])\n",
    "axes[1].plot(par[0:, 3:])\n",
    "axes[1].set_xlabel('time (TR)')\n",
    "axes[1].set_ylabel('translation (mm)');"
   ]
  },
  {
   "cell_type": "markdown",
   "metadata": {},
   "source": [
    "The motion parameters seems to look ok. What about the detection of artifacts?"
   ]
  },
  {
   "cell_type": "code",
   "execution_count": null,
   "metadata": {},
   "outputs": [],
   "source": [
    "# Showing the artifact detection output\n",
    "from IPython.display import SVG\n",
    "SVG(filename='/output/work_preproc/_subject_id_07/art/'\n",
    "    'plot.asub-07_ses-test_task-fingerfootlips_bold_roi_mcf.svg')"
   ]
  },
  {
   "cell_type": "markdown",
   "metadata": {},
   "source": [
    "Which volumes are problematic?"
   ]
  },
  {
   "cell_type": "code",
   "execution_count": null,
   "metadata": {},
   "outputs": [],
   "source": [
    "outliers = np.loadtxt('/output/work_preproc/_subject_id_07/art/'\n",
    "                      'art.asub-07_ses-test_task-fingerfootlips_bold_roi_mcf_outliers.txt')\n",
    "list(outliers.astype('int'))"
   ]
  },
  {
   "cell_type": "markdown",
   "metadata": {},
   "source": [
    "### Masks and Probability maps\n",
    "\n",
    "Let's see what all the masks and probability maps look like. For this, we will use `nilearn`'s `plot_anat` function."
   ]
  },
  {
   "cell_type": "code",
   "execution_count": null,
   "metadata": {},
   "outputs": [],
   "source": [
    "from nilearn import image as nli\n",
    "from nilearn.plotting import plot_stat_map\n",
    "%matplotlib inline\n",
    "output = '/output/work_preproc/_subject_id_07/'"
   ]
  },
  {
   "cell_type": "markdown",
   "metadata": {},
   "source": [
    "First, let's look at the tissue probability maps."
   ]
  },
  {
   "cell_type": "code",
   "execution_count": null,
   "metadata": {},
   "outputs": [],
   "source": [
    "anat = output + 'gunzip_anat/sub-07_ses-test_T1w.nii'"
   ]
  },
  {
   "cell_type": "code",
   "execution_count": null,
   "metadata": {},
   "outputs": [],
   "source": [
    "plot_stat_map(\n",
    "    output + 'segment/c1sub-07_ses-test_T1w.nii', title='GM prob. map',  cmap=plt.cm.magma,\n",
    "    threshold=0.5, bg_img=anat, display_mode='z', cut_coords=range(-35, 15, 10), dim=-1);"
   ]
  },
  {
   "cell_type": "code",
   "execution_count": null,
   "metadata": {},
   "outputs": [],
   "source": [
    "plot_stat_map(\n",
    "    output + 'segment/c2sub-07_ses-test_T1w.nii', title='WM prob. map', cmap=plt.cm.magma,\n",
    "    threshold=0.5, bg_img=anat, display_mode='z', cut_coords=range(-35, 15, 10), dim=-1);"
   ]
  },
  {
   "cell_type": "code",
   "execution_count": null,
   "metadata": {},
   "outputs": [],
   "source": [
    "plot_stat_map(\n",
    "    output + 'segment/c3sub-07_ses-test_T1w.nii', title='CSF prob. map', cmap=plt.cm.magma,\n",
    "    threshold=0.5, bg_img=anat, display_mode='z', cut_coords=range(-35, 15, 10), dim=-1);"
   ]
  },
  {
   "cell_type": "markdown",
   "metadata": {},
   "source": [
    "And how does the gray matter mask look like that we used on the functional images?"
   ]
  },
  {
   "cell_type": "code",
   "execution_count": null,
   "metadata": {},
   "outputs": [],
   "source": [
    "plot_stat_map(\n",
    "    output + 'mask_GM/c1sub-07_ses-test_T1w_flirt_thresh.nii', title='dilated GM Mask', cmap=plt.cm.magma,\n",
    "    threshold=0.5, bg_img=anat, display_mode='z', cut_coords=range(-35, 15, 10), dim=-1);"
   ]
  },
  {
   "cell_type": "markdown",
   "metadata": {},
   "source": [
    "### Functional Image transformations\n",
    "\n",
    "Let's also investigate the transformation that we applied to the functional images."
   ]
  },
  {
   "cell_type": "code",
   "execution_count": null,
   "metadata": {},
   "outputs": [],
   "source": [
    "from nilearn import image as nli\n",
    "from nilearn.plotting import plot_epi\n",
    "%matplotlib inline\n",
    "output = '/output/work_preproc/_subject_id_07/'"
   ]
  },
  {
   "cell_type": "code",
   "execution_count": null,
   "metadata": {},
   "outputs": [],
   "source": [
    "plot_epi(output + 'mcflirt/asub-07_ses-test_task-fingerfootlips_bold_roi_mcf.nii.gz_mean_reg.nii.gz',\n",
    "         title='Motion Corrected mean image', display_mode='z', cut_coords=range(-40, 21, 15),\n",
    "         cmap=plt.cm.viridis);"
   ]
  },
  {
   "cell_type": "code",
   "execution_count": null,
   "metadata": {},
   "outputs": [],
   "source": [
    "mean = nli.mean_img(output + 'applywarp/asub-07_ses-test_task-fingerfootlips_bold_roi_mcf_flirt.nii')\n",
    "plot_epi(mean, title='Coregistred mean image', display_mode='z', cut_coords=range(-40, 21, 15),\n",
    "         cmap=plt.cm.viridis);"
   ]
  },
  {
   "cell_type": "code",
   "execution_count": null,
   "metadata": {},
   "outputs": [],
   "source": [
    "mean = nli.mean_img('/output/work_preproc/susan/_subject_id_07/smooth/mapflow/_smooth0/'\n",
    "                    'asub-07_ses-test_task-fingerfootlips_bold_roi_mcf_flirt_smooth.nii.gz')\n",
    "plot_epi(mean, title='Smoothed mean image', display_mode='z', cut_coords=range(-40, 21, 15),\n",
    "         cmap=plt.cm.viridis);"
   ]
  },
  {
   "cell_type": "code",
   "execution_count": null,
   "metadata": {},
   "outputs": [],
   "source": [
    "mean = nli.mean_img(output + 'mask_func/mapflow/_mask_func0/'\n",
    "                    'asub-07_ses-test_task-fingerfootlips_bold_roi_mcf_flirt_smooth_masked.nii')\n",
    "plot_epi(mean, title='Masked mean image', display_mode='z', cut_coords=range(-40, 21, 15),\n",
    "         cmap=plt.cm.viridis);"
   ]
  },
  {
   "cell_type": "code",
   "execution_count": null,
   "metadata": {},
   "outputs": [],
   "source": [
    "plot_epi(output + 'detrend/mean.nii.gz', title='Detrended mean image', display_mode='z',\n",
    "         cut_coords=range(-40, 21, 15), cmap=plt.cm.viridis);"
   ]
  },
  {
   "cell_type": "markdown",
   "metadata": {},
   "source": [
    "That's all nice and beautiful, but what did smoothing and detrending actually do to the data?"
   ]
  },
  {
   "cell_type": "code",
   "execution_count": null,
   "metadata": {},
   "outputs": [],
   "source": [
    "import nibabel as nb\n",
    "%matplotlib inline\n",
    "output = '/output/work_preproc/_subject_id_07/'\n",
    "\n",
    "# Load the relevant datasets\n",
    "mc = nb.load(output + 'applywarp/asub-07_ses-test_task-fingerfootlips_bold_roi_mcf_flirt.nii')\n",
    "smooth = nb.load('/output/work_preproc/susan/_subject_id_07/smooth/mapflow/'\n",
    "                 '_smooth0/asub-07_ses-test_task-fingerfootlips_bold_roi_mcf_flirt_smooth.nii.gz')\n",
    "detrended_data = nb.load(output + 'detrend/detrend.nii.gz')\n",
    "\n",
    "# Plot a representative voxel\n",
    "x, y, z = 32, 34, 43\n",
    "fig = plt.figure(figsize=(12, 4))\n",
    "plt.plot(mc.get_fdata()[x, y, z, :])\n",
    "plt.plot(smooth.get_fdata()[x, y, z, :])\n",
    "plt.plot(detrended_data.get_fdata()[x, y, z, :])\n",
    "plt.legend(['motion corrected', 'smoothed', 'detrended']);"
   ]
  },
  {
   "cell_type": "markdown",
   "metadata": {},
   "source": [
    "## Data output with `DataSink`\n",
    "\n",
    "The results look fine, but we don't need all those temporary files. So let's use Datasink to keep only those files that we actually need for the 1st and 2nd level analysis."
   ]
  },
  {
   "cell_type": "code",
   "execution_count": null,
   "metadata": {},
   "outputs": [],
   "source": [
    "from nipype.interfaces.io import DataSink\n",
    "\n",
    "# Initiate the datasink node\n",
    "output_folder = 'datasink_handson'\n",
    "datasink = Node(DataSink(base_directory='/output/',\n",
    "                         container=output_folder),\n",
    "                name=\"datasink\")"
   ]
  },
  {
   "cell_type": "markdown",
   "metadata": {},
   "source": [
    "Now the next step is to specify all the output that we want to keep in our output folder `output`. Make sure to keep:\n",
    "- from the artifact detection node the outlier file as well as the outlier plot\n",
    "- from the motion correction node the motion parameters\n",
    "- from the last node, the detrended functional image"
   ]
  },
  {
   "cell_type": "code",
   "execution_count": null,
   "metadata": {
    "solution2": "hidden",
    "solution2_first": true
   },
   "outputs": [],
   "source": [
    "# Connect nodes to datasink here"
   ]
  },
  {
   "cell_type": "code",
   "execution_count": null,
   "metadata": {
    "solution2": "hidden"
   },
   "outputs": [],
   "source": [
    "preproc.connect([(art, datasink, [('outlier_files', 'preproc.@outlier_files'),\n",
    "                                  ('plot_files', 'preproc.@plot_files')]),\n",
    "                 (mcflirt, datasink, [('par_file', 'preproc.@par')]),\n",
    "                 (detrend, datasink, [('detrended_file', 'preproc.@func')]),\n",
    "                 ])"
   ]
  },
  {
   "cell_type": "markdown",
   "metadata": {},
   "source": [
    "## Run the workflow\n",
    "\n",
    "After adding the datasink folder, let's run the preprocessing workflow again."
   ]
  },
  {
   "cell_type": "code",
   "execution_count": null,
   "metadata": {
    "scrolled": true
   },
   "outputs": [],
   "source": [
    "preproc.run('MultiProc', plugin_args={'n_procs': 4})"
   ]
  },
  {
   "cell_type": "markdown",
   "metadata": {},
   "source": [
    "Let's look now at the output of this datasink folder."
   ]
  },
  {
   "cell_type": "code",
   "execution_count": null,
   "metadata": {},
   "outputs": [],
   "source": [
    "!tree /output/datasink_handson -I '*js|*json|*pklz|_report|*dot|*html|*txt|*.m'"
   ]
  },
  {
   "cell_type": "markdown",
   "metadata": {},
   "source": [
    "Much better! But we're still not there yet. There are many unnecessary file specifiers that we can get rid off. To do so, we can use `DataSink`'s `substitutions` parameter. For this, we create a list of tuples: on the left, we specify the string that we want to replace and on the right, with what we want to replace it with."
   ]
  },
  {
   "cell_type": "code",
   "execution_count": null,
   "metadata": {},
   "outputs": [],
   "source": [
    "## Use the following substitutions for the DataSink output\n",
    "substitutions = [('asub', 'sub'),\n",
    "                 ('_ses-test_task-fingerfootlips_bold_roi_mcf', ''),\n",
    "                 ('.nii.gz.par', '.par'),\n",
    "                 ]\n",
    "\n",
    "# To get rid of the folder '_subject_id_07' and renaming detrend\n",
    "substitutions += [('_subject_id_%s/detrend' % s,\n",
    "                   '_subject_id_%s/sub-%s_detrend' % (s, s)) for s in subject_list]\n",
    "substitutions += [('_subject_id_%s/' % s, '') for s in subject_list]\n",
    "datasink.inputs.substitutions = substitutions"
   ]
  },
  {
   "cell_type": "markdown",
   "metadata": {},
   "source": [
    "Before we run the preprocessing workflow again, let's first delete the current output folder:"
   ]
  },
  {
   "cell_type": "code",
   "execution_count": null,
   "metadata": {},
   "outputs": [],
   "source": [
    "# Delets the current output folder\n",
    "!rm -rf /output/datasink_handson"
   ]
  },
  {
   "cell_type": "code",
   "execution_count": null,
   "metadata": {
    "scrolled": true
   },
   "outputs": [],
   "source": [
    "# Runs the preprocessing workflow again, this time with substitutions\n",
    "preproc.run('MultiProc', plugin_args={'n_procs': 4})"
   ]
  },
  {
   "cell_type": "code",
   "execution_count": null,
   "metadata": {},
   "outputs": [],
   "source": [
    "!tree /output/datasink_handson -I '*js|*json|*pklz|_report|*dot|*html|*.m'"
   ]
  },
  {
   "cell_type": "markdown",
   "metadata": {},
   "source": [
    "## Run Preprocessing workflow on 6 right-handed subjects"
   ]
  },
  {
   "cell_type": "markdown",
   "metadata": {},
   "source": [
    "Perfect! Now let's run the whole workflow for right-handed subjects. For this, you just need to change the `subject_list` variable and run again the places where this variable is used (i.e. `sf.iterables` and in `DataSink` `substitutions`."
   ]
  },
  {
   "cell_type": "code",
   "execution_count": null,
   "metadata": {
    "solution2": "hidden",
    "solution2_first": true
   },
   "outputs": [],
   "source": [
    "# Update 'subject_list' and its dependencies here"
   ]
  },
  {
   "cell_type": "code",
   "execution_count": null,
   "metadata": {
    "solution2": "hidden"
   },
   "outputs": [],
   "source": [
    "subject_list = ['02', '03', '04', '07', '08', '09']\n",
    "\n",
    "sf.iterables = [('subject_id', subject_list)]"
   ]
  },
  {
   "cell_type": "code",
   "execution_count": null,
   "metadata": {},
   "outputs": [],
   "source": [
    "# To get rid of the folder '_subject_id_02' and renaming detrend\n",
    "substitutions += [('_subject_id_%s/detrend' % s,\n",
    "                   '_subject_id_%s/sub-%s_detrend' % (s, s)) for s in subject_list]\n",
    "substitutions += [('_subject_id_%s/' % s, '') for s in subject_list]\n",
    "datasink.inputs.substitutions = substitutions"
   ]
  },
  {
   "cell_type": "markdown",
   "metadata": {},
   "source": [
    "Now we can run the workflow again, this time for all right handed subjects in parallel."
   ]
  },
  {
   "cell_type": "code",
   "execution_count": null,
   "metadata": {
    "scrolled": true
   },
   "outputs": [],
   "source": [
    "# Runs the preprocessing workflow again, this time with substitutions\n",
    "preproc.run('MultiProc', plugin_args={'n_procs': 4})"
   ]
  },
  {
   "cell_type": "markdown",
   "metadata": {},
   "source": [
    "Now we're ready for the next section [Hands-on 2: How to create a fMRI analysis workflow](handson_analysis.ipynb)!"
   ]
  }
 ],
 "metadata": {
  "anaconda-cloud": {},
  "kernelspec": {
   "display_name": "Python 3",
   "language": "python",
   "name": "python3"
  },
  "language_info": {
   "codemirror_mode": {
    "name": "ipython",
    "version": 3
   },
   "file_extension": ".py",
   "mimetype": "text/x-python",
   "name": "python",
   "nbconvert_exporter": "python",
   "pygments_lexer": "ipython3",
   "version": "3.7.8"
  }
 },
 "nbformat": 4,
 "nbformat_minor": 2
}
