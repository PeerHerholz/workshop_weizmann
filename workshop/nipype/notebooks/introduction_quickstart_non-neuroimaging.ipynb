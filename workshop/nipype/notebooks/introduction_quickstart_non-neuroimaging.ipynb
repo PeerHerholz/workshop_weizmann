{
 "cells": [
  {
   "cell_type": "markdown",
   "metadata": {},
   "source": [
    "# Nipype Quickstart - non-imaging\n",
    "\n",
    "**This is a very quick non-imaging introduction to Nipype workflows. For a more comprehensive introduction, check the next section of the tutorial.** "
   ]
  },
  {
   "cell_type": "markdown",
   "metadata": {},
   "source": [
    "![Nipype architecture](https://raw.github.com/satra/intro2nipype/master/images/arch.png)"
   ]
  },
  {
   "cell_type": "markdown",
   "metadata": {},
   "source": [
    "- [Existing documentation](http://nipype.readthedocs.io/en/latest/)\n",
    "\n",
    "- [Visualizing the evolution of Nipype](https://www.youtube.com/watch?v=cofpD1lhmKU)\n",
    "\n",
    "- This notebook is taken from [reproducible-imaging repository](https://github.com/ReproNim/reproducible-imaging)"
   ]
  },
  {
   "cell_type": "markdown",
   "metadata": {},
   "source": [
    "#### Import a few things from nipype"
   ]
  },
  {
   "cell_type": "code",
   "execution_count": 1,
   "metadata": {},
   "outputs": [],
   "source": [
    "import os\n",
    "from nipype import Workflow, Node, Function"
   ]
  },
  {
   "cell_type": "markdown",
   "metadata": {},
   "source": [
    "Creating Workflow with one Node that adds two numbers"
   ]
  },
  {
   "cell_type": "code",
   "execution_count": 2,
   "metadata": {},
   "outputs": [
    {
     "name": "stdout",
     "output_type": "stream",
     "text": [
      "211017-18:07:54,305 nipype.workflow INFO:\n",
      "\t Workflow hello settings: ['check', 'execution', 'logging', 'monitoring']\n",
      "211017-18:07:54,339 nipype.workflow INFO:\n",
      "\t Running serially.\n",
      "211017-18:07:54,340 nipype.workflow INFO:\n",
      "\t [Node] Setting-up \"hello.a_plus_b\" in \"/home/neuro/workshop_weizmann/workshop/nipype/notebooks/hello/a_plus_b\".\n",
      "211017-18:07:54,377 nipype.workflow INFO:\n",
      "\t [Node] Running \"a_plus_b\" (\"nipype.interfaces.utility.wrappers.Function\")\n",
      "211017-18:07:54,434 nipype.workflow INFO:\n",
      "\t [Node] Finished \"hello.a_plus_b\".\n"
     ]
    },
    {
     "data": {
      "text/plain": [
       "\n",
       "sum = 4"
      ]
     },
     "execution_count": 2,
     "metadata": {},
     "output_type": "execute_result"
    }
   ],
   "source": [
    "def sum(a, b):\n",
    "    return a + b\n",
    "\n",
    "wf = Workflow('hello')\n",
    "\n",
    "adder = Node(Function(input_names=['a', 'b'],\n",
    "                      output_names=['sum'],\n",
    "                      function=sum), \n",
    "             name='a_plus_b')\n",
    "\n",
    "adder.inputs.a = 1\n",
    "adder.inputs.b = 3\n",
    "\n",
    "wf.add_nodes([adder])\n",
    "\n",
    "wf.base_dir = os.getcwd()\n",
    "\n",
    "eg = wf.run()\n",
    "\n",
    "list(eg.nodes())[0].result.outputs"
   ]
  },
  {
   "cell_type": "markdown",
   "metadata": {},
   "source": [
    "Creating a second node and connecting to the ``hello`` Workflow "
   ]
  },
  {
   "cell_type": "code",
   "execution_count": 3,
   "metadata": {},
   "outputs": [
    {
     "name": "stdout",
     "output_type": "stream",
     "text": [
      "211017-18:07:54,468 nipype.workflow INFO:\n",
      "\t Workflow hello settings: ['check', 'execution', 'logging', 'monitoring']\n",
      "211017-18:07:54,516 nipype.workflow INFO:\n",
      "\t Running serially.\n",
      "211017-18:07:54,518 nipype.workflow INFO:\n",
      "\t [Node] Setting-up \"hello.a_plus_b\" in \"/home/neuro/workshop_weizmann/workshop/nipype/notebooks/hello/a_plus_b\".\n",
      "211017-18:07:54,526 nipype.workflow INFO:\n",
      "\t [Node] Outdated cache found for \"hello.a_plus_b\".\n",
      "211017-18:07:54,565 nipype.workflow INFO:\n",
      "\t [Node] Running \"a_plus_b\" (\"nipype.interfaces.utility.wrappers.Function\")\n",
      "211017-18:07:54,603 nipype.workflow INFO:\n",
      "\t [Node] Finished \"hello.a_plus_b\".\n",
      "211017-18:07:54,605 nipype.workflow INFO:\n",
      "\t [Node] Setting-up \"hello.concat_a_b\" in \"/home/neuro/workshop_weizmann/workshop/nipype/notebooks/hello/concat_a_b\".\n",
      "211017-18:07:54,640 nipype.workflow INFO:\n",
      "\t [Node] Running \"concat_a_b\" (\"nipype.interfaces.utility.wrappers.Function\")\n",
      "211017-18:07:54,698 nipype.workflow INFO:\n",
      "\t [Node] Finished \"hello.concat_a_b\".\n",
      "[hello.a_plus_b, hello.concat_a_b]\n"
     ]
    }
   ],
   "source": [
    "def concat(a, b):\n",
    "    return [a, b]\n",
    "\n",
    "\n",
    "concater = Node(Function(input_names=['a', 'b'],\n",
    "                         output_names=['some_list'],\n",
    "                         function=concat), \n",
    "                name='concat_a_b')\n",
    "\n",
    "wf.connect(adder, 'sum', concater, 'a')\n",
    "concater.inputs.b = 3\n",
    "\n",
    "eg = wf.run()\n",
    "print(eg.nodes())"
   ]
  },
  {
   "cell_type": "markdown",
   "metadata": {},
   "source": [
    "And we can check results of our Workflow, we should see a list:"
   ]
  },
  {
   "cell_type": "code",
   "execution_count": 4,
   "metadata": {},
   "outputs": [
    {
     "data": {
      "text/plain": [
       "\n",
       "some_list = [4, 3]"
      ]
     },
     "execution_count": 4,
     "metadata": {},
     "output_type": "execute_result"
    }
   ],
   "source": [
    "list(eg.nodes())[-1].result.outputs"
   ]
  },
  {
   "cell_type": "markdown",
   "metadata": {},
   "source": [
    "We will try to add additional Node that adds one:"
   ]
  },
  {
   "cell_type": "code",
   "execution_count": 5,
   "metadata": {},
   "outputs": [
    {
     "name": "stdout",
     "output_type": "stream",
     "text": [
      "211017-18:07:54,731 nipype.workflow INFO:\n",
      "\t Workflow hello settings: ['check', 'execution', 'logging', 'monitoring']\n",
      "211017-18:07:54,868 nipype.workflow INFO:\n",
      "\t Running serially.\n",
      "211017-18:07:54,869 nipype.workflow INFO:\n",
      "\t [Node] Setting-up \"hello.a_plus_b\" in \"/home/neuro/workshop_weizmann/workshop/nipype/notebooks/hello/a_plus_b\".\n",
      "211017-18:07:54,907 nipype.workflow INFO:\n",
      "\t [Node] Cached \"hello.a_plus_b\" - collecting precomputed outputs\n",
      "211017-18:07:54,908 nipype.workflow INFO:\n",
      "\t [Node] \"hello.a_plus_b\" found cached.\n",
      "211017-18:07:54,910 nipype.workflow INFO:\n",
      "\t [Node] Setting-up \"hello.concat_a_b\" in \"/home/neuro/workshop_weizmann/workshop/nipype/notebooks/hello/concat_a_b\".\n",
      "211017-18:07:54,922 nipype.workflow INFO:\n",
      "\t [Node] Outdated cache found for \"hello.concat_a_b\".\n",
      "211017-18:07:54,958 nipype.workflow INFO:\n",
      "\t [Node] Running \"concat_a_b\" (\"nipype.interfaces.utility.wrappers.Function\")\n",
      "211017-18:07:55,13 nipype.workflow INFO:\n",
      "\t [Node] Finished \"hello.concat_a_b\".\n",
      "211017-18:07:55,14 nipype.workflow INFO:\n",
      "\t [Node] Setting-up \"hello.add_1\" in \"/home/neuro/workshop_weizmann/workshop/nipype/notebooks/hello/add_1\".\n",
      "211017-18:07:55,50 nipype.workflow INFO:\n",
      "\t [Node] Running \"add_1\" (\"nipype.interfaces.utility.wrappers.Function\")\n",
      "211017-18:07:55,55 nipype.workflow WARNING:\n",
      "\t Storing result file without outputs\n",
      "211017-18:07:55,60 nipype.workflow WARNING:\n",
      "\t [Node] Error on \"hello.add_1\" (/home/neuro/workshop_weizmann/workshop/nipype/notebooks/hello/add_1)\n",
      "211017-18:07:55,74 nipype.workflow ERROR:\n",
      "\t Node add_1 failed to run on host a54b8d983419.\n",
      "211017-18:07:55,78 nipype.workflow ERROR:\n",
      "\t Saving crash info to /home/neuro/workshop_weizmann/workshop/nipype/notebooks/crash-20211017-180755-neuro-add_1-7b3ed9c1-2c8c-44b6-9693-65e906a76506.pklz\n",
      "Traceback (most recent call last):\n",
      "  File \"/opt/miniconda-latest/envs/neuro/lib/python3.7/site-packages/nipype/pipeline/plugins/linear.py\", line 46, in run\n",
      "    node.run(updatehash=updatehash)\n",
      "  File \"/opt/miniconda-latest/envs/neuro/lib/python3.7/site-packages/nipype/pipeline/engine/nodes.py\", line 516, in run\n",
      "    result = self._run_interface(execute=True)\n",
      "  File \"/opt/miniconda-latest/envs/neuro/lib/python3.7/site-packages/nipype/pipeline/engine/nodes.py\", line 635, in _run_interface\n",
      "    return self._run_command(execute)\n",
      "  File \"/opt/miniconda-latest/envs/neuro/lib/python3.7/site-packages/nipype/pipeline/engine/nodes.py\", line 741, in _run_command\n",
      "    result = self._interface.run(cwd=outdir)\n",
      "  File \"/opt/miniconda-latest/envs/neuro/lib/python3.7/site-packages/nipype/interfaces/base/core.py\", line 419, in run\n",
      "    runtime = self._run_interface(runtime)\n",
      "  File \"/opt/miniconda-latest/envs/neuro/lib/python3.7/site-packages/nipype/interfaces/utility/wrappers.py\", line 142, in _run_interface\n",
      "    out = function_handle(**args)\n",
      "  File \"<string>\", line 2, in plus_one\n",
      "TypeError: can only concatenate list (not \"int\") to list\n",
      "\n",
      "211017-18:07:55,86 nipype.workflow INFO:\n",
      "\t ***********************************\n",
      "211017-18:07:55,87 nipype.workflow ERROR:\n",
      "\t could not run node: hello.add_1\n",
      "211017-18:07:55,88 nipype.workflow INFO:\n",
      "\t crashfile: /home/neuro/workshop_weizmann/workshop/nipype/notebooks/crash-20211017-180755-neuro-add_1-7b3ed9c1-2c8c-44b6-9693-65e906a76506.pklz\n",
      "211017-18:07:55,91 nipype.workflow INFO:\n",
      "\t ***********************************\n",
      "RuntimeError: Workflow did not execute cleanly. Check log for details\n"
     ]
    }
   ],
   "source": [
    "def plus_one(a):\n",
    "    return a + 1\n",
    "\n",
    "plusone = Node(Function(input_names=['a'],\n",
    "                        output_names=['out'],\n",
    "                        function=plus_one), \n",
    "               name='add_1')\n",
    "\n",
    "wf.connect(concater, 'some_list', plusone, 'a')\n",
    "\n",
    "try:\n",
    "    eg = wf.run()\n",
    "except(RuntimeError) as err:\n",
    "    print(\"RuntimeError:\", err)\n",
    "else:\n",
    "    raise"
   ]
  },
  {
   "cell_type": "markdown",
   "metadata": {},
   "source": [
    "This time the workflow didn't execute cleanly and we got an error. We can use ``nipypecli`` to read the crashfile (note, that if you have multiple crashfiles in the directory you'll have to provide a full name):"
   ]
  },
  {
   "cell_type": "code",
   "execution_count": 6,
   "metadata": {},
   "outputs": [
    {
     "name": "stdout",
     "output_type": "stream",
     "text": [
      "Usage: nipypecli crash [OPTIONS] CRASHFILE\r\n",
      "Try 'nipypecli crash -h' for help.\r\n",
      "\r\n",
      "Error: Got unexpected extra arguments (crash-20211017-171039-neuro-selectfiles-f56abef1-3008-4e84-941c-c2800895302b.txt crash-20211017-180755-neuro-add_1-7b3ed9c1-2c8c-44b6-9693-65e906a76506.pklz)\r\n"
     ]
    }
   ],
   "source": [
    "!nipypecli crash crash*"
   ]
  },
  {
   "cell_type": "markdown",
   "metadata": {},
   "source": [
    "It clearly shows the problematic Node and its input. We tried to add an integer to a list, this operation is not allowed in Python. \n",
    "\n",
    "Let's try using MapNode"
   ]
  },
  {
   "cell_type": "code",
   "execution_count": 7,
   "metadata": {},
   "outputs": [
    {
     "name": "stdout",
     "output_type": "stream",
     "text": [
      "211017-18:07:56,314 nipype.workflow INFO:\n",
      "\t Workflow hello_mapnode settings: ['check', 'execution', 'logging', 'monitoring']\n",
      "211017-18:07:56,382 nipype.workflow INFO:\n",
      "\t Running serially.\n",
      "211017-18:07:56,383 nipype.workflow INFO:\n",
      "\t [Node] Setting-up \"hello_mapnode.a_plus_b\" in \"/home/neuro/workshop_weizmann/workshop/nipype/notebooks/hello_mapnode/a_plus_b\".\n",
      "211017-18:07:56,405 nipype.workflow INFO:\n",
      "\t [Node] Running \"a_plus_b\" (\"nipype.interfaces.utility.wrappers.Function\")\n",
      "211017-18:07:56,448 nipype.workflow INFO:\n",
      "\t [Node] Finished \"hello_mapnode.a_plus_b\".\n",
      "211017-18:07:56,449 nipype.workflow INFO:\n",
      "\t [Node] Setting-up \"hello.concat_a_b\" in \"/home/neuro/workshop_weizmann/workshop/nipype/notebooks/hello/concat_a_b\".\n",
      "211017-18:07:56,476 nipype.workflow INFO:\n",
      "\t [Node] Cached \"hello.concat_a_b\" - collecting precomputed outputs\n",
      "211017-18:07:56,477 nipype.workflow INFO:\n",
      "\t [Node] \"hello.concat_a_b\" found cached.\n",
      "211017-18:07:56,479 nipype.workflow INFO:\n",
      "\t [Node] Setting-up \"hello_mapnode.add_1\" in \"/home/neuro/workshop_weizmann/workshop/nipype/notebooks/hello_mapnode/add_1\".\n",
      "211017-18:07:56,512 nipype.workflow INFO:\n",
      "\t [Node] Setting-up \"_add_10\" in \"/home/neuro/workshop_weizmann/workshop/nipype/notebooks/hello_mapnode/add_1/mapflow/_add_10\".\n",
      "211017-18:07:56,538 nipype.workflow INFO:\n",
      "\t [Node] Running \"_add_10\" (\"nipype.interfaces.utility.wrappers.Function\")\n",
      "211017-18:07:56,577 nipype.workflow INFO:\n",
      "\t [Node] Finished \"_add_10\".\n",
      "211017-18:07:56,585 nipype.workflow INFO:\n",
      "\t [Node] Setting-up \"_add_11\" in \"/home/neuro/workshop_weizmann/workshop/nipype/notebooks/hello_mapnode/add_1/mapflow/_add_11\".\n",
      "211017-18:07:56,606 nipype.workflow INFO:\n",
      "\t [Node] Running \"_add_11\" (\"nipype.interfaces.utility.wrappers.Function\")\n",
      "211017-18:07:56,643 nipype.workflow INFO:\n",
      "\t [Node] Finished \"_add_11\".\n",
      "211017-18:07:56,661 nipype.workflow INFO:\n",
      "\t [Node] Finished \"hello_mapnode.add_1\".\n",
      "[hello_mapnode.a_plus_b, hello.concat_a_b, hello_mapnode.add_1]\n"
     ]
    }
   ],
   "source": [
    "from nipype import MapNode\n",
    "\n",
    "plusone = MapNode(Function(input_names=['a'],\n",
    "                           output_names=['out'],\n",
    "                           function=plus_one), \n",
    "                  iterfield=['a'],\n",
    "                  name='add_1')\n",
    "\n",
    "wf = Workflow('hello_mapnode')\n",
    "\n",
    "adder = Node(Function(input_names=['a', 'b'],\n",
    "                      output_names=['sum'],\n",
    "                      function=sum), \n",
    "             name='a_plus_b')\n",
    "\n",
    "adder.inputs.a = 1\n",
    "adder.inputs.b = 3\n",
    "wf.connect(adder, 'sum', concater, 'a')\n",
    "concater.inputs.b = 3\n",
    "\n",
    "wf.connect(concater, 'some_list', plusone, 'a')\n",
    "\n",
    "wf.base_dir = os.getcwd()\n",
    "\n",
    "eg = wf.run()\n",
    "print(eg.nodes())"
   ]
  },
  {
   "cell_type": "markdown",
   "metadata": {},
   "source": [
    "Now the workflow finished without problems, let's see the results from ``hello.add_1``:"
   ]
  },
  {
   "cell_type": "code",
   "execution_count": 8,
   "metadata": {},
   "outputs": [
    {
     "name": "stdout",
     "output_type": "stream",
     "text": [
      "Bunch(out=[5, 4])\n"
     ]
    }
   ],
   "source": [
    "print(list(eg.nodes())[2].result.outputs)"
   ]
  },
  {
   "cell_type": "markdown",
   "metadata": {},
   "source": [
    "And now we will run the example with ``iterables``:"
   ]
  },
  {
   "cell_type": "code",
   "execution_count": 9,
   "metadata": {
    "scrolled": false
   },
   "outputs": [
    {
     "name": "stdout",
     "output_type": "stream",
     "text": [
      "211017-18:07:56,695 nipype.workflow INFO:\n",
      "\t Workflow hello_mapnode settings: ['check', 'execution', 'logging', 'monitoring']\n",
      "211017-18:07:56,742 nipype.workflow INFO:\n",
      "\t Running serially.\n",
      "211017-18:07:56,743 nipype.workflow INFO:\n",
      "\t [Node] Setting-up \"hello_mapnode.a_plus_b\" in \"/home/neuro/workshop_weizmann/workshop/nipype/notebooks/hello_mapnode/_a_2/a_plus_b\".\n",
      "211017-18:07:56,765 nipype.workflow INFO:\n",
      "\t [Node] Running \"a_plus_b\" (\"nipype.interfaces.utility.wrappers.Function\")\n",
      "211017-18:07:56,796 nipype.workflow INFO:\n",
      "\t [Node] Finished \"hello_mapnode.a_plus_b\".\n",
      "211017-18:07:56,797 nipype.workflow INFO:\n",
      "\t [Node] Setting-up \"hello.concat_a_b\" in \"/home/neuro/workshop_weizmann/workshop/nipype/notebooks/hello/_a_2/concat_a_b\".\n",
      "211017-18:07:56,827 nipype.workflow INFO:\n",
      "\t [Node] Running \"concat_a_b\" (\"nipype.interfaces.utility.wrappers.Function\")\n",
      "211017-18:07:56,864 nipype.workflow INFO:\n",
      "\t [Node] Finished \"hello.concat_a_b\".\n",
      "211017-18:07:56,866 nipype.workflow INFO:\n",
      "\t [Node] Setting-up \"hello_mapnode.add_1\" in \"/home/neuro/workshop_weizmann/workshop/nipype/notebooks/hello_mapnode/_a_2/add_1\".\n",
      "211017-18:07:56,894 nipype.workflow INFO:\n",
      "\t [Node] Setting-up \"_add_10\" in \"/home/neuro/workshop_weizmann/workshop/nipype/notebooks/hello_mapnode/_a_2/add_1/mapflow/_add_10\".\n",
      "211017-18:07:56,915 nipype.workflow INFO:\n",
      "\t [Node] Running \"_add_10\" (\"nipype.interfaces.utility.wrappers.Function\")\n",
      "211017-18:07:56,949 nipype.workflow INFO:\n",
      "\t [Node] Finished \"_add_10\".\n",
      "211017-18:07:56,958 nipype.workflow INFO:\n",
      "\t [Node] Setting-up \"_add_11\" in \"/home/neuro/workshop_weizmann/workshop/nipype/notebooks/hello_mapnode/_a_2/add_1/mapflow/_add_11\".\n",
      "211017-18:07:56,981 nipype.workflow INFO:\n",
      "\t [Node] Running \"_add_11\" (\"nipype.interfaces.utility.wrappers.Function\")\n",
      "211017-18:07:57,16 nipype.workflow INFO:\n",
      "\t [Node] Finished \"_add_11\".\n",
      "211017-18:07:57,34 nipype.workflow INFO:\n",
      "\t [Node] Finished \"hello_mapnode.add_1\".\n",
      "211017-18:07:57,36 nipype.workflow INFO:\n",
      "\t [Node] Setting-up \"hello_mapnode.a_plus_b\" in \"/home/neuro/workshop_weizmann/workshop/nipype/notebooks/hello_mapnode/_a_1/a_plus_b\".\n",
      "211017-18:07:57,53 nipype.workflow INFO:\n",
      "\t [Node] Running \"a_plus_b\" (\"nipype.interfaces.utility.wrappers.Function\")\n",
      "211017-18:07:57,91 nipype.workflow INFO:\n",
      "\t [Node] Finished \"hello_mapnode.a_plus_b\".\n",
      "211017-18:07:57,92 nipype.workflow INFO:\n",
      "\t [Node] Setting-up \"hello.concat_a_b\" in \"/home/neuro/workshop_weizmann/workshop/nipype/notebooks/hello/_a_1/concat_a_b\".\n",
      "211017-18:07:57,117 nipype.workflow INFO:\n",
      "\t [Node] Running \"concat_a_b\" (\"nipype.interfaces.utility.wrappers.Function\")\n",
      "211017-18:07:57,148 nipype.workflow INFO:\n",
      "\t [Node] Finished \"hello.concat_a_b\".\n",
      "211017-18:07:57,150 nipype.workflow INFO:\n",
      "\t [Node] Setting-up \"hello_mapnode.add_1\" in \"/home/neuro/workshop_weizmann/workshop/nipype/notebooks/hello_mapnode/_a_1/add_1\".\n",
      "211017-18:07:57,181 nipype.workflow INFO:\n",
      "\t [Node] Setting-up \"_add_10\" in \"/home/neuro/workshop_weizmann/workshop/nipype/notebooks/hello_mapnode/_a_1/add_1/mapflow/_add_10\".\n",
      "211017-18:07:57,197 nipype.workflow INFO:\n",
      "\t [Node] Running \"_add_10\" (\"nipype.interfaces.utility.wrappers.Function\")\n",
      "211017-18:07:57,231 nipype.workflow INFO:\n",
      "\t [Node] Finished \"_add_10\".\n",
      "211017-18:07:57,238 nipype.workflow INFO:\n",
      "\t [Node] Setting-up \"_add_11\" in \"/home/neuro/workshop_weizmann/workshop/nipype/notebooks/hello_mapnode/_a_1/add_1/mapflow/_add_11\".\n",
      "211017-18:07:57,256 nipype.workflow INFO:\n",
      "\t [Node] Running \"_add_11\" (\"nipype.interfaces.utility.wrappers.Function\")\n",
      "211017-18:07:57,296 nipype.workflow INFO:\n",
      "\t [Node] Finished \"_add_11\".\n",
      "211017-18:07:57,309 nipype.workflow INFO:\n",
      "\t [Node] Finished \"hello_mapnode.add_1\".\n",
      "[hello_mapnode.a_plus_b.aI.a0, hello.concat_a_b.a0, hello_mapnode.add_1.a0, hello_mapnode.a_plus_b.aI.a1, hello.concat_a_b.a1, hello_mapnode.add_1.a1]\n"
     ]
    }
   ],
   "source": [
    "adder.iterables = ('a', [1, 2])\n",
    "adder.inputs.b = 2\n",
    "\n",
    "eg = wf.run()\n",
    "print(eg.nodes())"
   ]
  },
  {
   "cell_type": "markdown",
   "metadata": {},
   "source": [
    "Now we have 6 nodes, we can check results for `` hello.add_1.a1``"
   ]
  },
  {
   "cell_type": "code",
   "execution_count": 10,
   "metadata": {},
   "outputs": [
    {
     "data": {
      "text/plain": [
       "Bunch(out=[5, 4])"
      ]
     },
     "execution_count": 10,
     "metadata": {},
     "output_type": "execute_result"
    }
   ],
   "source": [
    "list(eg.nodes())[5].result.outputs"
   ]
  },
  {
   "cell_type": "code",
   "execution_count": 11,
   "metadata": {},
   "outputs": [
    {
     "name": "stdout",
     "output_type": "stream",
     "text": [
      "211017-18:07:57,609 nipype.workflow INFO:\n",
      "\t Generated workflow graph: /home/neuro/workshop_weizmann/workshop/nipype/notebooks/hello_mapnode/graph.png (graph2use=exec, simple_form=True).\n"
     ]
    },
    {
     "data": {
      "text/plain": [
       "'/home/neuro/workshop_weizmann/workshop/nipype/notebooks/hello_mapnode/graph.png'"
      ]
     },
     "execution_count": 11,
     "metadata": {},
     "output_type": "execute_result"
    }
   ],
   "source": [
    "wf.write_graph(graph2use='exec')"
   ]
  },
  {
   "cell_type": "code",
   "execution_count": 12,
   "metadata": {},
   "outputs": [],
   "source": [
    "from IPython.display import Image"
   ]
  },
  {
   "cell_type": "markdown",
   "metadata": {},
   "source": [
    "We can plot a general structure of the workflow:"
   ]
  },
  {
   "cell_type": "code",
   "execution_count": 13,
   "metadata": {},
   "outputs": [
    {
     "data": {
      "image/png": "[encoded data removed]",
      "text/plain": [
       "<IPython.core.display.Image object>"
      ]
     },
     "execution_count": 13,
     "metadata": {},
     "output_type": "execute_result"
    }
   ],
   "source": [
    "Image(\"hello_mapnode/graph.png\")"
   ]
  },
  {
   "cell_type": "markdown",
   "metadata": {},
   "source": [
    "And more detailed structure with all nodes:"
   ]
  },
  {
   "cell_type": "code",
   "execution_count": 14,
   "metadata": {},
   "outputs": [
    {
     "data": {
      "image/png": "[encoded data removed]",
      "text/plain": [
       "<IPython.core.display.Image object>"
      ]
     },
     "execution_count": 14,
     "metadata": {},
     "output_type": "execute_result"
    }
   ],
   "source": [
    "Image(\"hello_mapnode/graph_detailed.png\")"
   ]
  },
  {
   "cell_type": "markdown",
   "metadata": {},
   "source": [
    "We will introduce another iterables, for the concater Node:"
   ]
  },
  {
   "cell_type": "code",
   "execution_count": 15,
   "metadata": {
    "scrolled": false
   },
   "outputs": [
    {
     "name": "stdout",
     "output_type": "stream",
     "text": [
      "211017-18:07:57,705 nipype.workflow INFO:\n",
      "\t Workflow hello_mapnode settings: ['check', 'execution', 'logging', 'monitoring']\n",
      "211017-18:07:57,801 nipype.workflow INFO:\n",
      "\t Running serially.\n",
      "211017-18:07:57,802 nipype.workflow INFO:\n",
      "\t [Node] Setting-up \"hello_mapnode.a_plus_b\" in \"/home/neuro/workshop_weizmann/workshop/nipype/notebooks/hello_mapnode/_a_2/a_plus_b\".\n",
      "211017-18:07:57,828 nipype.workflow INFO:\n",
      "\t [Node] Cached \"hello_mapnode.a_plus_b\" - collecting precomputed outputs\n",
      "211017-18:07:57,829 nipype.workflow INFO:\n",
      "\t [Node] \"hello_mapnode.a_plus_b\" found cached.\n",
      "211017-18:07:57,831 nipype.workflow INFO:\n",
      "\t [Node] Setting-up \"hello.concat_a_b\" in \"/home/neuro/workshop_weizmann/workshop/nipype/notebooks/hello/_a_2/_b_4/concat_a_b\".\n",
      "211017-18:07:57,870 nipype.workflow INFO:\n",
      "\t [Node] Running \"concat_a_b\" (\"nipype.interfaces.utility.wrappers.Function\")\n",
      "211017-18:07:57,914 nipype.workflow INFO:\n",
      "\t [Node] Finished \"hello.concat_a_b\".\n",
      "211017-18:07:57,915 nipype.workflow INFO:\n",
      "\t [Node] Setting-up \"hello_mapnode.add_1\" in \"/home/neuro/workshop_weizmann/workshop/nipype/notebooks/hello_mapnode/_a_2/_b_4/add_1\".\n",
      "211017-18:07:57,962 nipype.workflow INFO:\n",
      "\t [Node] Setting-up \"_add_10\" in \"/home/neuro/workshop_weizmann/workshop/nipype/notebooks/hello_mapnode/_a_2/_b_4/add_1/mapflow/_add_10\".\n",
      "211017-18:07:57,989 nipype.workflow INFO:\n",
      "\t [Node] Running \"_add_10\" (\"nipype.interfaces.utility.wrappers.Function\")\n",
      "211017-18:07:58,39 nipype.workflow INFO:\n",
      "\t [Node] Finished \"_add_10\".\n",
      "211017-18:07:58,49 nipype.workflow INFO:\n",
      "\t [Node] Setting-up \"_add_11\" in \"/home/neuro/workshop_weizmann/workshop/nipype/notebooks/hello_mapnode/_a_2/_b_4/add_1/mapflow/_add_11\".\n",
      "211017-18:07:58,76 nipype.workflow INFO:\n",
      "\t [Node] Running \"_add_11\" (\"nipype.interfaces.utility.wrappers.Function\")\n",
      "211017-18:07:58,129 nipype.workflow INFO:\n",
      "\t [Node] Finished \"_add_11\".\n",
      "211017-18:07:58,154 nipype.workflow INFO:\n",
      "\t [Node] Finished \"hello_mapnode.add_1\".\n",
      "211017-18:07:58,156 nipype.workflow INFO:\n",
      "\t [Node] Setting-up \"hello.concat_a_b\" in \"/home/neuro/workshop_weizmann/workshop/nipype/notebooks/hello/_a_2/_b_3/concat_a_b\".\n",
      "211017-18:07:58,199 nipype.workflow INFO:\n",
      "\t [Node] Running \"concat_a_b\" (\"nipype.interfaces.utility.wrappers.Function\")\n",
      "211017-18:07:58,246 nipype.workflow INFO:\n",
      "\t [Node] Finished \"hello.concat_a_b\".\n",
      "211017-18:07:58,247 nipype.workflow INFO:\n",
      "\t [Node] Setting-up \"hello_mapnode.add_1\" in \"/home/neuro/workshop_weizmann/workshop/nipype/notebooks/hello_mapnode/_a_2/_b_3/add_1\".\n",
      "211017-18:07:58,297 nipype.workflow INFO:\n",
      "\t [Node] Setting-up \"_add_10\" in \"/home/neuro/workshop_weizmann/workshop/nipype/notebooks/hello_mapnode/_a_2/_b_3/add_1/mapflow/_add_10\".\n",
      "211017-18:07:58,333 nipype.workflow INFO:\n",
      "\t [Node] Running \"_add_10\" (\"nipype.interfaces.utility.wrappers.Function\")\n",
      "211017-18:07:58,373 nipype.workflow INFO:\n",
      "\t [Node] Finished \"_add_10\".\n",
      "211017-18:07:58,390 nipype.workflow INFO:\n",
      "\t [Node] Setting-up \"_add_11\" in \"/home/neuro/workshop_weizmann/workshop/nipype/notebooks/hello_mapnode/_a_2/_b_3/add_1/mapflow/_add_11\".\n",
      "211017-18:07:58,521 nipype.workflow INFO:\n",
      "\t [Node] Running \"_add_11\" (\"nipype.interfaces.utility.wrappers.Function\")\n",
      "211017-18:07:58,592 nipype.workflow INFO:\n",
      "\t [Node] Finished \"_add_11\".\n",
      "211017-18:07:58,617 nipype.workflow INFO:\n",
      "\t [Node] Finished \"hello_mapnode.add_1\".\n",
      "211017-18:07:58,619 nipype.workflow INFO:\n",
      "\t [Node] Setting-up \"hello_mapnode.a_plus_b\" in \"/home/neuro/workshop_weizmann/workshop/nipype/notebooks/hello_mapnode/_a_1/a_plus_b\".\n",
      "211017-18:07:58,642 nipype.workflow INFO:\n",
      "\t [Node] Cached \"hello_mapnode.a_plus_b\" - collecting precomputed outputs\n",
      "211017-18:07:58,643 nipype.workflow INFO:\n",
      "\t [Node] \"hello_mapnode.a_plus_b\" found cached.\n",
      "211017-18:07:58,644 nipype.workflow INFO:\n",
      "\t [Node] Setting-up \"hello.concat_a_b\" in \"/home/neuro/workshop_weizmann/workshop/nipype/notebooks/hello/_a_1/_b_4/concat_a_b\".\n",
      "211017-18:07:58,687 nipype.workflow INFO:\n",
      "\t [Node] Running \"concat_a_b\" (\"nipype.interfaces.utility.wrappers.Function\")\n",
      "211017-18:07:58,739 nipype.workflow INFO:\n",
      "\t [Node] Finished \"hello.concat_a_b\".\n",
      "211017-18:07:58,740 nipype.workflow INFO:\n",
      "\t [Node] Setting-up \"hello_mapnode.add_1\" in \"/home/neuro/workshop_weizmann/workshop/nipype/notebooks/hello_mapnode/_a_1/_b_4/add_1\".\n",
      "211017-18:07:58,789 nipype.workflow INFO:\n",
      "\t [Node] Setting-up \"_add_10\" in \"/home/neuro/workshop_weizmann/workshop/nipype/notebooks/hello_mapnode/_a_1/_b_4/add_1/mapflow/_add_10\".\n",
      "211017-18:07:58,823 nipype.workflow INFO:\n",
      "\t [Node] Running \"_add_10\" (\"nipype.interfaces.utility.wrappers.Function\")\n",
      "211017-18:07:58,869 nipype.workflow INFO:\n",
      "\t [Node] Finished \"_add_10\".\n",
      "211017-18:07:58,881 nipype.workflow INFO:\n",
      "\t [Node] Setting-up \"_add_11\" in \"/home/neuro/workshop_weizmann/workshop/nipype/notebooks/hello_mapnode/_a_1/_b_4/add_1/mapflow/_add_11\".\n",
      "211017-18:07:58,925 nipype.workflow INFO:\n",
      "\t [Node] Running \"_add_11\" (\"nipype.interfaces.utility.wrappers.Function\")\n",
      "211017-18:07:58,988 nipype.workflow INFO:\n",
      "\t [Node] Finished \"_add_11\".\n",
      "211017-18:07:59,17 nipype.workflow INFO:\n",
      "\t [Node] Finished \"hello_mapnode.add_1\".\n",
      "211017-18:07:59,18 nipype.workflow INFO:\n",
      "\t [Node] Setting-up \"hello.concat_a_b\" in \"/home/neuro/workshop_weizmann/workshop/nipype/notebooks/hello/_a_1/_b_3/concat_a_b\".\n",
      "211017-18:07:59,58 nipype.workflow INFO:\n",
      "\t [Node] Running \"concat_a_b\" (\"nipype.interfaces.utility.wrappers.Function\")\n",
      "211017-18:07:59,109 nipype.workflow INFO:\n",
      "\t [Node] Finished \"hello.concat_a_b\".\n",
      "211017-18:07:59,110 nipype.workflow INFO:\n",
      "\t [Node] Setting-up \"hello_mapnode.add_1\" in \"/home/neuro/workshop_weizmann/workshop/nipype/notebooks/hello_mapnode/_a_1/_b_3/add_1\".\n",
      "211017-18:07:59,160 nipype.workflow INFO:\n",
      "\t [Node] Setting-up \"_add_10\" in \"/home/neuro/workshop_weizmann/workshop/nipype/notebooks/hello_mapnode/_a_1/_b_3/add_1/mapflow/_add_10\".\n",
      "211017-18:07:59,197 nipype.workflow INFO:\n",
      "\t [Node] Running \"_add_10\" (\"nipype.interfaces.utility.wrappers.Function\")\n",
      "211017-18:07:59,258 nipype.workflow INFO:\n",
      "\t [Node] Finished \"_add_10\".\n",
      "211017-18:07:59,272 nipype.workflow INFO:\n",
      "\t [Node] Setting-up \"_add_11\" in \"/home/neuro/workshop_weizmann/workshop/nipype/notebooks/hello_mapnode/_a_1/_b_3/add_1/mapflow/_add_11\".\n",
      "211017-18:07:59,305 nipype.workflow INFO:\n",
      "\t [Node] Running \"_add_11\" (\"nipype.interfaces.utility.wrappers.Function\")\n",
      "211017-18:07:59,360 nipype.workflow INFO:\n",
      "\t [Node] Finished \"_add_11\".\n",
      "211017-18:07:59,385 nipype.workflow INFO:\n",
      "\t [Node] Finished \"hello_mapnode.add_1\".\n"
     ]
    }
   ],
   "source": [
    "concater.iterables = ('b', [3, 4])\n",
    "eg = wf.run()\n",
    "eg.nodes();"
   ]
  },
  {
   "cell_type": "code",
   "execution_count": 16,
   "metadata": {},
   "outputs": [
    {
     "name": "stdout",
     "output_type": "stream",
     "text": [
      "211017-18:07:59,688 nipype.workflow INFO:\n",
      "\t Generated workflow graph: /home/neuro/workshop_weizmann/workshop/nipype/notebooks/hello_mapnode/graph.png (graph2use=exec, simple_form=True).\n"
     ]
    },
    {
     "data": {
      "text/plain": [
       "'/home/neuro/workshop_weizmann/workshop/nipype/notebooks/hello_mapnode/graph.png'"
      ]
     },
     "execution_count": 16,
     "metadata": {},
     "output_type": "execute_result"
    }
   ],
   "source": [
    "wf.write_graph(graph2use='exec')"
   ]
  },
  {
   "cell_type": "code",
   "execution_count": 17,
   "metadata": {},
   "outputs": [
    {
     "data": {
      "image/png": "[encoded data removed]",
      "text/plain": [
       "<IPython.core.display.Image object>"
      ]
     },
     "execution_count": 17,
     "metadata": {},
     "output_type": "execute_result"
    }
   ],
   "source": [
    "Image(\"hello_mapnode/graph_detailed.png\")"
   ]
  },
  {
   "cell_type": "markdown",
   "metadata": {},
   "source": [
    "Now we will introduce JoinNode that allows us to merge results together:"
   ]
  },
  {
   "cell_type": "code",
   "execution_count": 18,
   "metadata": {
    "scrolled": false
   },
   "outputs": [
    {
     "name": "stdout",
     "output_type": "stream",
     "text": [
      "211017-18:07:59,729 nipype.workflow INFO:\n",
      "\t Workflow hello_mapnode settings: ['check', 'execution', 'logging', 'monitoring']\n",
      "211017-18:07:59,859 nipype.workflow INFO:\n",
      "\t Running serially.\n",
      "211017-18:07:59,861 nipype.workflow INFO:\n",
      "\t [Node] Setting-up \"hello_mapnode.a_plus_b\" in \"/home/neuro/workshop_weizmann/workshop/nipype/notebooks/hello_mapnode/_a_2/a_plus_b\".\n",
      "211017-18:07:59,884 nipype.workflow INFO:\n",
      "\t [Node] Cached \"hello_mapnode.a_plus_b\" - collecting precomputed outputs\n",
      "211017-18:07:59,886 nipype.workflow INFO:\n",
      "\t [Node] \"hello_mapnode.a_plus_b\" found cached.\n",
      "211017-18:07:59,887 nipype.workflow INFO:\n",
      "\t [Node] Setting-up \"hello.concat_a_b\" in \"/home/neuro/workshop_weizmann/workshop/nipype/notebooks/hello/_a_2/_b_4/concat_a_b\".\n",
      "211017-18:07:59,925 nipype.workflow INFO:\n",
      "\t [Node] Cached \"hello.concat_a_b\" - collecting precomputed outputs\n",
      "211017-18:07:59,926 nipype.workflow INFO:\n",
      "\t [Node] \"hello.concat_a_b\" found cached.\n",
      "211017-18:07:59,929 nipype.workflow INFO:\n",
      "\t [Node] Setting-up \"hello_mapnode.add_1\" in \"/home/neuro/workshop_weizmann/workshop/nipype/notebooks/hello_mapnode/_a_2/_b_4/add_1\".\n",
      "211017-18:07:59,963 nipype.workflow INFO:\n",
      "\t [Node] Outdated cache found for \"hello_mapnode.add_1\".\n",
      "211017-18:08:00,41 nipype.workflow INFO:\n",
      "\t [Node] Setting-up \"_add_10\" in \"/home/neuro/workshop_weizmann/workshop/nipype/notebooks/hello_mapnode/_a_2/_b_4/add_1/mapflow/_add_10\".\n",
      "211017-18:08:00,70 nipype.workflow INFO:\n",
      "\t [Node] Outdated cache found for \"_add_10\".\n",
      "211017-18:08:00,127 nipype.workflow INFO:\n",
      "\t [Node] Running \"_add_10\" (\"nipype.interfaces.utility.wrappers.Function\")\n",
      "211017-18:08:00,179 nipype.workflow INFO:\n",
      "\t [Node] Finished \"_add_10\".\n",
      "211017-18:08:00,191 nipype.workflow INFO:\n",
      "\t [Node] Setting-up \"_add_11\" in \"/home/neuro/workshop_weizmann/workshop/nipype/notebooks/hello_mapnode/_a_2/_b_4/add_1/mapflow/_add_11\".\n",
      "211017-18:08:00,202 nipype.workflow INFO:\n",
      "\t [Node] Outdated cache found for \"_add_11\".\n",
      "211017-18:08:00,248 nipype.workflow INFO:\n",
      "\t [Node] Running \"_add_11\" (\"nipype.interfaces.utility.wrappers.Function\")\n",
      "211017-18:08:00,299 nipype.workflow INFO:\n",
      "\t [Node] Finished \"_add_11\".\n",
      "211017-18:08:00,321 nipype.workflow INFO:\n",
      "\t [Node] Finished \"hello_mapnode.add_1\".\n",
      "211017-18:08:00,324 nipype.workflow INFO:\n",
      "\t [Node] Setting-up \"hello.concat_a_b\" in \"/home/neuro/workshop_weizmann/workshop/nipype/notebooks/hello/_a_2/_b_3/concat_a_b\".\n",
      "211017-18:08:00,365 nipype.workflow INFO:\n",
      "\t [Node] Cached \"hello.concat_a_b\" - collecting precomputed outputs\n",
      "211017-18:08:00,366 nipype.workflow INFO:\n",
      "\t [Node] \"hello.concat_a_b\" found cached.\n",
      "211017-18:08:00,368 nipype.workflow INFO:\n",
      "\t [Node] Setting-up \"hello_mapnode.add_1\" in \"/home/neuro/workshop_weizmann/workshop/nipype/notebooks/hello_mapnode/_a_2/_b_3/add_1\".\n",
      "211017-18:08:00,410 nipype.workflow INFO:\n",
      "\t [Node] Outdated cache found for \"hello_mapnode.add_1\".\n",
      "211017-18:08:00,464 nipype.workflow INFO:\n",
      "\t [Node] Setting-up \"_add_10\" in \"/home/neuro/workshop_weizmann/workshop/nipype/notebooks/hello_mapnode/_a_2/_b_3/add_1/mapflow/_add_10\".\n",
      "211017-18:08:00,473 nipype.workflow INFO:\n",
      "\t [Node] Outdated cache found for \"_add_10\".\n",
      "211017-18:08:00,538 nipype.workflow INFO:\n",
      "\t [Node] Running \"_add_10\" (\"nipype.interfaces.utility.wrappers.Function\")\n",
      "211017-18:08:00,609 nipype.workflow INFO:\n",
      "\t [Node] Finished \"_add_10\".\n",
      "211017-18:08:00,634 nipype.workflow INFO:\n",
      "\t [Node] Setting-up \"_add_11\" in \"/home/neuro/workshop_weizmann/workshop/nipype/notebooks/hello_mapnode/_a_2/_b_3/add_1/mapflow/_add_11\".\n",
      "211017-18:08:00,655 nipype.workflow INFO:\n",
      "\t [Node] Outdated cache found for \"_add_11\".\n",
      "211017-18:08:00,783 nipype.workflow INFO:\n",
      "\t [Node] Running \"_add_11\" (\"nipype.interfaces.utility.wrappers.Function\")\n",
      "211017-18:08:00,838 nipype.workflow INFO:\n",
      "\t [Node] Finished \"_add_11\".\n",
      "211017-18:08:00,866 nipype.workflow INFO:\n",
      "\t [Node] Finished \"hello_mapnode.add_1\".\n",
      "211017-18:08:00,868 nipype.workflow INFO:\n",
      "\t [Node] Setting-up \"hello_mapnode.a_plus_b\" in \"/home/neuro/workshop_weizmann/workshop/nipype/notebooks/hello_mapnode/_a_1/a_plus_b\".\n",
      "211017-18:08:00,903 nipype.workflow INFO:\n",
      "\t [Node] Cached \"hello_mapnode.a_plus_b\" - collecting precomputed outputs\n",
      "211017-18:08:00,904 nipype.workflow INFO:\n",
      "\t [Node] \"hello_mapnode.a_plus_b\" found cached.\n",
      "211017-18:08:00,905 nipype.workflow INFO:\n",
      "\t [Node] Setting-up \"hello.concat_a_b\" in \"/home/neuro/workshop_weizmann/workshop/nipype/notebooks/hello/_a_1/_b_4/concat_a_b\".\n",
      "211017-18:08:00,963 nipype.workflow INFO:\n",
      "\t [Node] Cached \"hello.concat_a_b\" - collecting precomputed outputs\n",
      "211017-18:08:00,965 nipype.workflow INFO:\n",
      "\t [Node] \"hello.concat_a_b\" found cached.\n",
      "211017-18:08:00,966 nipype.workflow INFO:\n",
      "\t [Node] Setting-up \"hello_mapnode.add_1\" in \"/home/neuro/workshop_weizmann/workshop/nipype/notebooks/hello_mapnode/_a_1/_b_4/add_1\".\n",
      "211017-18:08:01,7 nipype.workflow INFO:\n",
      "\t [Node] Outdated cache found for \"hello_mapnode.add_1\".\n",
      "211017-18:08:01,88 nipype.workflow INFO:\n",
      "\t [Node] Setting-up \"_add_10\" in \"/home/neuro/workshop_weizmann/workshop/nipype/notebooks/hello_mapnode/_a_1/_b_4/add_1/mapflow/_add_10\".\n",
      "211017-18:08:01,104 nipype.workflow INFO:\n",
      "\t [Node] Outdated cache found for \"_add_10\".\n",
      "211017-18:08:01,180 nipype.workflow INFO:\n",
      "\t [Node] Running \"_add_10\" (\"nipype.interfaces.utility.wrappers.Function\")\n",
      "211017-18:08:01,265 nipype.workflow INFO:\n",
      "\t [Node] Finished \"_add_10\".\n",
      "211017-18:08:01,280 nipype.workflow INFO:\n",
      "\t [Node] Setting-up \"_add_11\" in \"/home/neuro/workshop_weizmann/workshop/nipype/notebooks/hello_mapnode/_a_1/_b_4/add_1/mapflow/_add_11\".\n",
      "211017-18:08:01,297 nipype.workflow INFO:\n",
      "\t [Node] Outdated cache found for \"_add_11\".\n",
      "211017-18:08:01,369 nipype.workflow INFO:\n",
      "\t [Node] Running \"_add_11\" (\"nipype.interfaces.utility.wrappers.Function\")\n",
      "211017-18:08:01,452 nipype.workflow INFO:\n",
      "\t [Node] Finished \"_add_11\".\n",
      "211017-18:08:01,481 nipype.workflow INFO:\n",
      "\t [Node] Finished \"hello_mapnode.add_1\".\n",
      "211017-18:08:01,483 nipype.workflow INFO:\n",
      "\t [Node] Setting-up \"hello_mapnode.join_scale_data\" in \"/home/neuro/workshop_weizmann/workshop/nipype/notebooks/hello_mapnode/_b_4/join_scale_data\".\n",
      "211017-18:08:01,551 nipype.workflow INFO:\n",
      "\t [Node] Running \"join_scale_data\" (\"nipype.interfaces.utility.wrappers.Function\")\n",
      "211017-18:08:01,609 nipype.workflow INFO:\n",
      "\t [Node] Finished \"hello_mapnode.join_scale_data\".\n",
      "211017-18:08:01,610 nipype.workflow INFO:\n",
      "\t [Node] Setting-up \"hello.concat_a_b\" in \"/home/neuro/workshop_weizmann/workshop/nipype/notebooks/hello/_a_1/_b_3/concat_a_b\".\n",
      "211017-18:08:01,658 nipype.workflow INFO:\n",
      "\t [Node] Cached \"hello.concat_a_b\" - collecting precomputed outputs\n",
      "211017-18:08:01,658 nipype.workflow INFO:\n",
      "\t [Node] \"hello.concat_a_b\" found cached.\n",
      "211017-18:08:01,660 nipype.workflow INFO:\n",
      "\t [Node] Setting-up \"hello_mapnode.add_1\" in \"/home/neuro/workshop_weizmann/workshop/nipype/notebooks/hello_mapnode/_a_1/_b_3/add_1\".\n",
      "211017-18:08:01,688 nipype.workflow INFO:\n",
      "\t [Node] Outdated cache found for \"hello_mapnode.add_1\".\n",
      "211017-18:08:01,750 nipype.workflow INFO:\n",
      "\t [Node] Setting-up \"_add_10\" in \"/home/neuro/workshop_weizmann/workshop/nipype/notebooks/hello_mapnode/_a_1/_b_3/add_1/mapflow/_add_10\".\n",
      "211017-18:08:01,759 nipype.workflow INFO:\n",
      "\t [Node] Outdated cache found for \"_add_10\".\n",
      "211017-18:08:01,833 nipype.workflow INFO:\n",
      "\t [Node] Running \"_add_10\" (\"nipype.interfaces.utility.wrappers.Function\")\n",
      "211017-18:08:01,900 nipype.workflow INFO:\n",
      "\t [Node] Finished \"_add_10\".\n",
      "211017-18:08:01,912 nipype.workflow INFO:\n",
      "\t [Node] Setting-up \"_add_11\" in \"/home/neuro/workshop_weizmann/workshop/nipype/notebooks/hello_mapnode/_a_1/_b_3/add_1/mapflow/_add_11\".\n",
      "211017-18:08:01,919 nipype.workflow INFO:\n",
      "\t [Node] Outdated cache found for \"_add_11\".\n",
      "211017-18:08:01,976 nipype.workflow INFO:\n",
      "\t [Node] Running \"_add_11\" (\"nipype.interfaces.utility.wrappers.Function\")\n",
      "211017-18:08:02,33 nipype.workflow INFO:\n",
      "\t [Node] Finished \"_add_11\".\n",
      "211017-18:08:02,59 nipype.workflow INFO:\n",
      "\t [Node] Finished \"hello_mapnode.add_1\".\n",
      "211017-18:08:02,61 nipype.workflow INFO:\n",
      "\t [Node] Setting-up \"hello_mapnode.join_scale_data\" in \"/home/neuro/workshop_weizmann/workshop/nipype/notebooks/hello_mapnode/_b_3/join_scale_data\".\n",
      "211017-18:08:02,160 nipype.workflow INFO:\n",
      "\t [Node] Running \"join_scale_data\" (\"nipype.interfaces.utility.wrappers.Function\")\n"
     ]
    },
    {
     "name": "stdout",
     "output_type": "stream",
     "text": [
      "211017-18:08:02,211 nipype.workflow INFO:\n",
      "\t [Node] Finished \"hello_mapnode.join_scale_data\".\n"
     ]
    },
    {
     "data": {
      "text/plain": [
       "NodeView((hello_mapnode.join_scale_data.a0, hello_mapnode.join_scale_data.a1, hello_mapnode.a_plus_b.bI.b0, hello.concat_a_b.aI.a0.b0, hello_mapnode.add_1.a0.b0, hello.concat_a_b.aI.a1.b0, hello_mapnode.add_1.a1.b0, hello_mapnode.a_plus_b.bI.b1, hello.concat_a_b.aI.a0.b1, hello_mapnode.add_1.a0.b1, hello.concat_a_b.aI.a1.b1, hello_mapnode.add_1.a1.b1))"
      ]
     },
     "execution_count": 18,
     "metadata": {},
     "output_type": "execute_result"
    }
   ],
   "source": [
    "def merge_and_scale_data(data2):\n",
    "    import numpy as np\n",
    "    return (np.array(data2) * 1000).tolist()\n",
    "\n",
    "\n",
    "from nipype import JoinNode\n",
    "joiner = JoinNode(Function(input_names=['data2'],\n",
    "                          output_names=['data_scaled'],\n",
    "                          function=merge_and_scale_data),\n",
    "                 name='join_scale_data',\n",
    "                 joinsource=adder,\n",
    "                 joinfield=['data2'])\n",
    "\n",
    "wf.connect(plusone, 'out', joiner, 'data2')\n",
    "\n",
    "eg = wf.run()\n",
    "eg.nodes()"
   ]
  },
  {
   "cell_type": "markdown",
   "metadata": {},
   "source": [
    "Let's check the output of ``hello.join_scale_data.a0`` node:"
   ]
  },
  {
   "cell_type": "code",
   "execution_count": 19,
   "metadata": {},
   "outputs": [
    {
     "data": {
      "text/plain": [
       "\n",
       "data_scaled = [[4000, 4000], [5000, 4000]]"
      ]
     },
     "execution_count": 19,
     "metadata": {},
     "output_type": "execute_result"
    }
   ],
   "source": [
    "list(eg.nodes())[0].result.outputs"
   ]
  },
  {
   "cell_type": "code",
   "execution_count": 20,
   "metadata": {},
   "outputs": [
    {
     "name": "stdout",
     "output_type": "stream",
     "text": [
      "211017-18:08:02,553 nipype.workflow INFO:\n",
      "\t Generated workflow graph: /home/neuro/workshop_weizmann/workshop/nipype/notebooks/hello_mapnode/graph.png (graph2use=exec, simple_form=True).\n"
     ]
    },
    {
     "data": {
      "text/plain": [
       "'/home/neuro/workshop_weizmann/workshop/nipype/notebooks/hello_mapnode/graph.png'"
      ]
     },
     "execution_count": 20,
     "metadata": {},
     "output_type": "execute_result"
    }
   ],
   "source": [
    "wf.write_graph(graph2use='exec')"
   ]
  },
  {
   "cell_type": "code",
   "execution_count": 21,
   "metadata": {},
   "outputs": [
    {
     "data": {
      "image/png": "[encoded data removed]",
      "text/plain": [
       "<IPython.core.display.Image object>"
      ]
     },
     "execution_count": 21,
     "metadata": {},
     "output_type": "execute_result"
    }
   ],
   "source": [
    "Image(\"hello_mapnode/graph.png\")"
   ]
  },
  {
   "cell_type": "code",
   "execution_count": 22,
   "metadata": {},
   "outputs": [
    {
     "data": {
      "image/png": "[encoded data removed]",
      "text/plain": [
       "<IPython.core.display.Image object>"
      ]
     },
     "execution_count": 22,
     "metadata": {},
     "output_type": "execute_result"
    }
   ],
   "source": [
    "Image(\"hello_mapnode/graph_detailed.png\")"
   ]
  },
  {
   "cell_type": "code",
   "execution_count": 23,
   "metadata": {},
   "outputs": [
    {
     "name": "stdout",
     "output_type": "stream",
     "text": [
      "211017-18:08:02,625 nipype.workflow INFO:\n",
      "\t Workflow hello_mapnode settings: ['check', 'execution', 'logging', 'monitoring']\n",
      "211017-18:08:02,754 nipype.workflow INFO:\n",
      "\t Running in parallel.\n",
      "211017-18:08:02,761 nipype.workflow INFO:\n",
      "\t [MultiProc] Running 0 tasks, and 2 jobs ready. Free memory (GB): 1.75/1.75, Free processors: 2/2.\n",
      "211017-18:08:02,811 nipype.workflow INFO:\n",
      "\t [Job 0] Cached (hello_mapnode.a_plus_b).\n",
      "211017-18:08:02,828 nipype.workflow INFO:\n",
      "\t [Job 5] Cached (hello_mapnode.a_plus_b).\n",
      "211017-18:08:04,763 nipype.workflow INFO:\n",
      "\t [MultiProc] Running 0 tasks, and 4 jobs ready. Free memory (GB): 1.75/1.75, Free processors: 2/2.\n",
      "211017-18:08:04,810 nipype.workflow INFO:\n",
      "\t [Job 1] Cached (hello.concat_a_b).\n",
      "211017-18:08:04,834 nipype.workflow INFO:\n",
      "\t [Job 3] Cached (hello.concat_a_b).\n",
      "211017-18:08:06,856 nipype.workflow INFO:\n",
      "\t [Job 6] Cached (hello.concat_a_b).\n",
      "211017-18:08:06,890 nipype.workflow INFO:\n",
      "\t [Job 9] Cached (hello.concat_a_b).\n",
      "211017-18:08:08,773 nipype.workflow INFO:\n",
      "\t [MultiProc] Running 0 tasks, and 6 jobs ready. Free memory (GB): 1.75/1.75, Free processors: 2/2.\n",
      "211017-18:08:08,887 nipype.workflow INFO:\n",
      "\t [Job 12] Cached (_add_10).\n",
      "211017-18:08:08,921 nipype.workflow INFO:\n",
      "\t [Job 13] Cached (_add_11).\n",
      "211017-18:08:10,774 nipype.workflow INFO:\n",
      "\t [MultiProc] Running 0 tasks, and 7 jobs ready. Free memory (GB): 1.75/1.75, Free processors: 2/2.\n",
      "211017-18:08:10,821 nipype.workflow INFO:\n",
      "\t [Job 2] Cached (hello_mapnode.add_1).\n",
      "211017-18:08:10,868 nipype.workflow INFO:\n",
      "\t [Job 14] Cached (_add_10).\n",
      "211017-18:08:12,778 nipype.workflow INFO:\n",
      "\t [MultiProc] Running 0 tasks, and 5 jobs ready. Free memory (GB): 1.75/1.75, Free processors: 2/2.\n",
      "211017-18:08:12,825 nipype.workflow INFO:\n",
      "\t [Job 15] Cached (_add_11).\n",
      "211017-18:08:12,839 nipype.workflow INFO:\n",
      "\t [Job 16] Cached (_add_10).\n",
      "211017-18:08:14,779 nipype.workflow INFO:\n",
      "\t [MultiProc] Running 0 tasks, and 4 jobs ready. Free memory (GB): 1.75/1.75, Free processors: 2/2.\n",
      "211017-18:08:14,812 nipype.workflow INFO:\n",
      "\t [Job 4] Cached (hello_mapnode.add_1).\n",
      "211017-18:08:14,824 nipype.workflow INFO:\n",
      "\t [Job 17] Cached (_add_11).\n",
      "211017-18:08:16,784 nipype.workflow INFO:\n",
      "\t [MultiProc] Running 0 tasks, and 3 jobs ready. Free memory (GB): 1.75/1.75, Free processors: 2/2.\n",
      "211017-18:08:16,830 nipype.workflow INFO:\n",
      "\t [Job 7] Cached (hello_mapnode.add_1).\n",
      "211017-18:08:16,845 nipype.workflow INFO:\n",
      "\t [Job 18] Cached (_add_10).\n",
      "211017-18:08:18,792 nipype.workflow INFO:\n",
      "\t [MultiProc] Running 0 tasks, and 2 jobs ready. Free memory (GB): 1.75/1.75, Free processors: 2/2.\n",
      "211017-18:08:18,859 nipype.workflow INFO:\n",
      "\t [Job 8] Cached (hello_mapnode.join_scale_data).\n",
      "211017-18:08:18,874 nipype.workflow INFO:\n",
      "\t [Job 19] Cached (_add_11).\n",
      "211017-18:08:20,792 nipype.workflow INFO:\n",
      "\t [MultiProc] Running 0 tasks, and 1 jobs ready. Free memory (GB): 1.75/1.75, Free processors: 2/2.\n",
      "211017-18:08:20,825 nipype.workflow INFO:\n",
      "\t [Job 10] Cached (hello_mapnode.add_1).\n",
      "211017-18:08:22,847 nipype.workflow INFO:\n",
      "\t [Job 11] Cached (hello_mapnode.join_scale_data).\n",
      "CPU times: user 516 ms, sys: 52.4 ms, total: 568 ms\n",
      "Wall time: 22.2 s\n"
     ]
    }
   ],
   "source": [
    "%time eg = wf.run(plugin='MultiProc', plugin_args={'n_procs': 2})"
   ]
  },
  {
   "cell_type": "code",
   "execution_count": 24,
   "metadata": {},
   "outputs": [],
   "source": [
    "wf.base_dir = os.path.join(os.getcwd(), 'alt')"
   ]
  },
  {
   "cell_type": "code",
   "execution_count": 25,
   "metadata": {
    "scrolled": false
   },
   "outputs": [
    {
     "name": "stdout",
     "output_type": "stream",
     "text": [
      "211017-18:08:24,818 nipype.workflow INFO:\n",
      "\t Workflow hello_mapnode settings: ['check', 'execution', 'logging', 'monitoring']\n",
      "211017-18:08:24,864 nipype.workflow INFO:\n",
      "\t Running in parallel.\n",
      "211017-18:08:24,868 nipype.workflow INFO:\n",
      "\t [MultiProc] Running 0 tasks, and 2 jobs ready. Free memory (GB): 1.75/1.75, Free processors: 2/2.\n",
      "211017-18:08:24,915 nipype.workflow INFO:\n",
      "\t [Node] Setting-up \"hello_mapnode.a_plus_b\" in \"/home/neuro/workshop_weizmann/workshop/nipype/notebooks/alt/hello_mapnode/_a_2/a_plus_b\".\n",
      "211017-18:08:24,919 nipype.workflow INFO:\n",
      "\t [Node] Setting-up \"hello_mapnode.a_plus_b\" in \"/home/neuro/workshop_weizmann/workshop/nipype/notebooks/alt/hello_mapnode/_a_1/a_plus_b\".\n",
      "211017-18:08:24,960 nipype.workflow INFO:\n",
      "\t [Node] Running \"a_plus_b\" (\"nipype.interfaces.utility.wrappers.Function\")\n",
      "211017-18:08:24,960 nipype.workflow INFO:\n",
      "\t [Node] Running \"a_plus_b\" (\"nipype.interfaces.utility.wrappers.Function\")\n",
      "211017-18:08:25,18 nipype.workflow INFO:\n",
      "\t [Node] Finished \"hello_mapnode.a_plus_b\".\n",
      "211017-18:08:25,18 nipype.workflow INFO:\n",
      "\t [Node] Finished \"hello_mapnode.a_plus_b\".\n",
      "211017-18:08:26,871 nipype.workflow INFO:\n",
      "\t [Job 0] Completed (hello_mapnode.a_plus_b).\n",
      "211017-18:08:26,874 nipype.workflow INFO:\n",
      "\t [Job 5] Completed (hello_mapnode.a_plus_b).\n",
      "211017-18:08:26,878 nipype.workflow INFO:\n",
      "\t [MultiProc] Running 0 tasks, and 4 jobs ready. Free memory (GB): 1.75/1.75, Free processors: 2/2.\n",
      "211017-18:08:26,951 nipype.workflow INFO:\n",
      "\t [Node] Setting-up \"hello.concat_a_b\" in \"/home/neuro/workshop_weizmann/workshop/nipype/notebooks/alt/hello/_a_2/_b_4/concat_a_b\".\n",
      "211017-18:08:26,951 nipype.workflow INFO:\n",
      "\t [Node] Setting-up \"hello.concat_a_b\" in \"/home/neuro/workshop_weizmann/workshop/nipype/notebooks/alt/hello/_a_2/_b_3/concat_a_b\".\n",
      "211017-18:08:26,995 nipype.workflow INFO:\n",
      "\t [Node] Running \"concat_a_b\" (\"nipype.interfaces.utility.wrappers.Function\")\n"
     ]
    }
   ],
   "source": [
    "%time eg = wf.run(plugin='MultiProc', plugin_args={'n_procs': 2})"
   ]
  },
  {
   "cell_type": "code",
   "execution_count": 26,
   "metadata": {},
   "outputs": [],
   "source": [
    "%time eg = wf.run(plugin='MultiProc', plugin_args={'n_procs': 2})"
   ]
  },
  {
   "cell_type": "markdown",
   "metadata": {},
   "source": [
    "### Exercise 1\n",
    "\n",
    "Create a workflow to calculate a sum of factorials of numbers from a range between $n_{min}$ and $n_{max}$, i.e.:\n",
    "\n",
    "$$\\sum _{k=n_{min}}^{n_{max}} k! = 0! + 1! +2! + 3! + \\cdots$$ \n",
    "\n",
    "if $n_{min}=0$ and $n_{max}=3$\n",
    "$$\\sum _{k=0}^{3} k! = 0! + 1! +2! + 3!  =  1 + 1 + 2 + 6 = 10$$\n"
   ]
  },
  {
   "cell_type": "code",
   "execution_count": 27,
   "metadata": {
    "solution2": "hidden",
    "solution2_first": true
   },
   "outputs": [],
   "source": [
    "#write your code here\n",
    "\n",
    "# 1. write 3 functions: one that returns a list of number from a specific range, \n",
    "#    second that returns n! (you can use math.factorial) and third, that sums the elements from a list\n",
    "\n",
    "# 2. create a workflow and define the working directory\n",
    "\n",
    "# 3. define 3 nodes using Node and MapNode and connect them within the workflow\n",
    "\n",
    "# 4. run the workflow and check the results"
   ]
  },
  {
   "cell_type": "code",
   "execution_count": 28,
   "metadata": {
    "solution2": "hidden"
   },
   "outputs": [],
   "source": [
    "from nipype import Workflow, Node, MapNode, Function\n",
    "import os\n",
    "\n",
    "def range_fun(n_min, n_max):\n",
    "    return list(range(n_min, n_max+1))\n",
    "\n",
    "def factorial(n):\n",
    "    # print(\"FACTORIAL, {}\".format(n))\n",
    "    import math\n",
    "    return math.factorial(n)\n",
    "\n",
    "def summing(terms):\n",
    "    return sum(terms)\n",
    "\n",
    "wf_ex1 = Workflow('ex1')\n",
    "wf_ex1.base_dir = os.getcwd()\n",
    "\n",
    "range_nd = Node(Function(input_names=['n_min', 'n_max'],\n",
    "                         output_names=['range_list'],\n",
    "                         function=range_fun), \n",
    "                name='range_list')\n",
    "\n",
    "factorial_nd = MapNode(Function(input_names=['n'],\n",
    "                                output_names=['fact_out'],\n",
    "                                function=factorial), \n",
    "                       iterfield=['n'],\n",
    "                       name='factorial')\n",
    "\n",
    "summing_nd = Node(Function(input_names=['terms'],\n",
    "                           output_names=['sum_out'],\n",
    "                           function=summing), \n",
    "                  name='summing')\n",
    "\n",
    "\n",
    "range_nd.inputs.n_min = 0\n",
    "range_nd.inputs.n_max = 3\n",
    "\n",
    "wf_ex1.add_nodes([range_nd])\n",
    "wf_ex1.connect(range_nd, 'range_list', factorial_nd, 'n')\n",
    "wf_ex1.connect(factorial_nd, 'fact_out', summing_nd, \"terms\")\n",
    "\n",
    "\n",
    "eg = wf_ex1.run()"
   ]
  },
  {
   "cell_type": "markdown",
   "metadata": {
    "solution2": "hidden"
   },
   "source": [
    "let's print all nodes:"
   ]
  },
  {
   "cell_type": "code",
   "execution_count": 29,
   "metadata": {
    "solution2": "hidden"
   },
   "outputs": [],
   "source": [
    "eg.nodes()"
   ]
  },
  {
   "cell_type": "markdown",
   "metadata": {
    "solution2": "hidden"
   },
   "source": [
    "the final result should be 10:"
   ]
  },
  {
   "cell_type": "code",
   "execution_count": 30,
   "metadata": {
    "solution2": "hidden"
   },
   "outputs": [],
   "source": [
    "list(eg.nodes())[2].result.outputs"
   ]
  },
  {
   "cell_type": "markdown",
   "metadata": {
    "solution2": "hidden"
   },
   "source": [
    "we can also check the results of two other nodes:"
   ]
  },
  {
   "cell_type": "code",
   "execution_count": 31,
   "metadata": {
    "solution2": "hidden"
   },
   "outputs": [],
   "source": [
    "print(list(eg.nodes())[0].result.outputs)\n",
    "print(list(eg.nodes())[1].result.outputs)"
   ]
  },
  {
   "cell_type": "markdown",
   "metadata": {},
   "source": [
    "### Exercise 2\n",
    "\n",
    "Create a workflow to calculate the following sum for chosen $n$ and five different values of $x$:  $0$, $\\frac{1}{2} \\pi$, $\\pi$, $\\frac{3}{2} \\pi$, and $ 2 \\pi$.\n",
    "\n",
    "$\\sum _{{k=0}}^{{n}}{\\frac  {(-1)^{k}}{(2k+1)!}}x^{{2k+1}}\\quad =x-{\\frac  {x^{3}}{3!}}+{\\frac  {x^{5}}{5!}}-\\cdots $\n"
   ]
  },
  {
   "cell_type": "code",
   "execution_count": 32,
   "metadata": {
    "solution2": "hidden",
    "solution2_first": true
   },
   "outputs": [],
   "source": [
    "# write your solution here\n",
    "\n",
    "# 1. write 3 functions: one that returns a list of number from a range between 0 and some n, \n",
    "#    second that returns a term for a specific k, and third, that sums the elements from a list\n",
    "\n",
    "# 2. create a workflow and define the working directory\n",
    "\n",
    "# 3. define 3 nodes using Node and MapNode and connect them within the workflow\n",
    "\n",
    "# 4. use iterables for 4 values of x\n",
    "\n",
    "# 5. run the workflow and check the final results for every value of x"
   ]
  },
  {
   "cell_type": "code",
   "execution_count": 33,
   "metadata": {
    "solution2": "hidden"
   },
   "outputs": [],
   "source": [
    "# we can reuse function from previous exercise, but they need some edits\n",
    "from nipype import Workflow, Node, MapNode, JoinNode, Function\n",
    "import os\n",
    "import math\n",
    "\n",
    "def range_fun(n_max):\n",
    "    return list(range(n_max+1))\n",
    "\n",
    "def term(k, x):\n",
    "    import math\n",
    "    fract = math.factorial(2 * k + 1)\n",
    "    polyn = x ** (2 * k + 1) \n",
    "    return (-1)**k * polyn / fract\n",
    "\n",
    "def summing(terms):\n",
    "    return sum(terms)\n",
    "\n",
    "wf_ex2 = Workflow('ex2')\n",
    "wf_ex2.base_dir = os.getcwd()\n",
    "\n",
    "range_nd = Node(Function(input_names=['n_max'],\n",
    "                         output_names=['range_list'],\n",
    "                         function=range_fun), \n",
    "                name='range_list')\n",
    "\n",
    "term_nd = MapNode(Function(input_names=['k', 'x'],\n",
    "                           output_names=['term_out'],\n",
    "                           function=term), \n",
    "                  iterfield=['k'],\n",
    "                  name='term')\n",
    "\n",
    "summing_nd = Node(Function(input_names=['terms'],\n",
    "                           output_names=['sum_out'],\n",
    "                           function=summing), \n",
    "                name='summing')\n",
    "\n",
    "\n",
    "range_nd.inputs.n_max = 15\n",
    "\n",
    "x_list = [0, 0.5 * math.pi, math.pi, 1.5 * math.pi, 2 * math.pi]\n",
    "\n",
    "term_nd.iterables = ('x', x_list)\n",
    "\n",
    "wf_ex2.add_nodes([range_nd])\n",
    "wf_ex2.connect(range_nd, 'range_list', term_nd, 'k')\n",
    "wf_ex2.connect(term_nd, 'term_out', summing_nd, \"terms\")\n",
    "\n",
    "\n",
    "eg = wf_ex2.run()"
   ]
  },
  {
   "cell_type": "markdown",
   "metadata": {
    "solution2": "hidden"
   },
   "source": [
    "let's check all nodes"
   ]
  },
  {
   "cell_type": "code",
   "execution_count": 34,
   "metadata": {
    "solution2": "hidden"
   },
   "outputs": [],
   "source": [
    "eg.nodes()"
   ]
  },
  {
   "cell_type": "markdown",
   "metadata": {
    "solution2": "hidden"
   },
   "source": [
    "let's print all results of ``ex2.summing``"
   ]
  },
  {
   "cell_type": "code",
   "execution_count": 35,
   "metadata": {
    "solution2": "hidden"
   },
   "outputs": [],
   "source": [
    "print(list(eg.nodes())[2].result.outputs)\n",
    "print(list(eg.nodes())[4].result.outputs)\n",
    "print(list(eg.nodes())[6].result.outputs)\n",
    "print(list(eg.nodes())[8].result.outputs)\n",
    "print(list(eg.nodes())[10].result.outputs)"
   ]
  },
  {
   "cell_type": "markdown",
   "metadata": {
    "solution2": "hidden"
   },
   "source": [
    "Great, we just implemented pretty good Sine function! Those number should be approximately 0, 1, 0, -1 and 0. If they are not, try to increase $n_max$."
   ]
  },
  {
   "cell_type": "markdown",
   "metadata": {},
   "source": [
    "### Exercise 2a\n",
    "\n",
    "Use JoinNode to combine results from Exercise 2 in one container, e.g. a dictionary, that takes value $x$ as a key and the result from ``summing`` Node as a value."
   ]
  },
  {
   "cell_type": "code",
   "execution_count": 36,
   "metadata": {
    "solution2": "hidden",
    "solution2_first": true
   },
   "outputs": [],
   "source": [
    "# write your code here\n",
    "\n",
    "# 1. create an additional function that takes 2 lists and combines them into one container, e.g. dictionary\n",
    "\n",
    "# 2. use JoinNode to define a new node that merges results from Exercise 2 and connect it to the workflow\n",
    "\n",
    "# 3. run the workflow and check the results of the merging node"
   ]
  },
  {
   "cell_type": "code",
   "execution_count": 37,
   "metadata": {
    "solution2": "hidden"
   },
   "outputs": [],
   "source": [
    "def merge_results(results, x):\n",
    "    return dict(zip(x, results))\n",
    "\n",
    "join_nd = JoinNode(Function(input_names=['results', 'x'],\n",
    "                            output_names=['results_cont'],\n",
    "                            function=merge_results),\n",
    "                   name='merge',\n",
    "                   joinsource=term_nd, # this is the node that used iterables for x\n",
    "                   joinfield=['results'])\n",
    "\n",
    "# taking the list of arguments from the previous part \n",
    "join_nd.inputs.x = x_list\n",
    "\n",
    "# connecting a new node to the summing_nd\n",
    "wf_ex2.connect(summing_nd, \"sum_out\", join_nd, \"results\")\n",
    "\n",
    "eg = wf_ex2.run()"
   ]
  },
  {
   "cell_type": "markdown",
   "metadata": {
    "solution2": "hidden"
   },
   "source": [
    "let's print all nodes"
   ]
  },
  {
   "cell_type": "code",
   "execution_count": 38,
   "metadata": {
    "solution2": "hidden"
   },
   "outputs": [],
   "source": [
    "eg.nodes()"
   ]
  },
  {
   "cell_type": "markdown",
   "metadata": {
    "solution2": "hidden"
   },
   "source": [
    "and results from ``merge`` Node:"
   ]
  },
  {
   "cell_type": "code",
   "execution_count": 39,
   "metadata": {
    "solution2": "hidden"
   },
   "outputs": [],
   "source": [
    "list(eg.nodes())[1].result.outputs"
   ]
  }
 ],
 "metadata": {
  "kernelspec": {
   "display_name": "Python 3",
   "language": "python",
   "name": "python3"
  },
  "language_info": {
   "codemirror_mode": {
    "name": "ipython",
    "version": 3
   },
   "file_extension": ".py",
   "mimetype": "text/x-python",
   "name": "python",
   "nbconvert_exporter": "python",
   "pygments_lexer": "ipython3",
   "version": "3.7.8"
  },
  "nbpresent": {
   "slides": {
    "036d9e6d-9014-47e8-ba8c-b7ff491d356e": {
     "id": "036d9e6d-9014-47e8-ba8c-b7ff491d356e",
     "prev": "cc6fa21e-5b8f-44a7-8578-5b58255c0e2b",
     "regions": {
      "69d658c5-3412-4410-96aa-45fbc91e3950": {
       "attrs": {
        "height": 0.8,
        "width": 0.8,
        "x": 0.1,
        "y": 0.1
       },
       "content": {
        "cell": "dcbff777-e05b-43d3-9da3-805207eadb71",
        "part": "whole"
       },
       "id": "69d658c5-3412-4410-96aa-45fbc91e3950"
      }
     }
    },
    "0c3953f2-86d8-4e97-9ffd-02a8377e10c6": {
     "id": "0c3953f2-86d8-4e97-9ffd-02a8377e10c6",
     "prev": "5e629ace-5a9f-4bf2-a295-82901f752daa",
     "regions": {
      "16206fd5-e557-4f6c-8077-e824b87eff4f": {
       "attrs": {
        "height": 0.8,
        "width": 0.8,
        "x": 0.1,
        "y": 0.1
       },
       "content": {
        "cell": "b7a0948a-2f3d-4be5-af22-e8796ab22131",
        "part": "whole"
       },
       "id": "16206fd5-e557-4f6c-8077-e824b87eff4f"
      }
     }
    },
    "1a0083a8-471b-4869-bcb3-c33c81524a2c": {
     "id": "1a0083a8-471b-4869-bcb3-c33c81524a2c",
     "prev": "43c259c6-ec65-4243-8a95-d2a976c6daca",
     "regions": {
      "5907abd6-0b04-4f6d-acd1-1f11dd39c7a2": {
       "attrs": {
        "height": 0.8,
        "width": 0.8,
        "x": 0.1,
        "y": 0.1
       },
       "content": {
        "cell": "c8cbc820-d362-422e-9fdf-79d6ae6af560",
        "part": "whole"
       },
       "id": "5907abd6-0b04-4f6d-acd1-1f11dd39c7a2"
      }
     }
    },
    "32034499-40cf-4318-91f1-aeccdfbba380": {
     "id": "32034499-40cf-4318-91f1-aeccdfbba380",
     "prev": null,
     "regions": {
      "845af035-2d72-4258-b5da-d611edc1ba86": {
       "attrs": {
        "height": 0.8,
        "width": 0.8,
        "x": 0.1,
        "y": 0.1
       },
       "content": {
        "cell": "ef0d4a65-1e86-4570-bd56-0e683df3cc72",
        "part": "whole"
       },
       "id": "845af035-2d72-4258-b5da-d611edc1ba86"
      }
     }
    },
    "43c259c6-ec65-4243-8a95-d2a976c6daca": {
     "id": "43c259c6-ec65-4243-8a95-d2a976c6daca",
     "prev": "76d40b89-085e-44b3-89b4-46f17db1746f",
     "regions": {
      "8192ec05-8445-4c92-9a84-d60610754d06": {
       "attrs": {
        "height": 0.8,
        "width": 0.8,
        "x": 0.1,
        "y": 0.1
       },
       "content": {
        "cell": "9798f6be-09b9-4cb9-8c63-1f10e4d1040c",
        "part": "whole"
       },
       "id": "8192ec05-8445-4c92-9a84-d60610754d06"
      }
     }
    },
    "5288be26-b5af-48c6-8687-ff3bb55e83a9": {
     "id": "5288be26-b5af-48c6-8687-ff3bb55e83a9",
     "prev": "32034499-40cf-4318-91f1-aeccdfbba380",
     "regions": {
      "8247975a-6621-4c12-b3f0-016a235a34b2": {
       "attrs": {
        "height": 0.8,
        "width": 0.8,
        "x": 0.1,
        "y": 0.1
       },
       "content": {
        "cell": "f834221c-3c73-47ce-b36e-ba3f17bd3d60",
        "part": "whole"
       },
       "id": "8247975a-6621-4c12-b3f0-016a235a34b2"
      }
     }
    },
    "5e629ace-5a9f-4bf2-a295-82901f752daa": {
     "id": "5e629ace-5a9f-4bf2-a295-82901f752daa",
     "prev": "dcc3de5f-dfc5-4a35-a583-474dbac5a5ad",
     "regions": {
      "c8fc9ec8-974e-426c-9d36-f55673eee3c4": {
       "attrs": {
        "height": 0.8,
        "width": 0.8,
        "x": 0.1,
        "y": 0.1
       },
       "content": {
        "cell": "2da7d103-ba49-495d-b986-6ef655b2a010",
        "part": "whole"
       },
       "id": "c8fc9ec8-974e-426c-9d36-f55673eee3c4"
      }
     }
    },
    "69c3997a-020c-4288-ba41-da053c70c853": {
     "id": "69c3997a-020c-4288-ba41-da053c70c853",
     "prev": "d2a3e23f-46b6-4f0b-b96b-5341e8a368b0",
     "regions": {
      "5cbcbcde-1087-410d-ac46-bc5d403927ff": {
       "attrs": {
        "height": 0.8,
        "width": 0.8,
        "x": 0.1,
        "y": 0.1
       },
       "content": {
        "cell": "e03280a7-f6b0-48d8-a1a3-c38dd0a93cc2",
        "part": "whole"
       },
       "id": "5cbcbcde-1087-410d-ac46-bc5d403927ff"
      }
     }
    },
    "6e1b1fd9-f600-4262-8bfa-0b6ef6d2ab33": {
     "id": "6e1b1fd9-f600-4262-8bfa-0b6ef6d2ab33",
     "prev": "b5c8cdf1-c521-4830-bdc7-537f4e33974c",
     "regions": {
      "7047358c-1619-4db4-84b5-b3c9f6a4165d": {
       "attrs": {
        "height": 0.8,
        "width": 0.8,
        "x": 0.1,
        "y": 0.1
       },
       "content": {
        "cell": "6361e837-5e6f-4df9-aff6-d20c5909af56",
        "part": "whole"
       },
       "id": "7047358c-1619-4db4-84b5-b3c9f6a4165d"
      }
     }
    },
    "748fa336-fe68-4ec9-879a-18b4c253938b": {
     "id": "748fa336-fe68-4ec9-879a-18b4c253938b",
     "prev": "862ab379-822c-4a94-9433-1b527b2a592d",
     "regions": {
      "2ef88b5d-a61b-4476-a554-36864af7db8e": {
       "attrs": {
        "height": 0.8,
        "width": 0.8,
        "x": 0.1,
        "y": 0.1
       },
       "content": {
        "cell": "1592d986-e07f-4ac0-a06e-c9a3917e30b4",
        "part": "whole"
       },
       "id": "2ef88b5d-a61b-4476-a554-36864af7db8e"
      }
     }
    },
    "76d40b89-085e-44b3-89b4-46f17db1746f": {
     "id": "76d40b89-085e-44b3-89b4-46f17db1746f",
     "prev": "edfccc6e-2b4e-4131-a730-eaa191ff7c81",
     "regions": {
      "939a8941-0ea4-4b62-abbb-05f8b793a5fb": {
       "attrs": {
        "height": 0.8,
        "width": 0.8,
        "x": 0.1,
        "y": 0.1
       },
       "content": {
        "cell": "2ff6c266-4437-4d37-9464-c1573b13ae51",
        "part": "whole"
       },
       "id": "939a8941-0ea4-4b62-abbb-05f8b793a5fb"
      }
     }
    },
    "862ab379-822c-4a94-9433-1b527b2a592d": {
     "id": "862ab379-822c-4a94-9433-1b527b2a592d",
     "prev": "6e1b1fd9-f600-4262-8bfa-0b6ef6d2ab33",
     "regions": {
      "34178cde-c66f-4413-a29d-57c5e60794ed": {
       "attrs": {
        "height": 0.8,
        "width": 0.8,
        "x": 0.1,
        "y": 0.1
       },
       "content": {
        "cell": "bfe919e8-bad6-488f-a01f-ed7c3a7319b7",
        "part": "whole"
       },
       "id": "34178cde-c66f-4413-a29d-57c5e60794ed"
      }
     }
    },
    "8cf4d2aa-9b35-469a-8226-74ab47621c35": {
     "id": "8cf4d2aa-9b35-469a-8226-74ab47621c35",
     "prev": "748fa336-fe68-4ec9-879a-18b4c253938b",
     "regions": {
      "197ef43c-c849-43c3-a6c4-31fd5cd99838": {
       "attrs": {
        "height": 0.8,
        "width": 0.8,
        "x": 0.1,
        "y": 0.1
       },
       "content": {
        "cell": "07b2fb00-3ed4-4a86-8313-7873048021ec",
        "part": "whole"
       },
       "id": "197ef43c-c849-43c3-a6c4-31fd5cd99838"
      }
     }
    },
    "a81e9008-d57d-4aaf-86f0-ffe067287baa": {
     "id": "a81e9008-d57d-4aaf-86f0-ffe067287baa",
     "prev": "5288be26-b5af-48c6-8687-ff3bb55e83a9",
     "regions": {
      "970554aa-ab29-48b9-88f6-9ada37e60548": {
       "attrs": {
        "height": 0.8,
        "width": 0.8,
        "x": 0.1,
        "y": 0.1
       },
       "content": {
        "cell": "bb1cfcc5-5cbf-4097-b8a9-fe4d74ce6bcd",
        "part": "whole"
       },
       "id": "970554aa-ab29-48b9-88f6-9ada37e60548"
      }
     }
    },
    "aee840ab-b7c4-48d7-b6ad-ce867f878951": {
     "id": "aee840ab-b7c4-48d7-b6ad-ce867f878951",
     "prev": "69c3997a-020c-4288-ba41-da053c70c853",
     "regions": {
      "c668f127-028b-4a6e-9410-81abe6a38e95": {
       "attrs": {
        "height": 0.8,
        "width": 0.8,
        "x": 0.1,
        "y": 0.1
       },
       "content": {
        "cell": "055c7435-88f1-45db-9562-63d5f910cac3",
        "part": "whole"
       },
       "id": "c668f127-028b-4a6e-9410-81abe6a38e95"
      }
     }
    },
    "af2fe30f-1cda-4d2e-8a5a-3e265b4b404f": {
     "id": "af2fe30f-1cda-4d2e-8a5a-3e265b4b404f",
     "prev": "a81e9008-d57d-4aaf-86f0-ffe067287baa",
     "regions": {
      "180abf91-afcd-4265-846d-bfd7e4fd1850": {
       "attrs": {
        "height": 0.8,
        "width": 0.8,
        "x": 0.1,
        "y": 0.1
       },
       "content": {
        "cell": "9a460e90-6929-4ec6-8fa6-d7dacb45e00a",
        "part": "whole"
       },
       "id": "180abf91-afcd-4265-846d-bfd7e4fd1850"
      }
     }
    },
    "b5c8cdf1-c521-4830-bdc7-537f4e33974c": {
     "id": "b5c8cdf1-c521-4830-bdc7-537f4e33974c",
     "prev": "dbe3527e-cafa-4fc2-b863-99954c2e4e00",
     "regions": {
      "2ff95d44-ba2e-4b0d-b50d-0cb12468769d": {
       "attrs": {
        "height": 0.8,
        "width": 0.8,
        "x": 0.1,
        "y": 0.1
       },
       "content": {
        "cell": "4c118e06-0dd3-44cf-8246-48b4abb06787",
        "part": "whole"
       },
       "id": "2ff95d44-ba2e-4b0d-b50d-0cb12468769d"
      }
     }
    },
    "cc6fa21e-5b8f-44a7-8578-5b58255c0e2b": {
     "id": "cc6fa21e-5b8f-44a7-8578-5b58255c0e2b",
     "prev": "af2fe30f-1cda-4d2e-8a5a-3e265b4b404f",
     "regions": {
      "87874474-0c2f-47cc-bfe2-f7d5f9b49900": {
       "attrs": {
        "height": 0.8,
        "width": 0.8,
        "x": 0.1,
        "y": 0.1
       },
       "content": {
        "cell": "d0adfd78-01e1-4623-983a-bbf53a9bb858",
        "part": "whole"
       },
       "id": "87874474-0c2f-47cc-bfe2-f7d5f9b49900"
      }
     }
    },
    "cf197342-f78a-4bf5-9b68-6f1430575593": {
     "id": "cf197342-f78a-4bf5-9b68-6f1430575593",
     "prev": "036d9e6d-9014-47e8-ba8c-b7ff491d356e",
     "regions": {
      "95c558ad-28b2-4c98-9ce2-22d80fd97f1b": {
       "attrs": {
        "height": 0.8,
        "width": 0.8,
        "x": 0.1,
        "y": 0.1
       },
       "content": {
        "cell": "f3a955ec-34a2-4a29-bdf8-e0dd8df57cf5",
        "part": "whole"
       },
       "id": "95c558ad-28b2-4c98-9ce2-22d80fd97f1b"
      }
     }
    },
    "d2a3e23f-46b6-4f0b-b96b-5341e8a368b0": {
     "id": "d2a3e23f-46b6-4f0b-b96b-5341e8a368b0",
     "prev": "0c3953f2-86d8-4e97-9ffd-02a8377e10c6",
     "regions": {
      "486a31bf-5c58-4c67-b54d-d45e839167e7": {
       "attrs": {
        "height": 0.8,
        "width": 0.8,
        "x": 0.1,
        "y": 0.1
       },
       "content": {
        "cell": "e68b3f8a-ab55-4045-b8d3-7007a30a527b",
        "part": "whole"
       },
       "id": "486a31bf-5c58-4c67-b54d-d45e839167e7"
      }
     }
    },
    "dbe3527e-cafa-4fc2-b863-99954c2e4e00": {
     "id": "dbe3527e-cafa-4fc2-b863-99954c2e4e00",
     "prev": "cf197342-f78a-4bf5-9b68-6f1430575593",
     "regions": {
      "3625ea9c-9bc9-4a2c-9d40-f230922b1edc": {
       "attrs": {
        "height": 0.8,
        "width": 0.8,
        "x": 0.1,
        "y": 0.1
       },
       "content": {
        "cell": "23672ce7-3781-4144-925a-cc9367dec01d",
        "part": "whole"
       },
       "id": "3625ea9c-9bc9-4a2c-9d40-f230922b1edc"
      }
     }
    },
    "dcc3de5f-dfc5-4a35-a583-474dbac5a5ad": {
     "id": "dcc3de5f-dfc5-4a35-a583-474dbac5a5ad",
     "prev": "1a0083a8-471b-4869-bcb3-c33c81524a2c",
     "regions": {
      "104371ee-397d-4b6d-bb3e-4ec826b2aa27": {
       "attrs": {
        "height": 0.8,
        "width": 0.8,
        "x": 0.1,
        "y": 0.1
       },
       "content": {
        "cell": "6fba065c-c3c5-4c79-a2a3-75e6a2198776",
        "part": "whole"
       },
       "id": "104371ee-397d-4b6d-bb3e-4ec826b2aa27"
      }
     }
    },
    "edfccc6e-2b4e-4131-a730-eaa191ff7c81": {
     "id": "edfccc6e-2b4e-4131-a730-eaa191ff7c81",
     "prev": "8cf4d2aa-9b35-469a-8226-74ab47621c35",
     "regions": {
      "6fa263a6-0bdd-4517-b49b-32da55d66d87": {
       "attrs": {
        "height": 0.8,
        "width": 0.8,
        "x": 0.1,
        "y": 0.1
       },
       "content": {
        "cell": "ac097fd1-7c4a-41ad-bcdb-f3ba93b58d36",
        "part": "whole"
       },
       "id": "6fa263a6-0bdd-4517-b49b-32da55d66d87"
      }
     }
    }
   },
   "themes": {}
  }
 },
 "nbformat": 4,
 "nbformat_minor": 2
}
