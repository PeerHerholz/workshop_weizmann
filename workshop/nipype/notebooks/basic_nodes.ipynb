{
 "cells": [
  {
   "cell_type": "markdown",
   "metadata": {},
   "source": [
    "# Nodes\n",
    "\n",
    "From the [Interface](basic_interfaces.ipynb) tutorial, you learned that interfaces are the core pieces of Nipype that run the code of your desire. But to streamline your analysis and to execute multiple interfaces in a sensible order, you have to put them in something that we call a ``Node``.\n",
    "\n",
    "In Nipype, a node is an object that executes a certain function. This function can be anything from a Nipype interface to a user-specified function or an external script. Each node consists of a name, an interface category and at least one input field, and at least one output field.\n",
    "\n",
    "Following is a simple node from the `utility` interface, with the name `name_of_node`, the input field `IN` and the output field `OUT`:\n",
    "\n",
    "![](../static/images/node_sinlge_node.png)\n",
    "\n",
    "Once you connect multiple nodes to each other, you create a directed graph. In Nipype we call such graphs either workflows or pipelines. Directed connections can only be established from an output field (below `node1_out`) of a node to an input field (below `node2_in`) of another node.\n",
    "\n",
    "![](../static/images/node_two_nodes.png)\n",
    "\n",
    "This is all there is to Nipype. Connecting specific nodes with certain functions to other specific nodes with other functions. So let us now take a closer look at the different kind of nodes that exist and see when they should be used."
   ]
  },
  {
   "cell_type": "markdown",
   "metadata": {},
   "source": [
    "## Example of a simple node\n",
    "\n",
    "First, let us take a look at a simple stand-alone node. In general, a node consists of the following elements:\n",
    "\n",
    "    nodename = Nodetype(interface_function(), name='labelname')\n",
    "\n",
    "- **nodename**: Variable name of the node in the python environment.\n",
    "- **Nodetype**: Type of node to be created. This can be a `Node`, `MapNode` or `JoinNode`.\n",
    "- **interface_function**: Function the node should execute. Can be user specific or coming from an `Interface`.\n",
    "- **labelname**: Label name of the node in the workflow environment (defines the name of the working directory)"
   ]
  },
  {
   "cell_type": "markdown",
   "metadata": {},
   "source": [
    "Let us take a look at an example: For this, we need the `Node` module from Nipype, as well as the `Function` module. The second only serves a support function for this example. It isn't a prerequisite for a `Node`."
   ]
  },
  {
   "cell_type": "code",
   "execution_count": null,
   "metadata": {},
   "outputs": [],
   "source": [
    "# Import Node and Function module\n",
    "from nipype import Node, Function\n",
    "\n",
    "# Create a small example function\n",
    "def add_two(x_input):\n",
    "    return x_input + 2\n",
    "\n",
    "# Create Node\n",
    "addtwo = Node(Function(input_names=[\"x_input\"],\n",
    "                       output_names=[\"val_output\"],\n",
    "                       function=add_two),\n",
    "              name='add_node')"
   ]
  },
  {
   "cell_type": "markdown",
   "metadata": {},
   "source": [
    "As specified before, `addtwo` is the **nodename**, `Node` is the **Nodetype**, `Function(...)` is the **interface_function** and `add_node` is the **labelname** of the this node. In this particular case, we created an artificial input field, called `x_input`, an artificial output field called `val_output` and specified that this node should run the function `add_two()`.\n",
    "\n",
    "But before we can run this node, we need to declare the value of the input field `x_input`:"
   ]
  },
  {
   "cell_type": "code",
   "execution_count": null,
   "metadata": {},
   "outputs": [],
   "source": [
    "addtwo.inputs.x_input = 4"
   ]
  },
  {
   "cell_type": "markdown",
   "metadata": {},
   "source": [
    "After all input fields are specified, we can run the node with `run()`:"
   ]
  },
  {
   "cell_type": "code",
   "execution_count": null,
   "metadata": {},
   "outputs": [],
   "source": [
    "addtwo.run()"
   ]
  },
  {
   "cell_type": "code",
   "execution_count": null,
   "metadata": {},
   "outputs": [],
   "source": [
    "temp_res = addtwo.run()"
   ]
  },
  {
   "cell_type": "code",
   "execution_count": null,
   "metadata": {},
   "outputs": [],
   "source": [
    "temp_res.outputs"
   ]
  },
  {
   "cell_type": "markdown",
   "metadata": {},
   "source": [
    "And what is the output of this node?"
   ]
  },
  {
   "cell_type": "code",
   "execution_count": null,
   "metadata": {},
   "outputs": [],
   "source": [
    "addtwo.result.outputs"
   ]
  },
  {
   "cell_type": "markdown",
   "metadata": {},
   "source": [
    "## Example of a neuroimaging node\n",
    "\n",
    "Let's get back to the BET example from the [Interface](basic_interfaces.ipynb) tutorial. The only thing that differs from this example, is that we will put the ``BET()`` constructor inside a ``Node`` and give it a name."
   ]
  },
  {
   "cell_type": "code",
   "execution_count": null,
   "metadata": {},
   "outputs": [],
   "source": [
    "# Import BET from the FSL interface\n",
    "from nipype.interfaces.fsl import BET\n",
    "\n",
    "# Import the Node module\n",
    "from nipype import Node\n",
    "\n",
    "# Create Node\n",
    "bet = Node(BET(frac=0.3), name='bet_node')"
   ]
  },
  {
   "cell_type": "markdown",
   "metadata": {},
   "source": [
    "In the [Interface](basic_interfaces.ipynb) tutorial, we were able to specify the input file with the ``in_file`` parameter. This works exactly the same way in this case, where the interface is in a node. The only thing that we have to be careful about when we use a node is to specify where this node should be executed. This is only relevant for when we execute a node by itself, but not when we use them in a [Workflow](basic_workflow.ipynb)."
   ]
  },
  {
   "cell_type": "code",
   "execution_count": null,
   "metadata": {},
   "outputs": [],
   "source": [
    "# Specify node inputs\n",
    "bet.inputs.in_file = '/data/ds000114/sub-01/ses-test/anat/sub-01_ses-test_T1w.nii.gz'\n",
    "bet.inputs.out_file = '/output/node_T1w_bet.nii.gz'"
   ]
  },
  {
   "cell_type": "code",
   "execution_count": null,
   "metadata": {},
   "outputs": [],
   "source": [
    "res = bet.run()"
   ]
  },
  {
   "cell_type": "markdown",
   "metadata": {},
   "source": [
    "As we know from the [Interface](basic_interfaces.ipynb) tutorial, the skull stripped output is stored under ``res.outputs.out_file``. So let's take a look at the before and the after:"
   ]
  },
  {
   "cell_type": "code",
   "execution_count": null,
   "metadata": {},
   "outputs": [],
   "source": [
    "from nilearn.plotting import plot_anat\n",
    "%matplotlib inline\n",
    "import matplotlib.pyplot as plt\n",
    "plot_anat(bet.inputs.in_file, title='BET input', cut_coords=(10,10,10),\n",
    "          display_mode='ortho', dim=-1, draw_cross=False, annotate=False);\n",
    "plot_anat(res.outputs.out_file, title='BET output', cut_coords=(10,10,10),\n",
    "          display_mode='ortho', dim=-1, draw_cross=False, annotate=False);"
   ]
  },
  {
   "cell_type": "markdown",
   "metadata": {},
   "source": [
    "### Exercise 1\n",
    "Define a `Node` for `IsotropicSmooth` (from `fsl`). Run the node for T1 image for one of the subjects."
   ]
  },
  {
   "cell_type": "code",
   "execution_count": null,
   "metadata": {
    "solution2": "hidden",
    "solution2_first": true
   },
   "outputs": [],
   "source": [
    "# write your solution here"
   ]
  },
  {
   "cell_type": "code",
   "execution_count": null,
   "metadata": {
    "solution2": "hidden"
   },
   "outputs": [],
   "source": [
    "# Import the Node module\n",
    "from nipype import Node\n",
    "# Import IsotropicSmooth from the FSL interface\n",
    "from nipype.interfaces.fsl import IsotropicSmooth\n",
    "\n",
    "# Define a node\n",
    "smooth_node = Node(IsotropicSmooth(), name=\"smoothing\")\n",
    "smooth_node.inputs.in_file = '/data/ds000114/sub-01/ses-test/anat/sub-01_ses-test_T1w.nii.gz'\n",
    "smooth_node.inputs.fwhm = 4\n",
    "smooth_node.inputs.out_file = '/output/node_T1w_smooth.nii.gz'\n",
    "smooth_res = smooth_node.run()"
   ]
  },
  {
   "cell_type": "markdown",
   "metadata": {},
   "source": [
    "### Exercise 2\n",
    "Plot the original image and the image after smoothing."
   ]
  },
  {
   "cell_type": "code",
   "execution_count": null,
   "metadata": {
    "solution2": "hidden",
    "solution2_first": true
   },
   "outputs": [],
   "source": [
    "# write your solution here"
   ]
  },
  {
   "cell_type": "code",
   "execution_count": null,
   "metadata": {
    "solution2": "hidden"
   },
   "outputs": [],
   "source": [
    "from nilearn.plotting import plot_anat\n",
    "%pylab inline\n",
    "plot_anat(smooth_node.inputs.in_file, title='smooth input', cut_coords=(10,10,10),\n",
    "          display_mode='ortho', dim=-1, draw_cross=False, annotate=False);\n",
    "plot_anat(smooth_res.outputs.out_file, title='smooth output', cut_coords=(10,10,10),\n",
    "          display_mode='ortho', dim=-1, draw_cross=False, annotate=False);"
   ]
  }
 ],
 "metadata": {
  "anaconda-cloud": {},
  "kernelspec": {
   "display_name": "Python 3",
   "language": "python",
   "name": "python3"
  },
  "language_info": {
   "codemirror_mode": {
    "name": "ipython",
    "version": 3
   },
   "file_extension": ".py",
   "mimetype": "text/x-python",
   "name": "python",
   "nbconvert_exporter": "python",
   "pygments_lexer": "ipython3",
   "version": "3.7.8"
  }
 },
 "nbformat": 4,
 "nbformat_minor": 2
}
