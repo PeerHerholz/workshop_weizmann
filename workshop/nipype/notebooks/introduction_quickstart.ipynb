{
 "cells": [
  {
   "cell_type": "markdown",
   "metadata": {},
   "source": [
    "# Nipype Quickstart"
   ]
  },
  {
   "cell_type": "markdown",
   "metadata": {},
   "source": [
    "![Nipype architecture](https://raw.github.com/satra/intro2nipype/master/images/arch.png)"
   ]
  },
  {
   "cell_type": "markdown",
   "metadata": {},
   "source": [
    "- [Existing documentation](http://nipype.readthedocs.io/en/latest/)\n",
    "\n",
    "- [Visualizing the evolution of Nipype](https://www.youtube.com/watch?v=cofpD1lhmKU)\n",
    "\n",
    "- This notebook is taken from [reproducible-imaging repository](https://github.com/ReproNim/reproducible-imaging)"
   ]
  },
  {
   "cell_type": "markdown",
   "metadata": {},
   "source": [
    "#### Import a few things from nipype and external libraries"
   ]
  },
  {
   "cell_type": "code",
   "execution_count": null,
   "metadata": {},
   "outputs": [],
   "source": [
    "import os\n",
    "from os.path import abspath\n",
    "\n",
    "from nipype import Workflow, Node, MapNode, Function\n",
    "from nipype.interfaces.fsl import BET, IsotropicSmooth, ApplyMask\n",
    "\n",
    "from nilearn.plotting import plot_anat\n",
    "%matplotlib inline\n",
    "import matplotlib.pyplot as plt"
   ]
  },
  {
   "cell_type": "markdown",
   "metadata": {},
   "source": [
    "## Interfaces\n",
    "Interfaces are the core pieces of Nipype. The interfaces are python modules that allow you to use various external packages (e.g. FSL, SPM or FreeSurfer), even if they themselves are written in another programming language than python.\n",
    "\n",
    "**Let's try to use `bet` from FSL:**"
   ]
  },
  {
   "cell_type": "code",
   "execution_count": null,
   "metadata": {},
   "outputs": [],
   "source": [
    "# will use a T1w from ds000114 dataset\n",
    "input_file =  abspath(\"/data/ds000114/sub-01/ses-test/anat/sub-01_ses-test_T1w.nii.gz\")"
   ]
  },
  {
   "cell_type": "code",
   "execution_count": null,
   "metadata": {},
   "outputs": [],
   "source": [
    "# we will be typing here"
   ]
  },
  {
   "cell_type": "markdown",
   "metadata": {
    "solution2": "hidden",
    "solution2_first": true
   },
   "source": [
    "If you're lost the code is here:"
   ]
  },
  {
   "cell_type": "code",
   "execution_count": null,
   "metadata": {
    "solution2": "hidden"
   },
   "outputs": [],
   "source": [
    "bet = BET()\n",
    "bet.inputs.in_file = input_file\n",
    "bet.inputs.out_file = \"/output/T1w_nipype_bet.nii.gz\"\n",
    "res = bet.run()"
   ]
  },
  {
   "cell_type": "markdown",
   "metadata": {},
   "source": [
    "let's check the output:"
   ]
  },
  {
   "cell_type": "code",
   "execution_count": null,
   "metadata": {},
   "outputs": [],
   "source": [
    "res.outputs"
   ]
  },
  {
   "cell_type": "markdown",
   "metadata": {},
   "source": [
    "and we can plot the output file"
   ]
  },
  {
   "cell_type": "code",
   "execution_count": null,
   "metadata": {},
   "outputs": [],
   "source": [
    "plot_anat('/output/T1w_nipype_bet.nii.gz', \n",
    "          display_mode='ortho', dim=-1, draw_cross=False, annotate=False);"
   ]
  },
  {
   "cell_type": "markdown",
   "metadata": {},
   "source": [
    "you can always check the list of arguments using `help` method"
   ]
  },
  {
   "cell_type": "code",
   "execution_count": null,
   "metadata": {},
   "outputs": [],
   "source": [
    "BET.help()"
   ]
  },
  {
   "cell_type": "markdown",
   "metadata": {},
   "source": [
    "#### Exercise 1a\n",
    "Import `IsotropicSmooth` from `nipype.interfaces.fsl` and find out the `FSL` command that is being run. What are the mandatory inputs for this interface?"
   ]
  },
  {
   "cell_type": "code",
   "execution_count": null,
   "metadata": {
    "solution2": "hidden",
    "solution2_first": true
   },
   "outputs": [],
   "source": [
    "# type your code here"
   ]
  },
  {
   "cell_type": "code",
   "execution_count": null,
   "metadata": {
    "solution2": "hidden"
   },
   "outputs": [],
   "source": [
    "from nipype.interfaces.fsl import IsotropicSmooth\n",
    "# all this information can be found when we run `help` method. \n",
    "# note that you can either provide `in_file` and `fwhm` or `in_file` and `sigma`\n",
    "IsotropicSmooth.help()"
   ]
  },
  {
   "cell_type": "markdown",
   "metadata": {},
   "source": [
    "#### Exercise 1b\n",
    "Run the `IsotropicSmooth` for `/data/ds000114/sub-01/ses-test/anat/sub-01_ses-test_T1w.nii.gz` file with a smoothing kernel 4mm:"
   ]
  },
  {
   "cell_type": "code",
   "execution_count": null,
   "metadata": {
    "solution2": "hidden",
    "solution2_first": true
   },
   "outputs": [],
   "source": [
    "# type your solution here"
   ]
  },
  {
   "cell_type": "code",
   "execution_count": null,
   "metadata": {
    "solution2": "hidden"
   },
   "outputs": [],
   "source": [
    "smoothing = IsotropicSmooth()\n",
    "smoothing.inputs.in_file = \"/data/ds000114/sub-01/ses-test/anat/sub-01_ses-test_T1w.nii.gz\"\n",
    "smoothing.inputs.fwhm = 4\n",
    "smoothing.inputs.out_file = \"/output/T1w_nipype_smooth.nii.gz\"\n",
    "smoothing.run()"
   ]
  },
  {
   "cell_type": "code",
   "execution_count": null,
   "metadata": {
    "solution2": "hidden"
   },
   "outputs": [],
   "source": [
    "# plotting the output\n",
    "plot_anat('/output/T1w_nipype_smooth.nii.gz', \n",
    "          display_mode='ortho', dim=-1, draw_cross=False, annotate=False);"
   ]
  },
  {
   "cell_type": "markdown",
   "metadata": {},
   "source": [
    "## Nodes and Workflows"
   ]
  },
  {
   "cell_type": "markdown",
   "metadata": {},
   "source": [
    "Interfaces are the core pieces of Nipype that run the code of your desire. But to streamline your analysis and to execute multiple interfaces in a sensible order, you have to put them in something that we call a Node and create a Workflow.\n",
    "\n",
    "In Nipype, a node is an object that executes a certain function. This function can be anything from a Nipype interface to a user-specified function or an external script. Each node consists of a name, an interface, and at least one input field and at least one output field.\n",
    "\n",
    "Once you have multiple nodes you can use `Workflow` to connect with each other and create a directed graph. Nipype workflow will take care of input and output of each interface and arrange the execution of each interface in the most efficient way."
   ]
  },
  {
   "cell_type": "markdown",
   "metadata": {},
   "source": [
    "**Let's create the first node using `BET` interface:**"
   ]
  },
  {
   "cell_type": "code",
   "execution_count": null,
   "metadata": {},
   "outputs": [],
   "source": [
    "# we will be typing here"
   ]
  },
  {
   "cell_type": "markdown",
   "metadata": {
    "solution2": "hidden",
    "solution2_first": true
   },
   "source": [
    "If you're lost the code is here:"
   ]
  },
  {
   "cell_type": "code",
   "execution_count": null,
   "metadata": {
    "solution2": "hidden"
   },
   "outputs": [],
   "source": [
    "# Create Node\n",
    "bet_node = Node(BET(), name='bet')\n",
    "# Specify node inputs\n",
    "bet_node.inputs.in_file = input_file\n",
    "bet_node.inputs.mask = True\n",
    "\n",
    "# bet node can be also defined this way:\n",
    "#bet_node = Node(BET(in_file=input_file, mask=True), name='bet_node')"
   ]
  },
  {
   "cell_type": "markdown",
   "metadata": {},
   "source": [
    "#### Exercise 2\n",
    "Create a `Node` for IsotropicSmooth interface."
   ]
  },
  {
   "cell_type": "code",
   "execution_count": null,
   "metadata": {
    "solution2": "hidden",
    "solution2_first": true
   },
   "outputs": [],
   "source": [
    "# Type your solution here:\n",
    "\n",
    "# smooth_node = "
   ]
  },
  {
   "cell_type": "code",
   "execution_count": null,
   "metadata": {
    "solution2": "hidden"
   },
   "outputs": [],
   "source": [
    "smooth_node = Node(IsotropicSmooth(in_file=input_file, fwhm=4), name=\"smooth\")"
   ]
  },
  {
   "cell_type": "markdown",
   "metadata": {},
   "source": [
    "**We will now create one more Node for our workflow**"
   ]
  },
  {
   "cell_type": "code",
   "execution_count": null,
   "metadata": {},
   "outputs": [],
   "source": [
    "mask_node = Node(ApplyMask(), name=\"mask\")"
   ]
  },
  {
   "cell_type": "markdown",
   "metadata": {},
   "source": [
    "Let's check the interface:"
   ]
  },
  {
   "cell_type": "code",
   "execution_count": null,
   "metadata": {},
   "outputs": [],
   "source": [
    "ApplyMask.help()"
   ]
  },
  {
   "cell_type": "markdown",
   "metadata": {},
   "source": [
    "As you can see the interface takes two mandatory inputs: `in_file` and `mask_file`. We want to use the output of `smooth_node` as `in_file` and one of the output of `bet_file` (the `mask_file`) as `mask_file` input."
   ]
  },
  {
   "cell_type": "markdown",
   "metadata": {},
   "source": [
    "** Let's initialize a `Workflow`:**"
   ]
  },
  {
   "cell_type": "code",
   "execution_count": null,
   "metadata": {},
   "outputs": [],
   "source": [
    "# will be writing the code here:\n"
   ]
  },
  {
   "cell_type": "markdown",
   "metadata": {
    "solution2": "hidden",
    "solution2_first": true
   },
   "source": [
    "if you're lost, the full code is here:"
   ]
  },
  {
   "cell_type": "code",
   "execution_count": null,
   "metadata": {
    "solution2": "hidden"
   },
   "outputs": [],
   "source": [
    "# Initiation of a workflow\n",
    "wf = Workflow(name=\"smoothflow\", base_dir=\"/output/working_dir\")"
   ]
  },
  {
   "cell_type": "markdown",
   "metadata": {},
   "source": [
    "It's very important to specify `base_dir` (as absolute path), because otherwise all the outputs would be saved somewhere in the temporary files."
   ]
  },
  {
   "cell_type": "markdown",
   "metadata": {},
   "source": [
    "**let's connect the `bet_node` output to `mask_node` input`**"
   ]
  },
  {
   "cell_type": "code",
   "execution_count": null,
   "metadata": {},
   "outputs": [],
   "source": [
    "# we will be typing here:\n"
   ]
  },
  {
   "cell_type": "markdown",
   "metadata": {
    "solution2": "hidden",
    "solution2_first": true
   },
   "source": [
    "if you're lost, the code is here:"
   ]
  },
  {
   "cell_type": "code",
   "execution_count": null,
   "metadata": {
    "solution2": "hidden"
   },
   "outputs": [],
   "source": [
    "wf.connect(bet_node, \"mask_file\", mask_node, \"mask_file\")"
   ]
  },
  {
   "cell_type": "markdown",
   "metadata": {},
   "source": [
    "#### Exercise 3\n",
    "Connect `out_file` of `smooth_node` to `in_file` of `mask_node`."
   ]
  },
  {
   "cell_type": "code",
   "execution_count": null,
   "metadata": {
    "solution2": "hidden",
    "solution2_first": true
   },
   "outputs": [],
   "source": [
    "# type your code here"
   ]
  },
  {
   "cell_type": "code",
   "execution_count": null,
   "metadata": {
    "solution2": "hidden"
   },
   "outputs": [],
   "source": [
    "wf.connect(smooth_node, \"out_file\", mask_node, \"in_file\")"
   ]
  },
  {
   "cell_type": "markdown",
   "metadata": {},
   "source": [
    "**Let's see a graph describing our workflow:**"
   ]
  },
  {
   "cell_type": "code",
   "execution_count": null,
   "metadata": {},
   "outputs": [],
   "source": [
    "wf.write_graph(\"workflow_graph.dot\")\n",
    "from IPython.display import Image\n",
    "Image(filename=\"/output/working_dir/smoothflow/workflow_graph.png\")"
   ]
  },
  {
   "cell_type": "markdown",
   "metadata": {},
   "source": [
    "you can also plot a more detailed graph:"
   ]
  },
  {
   "cell_type": "code",
   "execution_count": null,
   "metadata": {},
   "outputs": [],
   "source": [
    "wf.write_graph(graph2use='flat')\n",
    "from IPython.display import Image\n",
    "Image(filename=\"/output/working_dir/smoothflow/graph_detailed.png\")"
   ]
  },
  {
   "cell_type": "markdown",
   "metadata": {},
   "source": [
    "**and now let's run the workflow**"
   ]
  },
  {
   "cell_type": "code",
   "execution_count": null,
   "metadata": {},
   "outputs": [],
   "source": [
    "# we will type our code here:"
   ]
  },
  {
   "cell_type": "markdown",
   "metadata": {
    "solution2": "hidden",
    "solution2_first": true
   },
   "source": [
    "if you're lost, the full code is here:"
   ]
  },
  {
   "cell_type": "code",
   "execution_count": null,
   "metadata": {
    "solution2": "hidden"
   },
   "outputs": [],
   "source": [
    "# Execute the workflow\n",
    "res = wf.run()"
   ]
  },
  {
   "cell_type": "markdown",
   "metadata": {},
   "source": [
    "**and let's look at the results**"
   ]
  },
  {
   "cell_type": "code",
   "execution_count": null,
   "metadata": {},
   "outputs": [],
   "source": [
    "# we can check the output of specific nodes from workflow\n",
    "list(res.nodes)[0].result.outputs"
   ]
  },
  {
   "cell_type": "markdown",
   "metadata": {},
   "source": [
    "**we can see the fie structure that has been created:**"
   ]
  },
  {
   "cell_type": "code",
   "execution_count": null,
   "metadata": {},
   "outputs": [],
   "source": [
    "! tree -L 3 /output/working_dir/smoothflow/"
   ]
  },
  {
   "cell_type": "markdown",
   "metadata": {},
   "source": [
    "**and we can plot the results:**"
   ]
  },
  {
   "cell_type": "code",
   "execution_count": null,
   "metadata": {},
   "outputs": [],
   "source": [
    "import numpy as np\n",
    "import nibabel as nb\n",
    "#import matplotlib.pyplot as plt\n",
    "\n",
    "# Let's create a short helper function to plot 3D NIfTI images\n",
    "def plot_slice(fname):\n",
    "\n",
    "    # Load the image\n",
    "    img = nb.load(fname)\n",
    "    data = img.get_fdata()\n",
    "\n",
    "    # Cut in the middle of the brain\n",
    "    cut = int(data.shape[-1]/2) + 10\n",
    "\n",
    "    # Plot the data\n",
    "    plt.imshow(np.rot90(data[..., cut]), cmap=\"gray\")\n",
    "    plt.gca().set_axis_off()\n",
    "\n",
    "f = plt.figure(figsize=(12, 4))\n",
    "for i, img in enumerate([\"/data/ds000114/sub-01/ses-test/anat/sub-01_ses-test_T1w.nii.gz\",\n",
    "                         \"/output/working_dir/smoothflow/smooth/sub-01_ses-test_T1w_smooth.nii.gz\",\n",
    "                         \"/output/working_dir/smoothflow/bet/sub-01_ses-test_T1w_brain_mask.nii.gz\",\n",
    "                         \"/output/working_dir/smoothflow/mask/sub-01_ses-test_T1w_smooth_masked.nii.gz\"]):\n",
    "    f.add_subplot(1, 4, i + 1)\n",
    "    plot_slice(img)"
   ]
  },
  {
   "cell_type": "markdown",
   "metadata": {},
   "source": [
    "## Iterables\n",
    "\n",
    "Some steps in a neuroimaging analysis are repetitive. Running the same preprocessing on multiple subjects or doing statistical inference on multiple files. To prevent the creation of multiple individual scripts, Nipype has as execution plugin for ``Workflow``, called **``iterables``**. \n",
    "\n",
    "<img src=\"../static/images/iterables.png\"  width=\"240\">"
   ]
  },
  {
   "cell_type": "markdown",
   "metadata": {},
   "source": [
    "Let's assume we have a workflow with two nodes, node (A) does simple skull stripping, and is followed by a node (B) that does isometric smoothing. Now, let's say, that we are curious about the effect of different smoothing kernels. Therefore, we want to run the smoothing node with FWHM set to 2mm, 8mm, and 16mm."
   ]
  },
  {
   "cell_type": "markdown",
   "metadata": {},
   "source": [
    "**let's just modify `smooth_node`:** "
   ]
  },
  {
   "cell_type": "code",
   "execution_count": null,
   "metadata": {},
   "outputs": [],
   "source": [
    "# we will type the code here\n"
   ]
  },
  {
   "cell_type": "markdown",
   "metadata": {
    "solution2": "hidden",
    "solution2_first": true
   },
   "source": [
    "if you're lost the code is here:"
   ]
  },
  {
   "cell_type": "code",
   "execution_count": null,
   "metadata": {
    "solution2": "hidden"
   },
   "outputs": [],
   "source": [
    "smooth_node_it = Node(IsotropicSmooth(in_file=input_file), name=\"smooth\")\n",
    "smooth_node_it.iterables = (\"fwhm\", [4, 8, 16])"
   ]
  },
  {
   "cell_type": "markdown",
   "metadata": {},
   "source": [
    "we will define again bet and smooth nodes:"
   ]
  },
  {
   "cell_type": "code",
   "execution_count": null,
   "metadata": {},
   "outputs": [],
   "source": [
    "bet_node_it = Node(BET(in_file=input_file, mask=True), name='bet_node')\n",
    "mask_node_it = Node(ApplyMask(), name=\"mask\")"
   ]
  },
  {
   "cell_type": "markdown",
   "metadata": {},
   "source": [
    "** will create a new workflow with a new `base_dir`:**"
   ]
  },
  {
   "cell_type": "code",
   "execution_count": null,
   "metadata": {},
   "outputs": [],
   "source": [
    "# Initiation of a workflow\n",
    "wf_it = Workflow(name=\"smoothflow_it\", base_dir=\"/output/working_dir\")\n",
    "wf_it.connect(bet_node_it, \"mask_file\", mask_node_it, \"mask_file\")\n",
    "wf_it.connect(smooth_node_it, \"out_file\", mask_node_it, \"in_file\")"
   ]
  },
  {
   "cell_type": "markdown",
   "metadata": {},
   "source": [
    "**let's run the workflow and check the output**"
   ]
  },
  {
   "cell_type": "code",
   "execution_count": null,
   "metadata": {},
   "outputs": [],
   "source": [
    "res_it = wf_it.run()"
   ]
  },
  {
   "cell_type": "markdown",
   "metadata": {},
   "source": [
    "**let's see the graph**"
   ]
  },
  {
   "cell_type": "code",
   "execution_count": null,
   "metadata": {},
   "outputs": [],
   "source": [
    "list(res_it.nodes)"
   ]
  },
  {
   "cell_type": "markdown",
   "metadata": {},
   "source": [
    "We can see the file structure that was created:"
   ]
  },
  {
   "cell_type": "code",
   "execution_count": null,
   "metadata": {},
   "outputs": [],
   "source": [
    "! tree -L 3 /output/working_dir/smoothflow_it/"
   ]
  },
  {
   "cell_type": "markdown",
   "metadata": {},
   "source": [
    "you have now 7 nodes instead of 3!"
   ]
  },
  {
   "cell_type": "markdown",
   "metadata": {},
   "source": [
    "### MapNode\n",
    "\n",
    "If you want to iterate over a list of inputs, but need to feed all iterated outputs afterward as one input (an array) to the next node, you need to use a **``MapNode``**. A ``MapNode`` is quite similar to a normal ``Node``, but it can take a list of inputs and operate over each input separately, ultimately returning a list of outputs.\n",
    "\n",
    "Imagine that you have a list of items (let's say files) and you want to execute the same node on them (for example some smoothing or masking). Some nodes accept multiple files and do exactly the same thing on them, but some don't (they expect only one file). `MapNode` can solve this problem. Imagine you have the following workflow:\n",
    "\n",
    "<img src=\"../static/images/mapnode.png\"  width=\"325\">\n",
    "\n",
    "Node `A` outputs a list of files, but node `B` accepts only one file. Additionally, `C` expects a list of files. What you would like is to run `B` for every file in the output of `A` and collect the results as a list and feed it to `C`. "
   ]
  },
  {
   "cell_type": "markdown",
   "metadata": {},
   "source": [
    "** Let's run a simple numerical example using nipype `Function` interface **"
   ]
  },
  {
   "cell_type": "code",
   "execution_count": null,
   "metadata": {},
   "outputs": [],
   "source": [
    "def square_func(x):\n",
    "    return x ** 2\n",
    "\n",
    "square = Function(input_names=[\"x\"], output_names=[\"f_x\"], function=square_func)"
   ]
  },
  {
   "cell_type": "markdown",
   "metadata": {},
   "source": [
    "If I want to know the results only for one `x` we can use `Node`:"
   ]
  },
  {
   "cell_type": "code",
   "execution_count": null,
   "metadata": {},
   "outputs": [],
   "source": [
    "square_node = Node(square, name=\"square\")\n",
    "square_node.inputs.x = 2\n",
    "res = square_node.run()\n",
    "res.outputs"
   ]
  },
  {
   "cell_type": "markdown",
   "metadata": {},
   "source": [
    "let's try to ask for more values of `x`"
   ]
  },
  {
   "cell_type": "code",
   "execution_count": null,
   "metadata": {},
   "outputs": [],
   "source": [
    "# NBVAL_SKIP\n",
    "square_node = Node(square, name=\"square\")\n",
    "square_node.inputs.x = [2, 4]\n",
    "res = square_node.run()\n",
    "res.outputs"
   ]
  },
  {
   "cell_type": "markdown",
   "metadata": {},
   "source": [
    "**It will give an error since `square_func` do not accept list. But we can try `MapNode`:**"
   ]
  },
  {
   "cell_type": "code",
   "execution_count": null,
   "metadata": {},
   "outputs": [],
   "source": [
    "square_mapnode = MapNode(square, name=\"square\", iterfield=[\"x\"])\n",
    "square_mapnode.inputs.x = [2, 4]\n",
    "res = square_mapnode.run()\n",
    "res.outputs"
   ]
  },
  {
   "cell_type": "markdown",
   "metadata": {},
   "source": [
    "**Notice that `f_x` is a list again!**"
   ]
  }
 ],
 "metadata": {
  "kernelspec": {
   "display_name": "Python 3",
   "language": "python",
   "name": "python3"
  },
  "language_info": {
   "codemirror_mode": {
    "name": "ipython",
    "version": 3
   },
   "file_extension": ".py",
   "mimetype": "text/x-python",
   "name": "python",
   "nbconvert_exporter": "python",
   "pygments_lexer": "ipython3",
   "version": "3.7.8"
  },
  "nbpresent": {
   "slides": {
    "036d9e6d-9014-47e8-ba8c-b7ff491d356e": {
     "id": "036d9e6d-9014-47e8-ba8c-b7ff491d356e",
     "prev": "cc6fa21e-5b8f-44a7-8578-5b58255c0e2b",
     "regions": {
      "69d658c5-3412-4410-96aa-45fbc91e3950": {
       "attrs": {
        "height": 0.8,
        "width": 0.8,
        "x": 0.1,
        "y": 0.1
       },
       "content": {
        "cell": "dcbff777-e05b-43d3-9da3-805207eadb71",
        "part": "whole"
       },
       "id": "69d658c5-3412-4410-96aa-45fbc91e3950"
      }
     }
    },
    "0c3953f2-86d8-4e97-9ffd-02a8377e10c6": {
     "id": "0c3953f2-86d8-4e97-9ffd-02a8377e10c6",
     "prev": "5e629ace-5a9f-4bf2-a295-82901f752daa",
     "regions": {
      "16206fd5-e557-4f6c-8077-e824b87eff4f": {
       "attrs": {
        "height": 0.8,
        "width": 0.8,
        "x": 0.1,
        "y": 0.1
       },
       "content": {
        "cell": "b7a0948a-2f3d-4be5-af22-e8796ab22131",
        "part": "whole"
       },
       "id": "16206fd5-e557-4f6c-8077-e824b87eff4f"
      }
     }
    },
    "1a0083a8-471b-4869-bcb3-c33c81524a2c": {
     "id": "1a0083a8-471b-4869-bcb3-c33c81524a2c",
     "prev": "43c259c6-ec65-4243-8a95-d2a976c6daca",
     "regions": {
      "5907abd6-0b04-4f6d-acd1-1f11dd39c7a2": {
       "attrs": {
        "height": 0.8,
        "width": 0.8,
        "x": 0.1,
        "y": 0.1
       },
       "content": {
        "cell": "c8cbc820-d362-422e-9fdf-79d6ae6af560",
        "part": "whole"
       },
       "id": "5907abd6-0b04-4f6d-acd1-1f11dd39c7a2"
      }
     }
    },
    "32034499-40cf-4318-91f1-aeccdfbba380": {
     "id": "32034499-40cf-4318-91f1-aeccdfbba380",
     "prev": null,
     "regions": {
      "845af035-2d72-4258-b5da-d611edc1ba86": {
       "attrs": {
        "height": 0.8,
        "width": 0.8,
        "x": 0.1,
        "y": 0.1
       },
       "content": {
        "cell": "ef0d4a65-1e86-4570-bd56-0e683df3cc72",
        "part": "whole"
       },
       "id": "845af035-2d72-4258-b5da-d611edc1ba86"
      }
     }
    },
    "43c259c6-ec65-4243-8a95-d2a976c6daca": {
     "id": "43c259c6-ec65-4243-8a95-d2a976c6daca",
     "prev": "76d40b89-085e-44b3-89b4-46f17db1746f",
     "regions": {
      "8192ec05-8445-4c92-9a84-d60610754d06": {
       "attrs": {
        "height": 0.8,
        "width": 0.8,
        "x": 0.1,
        "y": 0.1
       },
       "content": {
        "cell": "9798f6be-09b9-4cb9-8c63-1f10e4d1040c",
        "part": "whole"
       },
       "id": "8192ec05-8445-4c92-9a84-d60610754d06"
      }
     }
    },
    "5288be26-b5af-48c6-8687-ff3bb55e83a9": {
     "id": "5288be26-b5af-48c6-8687-ff3bb55e83a9",
     "prev": "32034499-40cf-4318-91f1-aeccdfbba380",
     "regions": {
      "8247975a-6621-4c12-b3f0-016a235a34b2": {
       "attrs": {
        "height": 0.8,
        "width": 0.8,
        "x": 0.1,
        "y": 0.1
       },
       "content": {
        "cell": "f834221c-3c73-47ce-b36e-ba3f17bd3d60",
        "part": "whole"
       },
       "id": "8247975a-6621-4c12-b3f0-016a235a34b2"
      }
     }
    },
    "5e629ace-5a9f-4bf2-a295-82901f752daa": {
     "id": "5e629ace-5a9f-4bf2-a295-82901f752daa",
     "prev": "dcc3de5f-dfc5-4a35-a583-474dbac5a5ad",
     "regions": {
      "c8fc9ec8-974e-426c-9d36-f55673eee3c4": {
       "attrs": {
        "height": 0.8,
        "width": 0.8,
        "x": 0.1,
        "y": 0.1
       },
       "content": {
        "cell": "2da7d103-ba49-495d-b986-6ef655b2a010",
        "part": "whole"
       },
       "id": "c8fc9ec8-974e-426c-9d36-f55673eee3c4"
      }
     }
    },
    "69c3997a-020c-4288-ba41-da053c70c853": {
     "id": "69c3997a-020c-4288-ba41-da053c70c853",
     "prev": "d2a3e23f-46b6-4f0b-b96b-5341e8a368b0",
     "regions": {
      "5cbcbcde-1087-410d-ac46-bc5d403927ff": {
       "attrs": {
        "height": 0.8,
        "width": 0.8,
        "x": 0.1,
        "y": 0.1
       },
       "content": {
        "cell": "e03280a7-f6b0-48d8-a1a3-c38dd0a93cc2",
        "part": "whole"
       },
       "id": "5cbcbcde-1087-410d-ac46-bc5d403927ff"
      }
     }
    },
    "6e1b1fd9-f600-4262-8bfa-0b6ef6d2ab33": {
     "id": "6e1b1fd9-f600-4262-8bfa-0b6ef6d2ab33",
     "prev": "b5c8cdf1-c521-4830-bdc7-537f4e33974c",
     "regions": {
      "7047358c-1619-4db4-84b5-b3c9f6a4165d": {
       "attrs": {
        "height": 0.8,
        "width": 0.8,
        "x": 0.1,
        "y": 0.1
       },
       "content": {
        "cell": "6361e837-5e6f-4df9-aff6-d20c5909af56",
        "part": "whole"
       },
       "id": "7047358c-1619-4db4-84b5-b3c9f6a4165d"
      }
     }
    },
    "748fa336-fe68-4ec9-879a-18b4c253938b": {
     "id": "748fa336-fe68-4ec9-879a-18b4c253938b",
     "prev": "862ab379-822c-4a94-9433-1b527b2a592d",
     "regions": {
      "2ef88b5d-a61b-4476-a554-36864af7db8e": {
       "attrs": {
        "height": 0.8,
        "width": 0.8,
        "x": 0.1,
        "y": 0.1
       },
       "content": {
        "cell": "1592d986-e07f-4ac0-a06e-c9a3917e30b4",
        "part": "whole"
       },
       "id": "2ef88b5d-a61b-4476-a554-36864af7db8e"
      }
     }
    },
    "76d40b89-085e-44b3-89b4-46f17db1746f": {
     "id": "76d40b89-085e-44b3-89b4-46f17db1746f",
     "prev": "edfccc6e-2b4e-4131-a730-eaa191ff7c81",
     "regions": {
      "939a8941-0ea4-4b62-abbb-05f8b793a5fb": {
       "attrs": {
        "height": 0.8,
        "width": 0.8,
        "x": 0.1,
        "y": 0.1
       },
       "content": {
        "cell": "2ff6c266-4437-4d37-9464-c1573b13ae51",
        "part": "whole"
       },
       "id": "939a8941-0ea4-4b62-abbb-05f8b793a5fb"
      }
     }
    },
    "862ab379-822c-4a94-9433-1b527b2a592d": {
     "id": "862ab379-822c-4a94-9433-1b527b2a592d",
     "prev": "6e1b1fd9-f600-4262-8bfa-0b6ef6d2ab33",
     "regions": {
      "34178cde-c66f-4413-a29d-57c5e60794ed": {
       "attrs": {
        "height": 0.8,
        "width": 0.8,
        "x": 0.1,
        "y": 0.1
       },
       "content": {
        "cell": "bfe919e8-bad6-488f-a01f-ed7c3a7319b7",
        "part": "whole"
       },
       "id": "34178cde-c66f-4413-a29d-57c5e60794ed"
      }
     }
    },
    "8cf4d2aa-9b35-469a-8226-74ab47621c35": {
     "id": "8cf4d2aa-9b35-469a-8226-74ab47621c35",
     "prev": "748fa336-fe68-4ec9-879a-18b4c253938b",
     "regions": {
      "197ef43c-c849-43c3-a6c4-31fd5cd99838": {
       "attrs": {
        "height": 0.8,
        "width": 0.8,
        "x": 0.1,
        "y": 0.1
       },
       "content": {
        "cell": "07b2fb00-3ed4-4a86-8313-7873048021ec",
        "part": "whole"
       },
       "id": "197ef43c-c849-43c3-a6c4-31fd5cd99838"
      }
     }
    },
    "a81e9008-d57d-4aaf-86f0-ffe067287baa": {
     "id": "a81e9008-d57d-4aaf-86f0-ffe067287baa",
     "prev": "5288be26-b5af-48c6-8687-ff3bb55e83a9",
     "regions": {
      "970554aa-ab29-48b9-88f6-9ada37e60548": {
       "attrs": {
        "height": 0.8,
        "width": 0.8,
        "x": 0.1,
        "y": 0.1
       },
       "content": {
        "cell": "bb1cfcc5-5cbf-4097-b8a9-fe4d74ce6bcd",
        "part": "whole"
       },
       "id": "970554aa-ab29-48b9-88f6-9ada37e60548"
      }
     }
    },
    "aee840ab-b7c4-48d7-b6ad-ce867f878951": {
     "id": "aee840ab-b7c4-48d7-b6ad-ce867f878951",
     "prev": "69c3997a-020c-4288-ba41-da053c70c853",
     "regions": {
      "c668f127-028b-4a6e-9410-81abe6a38e95": {
       "attrs": {
        "height": 0.8,
        "width": 0.8,
        "x": 0.1,
        "y": 0.1
       },
       "content": {
        "cell": "055c7435-88f1-45db-9562-63d5f910cac3",
        "part": "whole"
       },
       "id": "c668f127-028b-4a6e-9410-81abe6a38e95"
      }
     }
    },
    "af2fe30f-1cda-4d2e-8a5a-3e265b4b404f": {
     "id": "af2fe30f-1cda-4d2e-8a5a-3e265b4b404f",
     "prev": "a81e9008-d57d-4aaf-86f0-ffe067287baa",
     "regions": {
      "180abf91-afcd-4265-846d-bfd7e4fd1850": {
       "attrs": {
        "height": 0.8,
        "width": 0.8,
        "x": 0.1,
        "y": 0.1
       },
       "content": {
        "cell": "9a460e90-6929-4ec6-8fa6-d7dacb45e00a",
        "part": "whole"
       },
       "id": "180abf91-afcd-4265-846d-bfd7e4fd1850"
      }
     }
    },
    "b5c8cdf1-c521-4830-bdc7-537f4e33974c": {
     "id": "b5c8cdf1-c521-4830-bdc7-537f4e33974c",
     "prev": "dbe3527e-cafa-4fc2-b863-99954c2e4e00",
     "regions": {
      "2ff95d44-ba2e-4b0d-b50d-0cb12468769d": {
       "attrs": {
        "height": 0.8,
        "width": 0.8,
        "x": 0.1,
        "y": 0.1
       },
       "content": {
        "cell": "4c118e06-0dd3-44cf-8246-48b4abb06787",
        "part": "whole"
       },
       "id": "2ff95d44-ba2e-4b0d-b50d-0cb12468769d"
      }
     }
    },
    "cc6fa21e-5b8f-44a7-8578-5b58255c0e2b": {
     "id": "cc6fa21e-5b8f-44a7-8578-5b58255c0e2b",
     "prev": "af2fe30f-1cda-4d2e-8a5a-3e265b4b404f",
     "regions": {
      "87874474-0c2f-47cc-bfe2-f7d5f9b49900": {
       "attrs": {
        "height": 0.8,
        "width": 0.8,
        "x": 0.1,
        "y": 0.1
       },
       "content": {
        "cell": "d0adfd78-01e1-4623-983a-bbf53a9bb858",
        "part": "whole"
       },
       "id": "87874474-0c2f-47cc-bfe2-f7d5f9b49900"
      }
     }
    },
    "cf197342-f78a-4bf5-9b68-6f1430575593": {
     "id": "cf197342-f78a-4bf5-9b68-6f1430575593",
     "prev": "036d9e6d-9014-47e8-ba8c-b7ff491d356e",
     "regions": {
      "95c558ad-28b2-4c98-9ce2-22d80fd97f1b": {
       "attrs": {
        "height": 0.8,
        "width": 0.8,
        "x": 0.1,
        "y": 0.1
       },
       "content": {
        "cell": "f3a955ec-34a2-4a29-bdf8-e0dd8df57cf5",
        "part": "whole"
       },
       "id": "95c558ad-28b2-4c98-9ce2-22d80fd97f1b"
      }
     }
    },
    "d2a3e23f-46b6-4f0b-b96b-5341e8a368b0": {
     "id": "d2a3e23f-46b6-4f0b-b96b-5341e8a368b0",
     "prev": "0c3953f2-86d8-4e97-9ffd-02a8377e10c6",
     "regions": {
      "486a31bf-5c58-4c67-b54d-d45e839167e7": {
       "attrs": {
        "height": 0.8,
        "width": 0.8,
        "x": 0.1,
        "y": 0.1
       },
       "content": {
        "cell": "e68b3f8a-ab55-4045-b8d3-7007a30a527b",
        "part": "whole"
       },
       "id": "486a31bf-5c58-4c67-b54d-d45e839167e7"
      }
     }
    },
    "dbe3527e-cafa-4fc2-b863-99954c2e4e00": {
     "id": "dbe3527e-cafa-4fc2-b863-99954c2e4e00",
     "prev": "cf197342-f78a-4bf5-9b68-6f1430575593",
     "regions": {
      "3625ea9c-9bc9-4a2c-9d40-f230922b1edc": {
       "attrs": {
        "height": 0.8,
        "width": 0.8,
        "x": 0.1,
        "y": 0.1
       },
       "content": {
        "cell": "23672ce7-3781-4144-925a-cc9367dec01d",
        "part": "whole"
       },
       "id": "3625ea9c-9bc9-4a2c-9d40-f230922b1edc"
      }
     }
    },
    "dcc3de5f-dfc5-4a35-a583-474dbac5a5ad": {
     "id": "dcc3de5f-dfc5-4a35-a583-474dbac5a5ad",
     "prev": "1a0083a8-471b-4869-bcb3-c33c81524a2c",
     "regions": {
      "104371ee-397d-4b6d-bb3e-4ec826b2aa27": {
       "attrs": {
        "height": 0.8,
        "width": 0.8,
        "x": 0.1,
        "y": 0.1
       },
       "content": {
        "cell": "6fba065c-c3c5-4c79-a2a3-75e6a2198776",
        "part": "whole"
       },
       "id": "104371ee-397d-4b6d-bb3e-4ec826b2aa27"
      }
     }
    },
    "edfccc6e-2b4e-4131-a730-eaa191ff7c81": {
     "id": "edfccc6e-2b4e-4131-a730-eaa191ff7c81",
     "prev": "8cf4d2aa-9b35-469a-8226-74ab47621c35",
     "regions": {
      "6fa263a6-0bdd-4517-b49b-32da55d66d87": {
       "attrs": {
        "height": 0.8,
        "width": 0.8,
        "x": 0.1,
        "y": 0.1
       },
       "content": {
        "cell": "ac097fd1-7c4a-41ad-bcdb-f3ba93b58d36",
        "part": "whole"
       },
       "id": "6fa263a6-0bdd-4517-b49b-32da55d66d87"
      }
     }
    }
   },
   "themes": {}
  }
 },
 "nbformat": 4,
 "nbformat_minor": 2
}
